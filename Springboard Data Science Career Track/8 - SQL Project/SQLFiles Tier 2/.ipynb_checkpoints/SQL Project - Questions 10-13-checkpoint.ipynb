{
 "cells": [
  {
   "cell_type": "markdown",
   "metadata": {},
   "source": [
    "# SQL MINI PROJECT"
   ]
  },
  {
   "cell_type": "markdown",
   "metadata": {},
   "source": [
    "### Imports"
   ]
  },
  {
   "cell_type": "code",
   "execution_count": 1,
   "metadata": {},
   "outputs": [],
   "source": [
    "from sqlalchemy import create_engine\n",
    "import pandas as pd"
   ]
  },
  {
   "cell_type": "markdown",
   "metadata": {},
   "source": [
    "### Connect to SQLite DB and Create engine"
   ]
  },
  {
   "cell_type": "code",
   "execution_count": 2,
   "metadata": {},
   "outputs": [],
   "source": [
    "engine = create_engine('sqlite:///sqlite_db_pythonsqlite.db')"
   ]
  },
  {
   "cell_type": "code",
   "execution_count": 3,
   "metadata": {},
   "outputs": [
    {
     "name": "stdout",
     "output_type": "stream",
     "text": [
      "['Bookings', 'Facilities', 'Members']\n"
     ]
    }
   ],
   "source": [
    "table_names = engine.table_names()\n",
    "print(table_names)"
   ]
  },
  {
   "cell_type": "markdown",
   "metadata": {},
   "source": [
    "### Look over Imports of Datatables"
   ]
  },
  {
   "cell_type": "code",
   "execution_count": 4,
   "metadata": {},
   "outputs": [],
   "source": [
    "df_raw_Bookings = pd.read_sql_query(\"SELECT * FROM Bookings\", engine)\n",
    "df_raw_Facilities = pd.read_sql_query(\"SELECT * FROM Facilities\", engine)\n",
    "df_raw_Members = pd.read_sql_query(\"SELECT * FROM Members\", engine)"
   ]
  },
  {
   "cell_type": "markdown",
   "metadata": {},
   "source": [
    "#### Bookings Table"
   ]
  },
  {
   "cell_type": "code",
   "execution_count": 5,
   "metadata": {},
   "outputs": [
    {
     "name": "stdout",
     "output_type": "stream",
     "text": [
      "   bookid  facid  memid            starttime  slots\n",
      "0       0      3      1  2012-07-03 11:00:00      2\n",
      "1       1      4      1  2012-07-03 08:00:00      2\n",
      "2       2      6      0  2012-07-03 18:00:00      2\n",
      "3       3      7      1  2012-07-03 19:00:00      2\n",
      "4       4      8      1  2012-07-03 10:00:00      1\n"
     ]
    },
    {
     "data": {
      "text/plain": [
       "(4043, 5)"
      ]
     },
     "execution_count": 5,
     "metadata": {},
     "output_type": "execute_result"
    }
   ],
   "source": [
    "print(df_raw_Bookings.head())\n",
    "df_raw_Bookings.shape"
   ]
  },
  {
   "cell_type": "markdown",
   "metadata": {},
   "source": [
    "##### Check Number of 'Guests' in Bookings Table"
   ]
  },
  {
   "cell_type": "code",
   "execution_count": 6,
   "metadata": {},
   "outputs": [
    {
     "data": {
      "text/plain": [
       "bookid       883\n",
       "facid        883\n",
       "memid        883\n",
       "starttime    883\n",
       "slots        883\n",
       "dtype: int64"
      ]
     },
     "execution_count": 6,
     "metadata": {},
     "output_type": "execute_result"
    }
   ],
   "source": [
    "df_raw_Bookings[df_raw_Bookings.memid ==  0].count()"
   ]
  },
  {
   "cell_type": "markdown",
   "metadata": {},
   "source": [
    "#### Facilities Table"
   ]
  },
  {
   "cell_type": "code",
   "execution_count": 7,
   "metadata": {},
   "outputs": [
    {
     "name": "stdout",
     "output_type": "stream",
     "text": [
      "   facid             name  membercost  guestcost  initialoutlay  \\\n",
      "0      0   Tennis Court 1         5.0       25.0          10000   \n",
      "1      1   Tennis Court 2         5.0       25.0           8000   \n",
      "2      2  Badminton Court         0.0       15.5           4000   \n",
      "3      3     Table Tennis         0.0        5.0            320   \n",
      "4      4   Massage Room 1         9.9       80.0           4000   \n",
      "\n",
      "   monthlymaintenance  \n",
      "0                 200  \n",
      "1                 200  \n",
      "2                  50  \n",
      "3                  10  \n",
      "4                3000  \n"
     ]
    },
    {
     "data": {
      "text/plain": [
       "(9, 6)"
      ]
     },
     "execution_count": 7,
     "metadata": {},
     "output_type": "execute_result"
    }
   ],
   "source": [
    "print(df_raw_Facilities.head())\n",
    "df_raw_Facilities.shape"
   ]
  },
  {
   "cell_type": "markdown",
   "metadata": {},
   "source": [
    "#### Members Table"
   ]
  },
  {
   "cell_type": "code",
   "execution_count": 8,
   "metadata": {},
   "outputs": [
    {
     "name": "stdout",
     "output_type": "stream",
     "text": [
      "   memid   surname firstname                       address  zipcode  \\\n",
      "0      0     GUEST     GUEST                         GUEST        0   \n",
      "1      1     Smith    Darren    8 Bloomsbury Close, Boston     4321   \n",
      "2      2     Smith     Tracy  8 Bloomsbury Close, New York     4321   \n",
      "3      3    Rownam       Tim        23 Highway Way, Boston    23423   \n",
      "4      4  Joplette    Janice    20 Crossing Road, New York      234   \n",
      "\n",
      "        telephone recommendedby             joindate  \n",
      "0  (000) 000-0000                2012-07-01 00:00:00  \n",
      "1    555-555-5555                2012-07-02 12:02:05  \n",
      "2    555-555-5555                2012-07-02 12:08:23  \n",
      "3  (844) 693-0723                2012-07-03 09:32:15  \n",
      "4  (833) 942-4710             1  2012-07-03 10:25:05  \n"
     ]
    },
    {
     "data": {
      "text/plain": [
       "(31, 8)"
      ]
     },
     "execution_count": 8,
     "metadata": {},
     "output_type": "execute_result"
    }
   ],
   "source": [
    "print(df_raw_Members.head())\n",
    "df_raw_Members.shape"
   ]
  },
  {
   "cell_type": "markdown",
   "metadata": {},
   "source": [
    "### Question 10: Produce a list of facilities with a total revenue less than 1000. The output of facility name and total revenue, sorted by revenue. Remember that there's a different cost for guests and members! */"
   ]
  },
  {
   "cell_type": "code",
   "execution_count": 9,
   "metadata": {},
   "outputs": [
    {
     "name": "stdout",
     "output_type": "stream",
     "text": [
      "                 Revenue\n",
      "Facility_Name           \n",
      "Massage Room 1   20807.9\n",
      "Massage Room 2    6987.3\n",
      "Squash Court      4970.0\n",
      "Tennis Court 2    4205.0\n",
      "Tennis Court 1    4040.0\n",
      "Badminton Court    604.5\n",
      "Pool Table         265.0\n",
      "Snooker Table      115.0\n",
      "Table Tennis        90.0\n"
     ]
    }
   ],
   "source": [
    "sql_query10 = '''\n",
    "SELECT name AS Facility_Name,\n",
    "    SUM(CASE WHEN b.memid = 0 THEN f.guestcost\n",
    "        ELSE f.membercost END) AS Revenue\n",
    "FROM Bookings AS b\n",
    "INNER JOIN Facilities AS f\n",
    "ON b.facid = f.facid\n",
    "GROUP BY name\n",
    "ORDER BY Revenue DESC'''\n",
    "df_q10 = pd.read_sql_query(sql_query10, engine,index_col = 'Facility_Name')\n",
    "print(df_q10)"
   ]
  },
  {
   "cell_type": "markdown",
   "metadata": {},
   "source": [
    "### Question 11: Produce a report of members and who recommended them in alphabetic surname,firstname order"
   ]
  },
  {
   "cell_type": "code",
   "execution_count": 10,
   "metadata": {},
   "outputs": [
    {
     "name": "stdout",
     "output_type": "stream",
     "text": [
      "                        RecommendedBy_name\n",
      "Member_name                               \n",
      "GUEST,GUEST                           None\n",
      "Smith,Darren                          None\n",
      "Smith,Tracy                           None\n",
      "Rownam,Tim                            None\n",
      "Tracy,Burton                          None\n",
      "Farrell,Jemima                        None\n",
      "Farrell,David                         None\n",
      "Tupperware,Hyacinth                   None\n",
      "Smith,Darren                          None\n",
      "Sarwin,Ramnaresh            Bader,Florence\n",
      "Coplin,Joan                  Baker,Timothy\n",
      "Genting,Matthew             Butters,Gerald\n",
      "Baker,Timothy               Farrell,Jemima\n",
      "Pinker,David                Farrell,Jemima\n",
      "Rumney,Henrietta           Genting,Matthew\n",
      "Jones,Douglas                  Jones,David\n",
      "Dare,Nancy                 Joplette,Janice\n",
      "Jones,David                Joplette,Janice\n",
      "Hunt,John                Purview,Millicent\n",
      "Boothe,Tim                      Rownam,Tim\n",
      "Joplette,Janice               Smith,Darren\n",
      "Butters,Gerald                Smith,Darren\n",
      "Owen,Charles                  Smith,Darren\n",
      "Smith,Jack                    Smith,Darren\n",
      "Mackenzie,Anna                Smith,Darren\n",
      "Worthington-Smyth,Henry        Smith,Tracy\n",
      "Purview,Millicent              Smith,Tracy\n",
      "Crumpet,Erica                  Smith,Tracy\n",
      "Baker,Anne                 Stibbons,Ponder\n",
      "Bader,Florence             Stibbons,Ponder\n",
      "Stibbons,Ponder               Tracy,Burton\n"
     ]
    }
   ],
   "source": [
    "sql_query11 = '''SELECT (m1.surname || ',' || m1.firstname) as Member_name, (m2.surname || ',' || m2.firstname) as RecommendedBy_name\n",
    "FROM Members as m1\n",
    "LEFT JOIN Members as m2\n",
    "ON m1.recommendedby = m2.memid\n",
    "ORDER BY RecommendedBy_name\n",
    "'''\n",
    "df_q11 = pd.read_sql_query(sql_query11, engine,index_col = 'Member_name')\n",
    "print(df_q11)"
   ]
  },
  {
   "cell_type": "markdown",
   "metadata": {},
   "source": [
    "### Question 12: Q12: Find the facilities with their usage by member, but not guests"
   ]
  },
  {
   "cell_type": "code",
   "execution_count": 11,
   "metadata": {},
   "outputs": [
    {
     "name": "stdout",
     "output_type": "stream",
     "text": [
      "        Facilitiy_name  Usage\n",
      "memid                        \n",
      "1      Badminton Court    132\n",
      "1       Massage Room 1     28\n",
      "1           Pool Table     28\n",
      "1        Snooker Table     12\n",
      "1         Squash Court     14\n",
      "...                ...    ...\n",
      "35      Tennis Court 2      4\n",
      "36     Badminton Court      2\n",
      "36      Massage Room 1      2\n",
      "36        Table Tennis      2\n",
      "36      Tennis Court 1      1\n",
      "\n",
      "[202 rows x 2 columns]\n"
     ]
    }
   ],
   "source": [
    "sql_query12 = '''\n",
    "SELECT b.memid, f.name as Facilitiy_name,\n",
    "    COUNT(b.bookid) AS Usage      \n",
    "FROM Bookings as b\n",
    "INNER JOIN Facilities as f\n",
    "ON b.facid = f.facid\n",
    "WHERE b.memid != 0\n",
    "GROUP BY b.memid, f.name\n",
    "ORDER BY b.memid'''\n",
    "df_q12 = pd.read_sql_query(sql_query12, engine, index_col = 'memid')\n",
    "print(df_q12)"
   ]
  },
  {
   "cell_type": "code",
   "execution_count": 12,
   "metadata": {},
   "outputs": [
    {
     "data": {
      "text/plain": [
       "3160"
      ]
     },
     "execution_count": 12,
     "metadata": {},
     "output_type": "execute_result"
    }
   ],
   "source": [
    "#Check that Guests were not included\n",
    "sum(df_q12.Usage)"
   ]
  },
  {
   "cell_type": "markdown",
   "metadata": {},
   "source": [
    "### Q13: Find the facilities usage by month, but not guests"
   ]
  },
  {
   "cell_type": "code",
   "execution_count": 13,
   "metadata": {},
   "outputs": [
    {
     "name": "stdout",
     "output_type": "stream",
     "text": [
      "                Month  Usage\n",
      "Facilitiy_name              \n",
      "Badminton Court    07     51\n",
      "Massage Room 1     07     77\n",
      "Massage Room 2     07      4\n",
      "Pool Table         07    103\n",
      "Snooker Table      07     68\n",
      "Squash Court       07     23\n",
      "Table Tennis       07     48\n",
      "Tennis Court 1     07     65\n",
      "Tennis Court 2     07     41\n",
      "Badminton Court    08    132\n",
      "Massage Room 1     08    153\n",
      "Massage Room 2     08      9\n",
      "Pool Table         08    272\n",
      "Snooker Table      08    154\n",
      "Squash Court       08     85\n",
      "Table Tennis       08    143\n",
      "Tennis Court 1     08    111\n",
      "Tennis Court 2     08    109\n",
      "Badminton Court    09    161\n",
      "Massage Room 1     09    191\n",
      "Massage Room 2     09     14\n",
      "Pool Table         09    408\n",
      "Snooker Table      09    199\n",
      "Squash Court       09     87\n",
      "Table Tennis       09    194\n",
      "Tennis Court 1     09    132\n",
      "Tennis Court 2     09    126\n"
     ]
    }
   ],
   "source": [
    "sql_query13 = '''\n",
    "SELECT strftime('%m', starttime) AS Month, \n",
    "    f.name as Facilitiy_name,\n",
    "    COUNT(b.bookid) AS Usage      \n",
    "FROM Bookings as b\n",
    "INNER JOIN Facilities as f\n",
    "ON b.facid = f.facid\n",
    "WHERE b.memid != 0\n",
    "GROUP BY Month, f.name\n",
    "ORDER BY Month'''\n",
    "df_q13 = pd.read_sql_query(sql_query13, engine, index_col = 'Facilitiy_name')\n",
    "print(df_q13)"
   ]
  },
  {
   "cell_type": "code",
   "execution_count": 14,
   "metadata": {},
   "outputs": [
    {
     "data": {
      "text/plain": [
       "3160"
      ]
     },
     "execution_count": 14,
     "metadata": {},
     "output_type": "execute_result"
    }
   ],
   "source": [
    "#Check that Guests were not included\n",
    "sum(df_q13.Usage)"
   ]
  }
 ],
 "metadata": {
  "kernelspec": {
   "display_name": "Python 3",
   "language": "python",
   "name": "python3"
  },
  "language_info": {
   "codemirror_mode": {
    "name": "ipython",
    "version": 3
   },
   "file_extension": ".py",
   "mimetype": "text/x-python",
   "name": "python",
   "nbconvert_exporter": "python",
   "pygments_lexer": "ipython3",
   "version": "3.8.3"
  }
 },
 "nbformat": 4,
 "nbformat_minor": 4
}
