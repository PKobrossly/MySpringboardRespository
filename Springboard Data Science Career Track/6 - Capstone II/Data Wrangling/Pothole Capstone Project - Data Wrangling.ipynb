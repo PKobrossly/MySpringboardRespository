{
 "cells": [
  {
   "cell_type": "markdown",
   "metadata": {},
   "source": [
    "The purpose of this data science project is to come up with a predictive model for pothole location while utilizing the existing pothole data and weather forecast data. If potholes could be predicted it could allow for better planning for commuters and also better planning for the city to distribute resources more effectively. The City of Houston has a next day policy for pothole repairs. "
   ]
  },
  {
   "cell_type": "markdown",
   "metadata": {},
   "source": [
    "## Imports"
   ]
  },
  {
   "cell_type": "markdown",
   "metadata": {},
   "source": [
    "Importing used dependencies"
   ]
  },
  {
   "cell_type": "code",
   "execution_count": 91,
   "metadata": {},
   "outputs": [],
   "source": [
    "#Import pandas, matplotlib.pyplot, and seaborn in the correct lines below\n",
    "import pandas as pd\n",
    "import matplotlib.pyplot as plt\n",
    "import seaborn as sns\n",
    "import os\n",
    "import datetime as dt\n",
    "import time"
   ]
  },
  {
   "cell_type": "markdown",
   "metadata": {},
   "source": [
    "## Objectives"
   ]
  },
  {
   "cell_type": "markdown",
   "metadata": {},
   "source": [
    "* Do you think you may have the data you need to tackle the desired question?\n",
    "    * Have you identified the required target value?\n",
    "    * Do you have potentially useful features?\n",
    "* Do you have any fundamental issues with the data?"
   ]
  },
  {
   "cell_type": "markdown",
   "metadata": {},
   "source": [
    "## Loading Pothole Data"
   ]
  },
  {
   "cell_type": "code",
   "execution_count": 2,
   "metadata": {},
   "outputs": [
    {
     "name": "stderr",
     "output_type": "stream",
     "text": [
      "b'Skipping line 99736: expected 29 fields, saw 30\\n'\n",
      "b'Skipping line 142010: expected 29 fields, saw 30\\nSkipping line 142599: expected 29 fields, saw 30\\nSkipping line 153313: expected 29 fields, saw 30\\n'\n",
      "b'Skipping line 191143: expected 29 fields, saw 30\\nSkipping line 193671: expected 29 fields, saw 30\\n'\n",
      "b'Skipping line 207631: expected 29 fields, saw 30\\nSkipping line 219597: expected 29 fields, saw 30\\nSkipping line 225109: expected 29 fields, saw 30\\n'\n",
      "b'Skipping line 277039: expected 29 fields, saw 30\\n'\n",
      "b'Skipping line 78774: expected 29 fields, saw 31\\n'\n",
      "b'Skipping line 105843: expected 29 fields, saw 30\\n'\n",
      "b'Skipping line 134105: expected 29 fields, saw 30\\n'\n",
      "b'Skipping line 168993: expected 29 fields, saw 30\\n'\n",
      "b'Skipping line 198472: expected 29 fields, saw 30\\nSkipping line 220143: expected 29 fields, saw 30\\n'\n",
      "b'Skipping line 272900: expected 29 fields, saw 30\\nSkipping line 282458: expected 29 fields, saw 30\\n'\n",
      "b'Skipping line 339869: expected 29 fields, saw 31\\nSkipping line 351878: expected 29 fields, saw 30\\n'\n",
      "b'Skipping line 9973: expected 29 fields, saw 30\\nSkipping line 16333: expected 29 fields, saw 30\\n'\n",
      "b'Skipping line 211061: expected 29 fields, saw 30\\n'\n",
      "b'Skipping line 294293: expected 29 fields, saw 30\\n'\n",
      "b'Skipping line 327920: expected 29 fields, saw 30\\n'\n",
      "b'Skipping line 124857: expected 29 fields, saw 30\\n'\n",
      "b'Skipping line 86853: expected 29 fields, saw 31\\n'\n",
      "b'Skipping line 124907: expected 29 fields, saw 30\\n'\n",
      "b'Skipping line 144491: expected 29 fields, saw 30\\n'\n",
      "b'Skipping line 218646: expected 29 fields, saw 31\\n'\n",
      "b'Skipping line 349868: expected 29 fields, saw 30\\n'\n"
     ]
    },
    {
     "name": "stdout",
     "output_type": "stream",
     "text": [
      "242.2931990623474\n"
     ]
    }
   ],
   "source": [
    "# The pothole data is supplied by the City of Houston Pothole record site. It is broken down into years. Iterating through\n",
    "# years and appending a Pandas table should populate the data\n",
    "pothole_years = [datayear for datayear in range(2011,dt.date.today().year +1)]\n",
    "pothole_URL_list = ['https://hfdapp.houstontx.gov/311/311-Public-Data-Extract-' + str(year) + '-clean.txt' for year in pothole_years]\n",
    "start = time.time()\n",
    "pothole_df_list = [pd.read_csv(url,sep = \"|\",error_bad_lines=False, index_col=0) for url in pothole_URL_list]\n",
    "end = time.time()\n",
    "print(end - start)"
   ]
  },
  {
   "cell_type": "code",
   "execution_count": 3,
   "metadata": {},
   "outputs": [],
   "source": [
    "#Create set of years and pothole df's to create one dictionary\n",
    "pothole_df_sets = zip(pothole_years,pothole_df_list)\n",
    "pothole_df_dict = dict(pothole_df_sets)"
   ]
  },
  {
   "cell_type": "code",
   "execution_count": 4,
   "metadata": {},
   "outputs": [
    {
     "data": {
      "text/plain": [
       "dict_keys([2011, 2012, 2013, 2014, 2015, 2016, 2017, 2018, 2019, 2020])"
      ]
     },
     "execution_count": 4,
     "metadata": {},
     "output_type": "execute_result"
    }
   ],
   "source": [
    "#confirm keys of dicitionary of pothole dataframes\n",
    "pothole_df_dict.keys()"
   ]
  },
  {
   "cell_type": "code",
   "execution_count": 5,
   "metadata": {
    "scrolled": true
   },
   "outputs": [
    {
     "data": {
      "text/plain": [
       "{2011: (35072, 28),\n",
       " 2012: (294752, 28),\n",
       " 2013: (313220, 28),\n",
       " 2014: (321929, 28),\n",
       " 2015: (343633, 28),\n",
       " 2016: (361308, 28),\n",
       " 2017: (364664, 28),\n",
       " 2018: (399952, 28),\n",
       " 2019: (395257, 28),\n",
       " 2020: (318643, 28)}"
      ]
     },
     "execution_count": 5,
     "metadata": {},
     "output_type": "execute_result"
    }
   ],
   "source": [
    "#visualize dataframe shapes in a dictionary \n",
    "{year : pothole_df_dict[year].shape for year in pothole_years}"
   ]
  },
  {
   "cell_type": "markdown",
   "metadata": {},
   "source": [
    "The same number of columns for all imported pothole dataframes"
   ]
  },
  {
   "cell_type": "code",
   "execution_count": 6,
   "metadata": {
    "scrolled": false
   },
   "outputs": [
    {
     "name": "stdout",
     "output_type": "stream",
     "text": [
      "3148430\n"
     ]
    },
    {
     "data": {
      "text/plain": [
       "0.0009210940055837353"
      ]
     },
     "execution_count": 6,
     "metadata": {},
     "output_type": "execute_result"
    }
   ],
   "source": [
    "#Calculate total number of rows across all dataframes\n",
    "totalrows_pothole = sum([pothole_df_dict[year].shape[0] for year in pothole_years])\n",
    "print(totalrows_pothole)\n",
    "#29 rows skipped\n",
    "29/totalrows_pothole * 100"
   ]
  },
  {
   "cell_type": "markdown",
   "metadata": {},
   "source": [
    "0.0009% of the rows were skipped due to parsing issues where an incorrect number of fields were brought in than expected. This percentage is acceptable to move forward. "
   ]
  },
  {
   "cell_type": "code",
   "execution_count": 7,
   "metadata": {},
   "outputs": [
    {
     "data": {
      "text/plain": [
       "[set(), set(), set(), set(), set(), set(), set(), set(), set()]"
      ]
     },
     "execution_count": 7,
     "metadata": {},
     "output_type": "execute_result"
    }
   ],
   "source": [
    "#Find if there are differences in headers between each pothole df\n",
    "header_lists = [pothole_df_dict[year].columns for year in pothole_years]\n",
    "column_compare = [set(header_lists[x]).difference(set(header_lists[x+1])) for x in range(len(pothole_years)-1)]\n",
    "column_compare"
   ]
  },
  {
   "cell_type": "markdown",
   "metadata": {},
   "source": [
    "All headers appear the same. "
   ]
  },
  {
   "cell_type": "code",
   "execution_count": 8,
   "metadata": {},
   "outputs": [
    {
     "data": {
      "text/plain": [
       "[set(), set(), set(), set(), set(), set(), set(), set(), set()]"
      ]
     },
     "execution_count": 8,
     "metadata": {},
     "output_type": "execute_result"
    }
   ],
   "source": [
    "#Check that data types are the same across pothole df's\n",
    "dtypes_lists = [pothole_df_dict[year].dtypes for year in pothole_years]\n",
    "dtypes_compare = [set(dtypes_lists[x]).difference(set(dtypes_lists[x+1])) for x in range(len(pothole_years)-1)]\n",
    "dtypes_compare"
   ]
  },
  {
   "cell_type": "markdown",
   "metadata": {},
   "source": [
    "All data types for each pothole dataframe appear the same. "
   ]
  },
  {
   "cell_type": "code",
   "execution_count": 9,
   "metadata": {},
   "outputs": [
    {
     "data": {
      "text/plain": [
       "(3148430, 28)"
      ]
     },
     "execution_count": 9,
     "metadata": {},
     "output_type": "execute_result"
    }
   ],
   "source": [
    "#Pothole dataframe combination\n",
    "pothole_total_df_raw = pd.concat(pothole_df_list,axis=0)\n",
    "pothole_total_df_raw.shape"
   ]
  },
  {
   "cell_type": "markdown",
   "metadata": {},
   "source": [
    "Total rows of combined pothole dataframes equals the sum of the individual dataframes. This give confidence that the rows properly merged. "
   ]
  },
  {
   "cell_type": "markdown",
   "metadata": {},
   "source": [
    "## Loading Weather Data"
   ]
  },
  {
   "cell_type": "code",
   "execution_count": 11,
   "metadata": {},
   "outputs": [],
   "source": [
    "# The weather data comes from 24 stations around the greater Houston area. A quick glance at the site showed various levels of\n",
    "# data collection and varying dates of records starting. Data will be limited to the range of 1/1/2011 to present day to\n",
    "# correlate with the pothole tracking start date\n",
    "\n",
    "weather_stations_list = ['USC00414327', 'US1ARPY0002', 'USC00224265', 'USW00012977', 'US1MOFSA215', 'CA001073615', 'US1MOTX0041',\n",
    "                       'US1TXHRR176', 'USC00234019', 'US1MOTX0007', 'USW00053910', 'US1TXHRR147', 'USC00414325', 'US1TXHRR165',\n",
    "                       'USC00503731', 'US1TXHRR269', 'USW00012918', 'US1OHSH0011', 'USC00414333', 'US1MOTX0040', 'US1TXHRR209',\n",
    "                       'USW00012960', 'USW00012975', 'US1TXHRR232']\n",
    "weather_stations_URL_list = ['https://www.ncei.noaa.gov/access/services/data/v1?dataset=daily-summaries&stations=' \n",
    "                             + station \n",
    "                             + '&startDate=2011-01-01&endDate=2020-11-01&units=standard' for station in weather_stations_list]\n",
    "weather_stations_df_list = [pd.read_csv(url,usecols = ['STATION','DATE','PRCP','TAVG','TMAX','TMIN','TOBS']) for url in weather_stations_URL_list]"
   ]
  },
  {
   "cell_type": "code",
   "execution_count": 12,
   "metadata": {},
   "outputs": [
    {
     "data": {
      "text/plain": [
       "(3403, 7)"
      ]
     },
     "execution_count": 12,
     "metadata": {},
     "output_type": "execute_result"
    }
   ],
   "source": [
    "#Check shape of one of the weather df's\n",
    "weather_stations_df_list[0].shape"
   ]
  },
  {
   "cell_type": "code",
   "execution_count": 13,
   "metadata": {},
   "outputs": [],
   "source": [
    "#Create set of stations and weather df's to create one dictionary\n",
    "weather_df_sets = zip(weather_stations_list,weather_stations_df_list)\n",
    "weather_df_dict = dict(weather_df_sets)"
   ]
  },
  {
   "cell_type": "code",
   "execution_count": 14,
   "metadata": {},
   "outputs": [
    {
     "name": "stdout",
     "output_type": "stream",
     "text": [
      "dict_keys(['USC00414327', 'US1ARPY0002', 'USC00224265', 'USW00012977', 'US1MOFSA215', 'CA001073615', 'US1MOTX0041', 'US1TXHRR176', 'USC00234019', 'US1MOTX0007', 'USW00053910', 'US1TXHRR147', 'USC00414325', 'US1TXHRR165', 'USC00503731', 'US1TXHRR269', 'USW00012918', 'US1OHSH0011', 'USC00414333', 'US1MOTX0040', 'US1TXHRR209', 'USW00012960', 'USW00012975', 'US1TXHRR232'])\n"
     ]
    },
    {
     "data": {
      "text/plain": [
       "24"
      ]
     },
     "execution_count": 14,
     "metadata": {},
     "output_type": "execute_result"
    }
   ],
   "source": [
    "#confirm keys of dicitionary of weather dataframes\n",
    "print(weather_df_dict.keys())\n",
    "len(weather_df_dict.keys())"
   ]
  },
  {
   "cell_type": "code",
   "execution_count": 15,
   "metadata": {},
   "outputs": [
    {
     "data": {
      "text/plain": [
       "{'USC00414327': (3403, 7),\n",
       " 'US1ARPY0002': (2673, 7),\n",
       " 'USC00224265': (2294, 7),\n",
       " 'USW00012977': (3591, 7),\n",
       " 'US1MOFSA215': (3283, 7),\n",
       " 'CA001073615': (3429, 7),\n",
       " 'US1MOTX0041': (279, 7),\n",
       " 'US1TXHRR176': (2678, 7),\n",
       " 'USC00234019': (3471, 7),\n",
       " 'US1MOTX0007': (3580, 7),\n",
       " 'USW00053910': (3591, 7),\n",
       " 'US1TXHRR147': (1386, 7),\n",
       " 'USC00414325': (3581, 7),\n",
       " 'US1TXHRR165': (1883, 7),\n",
       " 'USC00503731': (2093, 7),\n",
       " 'US1TXHRR269': (407, 7),\n",
       " 'USW00012918': (3592, 7),\n",
       " 'US1OHSH0011': (3376, 7),\n",
       " 'USC00414333': (3575, 7),\n",
       " 'US1MOTX0040': (1317, 7),\n",
       " 'US1TXHRR209': (2283, 7),\n",
       " 'USW00012960': (3592, 7),\n",
       " 'USW00012975': (3590, 7),\n",
       " 'US1TXHRR232': (1498, 7)}"
      ]
     },
     "execution_count": 15,
     "metadata": {},
     "output_type": "execute_result"
    }
   ],
   "source": [
    "#visualize dataframe shapes in a dictionary \n",
    "{station : weather_df_dict[station].shape for station in weather_stations_list}"
   ]
  },
  {
   "cell_type": "markdown",
   "metadata": {},
   "source": [
    "The same number of columns for all imported weather dataframes"
   ]
  },
  {
   "cell_type": "code",
   "execution_count": 16,
   "metadata": {},
   "outputs": [
    {
     "name": "stdout",
     "output_type": "stream",
     "text": [
      "64445\n"
     ]
    }
   ],
   "source": [
    "#Calculate total number of rows across all dataframes\n",
    "totalrows_weather = sum([weather_df_dict[station].shape[0] for station in weather_stations_list])\n",
    "print(totalrows_weather)"
   ]
  },
  {
   "cell_type": "code",
   "execution_count": 17,
   "metadata": {},
   "outputs": [
    {
     "data": {
      "text/plain": [
       "(64445, 7)"
      ]
     },
     "execution_count": 17,
     "metadata": {},
     "output_type": "execute_result"
    }
   ],
   "source": [
    "#Weather dataframe combination\n",
    "weather_total_df_raw = pd.concat(weather_stations_df_list,axis=0)\n",
    "weather_total_df_raw.shape"
   ]
  },
  {
   "cell_type": "markdown",
   "metadata": {},
   "source": [
    "## Explore The Data and Cleaning"
   ]
  },
  {
   "cell_type": "markdown",
   "metadata": {},
   "source": [
    "### Exploring the Data (Pothole)"
   ]
  },
  {
   "cell_type": "code",
   "execution_count": 18,
   "metadata": {
    "scrolled": true
   },
   "outputs": [
    {
     "data": {
      "text/html": [
       "<div>\n",
       "<style scoped>\n",
       "    .dataframe tbody tr th:only-of-type {\n",
       "        vertical-align: middle;\n",
       "    }\n",
       "\n",
       "    .dataframe tbody tr th {\n",
       "        vertical-align: top;\n",
       "    }\n",
       "\n",
       "    .dataframe thead th {\n",
       "        text-align: right;\n",
       "    }\n",
       "</style>\n",
       "<table border=\"1\" class=\"dataframe\">\n",
       "  <thead>\n",
       "    <tr style=\"text-align: right;\">\n",
       "      <th></th>\n",
       "      <th>SR LOCATION</th>\n",
       "      <th>COUNTY</th>\n",
       "      <th>DISTRICT</th>\n",
       "      <th>NEIGHBORHOOD</th>\n",
       "      <th>TAX ID</th>\n",
       "      <th>TRASH QUAD</th>\n",
       "      <th>RECYCLE QUAD</th>\n",
       "      <th>TRASH DAY</th>\n",
       "      <th>HEAVY TRASH DAY</th>\n",
       "      <th>RECYCLE DAY</th>\n",
       "      <th>...</th>\n",
       "      <th>SR CREATE DATE</th>\n",
       "      <th>DUE DATE</th>\n",
       "      <th>DATE CLOSED</th>\n",
       "      <th>OVERDUE</th>\n",
       "      <th>Title</th>\n",
       "      <th>x</th>\n",
       "      <th>y</th>\n",
       "      <th>LATITUDE</th>\n",
       "      <th>LONGITUDE</th>\n",
       "      <th>Channel Type</th>\n",
       "    </tr>\n",
       "    <tr>\n",
       "      <th>CASE NUMBER</th>\n",
       "      <th></th>\n",
       "      <th></th>\n",
       "      <th></th>\n",
       "      <th></th>\n",
       "      <th></th>\n",
       "      <th></th>\n",
       "      <th></th>\n",
       "      <th></th>\n",
       "      <th></th>\n",
       "      <th></th>\n",
       "      <th></th>\n",
       "      <th></th>\n",
       "      <th></th>\n",
       "      <th></th>\n",
       "      <th></th>\n",
       "      <th></th>\n",
       "      <th></th>\n",
       "      <th></th>\n",
       "      <th></th>\n",
       "      <th></th>\n",
       "      <th></th>\n",
       "    </tr>\n",
       "  </thead>\n",
       "  <tbody>\n",
       "    <tr>\n",
       "      <th>1100329481-101000461231</th>\n",
       "      <td>NaN</td>\n",
       "      <td>Unknown</td>\n",
       "      <td>Unknown</td>\n",
       "      <td>Unknown</td>\n",
       "      <td>Unknown</td>\n",
       "      <td>Unknown</td>\n",
       "      <td>Unknown</td>\n",
       "      <td>Unknown</td>\n",
       "      <td>Unknown</td>\n",
       "      <td>Unknown</td>\n",
       "      <td>...</td>\n",
       "      <td>2011-11-09 01:24:57</td>\n",
       "      <td>2011-12-19 01:24:57</td>\n",
       "      <td>2011-12-29 20:33:19</td>\n",
       "      <td>10.80</td>\n",
       "      <td>Investigate minor main line break</td>\n",
       "      <td>NaN</td>\n",
       "      <td>NaN</td>\n",
       "      <td>Unknown</td>\n",
       "      <td>Unknown</td>\n",
       "      <td>Unknown</td>\n",
       "    </tr>\n",
       "    <tr>\n",
       "      <th>1100329484-101000461236</th>\n",
       "      <td>NaN</td>\n",
       "      <td>Unknown</td>\n",
       "      <td>Unknown</td>\n",
       "      <td>Unknown</td>\n",
       "      <td>Unknown</td>\n",
       "      <td>Unknown</td>\n",
       "      <td>Unknown</td>\n",
       "      <td>Unknown</td>\n",
       "      <td>Unknown</td>\n",
       "      <td>Unknown</td>\n",
       "      <td>...</td>\n",
       "      <td>2011-11-09 02:12:52</td>\n",
       "      <td>2011-12-19 02:12:52</td>\n",
       "      <td>2011-12-29 20:33:53</td>\n",
       "      <td>10.76</td>\n",
       "      <td>Investigate minor main line break</td>\n",
       "      <td>NaN</td>\n",
       "      <td>NaN</td>\n",
       "      <td>Unknown</td>\n",
       "      <td>Unknown</td>\n",
       "      <td>Unknown</td>\n",
       "    </tr>\n",
       "    <tr>\n",
       "      <th>101000451923</th>\n",
       "      <td>611 WALKER, HOUSTON TX 77002</td>\n",
       "      <td>Harris</td>\n",
       "      <td>I</td>\n",
       "      <td>DOWNTOWN</td>\n",
       "      <td>0010890000001</td>\n",
       "      <td>NaN</td>\n",
       "      <td>NaN</td>\n",
       "      <td>NaN</td>\n",
       "      <td>NaN</td>\n",
       "      <td>NaN</td>\n",
       "      <td>...</td>\n",
       "      <td>2011-11-09 05:15:37</td>\n",
       "      <td>2011-11-24 05:15:33</td>\n",
       "      <td>2011-11-09 05:28:13</td>\n",
       "      <td>-14.99</td>\n",
       "      <td>Contact Forestry to request a tree to plant in...</td>\n",
       "      <td>NaN</td>\n",
       "      <td>NaN</td>\n",
       "      <td>29.75989828</td>\n",
       "      <td>-95.36705705</td>\n",
       "      <td>Voice In</td>\n",
       "    </tr>\n",
       "    <tr>\n",
       "      <th>101000451924</th>\n",
       "      <td>611 WALKER, HOUSTON TX 77002</td>\n",
       "      <td>Harris</td>\n",
       "      <td>I</td>\n",
       "      <td>DOWNTOWN</td>\n",
       "      <td>0010890000001</td>\n",
       "      <td>NaN</td>\n",
       "      <td>NaN</td>\n",
       "      <td>NaN</td>\n",
       "      <td>NaN</td>\n",
       "      <td>NaN</td>\n",
       "      <td>...</td>\n",
       "      <td>2011-11-09 05:17:50</td>\n",
       "      <td>2011-11-24 05:17:49</td>\n",
       "      <td>2011-11-09 05:28:02</td>\n",
       "      <td>-14.99</td>\n",
       "      <td>Contact Forestry to request a tree to plant in...</td>\n",
       "      <td>NaN</td>\n",
       "      <td>NaN</td>\n",
       "      <td>29.75989828</td>\n",
       "      <td>-95.36705705</td>\n",
       "      <td>Voice In</td>\n",
       "    </tr>\n",
       "    <tr>\n",
       "      <th>101000451925</th>\n",
       "      <td>TEST, TEST</td>\n",
       "      <td>NaN</td>\n",
       "      <td>Unknown</td>\n",
       "      <td>NaN</td>\n",
       "      <td>NaN</td>\n",
       "      <td>NaN</td>\n",
       "      <td>NaN</td>\n",
       "      <td>NaN</td>\n",
       "      <td>NaN</td>\n",
       "      <td>NaN</td>\n",
       "      <td>...</td>\n",
       "      <td>2011-11-09 05:28:52</td>\n",
       "      <td>2011-11-24 05:28:51</td>\n",
       "      <td>2012-10-23 10:21:29</td>\n",
       "      <td>334.20</td>\n",
       "      <td>Contact Forestry to request a tree to plant in...</td>\n",
       "      <td>NaN</td>\n",
       "      <td>NaN</td>\n",
       "      <td>NaN</td>\n",
       "      <td>NaN</td>\n",
       "      <td>Voice In</td>\n",
       "    </tr>\n",
       "  </tbody>\n",
       "</table>\n",
       "<p>5 rows × 28 columns</p>\n",
       "</div>"
      ],
      "text/plain": [
       "                                          SR LOCATION   COUNTY DISTRICT  \\\n",
       "CASE NUMBER                                                               \n",
       "1100329481-101000461231                           NaN  Unknown  Unknown   \n",
       "1100329484-101000461236                           NaN  Unknown  Unknown   \n",
       "101000451923             611 WALKER, HOUSTON TX 77002   Harris        I   \n",
       "101000451924             611 WALKER, HOUSTON TX 77002   Harris        I   \n",
       "101000451925                               TEST, TEST      NaN  Unknown   \n",
       "\n",
       "                        NEIGHBORHOOD         TAX ID TRASH QUAD RECYCLE QUAD  \\\n",
       "CASE NUMBER                                                                   \n",
       "1100329481-101000461231      Unknown        Unknown    Unknown      Unknown   \n",
       "1100329484-101000461236      Unknown        Unknown    Unknown      Unknown   \n",
       "101000451923                DOWNTOWN  0010890000001        NaN          NaN   \n",
       "101000451924                DOWNTOWN  0010890000001        NaN          NaN   \n",
       "101000451925                     NaN            NaN        NaN          NaN   \n",
       "\n",
       "                        TRASH DAY HEAVY TRASH DAY RECYCLE DAY  ...  \\\n",
       "CASE NUMBER                                                    ...   \n",
       "1100329481-101000461231   Unknown         Unknown     Unknown  ...   \n",
       "1100329484-101000461236   Unknown         Unknown     Unknown  ...   \n",
       "101000451923                  NaN             NaN         NaN  ...   \n",
       "101000451924                  NaN             NaN         NaN  ...   \n",
       "101000451925                  NaN             NaN         NaN  ...   \n",
       "\n",
       "                              SR CREATE DATE             DUE DATE  \\\n",
       "CASE NUMBER                                                         \n",
       "1100329481-101000461231  2011-11-09 01:24:57  2011-12-19 01:24:57   \n",
       "1100329484-101000461236  2011-11-09 02:12:52  2011-12-19 02:12:52   \n",
       "101000451923             2011-11-09 05:15:37  2011-11-24 05:15:33   \n",
       "101000451924             2011-11-09 05:17:50  2011-11-24 05:17:49   \n",
       "101000451925             2011-11-09 05:28:52  2011-11-24 05:28:51   \n",
       "\n",
       "                                 DATE CLOSED OVERDUE  \\\n",
       "CASE NUMBER                                            \n",
       "1100329481-101000461231  2011-12-29 20:33:19   10.80   \n",
       "1100329484-101000461236  2011-12-29 20:33:53   10.76   \n",
       "101000451923             2011-11-09 05:28:13  -14.99   \n",
       "101000451924             2011-11-09 05:28:02  -14.99   \n",
       "101000451925             2012-10-23 10:21:29  334.20   \n",
       "\n",
       "                                                                     Title  \\\n",
       "CASE NUMBER                                                                  \n",
       "1100329481-101000461231                  Investigate minor main line break   \n",
       "1100329484-101000461236                  Investigate minor main line break   \n",
       "101000451923             Contact Forestry to request a tree to plant in...   \n",
       "101000451924             Contact Forestry to request a tree to plant in...   \n",
       "101000451925             Contact Forestry to request a tree to plant in...   \n",
       "\n",
       "                          x   y     LATITUDE     LONGITUDE Channel Type  \n",
       "CASE NUMBER                                                              \n",
       "1100329481-101000461231 NaN NaN      Unknown       Unknown      Unknown  \n",
       "1100329484-101000461236 NaN NaN      Unknown       Unknown      Unknown  \n",
       "101000451923            NaN NaN  29.75989828  -95.36705705     Voice In  \n",
       "101000451924            NaN NaN  29.75989828  -95.36705705     Voice In  \n",
       "101000451925            NaN NaN          NaN           NaN     Voice In  \n",
       "\n",
       "[5 rows x 28 columns]"
      ]
     },
     "execution_count": 18,
     "metadata": {},
     "output_type": "execute_result"
    }
   ],
   "source": [
    "#Explore the columns and initial data of the potholes\n",
    "pothole_total_df_raw.head()"
   ]
  },
  {
   "cell_type": "code",
   "execution_count": 19,
   "metadata": {},
   "outputs": [
    {
     "data": {
      "text/plain": [
       "Index(['SR LOCATION', 'COUNTY', 'DISTRICT', 'NEIGHBORHOOD', 'TAX ID',\n",
       "       'TRASH QUAD', 'RECYCLE QUAD', 'TRASH DAY', 'HEAVY TRASH DAY',\n",
       "       'RECYCLE DAY', 'KEY MAP', 'MANAGEMENT DISTRICT', 'DEPARTMENT',\n",
       "       'DIVISION', 'SR TYPE', 'QUEUE', 'SLA', 'STATUS', 'SR CREATE DATE',\n",
       "       'DUE DATE', 'DATE CLOSED', 'OVERDUE', 'Title', 'x', 'y', 'LATITUDE',\n",
       "       'LONGITUDE', 'Channel Type'],\n",
       "      dtype='object')"
      ]
     },
     "execution_count": 19,
     "metadata": {},
     "output_type": "execute_result"
    }
   ],
   "source": [
    "#Explore the columns\n",
    "pothole_total_df_raw.columns"
   ]
  },
  {
   "cell_type": "code",
   "execution_count": 20,
   "metadata": {},
   "outputs": [
    {
     "data": {
      "text/plain": [
       "SR LOCATION             object\n",
       "COUNTY                  object\n",
       "DISTRICT                object\n",
       "NEIGHBORHOOD            object\n",
       "TAX ID                  object\n",
       "TRASH QUAD              object\n",
       "RECYCLE QUAD            object\n",
       "TRASH DAY               object\n",
       "HEAVY TRASH DAY         object\n",
       "RECYCLE DAY             object\n",
       "KEY MAP                 object\n",
       "MANAGEMENT DISTRICT     object\n",
       "DEPARTMENT              object\n",
       "DIVISION                object\n",
       "SR TYPE                 object\n",
       "QUEUE                   object\n",
       "SLA                    float64\n",
       "STATUS                  object\n",
       "SR CREATE DATE          object\n",
       "DUE DATE                object\n",
       "DATE CLOSED             object\n",
       "OVERDUE                float64\n",
       "Title                   object\n",
       "x                      float64\n",
       "y                      float64\n",
       "LATITUDE                object\n",
       "LONGITUDE               object\n",
       "Channel Type            object\n",
       "dtype: object"
      ]
     },
     "execution_count": 20,
     "metadata": {},
     "output_type": "execute_result"
    }
   ],
   "source": [
    "#Check data types\n",
    "pothole_total_df_raw.dtypes"
   ]
  },
  {
   "cell_type": "markdown",
   "metadata": {},
   "source": [
    " - DUE DATE, DATE CLOSED, and ST CREATE DATE will need to be converted to datetime format. \n",
    " - Latitude and Longitude will need to be converted to float."
   ]
  },
  {
   "cell_type": "code",
   "execution_count": 21,
   "metadata": {
    "scrolled": true
   },
   "outputs": [
    {
     "data": {
      "text/html": [
       "<div>\n",
       "<style scoped>\n",
       "    .dataframe tbody tr th:only-of-type {\n",
       "        vertical-align: middle;\n",
       "    }\n",
       "\n",
       "    .dataframe tbody tr th {\n",
       "        vertical-align: top;\n",
       "    }\n",
       "\n",
       "    .dataframe thead th {\n",
       "        text-align: right;\n",
       "    }\n",
       "</style>\n",
       "<table border=\"1\" class=\"dataframe\">\n",
       "  <thead>\n",
       "    <tr style=\"text-align: right;\">\n",
       "      <th></th>\n",
       "      <th>count</th>\n",
       "      <th>%</th>\n",
       "    </tr>\n",
       "  </thead>\n",
       "  <tbody>\n",
       "    <tr>\n",
       "      <th>MANAGEMENT DISTRICT</th>\n",
       "      <td>1750058</td>\n",
       "      <td>55.585101</td>\n",
       "    </tr>\n",
       "    <tr>\n",
       "      <th>TRASH DAY</th>\n",
       "      <td>920047</td>\n",
       "      <td>29.222406</td>\n",
       "    </tr>\n",
       "    <tr>\n",
       "      <th>RECYCLE DAY</th>\n",
       "      <td>781515</td>\n",
       "      <td>24.822372</td>\n",
       "    </tr>\n",
       "    <tr>\n",
       "      <th>RECYCLE QUAD</th>\n",
       "      <td>771889</td>\n",
       "      <td>24.516632</td>\n",
       "    </tr>\n",
       "    <tr>\n",
       "      <th>HEAVY TRASH DAY</th>\n",
       "      <td>752867</td>\n",
       "      <td>23.912458</td>\n",
       "    </tr>\n",
       "    <tr>\n",
       "      <th>TRASH QUAD</th>\n",
       "      <td>748950</td>\n",
       "      <td>23.788047</td>\n",
       "    </tr>\n",
       "    <tr>\n",
       "      <th>TAX ID</th>\n",
       "      <td>631004</td>\n",
       "      <td>20.041862</td>\n",
       "    </tr>\n",
       "    <tr>\n",
       "      <th>y</th>\n",
       "      <td>321279</td>\n",
       "      <td>10.204419</td>\n",
       "    </tr>\n",
       "    <tr>\n",
       "      <th>x</th>\n",
       "      <td>321279</td>\n",
       "      <td>10.204419</td>\n",
       "    </tr>\n",
       "    <tr>\n",
       "      <th>LATITUDE</th>\n",
       "      <td>98215</td>\n",
       "      <td>3.119491</td>\n",
       "    </tr>\n",
       "    <tr>\n",
       "      <th>LONGITUDE</th>\n",
       "      <td>98215</td>\n",
       "      <td>3.119491</td>\n",
       "    </tr>\n",
       "    <tr>\n",
       "      <th>COUNTY</th>\n",
       "      <td>75730</td>\n",
       "      <td>2.405326</td>\n",
       "    </tr>\n",
       "    <tr>\n",
       "      <th>NEIGHBORHOOD</th>\n",
       "      <td>38487</td>\n",
       "      <td>1.222419</td>\n",
       "    </tr>\n",
       "    <tr>\n",
       "      <th>SR LOCATION</th>\n",
       "      <td>23674</td>\n",
       "      <td>0.751930</td>\n",
       "    </tr>\n",
       "    <tr>\n",
       "      <th>DISTRICT</th>\n",
       "      <td>17499</td>\n",
       "      <td>0.555801</td>\n",
       "    </tr>\n",
       "    <tr>\n",
       "      <th>DATE CLOSED</th>\n",
       "      <td>15355</td>\n",
       "      <td>0.487703</td>\n",
       "    </tr>\n",
       "    <tr>\n",
       "      <th>SLA</th>\n",
       "      <td>13874</td>\n",
       "      <td>0.440664</td>\n",
       "    </tr>\n",
       "    <tr>\n",
       "      <th>KEY MAP</th>\n",
       "      <td>13540</td>\n",
       "      <td>0.430056</td>\n",
       "    </tr>\n",
       "    <tr>\n",
       "      <th>DUE DATE</th>\n",
       "      <td>5027</td>\n",
       "      <td>0.159667</td>\n",
       "    </tr>\n",
       "    <tr>\n",
       "      <th>OVERDUE</th>\n",
       "      <td>5025</td>\n",
       "      <td>0.159603</td>\n",
       "    </tr>\n",
       "    <tr>\n",
       "      <th>Channel Type</th>\n",
       "      <td>5025</td>\n",
       "      <td>0.159603</td>\n",
       "    </tr>\n",
       "    <tr>\n",
       "      <th>Title</th>\n",
       "      <td>23</td>\n",
       "      <td>0.000731</td>\n",
       "    </tr>\n",
       "    <tr>\n",
       "      <th>SR CREATE DATE</th>\n",
       "      <td>0</td>\n",
       "      <td>0.000000</td>\n",
       "    </tr>\n",
       "    <tr>\n",
       "      <th>STATUS</th>\n",
       "      <td>0</td>\n",
       "      <td>0.000000</td>\n",
       "    </tr>\n",
       "    <tr>\n",
       "      <th>QUEUE</th>\n",
       "      <td>0</td>\n",
       "      <td>0.000000</td>\n",
       "    </tr>\n",
       "    <tr>\n",
       "      <th>DIVISION</th>\n",
       "      <td>0</td>\n",
       "      <td>0.000000</td>\n",
       "    </tr>\n",
       "    <tr>\n",
       "      <th>DEPARTMENT</th>\n",
       "      <td>0</td>\n",
       "      <td>0.000000</td>\n",
       "    </tr>\n",
       "    <tr>\n",
       "      <th>SR TYPE</th>\n",
       "      <td>0</td>\n",
       "      <td>0.000000</td>\n",
       "    </tr>\n",
       "  </tbody>\n",
       "</table>\n",
       "</div>"
      ],
      "text/plain": [
       "                       count          %\n",
       "MANAGEMENT DISTRICT  1750058  55.585101\n",
       "TRASH DAY             920047  29.222406\n",
       "RECYCLE DAY           781515  24.822372\n",
       "RECYCLE QUAD          771889  24.516632\n",
       "HEAVY TRASH DAY       752867  23.912458\n",
       "TRASH QUAD            748950  23.788047\n",
       "TAX ID                631004  20.041862\n",
       "y                     321279  10.204419\n",
       "x                     321279  10.204419\n",
       "LATITUDE               98215   3.119491\n",
       "LONGITUDE              98215   3.119491\n",
       "COUNTY                 75730   2.405326\n",
       "NEIGHBORHOOD           38487   1.222419\n",
       "SR LOCATION            23674   0.751930\n",
       "DISTRICT               17499   0.555801\n",
       "DATE CLOSED            15355   0.487703\n",
       "SLA                    13874   0.440664\n",
       "KEY MAP                13540   0.430056\n",
       "DUE DATE                5027   0.159667\n",
       "OVERDUE                 5025   0.159603\n",
       "Channel Type            5025   0.159603\n",
       "Title                     23   0.000731\n",
       "SR CREATE DATE             0   0.000000\n",
       "STATUS                     0   0.000000\n",
       "QUEUE                      0   0.000000\n",
       "DIVISION                   0   0.000000\n",
       "DEPARTMENT                 0   0.000000\n",
       "SR TYPE                    0   0.000000"
      ]
     },
     "execution_count": 21,
     "metadata": {},
     "output_type": "execute_result"
    }
   ],
   "source": [
    "#Check for the number of missing data for each column\n",
    "missing = pd.concat([pothole_total_df_raw.isnull().sum(), 100 * pothole_total_df_raw.isnull().mean()], axis=1)\n",
    "missing.columns=['count', '%']\n",
    "missing.sort_values(by='count', ascending=False)"
   ]
  },
  {
   "cell_type": "markdown",
   "metadata": {},
   "source": [
    "Target values for this dataset will be location columns. \n",
    "Therefore we can remove MANAGEMENT DISTRICT, TRASH DAY, RECYCLE DAY, RECYCLE QUAD, KEY MAP, HEAVY TRASH DAY, TRASH QUAD, TAX ID, Y, and X since these have many missing values and also are not needed. "
   ]
  },
  {
   "cell_type": "markdown",
   "metadata": {},
   "source": [
    "#### Description of channels\n",
    "\n",
    "* Column: Description\n",
    "* CASE_NUMBER: Unique case ID\n",
    "* Caller_CITY: Caller's City\n",
    "* Caller_STATE: Caller's State\n",
    "* Caller_ZIP: Caller's Zip\n",
    "* SR_LOCATION: The location the service request is being called in for\n",
    "* COUNTY: The county of the service request\n",
    "* DISTRICT: The geocoded Council district of the service request\n",
    "* NEIGHBORHOOD: The neighborhood of the geocoded service request\n",
    "* TAX_ID: The HCAD property tax ID for the service request\n",
    "* SERVICE_AREA: \n",
    "* KEY_MAP: Key map of the service request\n",
    "* MANAGEMENT_DISTRICT: The management district of the service request location\n",
    "* TRASH_DAY: The trash day of the service request location\n",
    "* HEAVY_TRASH_DAY: The heavy trash day of the service request location\n",
    "* RECYCLE_DAY: The recycling day of the service request location\n",
    "* SR_CREATOR: The creator of the service request \n",
    "* DEPARTMENT: The department the service request is directed to (could be virtual department, e.g. 311 Help Line)\n",
    "* DIVISION: The division the service request is directed to (e.g. Knowledge)\n",
    "* SR_TYPE: The service request type\n",
    "* QUEUE: The queue the service request is put into\n",
    "* SLA: The service level agreement days. The number of days the department has from the create date to address the service request\n",
    "* STATUS: Status of the service request. Closed does not necessarily mean the SR was solved to meet citizen needs.\n",
    "* SR_CREATE_DATE: The create date of the service request\n",
    "* DUE_DATE: The due date of the service request based on the SLA days\n",
    "* DATE_CLOSED: The date the service request is closed\n",
    "* OVERDUE: If the number is negative, it means the number days the service request was completed before the SLA was due (or, how many days are remaining to the SLA if the case is still open). If positive, it means the number of days the service request was complete after the SLA was due (or, how many days past the SLA if the case is still outstanding)\n",
    "* x: The ESRI projection system X of the service request; this X is the best guess based on the P&D address points available at the time the service request was created\n",
    "* y: The ESRI projection system Y of the service request; this Y is a the best guess based on the P&D address points available at the time the service request was created\n",
    "* LATITUDE: Decimal Degrees longitude\n",
    "* LONGITUDE: Decimal Degrees longitude\n",
    "* Channel Type: How the ticket came in\n",
    "\n"
   ]
  },
  {
   "cell_type": "code",
   "execution_count": 22,
   "metadata": {
    "scrolled": true
   },
   "outputs": [
    {
     "data": {
      "text/plain": [
       "Nuisance On Property               202154\n",
       "Container Problem                  201656\n",
       "Missed Garbage Pickup              177413\n",
       "Water Leak                         153505\n",
       "Traffic Signal Maintenance         145407\n",
       "                                    ...  \n",
       "Open Records                            2\n",
       "Vital Statistics Escalation             2\n",
       "Curb Repair due to Utility Work         2\n",
       "Driveway Replacement                    1\n",
       "Pothole (App_Serv)                      1\n",
       "Name: SR TYPE, Length: 288, dtype: int64"
      ]
     },
     "execution_count": 22,
     "metadata": {},
     "output_type": "execute_result"
    }
   ],
   "source": [
    "#Check ST Types to make sure only pothole data is present\n",
    "pothole_total_df_raw['SR TYPE'].value_counts()"
   ]
  },
  {
   "cell_type": "code",
   "execution_count": 23,
   "metadata": {},
   "outputs": [
    {
     "data": {
      "text/plain": [
       "61430"
      ]
     },
     "execution_count": 23,
     "metadata": {},
     "output_type": "execute_result"
    }
   ],
   "source": [
    "#Check to see how many Service Request Types are pothole related. The rest are not needed as they are for another service\n",
    "SR_pothole = pothole_total_df_raw['SR TYPE'].str.lower()\n",
    "SR_pothole.str.contains('pothole').sum()"
   ]
  },
  {
   "cell_type": "markdown",
   "metadata": {},
   "source": [
    "### Cleaning the Data (Pothole)"
   ]
  },
  {
   "cell_type": "markdown",
   "metadata": {},
   "source": [
    "#### Checking for Inconsistencies and Removing Unnecessary Columns"
   ]
  },
  {
   "cell_type": "code",
   "execution_count": 24,
   "metadata": {},
   "outputs": [],
   "source": [
    "#Create a copy of the pothole df to leave the original intact \n",
    "pothole_df_scrub = pothole_total_df_raw"
   ]
  },
  {
   "cell_type": "code",
   "execution_count": 25,
   "metadata": {},
   "outputs": [],
   "source": [
    "#Limit to ST Type equal to pothole for only pothole information\n",
    "pothole_df_scrub = pothole_df_scrub[pothole_df_scrub['SR TYPE'] == 'Pothole']"
   ]
  },
  {
   "cell_type": "code",
   "execution_count": 26,
   "metadata": {
    "scrolled": false
   },
   "outputs": [
    {
     "name": "stdout",
     "output_type": "stream",
     "text": [
      "(61316, 28)\n"
     ]
    },
    {
     "data": {
      "text/html": [
       "<div>\n",
       "<style scoped>\n",
       "    .dataframe tbody tr th:only-of-type {\n",
       "        vertical-align: middle;\n",
       "    }\n",
       "\n",
       "    .dataframe tbody tr th {\n",
       "        vertical-align: top;\n",
       "    }\n",
       "\n",
       "    .dataframe thead th {\n",
       "        text-align: right;\n",
       "    }\n",
       "</style>\n",
       "<table border=\"1\" class=\"dataframe\">\n",
       "  <thead>\n",
       "    <tr style=\"text-align: right;\">\n",
       "      <th></th>\n",
       "      <th>SR LOCATION</th>\n",
       "      <th>COUNTY</th>\n",
       "      <th>DISTRICT</th>\n",
       "      <th>NEIGHBORHOOD</th>\n",
       "      <th>TAX ID</th>\n",
       "      <th>TRASH QUAD</th>\n",
       "      <th>RECYCLE QUAD</th>\n",
       "      <th>TRASH DAY</th>\n",
       "      <th>HEAVY TRASH DAY</th>\n",
       "      <th>RECYCLE DAY</th>\n",
       "      <th>...</th>\n",
       "      <th>SR CREATE DATE</th>\n",
       "      <th>DUE DATE</th>\n",
       "      <th>DATE CLOSED</th>\n",
       "      <th>OVERDUE</th>\n",
       "      <th>Title</th>\n",
       "      <th>x</th>\n",
       "      <th>y</th>\n",
       "      <th>LATITUDE</th>\n",
       "      <th>LONGITUDE</th>\n",
       "      <th>Channel Type</th>\n",
       "    </tr>\n",
       "    <tr>\n",
       "      <th>CASE NUMBER</th>\n",
       "      <th></th>\n",
       "      <th></th>\n",
       "      <th></th>\n",
       "      <th></th>\n",
       "      <th></th>\n",
       "      <th></th>\n",
       "      <th></th>\n",
       "      <th></th>\n",
       "      <th></th>\n",
       "      <th></th>\n",
       "      <th></th>\n",
       "      <th></th>\n",
       "      <th></th>\n",
       "      <th></th>\n",
       "      <th></th>\n",
       "      <th></th>\n",
       "      <th></th>\n",
       "      <th></th>\n",
       "      <th></th>\n",
       "      <th></th>\n",
       "      <th></th>\n",
       "    </tr>\n",
       "  </thead>\n",
       "  <tbody>\n",
       "    <tr>\n",
       "      <th>11433929-101000452108</th>\n",
       "      <td>Intersection 13500 S POST OAK RD &amp; 5400 WILLOM...</td>\n",
       "      <td>Harris County</td>\n",
       "      <td>K</td>\n",
       "      <td>CENTRAL SOUTHWEST</td>\n",
       "      <td>NaN</td>\n",
       "      <td>NaN</td>\n",
       "      <td>NaN</td>\n",
       "      <td>NaN</td>\n",
       "      <td>NaN</td>\n",
       "      <td>NaN</td>\n",
       "      <td>...</td>\n",
       "      <td>2011-11-09 06:49:13</td>\n",
       "      <td>2011-11-19 06:49:12</td>\n",
       "      <td>2011-11-22 09:26:28</td>\n",
       "      <td>3.11</td>\n",
       "      <td>Pothole</td>\n",
       "      <td>3.091633e+06</td>\n",
       "      <td>1.379371e+07</td>\n",
       "      <td>29.63033251</td>\n",
       "      <td>-95.46407063</td>\n",
       "      <td>Voice In</td>\n",
       "    </tr>\n",
       "    <tr>\n",
       "      <th>11433959-101000452225</th>\n",
       "      <td>8142 BONNER, HOUSTON TX 77017</td>\n",
       "      <td>HARRIS</td>\n",
       "      <td>I</td>\n",
       "      <td>MEADOWBROOK / ALLENDALE</td>\n",
       "      <td>0591820220008</td>\n",
       "      <td>SE</td>\n",
       "      <td>SE</td>\n",
       "      <td>MONDAY</td>\n",
       "      <td>1st Monday</td>\n",
       "      <td>MONDAY-B</td>\n",
       "      <td>...</td>\n",
       "      <td>2011-11-09 08:55:49</td>\n",
       "      <td>2011-11-19 08:55:49</td>\n",
       "      <td>2011-12-01 09:20:03</td>\n",
       "      <td>12.02</td>\n",
       "      <td>Pothole</td>\n",
       "      <td>3.154563e+06</td>\n",
       "      <td>1.381395e+07</td>\n",
       "      <td>29.6805785</td>\n",
       "      <td>-95.26404703</td>\n",
       "      <td>Voice In</td>\n",
       "    </tr>\n",
       "    <tr>\n",
       "      <th>11455803-101000452382</th>\n",
       "      <td>875 LOCKWOOD, HOUSTON TX 77020</td>\n",
       "      <td>HARRIS</td>\n",
       "      <td>B</td>\n",
       "      <td>GREATER FIFTH WARD</td>\n",
       "      <td>0402630000023</td>\n",
       "      <td>NaN</td>\n",
       "      <td>NaN</td>\n",
       "      <td>NaN</td>\n",
       "      <td>NaN</td>\n",
       "      <td>NaN</td>\n",
       "      <td>...</td>\n",
       "      <td>2011-11-09 10:32:12</td>\n",
       "      <td>2011-11-19 10:32:11</td>\n",
       "      <td>2012-01-25 11:25:38</td>\n",
       "      <td>67.04</td>\n",
       "      <td>Pothole</td>\n",
       "      <td>3.136677e+06</td>\n",
       "      <td>1.384265e+07</td>\n",
       "      <td>29.76103454</td>\n",
       "      <td>-95.31750208</td>\n",
       "      <td>Voice In</td>\n",
       "    </tr>\n",
       "    <tr>\n",
       "      <th>11434023-101000452387</th>\n",
       "      <td>875 LOCKWOOD, HOUSTON TX 77020</td>\n",
       "      <td>HARRIS</td>\n",
       "      <td>B</td>\n",
       "      <td>GREATER FIFTH WARD</td>\n",
       "      <td>0402630000023</td>\n",
       "      <td>NaN</td>\n",
       "      <td>NaN</td>\n",
       "      <td>NaN</td>\n",
       "      <td>NaN</td>\n",
       "      <td>NaN</td>\n",
       "      <td>...</td>\n",
       "      <td>2011-11-09 10:35:11</td>\n",
       "      <td>2011-11-19 10:35:10</td>\n",
       "      <td>2011-11-29 12:49:13</td>\n",
       "      <td>10.09</td>\n",
       "      <td>Pothole</td>\n",
       "      <td>3.136677e+06</td>\n",
       "      <td>1.384265e+07</td>\n",
       "      <td>29.76103454</td>\n",
       "      <td>-95.31750208</td>\n",
       "      <td>Voice In</td>\n",
       "    </tr>\n",
       "    <tr>\n",
       "      <th>11434047-101000452444</th>\n",
       "      <td>12501 BRIAR FOREST, HOUSTON TX 77077</td>\n",
       "      <td>HARRIS</td>\n",
       "      <td>G</td>\n",
       "      <td>BRIAR FOREST</td>\n",
       "      <td>0992570020007</td>\n",
       "      <td>NaN</td>\n",
       "      <td>NaN</td>\n",
       "      <td>NaN</td>\n",
       "      <td>NaN</td>\n",
       "      <td>NaN</td>\n",
       "      <td>...</td>\n",
       "      <td>2011-11-09 11:09:56</td>\n",
       "      <td>2011-11-19 11:09:56</td>\n",
       "      <td>2011-11-29 13:00:17</td>\n",
       "      <td>10.08</td>\n",
       "      <td>Pothole</td>\n",
       "      <td>3.046384e+06</td>\n",
       "      <td>1.383720e+07</td>\n",
       "      <td>29.75355695</td>\n",
       "      <td>-95.60246727</td>\n",
       "      <td>Voice In</td>\n",
       "    </tr>\n",
       "  </tbody>\n",
       "</table>\n",
       "<p>5 rows × 28 columns</p>\n",
       "</div>"
      ],
      "text/plain": [
       "                                                             SR LOCATION  \\\n",
       "CASE NUMBER                                                                \n",
       "11433929-101000452108  Intersection 13500 S POST OAK RD & 5400 WILLOM...   \n",
       "11433959-101000452225                      8142 BONNER, HOUSTON TX 77017   \n",
       "11455803-101000452382                     875 LOCKWOOD, HOUSTON TX 77020   \n",
       "11434023-101000452387                     875 LOCKWOOD, HOUSTON TX 77020   \n",
       "11434047-101000452444               12501 BRIAR FOREST, HOUSTON TX 77077   \n",
       "\n",
       "                              COUNTY DISTRICT             NEIGHBORHOOD  \\\n",
       "CASE NUMBER                                                              \n",
       "11433929-101000452108  Harris County        K        CENTRAL SOUTHWEST   \n",
       "11433959-101000452225         HARRIS        I  MEADOWBROOK / ALLENDALE   \n",
       "11455803-101000452382         HARRIS        B       GREATER FIFTH WARD   \n",
       "11434023-101000452387         HARRIS        B       GREATER FIFTH WARD   \n",
       "11434047-101000452444         HARRIS        G             BRIAR FOREST   \n",
       "\n",
       "                              TAX ID TRASH QUAD RECYCLE QUAD TRASH DAY  \\\n",
       "CASE NUMBER                                                              \n",
       "11433929-101000452108            NaN        NaN          NaN       NaN   \n",
       "11433959-101000452225  0591820220008         SE           SE    MONDAY   \n",
       "11455803-101000452382  0402630000023        NaN          NaN       NaN   \n",
       "11434023-101000452387  0402630000023        NaN          NaN       NaN   \n",
       "11434047-101000452444  0992570020007        NaN          NaN       NaN   \n",
       "\n",
       "                      HEAVY TRASH DAY RECYCLE DAY  ...       SR CREATE DATE  \\\n",
       "CASE NUMBER                                        ...                        \n",
       "11433929-101000452108             NaN         NaN  ...  2011-11-09 06:49:13   \n",
       "11433959-101000452225      1st Monday    MONDAY-B  ...  2011-11-09 08:55:49   \n",
       "11455803-101000452382             NaN         NaN  ...  2011-11-09 10:32:12   \n",
       "11434023-101000452387             NaN         NaN  ...  2011-11-09 10:35:11   \n",
       "11434047-101000452444             NaN         NaN  ...  2011-11-09 11:09:56   \n",
       "\n",
       "                                  DUE DATE          DATE CLOSED OVERDUE  \\\n",
       "CASE NUMBER                                                               \n",
       "11433929-101000452108  2011-11-19 06:49:12  2011-11-22 09:26:28    3.11   \n",
       "11433959-101000452225  2011-11-19 08:55:49  2011-12-01 09:20:03   12.02   \n",
       "11455803-101000452382  2011-11-19 10:32:11  2012-01-25 11:25:38   67.04   \n",
       "11434023-101000452387  2011-11-19 10:35:10  2011-11-29 12:49:13   10.09   \n",
       "11434047-101000452444  2011-11-19 11:09:56  2011-11-29 13:00:17   10.08   \n",
       "\n",
       "                         Title             x             y     LATITUDE  \\\n",
       "CASE NUMBER                                                               \n",
       "11433929-101000452108  Pothole  3.091633e+06  1.379371e+07  29.63033251   \n",
       "11433959-101000452225  Pothole  3.154563e+06  1.381395e+07   29.6805785   \n",
       "11455803-101000452382  Pothole  3.136677e+06  1.384265e+07  29.76103454   \n",
       "11434023-101000452387  Pothole  3.136677e+06  1.384265e+07  29.76103454   \n",
       "11434047-101000452444  Pothole  3.046384e+06  1.383720e+07  29.75355695   \n",
       "\n",
       "                          LONGITUDE Channel Type  \n",
       "CASE NUMBER                                       \n",
       "11433929-101000452108  -95.46407063     Voice In  \n",
       "11433959-101000452225  -95.26404703     Voice In  \n",
       "11455803-101000452382  -95.31750208     Voice In  \n",
       "11434023-101000452387  -95.31750208     Voice In  \n",
       "11434047-101000452444  -95.60246727     Voice In  \n",
       "\n",
       "[5 rows x 28 columns]"
      ]
     },
     "execution_count": 26,
     "metadata": {},
     "output_type": "execute_result"
    }
   ],
   "source": [
    "print(pothole_df_scrub.shape)\n",
    "pothole_df_scrub.head()"
   ]
  },
  {
   "cell_type": "markdown",
   "metadata": {},
   "source": [
    "#### Check for the uniqueness of each column"
   ]
  },
  {
   "cell_type": "code",
   "execution_count": 27,
   "metadata": {},
   "outputs": [
    {
     "data": {
      "text/plain": [
       "array(['harris county', 'harris', nan, 'unknown', 'fort bend county',\n",
       "       'fort bend', 'montgomery county', 'montgomery', 'galveston county'],\n",
       "      dtype=object)"
      ]
     },
     "execution_count": 27,
     "metadata": {},
     "output_type": "execute_result"
    }
   ],
   "source": [
    "#Visualize the different forms of the entries of County. Not needed yet but in case this column is needed, can adjust at the time. \n",
    "pothole_df_scrub['COUNTY'].str.lower().unique()"
   ]
  },
  {
   "cell_type": "code",
   "execution_count": 28,
   "metadata": {},
   "outputs": [
    {
     "data": {
      "text/plain": [
       "array(['pwe public works engineering'], dtype=object)"
      ]
     },
     "execution_count": 28,
     "metadata": {},
     "output_type": "execute_result"
    }
   ],
   "source": [
    "pothole_df_scrub.DEPARTMENT.str.lower().unique()"
   ]
  },
  {
   "cell_type": "code",
   "execution_count": 29,
   "metadata": {},
   "outputs": [
    {
     "data": {
      "text/plain": [
       "array(['k', 'i', 'b', 'g', 'unknown', 'f', 'c', 'a', 'j', 'd', 'h', 'e',\n",
       "       nan], dtype=object)"
      ]
     },
     "execution_count": 29,
     "metadata": {},
     "output_type": "execute_result"
    }
   ],
   "source": [
    "pothole_df_scrub.DISTRICT.str.lower().unique()"
   ]
  },
  {
   "cell_type": "code",
   "execution_count": 30,
   "metadata": {},
   "outputs": [
    {
     "data": {
      "text/plain": [
       "array(['pothole', nan, 'pothole - 1362', ..., 'pothole - 426293',\n",
       "       'pothole - 426290', 'pothole - 426289'], dtype=object)"
      ]
     },
     "execution_count": 30,
     "metadata": {},
     "output_type": "execute_result"
    }
   ],
   "source": [
    "pothole_df_scrub.Title.str.lower().unique()"
   ]
  },
  {
   "cell_type": "code",
   "execution_count": 31,
   "metadata": {},
   "outputs": [
    {
     "data": {
      "text/plain": [
       "array(['street and drainage'], dtype=object)"
      ]
     },
     "execution_count": 31,
     "metadata": {},
     "output_type": "execute_result"
    }
   ],
   "source": [
    "pothole_df_scrub.DIVISION.str.lower().unique()"
   ]
  },
  {
   "cell_type": "code",
   "execution_count": 32,
   "metadata": {},
   "outputs": [
    {
     "data": {
      "text/plain": [
       "array([18.])"
      ]
     },
     "execution_count": 32,
     "metadata": {},
     "output_type": "execute_result"
    }
   ],
   "source": [
    "pothole_df_scrub.SLA.unique()"
   ]
  },
  {
   "cell_type": "code",
   "execution_count": 33,
   "metadata": {},
   "outputs": [
    {
     "data": {
      "text/plain": [
       "array(['rowm_streetmain', 'hpw_complaints', 'no queue assigned to user',\n",
       "       'pu_water', 'defectivecase', 'cao_potholerescontact',\n",
       "       '311_helpline'], dtype=object)"
      ]
     },
     "execution_count": 33,
     "metadata": {},
     "output_type": "execute_result"
    }
   ],
   "source": [
    "pothole_df_scrub.QUEUE.str.lower().unique()"
   ]
  },
  {
   "cell_type": "code",
   "execution_count": 34,
   "metadata": {
    "scrolled": true
   },
   "outputs": [
    {
     "data": {
      "text/plain": [
       "array(['central southwest', 'meadowbrook / allendale',\n",
       "       'greater fifth ward', 'briar forest', nan, 'alief',\n",
       "       'meyerland area', 'clinton park tri-community',\n",
       "       'eldridge / west oaks', 'university place', 'greater inwood',\n",
       "       'neartown - montrose', 'trinity / houston gardens', 'unknown',\n",
       "       'sharpstown', 'braeburn', 'westchase', 'spring branch east',\n",
       "       'fairbanks / northwest crossing', 'greater third ward',\n",
       "       'greater eastwood', 'south main', 'central northwest',\n",
       "       'washington avenue coalition / memorial p',\n",
       "       'greenway / upper kirby area', 'south belt / ellington',\n",
       "       'afton oaks / river oaks area', 'golfcrest / bellfort / reveille',\n",
       "       'sunnyside', 'brays oaks', 'addicks park ten', 'midtown',\n",
       "       'clear lake', 'greater heights', 'downtown',\n",
       "       'greater ost / south union', 'acres home', 'greater uptown',\n",
       "       'iah / airport area', 'spring branch central', 'minnetex',\n",
       "       'braeswood', 'denver harbor / port houston', 'northside/northline',\n",
       "       'northside village', 'memorial', 'second ward', 'braeswood place',\n",
       "       'near northside', 'eastex - jensen area', 'fourth ward',\n",
       "       'independence heights', 'langwood', 'south park',\n",
       "       'east little york / homestead', 'pleasantville area',\n",
       "       'gulfgate riverview / pine valley', 'east houston',\n",
       "       'willow meadows / willowbend area', 'fondren gardens',\n",
       "       'spring branch north', 'spring branch west',\n",
       "       'lazy brook / timbergrove', 'el dorado / oates prairie',\n",
       "       'lawndale / wayside', 'edgebrook area', 'mid west',\n",
       "       'kingwood area', 'fort bend houston', 'westbury', 'gulfton',\n",
       "       'fort bend / houston', 'northshore', 'willowbrook', 'macgregor',\n",
       "       'lazybrook / timbergrove', 'westwood', 'settegast',\n",
       "       'greater greenspoint', 'medical center area', 'greater hobby area',\n",
       "       'magnolia park', 'kashmere gardens', 'pecan park',\n",
       "       'south acres / crestmont park', 'astrodome area', 'museum park',\n",
       "       'hidden valley', 'carverdale', 'ost / south union', 'westbranch',\n",
       "       'park place', 'harrisburg / manchester', 'briarforest area',\n",
       "       'lake houston', 'hunterwood'], dtype=object)"
      ]
     },
     "execution_count": 34,
     "metadata": {},
     "output_type": "execute_result"
    }
   ],
   "source": [
    "pothole_df_scrub.NEIGHBORHOOD.str.lower().unique()"
   ]
  },
  {
   "cell_type": "markdown",
   "metadata": {},
   "source": [
    "#### Begin Data Cleaning..."
   ]
  },
  {
   "cell_type": "code",
   "execution_count": 35,
   "metadata": {},
   "outputs": [
    {
     "name": "stdout",
     "output_type": "stream",
     "text": [
      "(61316, 12)\n",
      "Index(['SR LOCATION', 'COUNTY', 'NEIGHBORHOOD', 'SR TYPE', 'QUEUE', 'STATUS',\n",
      "       'SR CREATE DATE', 'DUE DATE', 'DATE CLOSED', 'OVERDUE', 'LATITUDE',\n",
      "       'LONGITUDE'],\n",
      "      dtype='object')\n"
     ]
    }
   ],
   "source": [
    "# Drop extraneous columns and columns filled with a larger percentage of missing values\n",
    "pothole_df_scrubbed = pothole_df_scrub.drop(columns = ['MANAGEMENT DISTRICT','TRASH DAY','RECYCLE DAY','HEAVY TRASH DAY','TRASH QUAD','x','y','Channel Type',\n",
    "                                  'TAX ID','KEY MAP','RECYCLE QUAD','DEPARTMENT','Channel Type','DISTRICT','Title','DIVISION',\n",
    "                                                       'SLA'])\n",
    "print(pothole_df_scrubbed.shape)\n",
    "print(pothole_df_scrubbed.columns)"
   ]
  },
  {
   "cell_type": "markdown",
   "metadata": {},
   "source": [
    "Since Longitude and Latitude are needed for the analysis, if a record does not have that information, it will be dropped"
   ]
  },
  {
   "cell_type": "code",
   "execution_count": 36,
   "metadata": {
    "scrolled": true
   },
   "outputs": [
    {
     "data": {
      "text/plain": [
       "SR LOCATION        object\n",
       "COUNTY             object\n",
       "NEIGHBORHOOD       object\n",
       "SR TYPE            object\n",
       "QUEUE              object\n",
       "STATUS             object\n",
       "SR CREATE DATE     object\n",
       "DUE DATE           object\n",
       "DATE CLOSED        object\n",
       "OVERDUE           float64\n",
       "LATITUDE           object\n",
       "LONGITUDE          object\n",
       "dtype: object"
      ]
     },
     "execution_count": 36,
     "metadata": {},
     "output_type": "execute_result"
    }
   ],
   "source": [
    "#Check types again to make adjustments\n",
    "pothole_df_scrubbed.dtypes"
   ]
  },
  {
   "cell_type": "code",
   "execution_count": 37,
   "metadata": {},
   "outputs": [],
   "source": [
    "#Convert date columns of interest to datetime formats, convert Latitude/Longitude to float\n",
    "pothole_df_scrubbed[['DUE DATE','DATE CLOSED','SR CREATE DATE']] = pothole_df_scrubbed[['DUE DATE','DATE CLOSED','SR CREATE DATE']].astype('datetime64')\n",
    "pothole_df_scrubbed['LONGITUDE'] = pd.to_numeric(pothole_df_scrubbed['LONGITUDE'],errors='coerce')\n",
    "pothole_df_scrubbed['LATITUDE'] = pd.to_numeric(pothole_df_scrubbed['LATITUDE'],errors='coerce')"
   ]
  },
  {
   "cell_type": "code",
   "execution_count": 38,
   "metadata": {
    "scrolled": true
   },
   "outputs": [
    {
     "data": {
      "text/html": [
       "<div>\n",
       "<style scoped>\n",
       "    .dataframe tbody tr th:only-of-type {\n",
       "        vertical-align: middle;\n",
       "    }\n",
       "\n",
       "    .dataframe tbody tr th {\n",
       "        vertical-align: top;\n",
       "    }\n",
       "\n",
       "    .dataframe thead th {\n",
       "        text-align: right;\n",
       "    }\n",
       "</style>\n",
       "<table border=\"1\" class=\"dataframe\">\n",
       "  <thead>\n",
       "    <tr style=\"text-align: right;\">\n",
       "      <th></th>\n",
       "      <th>count</th>\n",
       "      <th>%</th>\n",
       "    </tr>\n",
       "  </thead>\n",
       "  <tbody>\n",
       "    <tr>\n",
       "      <th>LATITUDE</th>\n",
       "      <td>4442</td>\n",
       "      <td>7.244439</td>\n",
       "    </tr>\n",
       "    <tr>\n",
       "      <th>LONGITUDE</th>\n",
       "      <td>4442</td>\n",
       "      <td>7.244439</td>\n",
       "    </tr>\n",
       "    <tr>\n",
       "      <th>COUNTY</th>\n",
       "      <td>3132</td>\n",
       "      <td>5.107965</td>\n",
       "    </tr>\n",
       "    <tr>\n",
       "      <th>NEIGHBORHOOD</th>\n",
       "      <td>1932</td>\n",
       "      <td>3.150890</td>\n",
       "    </tr>\n",
       "    <tr>\n",
       "      <th>SR LOCATION</th>\n",
       "      <td>1534</td>\n",
       "      <td>2.501794</td>\n",
       "    </tr>\n",
       "    <tr>\n",
       "      <th>DATE CLOSED</th>\n",
       "      <td>37</td>\n",
       "      <td>0.060343</td>\n",
       "    </tr>\n",
       "    <tr>\n",
       "      <th>SR TYPE</th>\n",
       "      <td>0</td>\n",
       "      <td>0.000000</td>\n",
       "    </tr>\n",
       "    <tr>\n",
       "      <th>QUEUE</th>\n",
       "      <td>0</td>\n",
       "      <td>0.000000</td>\n",
       "    </tr>\n",
       "    <tr>\n",
       "      <th>STATUS</th>\n",
       "      <td>0</td>\n",
       "      <td>0.000000</td>\n",
       "    </tr>\n",
       "    <tr>\n",
       "      <th>SR CREATE DATE</th>\n",
       "      <td>0</td>\n",
       "      <td>0.000000</td>\n",
       "    </tr>\n",
       "    <tr>\n",
       "      <th>DUE DATE</th>\n",
       "      <td>0</td>\n",
       "      <td>0.000000</td>\n",
       "    </tr>\n",
       "    <tr>\n",
       "      <th>OVERDUE</th>\n",
       "      <td>0</td>\n",
       "      <td>0.000000</td>\n",
       "    </tr>\n",
       "  </tbody>\n",
       "</table>\n",
       "</div>"
      ],
      "text/plain": [
       "                count         %\n",
       "LATITUDE         4442  7.244439\n",
       "LONGITUDE        4442  7.244439\n",
       "COUNTY           3132  5.107965\n",
       "NEIGHBORHOOD     1932  3.150890\n",
       "SR LOCATION      1534  2.501794\n",
       "DATE CLOSED        37  0.060343\n",
       "SR TYPE             0  0.000000\n",
       "QUEUE               0  0.000000\n",
       "STATUS              0  0.000000\n",
       "SR CREATE DATE      0  0.000000\n",
       "DUE DATE            0  0.000000\n",
       "OVERDUE             0  0.000000"
      ]
     },
     "execution_count": 38,
     "metadata": {},
     "output_type": "execute_result"
    }
   ],
   "source": [
    "#Check once again for missing data\n",
    "missing = pd.concat([pothole_df_scrubbed.isnull().sum(), 100 * pothole_df_scrubbed.isnull().mean()], axis=1)\n",
    "missing.columns=['count', '%']\n",
    "missing.sort_values(by='count', ascending=False)"
   ]
  },
  {
   "cell_type": "code",
   "execution_count": 39,
   "metadata": {},
   "outputs": [
    {
     "data": {
      "text/plain": [
       "(56874, 12)"
      ]
     },
     "execution_count": 39,
     "metadata": {},
     "output_type": "execute_result"
    }
   ],
   "source": [
    "#Remove columns where no latitude data is present\n",
    "pothole_df_scrubbed = pothole_df_scrubbed[~pothole_df_scrubbed.LATITUDE.isnull()]\n",
    "pothole_df_scrubbed.shape"
   ]
  },
  {
   "cell_type": "code",
   "execution_count": 40,
   "metadata": {
    "scrolled": true
   },
   "outputs": [
    {
     "data": {
      "text/html": [
       "<div>\n",
       "<style scoped>\n",
       "    .dataframe tbody tr th:only-of-type {\n",
       "        vertical-align: middle;\n",
       "    }\n",
       "\n",
       "    .dataframe tbody tr th {\n",
       "        vertical-align: top;\n",
       "    }\n",
       "\n",
       "    .dataframe thead th {\n",
       "        text-align: right;\n",
       "    }\n",
       "</style>\n",
       "<table border=\"1\" class=\"dataframe\">\n",
       "  <thead>\n",
       "    <tr style=\"text-align: right;\">\n",
       "      <th></th>\n",
       "      <th>count</th>\n",
       "      <th>%</th>\n",
       "    </tr>\n",
       "  </thead>\n",
       "  <tbody>\n",
       "    <tr>\n",
       "      <th>NEIGHBORHOOD</th>\n",
       "      <td>1634</td>\n",
       "      <td>2.873018</td>\n",
       "    </tr>\n",
       "    <tr>\n",
       "      <th>COUNTY</th>\n",
       "      <td>1107</td>\n",
       "      <td>1.946408</td>\n",
       "    </tr>\n",
       "    <tr>\n",
       "      <th>DATE CLOSED</th>\n",
       "      <td>26</td>\n",
       "      <td>0.045715</td>\n",
       "    </tr>\n",
       "    <tr>\n",
       "      <th>SR LOCATION</th>\n",
       "      <td>0</td>\n",
       "      <td>0.000000</td>\n",
       "    </tr>\n",
       "    <tr>\n",
       "      <th>SR TYPE</th>\n",
       "      <td>0</td>\n",
       "      <td>0.000000</td>\n",
       "    </tr>\n",
       "    <tr>\n",
       "      <th>QUEUE</th>\n",
       "      <td>0</td>\n",
       "      <td>0.000000</td>\n",
       "    </tr>\n",
       "    <tr>\n",
       "      <th>STATUS</th>\n",
       "      <td>0</td>\n",
       "      <td>0.000000</td>\n",
       "    </tr>\n",
       "    <tr>\n",
       "      <th>SR CREATE DATE</th>\n",
       "      <td>0</td>\n",
       "      <td>0.000000</td>\n",
       "    </tr>\n",
       "    <tr>\n",
       "      <th>DUE DATE</th>\n",
       "      <td>0</td>\n",
       "      <td>0.000000</td>\n",
       "    </tr>\n",
       "    <tr>\n",
       "      <th>OVERDUE</th>\n",
       "      <td>0</td>\n",
       "      <td>0.000000</td>\n",
       "    </tr>\n",
       "    <tr>\n",
       "      <th>LATITUDE</th>\n",
       "      <td>0</td>\n",
       "      <td>0.000000</td>\n",
       "    </tr>\n",
       "    <tr>\n",
       "      <th>LONGITUDE</th>\n",
       "      <td>0</td>\n",
       "      <td>0.000000</td>\n",
       "    </tr>\n",
       "  </tbody>\n",
       "</table>\n",
       "</div>"
      ],
      "text/plain": [
       "                count         %\n",
       "NEIGHBORHOOD     1634  2.873018\n",
       "COUNTY           1107  1.946408\n",
       "DATE CLOSED        26  0.045715\n",
       "SR LOCATION         0  0.000000\n",
       "SR TYPE             0  0.000000\n",
       "QUEUE               0  0.000000\n",
       "STATUS              0  0.000000\n",
       "SR CREATE DATE      0  0.000000\n",
       "DUE DATE            0  0.000000\n",
       "OVERDUE             0  0.000000\n",
       "LATITUDE            0  0.000000\n",
       "LONGITUDE           0  0.000000"
      ]
     },
     "execution_count": 40,
     "metadata": {},
     "output_type": "execute_result"
    }
   ],
   "source": [
    "#Re-check columns for missing data\n",
    "missing = pd.concat([pothole_df_scrubbed.isnull().sum(), 100 * pothole_df_scrubbed.isnull().mean()], axis=1)\n",
    "missing.columns=['count', '%']\n",
    "missing.sort_values(by='count', ascending=False)"
   ]
  },
  {
   "cell_type": "code",
   "execution_count": 41,
   "metadata": {},
   "outputs": [
    {
     "data": {
      "text/plain": [
       "(56874, 12)"
      ]
     },
     "execution_count": 41,
     "metadata": {},
     "output_type": "execute_result"
    }
   ],
   "source": [
    "pothole_df_scrubbed.shape"
   ]
  },
  {
   "cell_type": "markdown",
   "metadata": {},
   "source": [
    "The rest of the null values in neighborhood, SR Location, County, and Date Closed won't affect the occurrences of the pothole so they can be left in but noted. If their values are needed, they can be identified later from the longitude and latitude. "
   ]
  },
  {
   "cell_type": "code",
   "execution_count": 42,
   "metadata": {
    "scrolled": true
   },
   "outputs": [
    {
     "data": {
      "text/plain": [
       "SR LOCATION               object\n",
       "COUNTY                    object\n",
       "NEIGHBORHOOD              object\n",
       "SR TYPE                   object\n",
       "QUEUE                     object\n",
       "STATUS                    object\n",
       "SR CREATE DATE    datetime64[ns]\n",
       "DUE DATE          datetime64[ns]\n",
       "DATE CLOSED       datetime64[ns]\n",
       "OVERDUE                  float64\n",
       "LATITUDE                 float64\n",
       "LONGITUDE                float64\n",
       "dtype: object"
      ]
     },
     "execution_count": 42,
     "metadata": {},
     "output_type": "execute_result"
    }
   ],
   "source": [
    "pothole_df_scrubbed.dtypes"
   ]
  },
  {
   "cell_type": "code",
   "execution_count": 43,
   "metadata": {
    "scrolled": true
   },
   "outputs": [
    {
     "name": "stdout",
     "output_type": "stream",
     "text": [
      "<class 'pandas.core.frame.DataFrame'>\n",
      "Index: 56874 entries, 11433929-101000452108 to 12445778-101004385862\n",
      "Data columns (total 12 columns):\n",
      " #   Column          Non-Null Count  Dtype         \n",
      "---  ------          --------------  -----         \n",
      " 0   SR LOCATION     56874 non-null  object        \n",
      " 1   COUNTY          55767 non-null  object        \n",
      " 2   NEIGHBORHOOD    55240 non-null  object        \n",
      " 3   SR TYPE         56874 non-null  object        \n",
      " 4   QUEUE           56874 non-null  object        \n",
      " 5   STATUS          56874 non-null  object        \n",
      " 6   SR CREATE DATE  56874 non-null  datetime64[ns]\n",
      " 7   DUE DATE        56874 non-null  datetime64[ns]\n",
      " 8   DATE CLOSED     56848 non-null  datetime64[ns]\n",
      " 9   OVERDUE         56874 non-null  float64       \n",
      " 10  LATITUDE        56874 non-null  float64       \n",
      " 11  LONGITUDE       56874 non-null  float64       \n",
      "dtypes: datetime64[ns](3), float64(3), object(6)\n",
      "memory usage: 5.6+ MB\n"
     ]
    }
   ],
   "source": [
    "# Review CLeaned Data\n",
    "pothole_df_scrubbed.info()"
   ]
  },
  {
   "cell_type": "code",
   "execution_count": 73,
   "metadata": {},
   "outputs": [
    {
     "data": {
      "text/html": [
       "<div>\n",
       "<style scoped>\n",
       "    .dataframe tbody tr th:only-of-type {\n",
       "        vertical-align: middle;\n",
       "    }\n",
       "\n",
       "    .dataframe tbody tr th {\n",
       "        vertical-align: top;\n",
       "    }\n",
       "\n",
       "    .dataframe thead th {\n",
       "        text-align: right;\n",
       "    }\n",
       "</style>\n",
       "<table border=\"1\" class=\"dataframe\">\n",
       "  <thead>\n",
       "    <tr style=\"text-align: right;\">\n",
       "      <th></th>\n",
       "      <th>SR LOCATION</th>\n",
       "      <th>COUNTY</th>\n",
       "      <th>NEIGHBORHOOD</th>\n",
       "      <th>SR TYPE</th>\n",
       "      <th>QUEUE</th>\n",
       "      <th>STATUS</th>\n",
       "      <th>SR CREATE DATE</th>\n",
       "      <th>DUE DATE</th>\n",
       "      <th>DATE CLOSED</th>\n",
       "      <th>OVERDUE</th>\n",
       "      <th>LATITUDE</th>\n",
       "      <th>LONGITUDE</th>\n",
       "      <th>CREATION DATE</th>\n",
       "      <th>DATE</th>\n",
       "    </tr>\n",
       "    <tr>\n",
       "      <th>CASE NUMBER</th>\n",
       "      <th></th>\n",
       "      <th></th>\n",
       "      <th></th>\n",
       "      <th></th>\n",
       "      <th></th>\n",
       "      <th></th>\n",
       "      <th></th>\n",
       "      <th></th>\n",
       "      <th></th>\n",
       "      <th></th>\n",
       "      <th></th>\n",
       "      <th></th>\n",
       "      <th></th>\n",
       "      <th></th>\n",
       "    </tr>\n",
       "  </thead>\n",
       "  <tbody>\n",
       "    <tr>\n",
       "      <th>11433929-101000452108</th>\n",
       "      <td>Intersection 13500 S POST OAK RD &amp; 5400 WILLOM...</td>\n",
       "      <td>Harris County</td>\n",
       "      <td>CENTRAL SOUTHWEST</td>\n",
       "      <td>Pothole</td>\n",
       "      <td>ROWM_StreetMain</td>\n",
       "      <td>Closed</td>\n",
       "      <td>2011-11-09 06:49:13</td>\n",
       "      <td>2011-11-19 06:49:12</td>\n",
       "      <td>2011-11-22 09:26:28</td>\n",
       "      <td>3.11</td>\n",
       "      <td>29.630333</td>\n",
       "      <td>-95.464071</td>\n",
       "      <td>2011-11-09</td>\n",
       "      <td>2011-11-09</td>\n",
       "    </tr>\n",
       "    <tr>\n",
       "      <th>11433959-101000452225</th>\n",
       "      <td>8142 BONNER, HOUSTON TX 77017</td>\n",
       "      <td>HARRIS</td>\n",
       "      <td>MEADOWBROOK / ALLENDALE</td>\n",
       "      <td>Pothole</td>\n",
       "      <td>ROWM_StreetMain</td>\n",
       "      <td>Closed</td>\n",
       "      <td>2011-11-09 08:55:49</td>\n",
       "      <td>2011-11-19 08:55:49</td>\n",
       "      <td>2011-12-01 09:20:03</td>\n",
       "      <td>12.02</td>\n",
       "      <td>29.680578</td>\n",
       "      <td>-95.264047</td>\n",
       "      <td>2011-11-09</td>\n",
       "      <td>2011-11-09</td>\n",
       "    </tr>\n",
       "    <tr>\n",
       "      <th>11455803-101000452382</th>\n",
       "      <td>875 LOCKWOOD, HOUSTON TX 77020</td>\n",
       "      <td>HARRIS</td>\n",
       "      <td>GREATER FIFTH WARD</td>\n",
       "      <td>Pothole</td>\n",
       "      <td>ROWM_StreetMain</td>\n",
       "      <td>Closed</td>\n",
       "      <td>2011-11-09 10:32:12</td>\n",
       "      <td>2011-11-19 10:32:11</td>\n",
       "      <td>2012-01-25 11:25:38</td>\n",
       "      <td>67.04</td>\n",
       "      <td>29.761035</td>\n",
       "      <td>-95.317502</td>\n",
       "      <td>2011-11-09</td>\n",
       "      <td>2011-11-09</td>\n",
       "    </tr>\n",
       "    <tr>\n",
       "      <th>11434023-101000452387</th>\n",
       "      <td>875 LOCKWOOD, HOUSTON TX 77020</td>\n",
       "      <td>HARRIS</td>\n",
       "      <td>GREATER FIFTH WARD</td>\n",
       "      <td>Pothole</td>\n",
       "      <td>ROWM_StreetMain</td>\n",
       "      <td>Closed</td>\n",
       "      <td>2011-11-09 10:35:11</td>\n",
       "      <td>2011-11-19 10:35:10</td>\n",
       "      <td>2011-11-29 12:49:13</td>\n",
       "      <td>10.09</td>\n",
       "      <td>29.761035</td>\n",
       "      <td>-95.317502</td>\n",
       "      <td>2011-11-09</td>\n",
       "      <td>2011-11-09</td>\n",
       "    </tr>\n",
       "    <tr>\n",
       "      <th>11434047-101000452444</th>\n",
       "      <td>12501 BRIAR FOREST, HOUSTON TX 77077</td>\n",
       "      <td>HARRIS</td>\n",
       "      <td>BRIAR FOREST</td>\n",
       "      <td>Pothole</td>\n",
       "      <td>ROWM_StreetMain</td>\n",
       "      <td>Closed</td>\n",
       "      <td>2011-11-09 11:09:56</td>\n",
       "      <td>2011-11-19 11:09:56</td>\n",
       "      <td>2011-11-29 13:00:17</td>\n",
       "      <td>10.08</td>\n",
       "      <td>29.753557</td>\n",
       "      <td>-95.602467</td>\n",
       "      <td>2011-11-09</td>\n",
       "      <td>2011-11-09</td>\n",
       "    </tr>\n",
       "  </tbody>\n",
       "</table>\n",
       "</div>"
      ],
      "text/plain": [
       "                                                             SR LOCATION  \\\n",
       "CASE NUMBER                                                                \n",
       "11433929-101000452108  Intersection 13500 S POST OAK RD & 5400 WILLOM...   \n",
       "11433959-101000452225                      8142 BONNER, HOUSTON TX 77017   \n",
       "11455803-101000452382                     875 LOCKWOOD, HOUSTON TX 77020   \n",
       "11434023-101000452387                     875 LOCKWOOD, HOUSTON TX 77020   \n",
       "11434047-101000452444               12501 BRIAR FOREST, HOUSTON TX 77077   \n",
       "\n",
       "                              COUNTY             NEIGHBORHOOD  SR TYPE  \\\n",
       "CASE NUMBER                                                              \n",
       "11433929-101000452108  Harris County        CENTRAL SOUTHWEST  Pothole   \n",
       "11433959-101000452225         HARRIS  MEADOWBROOK / ALLENDALE  Pothole   \n",
       "11455803-101000452382         HARRIS       GREATER FIFTH WARD  Pothole   \n",
       "11434023-101000452387         HARRIS       GREATER FIFTH WARD  Pothole   \n",
       "11434047-101000452444         HARRIS             BRIAR FOREST  Pothole   \n",
       "\n",
       "                                 QUEUE  STATUS      SR CREATE DATE  \\\n",
       "CASE NUMBER                                                          \n",
       "11433929-101000452108  ROWM_StreetMain  Closed 2011-11-09 06:49:13   \n",
       "11433959-101000452225  ROWM_StreetMain  Closed 2011-11-09 08:55:49   \n",
       "11455803-101000452382  ROWM_StreetMain  Closed 2011-11-09 10:32:12   \n",
       "11434023-101000452387  ROWM_StreetMain  Closed 2011-11-09 10:35:11   \n",
       "11434047-101000452444  ROWM_StreetMain  Closed 2011-11-09 11:09:56   \n",
       "\n",
       "                                 DUE DATE         DATE CLOSED  OVERDUE  \\\n",
       "CASE NUMBER                                                              \n",
       "11433929-101000452108 2011-11-19 06:49:12 2011-11-22 09:26:28     3.11   \n",
       "11433959-101000452225 2011-11-19 08:55:49 2011-12-01 09:20:03    12.02   \n",
       "11455803-101000452382 2011-11-19 10:32:11 2012-01-25 11:25:38    67.04   \n",
       "11434023-101000452387 2011-11-19 10:35:10 2011-11-29 12:49:13    10.09   \n",
       "11434047-101000452444 2011-11-19 11:09:56 2011-11-29 13:00:17    10.08   \n",
       "\n",
       "                        LATITUDE  LONGITUDE CREATION DATE        DATE  \n",
       "CASE NUMBER                                                            \n",
       "11433929-101000452108  29.630333 -95.464071    2011-11-09  2011-11-09  \n",
       "11433959-101000452225  29.680578 -95.264047    2011-11-09  2011-11-09  \n",
       "11455803-101000452382  29.761035 -95.317502    2011-11-09  2011-11-09  \n",
       "11434023-101000452387  29.761035 -95.317502    2011-11-09  2011-11-09  \n",
       "11434047-101000452444  29.753557 -95.602467    2011-11-09  2011-11-09  "
      ]
     },
     "execution_count": 73,
     "metadata": {},
     "output_type": "execute_result"
    }
   ],
   "source": [
    "#Create date column that is just the date of SR Create Data without time\n",
    "pothole_df_scrubbed['DATE'] = pothole_df_scrubbed['SR CREATE DATE'].dt.date\n",
    "pothole_df_scrubbed.head()"
   ]
  },
  {
   "cell_type": "code",
   "execution_count": 74,
   "metadata": {},
   "outputs": [
    {
     "data": {
      "text/plain": [
       "3253"
      ]
     },
     "execution_count": 74,
     "metadata": {},
     "output_type": "execute_result"
    }
   ],
   "source": [
    "#Groupby Date to view data and SR Create count\n",
    "pothole_grouped = pothole_df_scrubbed.groupby('DATE')['SR CREATE DATE'].count()\n",
    "len(pothole_grouped)"
   ]
  },
  {
   "cell_type": "code",
   "execution_count": 87,
   "metadata": {},
   "outputs": [
    {
     "data": {
      "text/plain": [
       "DATE\n",
       "2016-01-14    234\n",
       "2016-01-13    213\n",
       "2016-01-19    211\n",
       "2016-01-20    180\n",
       "2016-03-12    168\n",
       "Name: SR CREATE DATE, dtype: int64"
      ]
     },
     "execution_count": 87,
     "metadata": {},
     "output_type": "execute_result"
    }
   ],
   "source": [
    "#Check for the max number of SR's created in a day\n",
    "pothole_grouped.sort_values(ascending=False).head()"
   ]
  },
  {
   "cell_type": "code",
   "execution_count": 76,
   "metadata": {},
   "outputs": [
    {
     "data": {
      "text/plain": [
       "DATE\n",
       "2020-10-29    15\n",
       "2020-10-30    10\n",
       "2020-10-31     4\n",
       "2020-11-01    10\n",
       "2020-11-02    21\n",
       "Name: SR CREATE DATE, dtype: int64"
      ]
     },
     "execution_count": 76,
     "metadata": {},
     "output_type": "execute_result"
    }
   ],
   "source": [
    "pothole_grouped.tail()"
   ]
  },
  {
   "cell_type": "markdown",
   "metadata": {},
   "source": [
    "### Exploring the Data (Weather)"
   ]
  },
  {
   "cell_type": "code",
   "execution_count": 77,
   "metadata": {},
   "outputs": [
    {
     "data": {
      "text/html": [
       "<div>\n",
       "<style scoped>\n",
       "    .dataframe tbody tr th:only-of-type {\n",
       "        vertical-align: middle;\n",
       "    }\n",
       "\n",
       "    .dataframe tbody tr th {\n",
       "        vertical-align: top;\n",
       "    }\n",
       "\n",
       "    .dataframe thead th {\n",
       "        text-align: right;\n",
       "    }\n",
       "</style>\n",
       "<table border=\"1\" class=\"dataframe\">\n",
       "  <thead>\n",
       "    <tr style=\"text-align: right;\">\n",
       "      <th></th>\n",
       "      <th>STATION</th>\n",
       "      <th>DATE</th>\n",
       "      <th>PRCP</th>\n",
       "      <th>TAVG</th>\n",
       "      <th>TMAX</th>\n",
       "      <th>TMIN</th>\n",
       "      <th>TOBS</th>\n",
       "    </tr>\n",
       "  </thead>\n",
       "  <tbody>\n",
       "    <tr>\n",
       "      <th>0</th>\n",
       "      <td>USC00414327</td>\n",
       "      <td>2011-01-01</td>\n",
       "      <td>0.00</td>\n",
       "      <td>NaN</td>\n",
       "      <td>NaN</td>\n",
       "      <td>NaN</td>\n",
       "      <td>NaN</td>\n",
       "    </tr>\n",
       "    <tr>\n",
       "      <th>1</th>\n",
       "      <td>USC00414327</td>\n",
       "      <td>2011-01-02</td>\n",
       "      <td>0.00</td>\n",
       "      <td>NaN</td>\n",
       "      <td>NaN</td>\n",
       "      <td>NaN</td>\n",
       "      <td>NaN</td>\n",
       "    </tr>\n",
       "    <tr>\n",
       "      <th>2</th>\n",
       "      <td>USC00414327</td>\n",
       "      <td>2011-01-03</td>\n",
       "      <td>0.00</td>\n",
       "      <td>NaN</td>\n",
       "      <td>NaN</td>\n",
       "      <td>NaN</td>\n",
       "      <td>NaN</td>\n",
       "    </tr>\n",
       "    <tr>\n",
       "      <th>3</th>\n",
       "      <td>USC00414327</td>\n",
       "      <td>2011-01-04</td>\n",
       "      <td>0.00</td>\n",
       "      <td>NaN</td>\n",
       "      <td>NaN</td>\n",
       "      <td>NaN</td>\n",
       "      <td>NaN</td>\n",
       "    </tr>\n",
       "    <tr>\n",
       "      <th>4</th>\n",
       "      <td>USC00414327</td>\n",
       "      <td>2011-01-05</td>\n",
       "      <td>1.14</td>\n",
       "      <td>NaN</td>\n",
       "      <td>NaN</td>\n",
       "      <td>NaN</td>\n",
       "      <td>NaN</td>\n",
       "    </tr>\n",
       "  </tbody>\n",
       "</table>\n",
       "</div>"
      ],
      "text/plain": [
       "       STATION       DATE  PRCP  TAVG  TMAX  TMIN  TOBS\n",
       "0  USC00414327 2011-01-01  0.00   NaN   NaN   NaN   NaN\n",
       "1  USC00414327 2011-01-02  0.00   NaN   NaN   NaN   NaN\n",
       "2  USC00414327 2011-01-03  0.00   NaN   NaN   NaN   NaN\n",
       "3  USC00414327 2011-01-04  0.00   NaN   NaN   NaN   NaN\n",
       "4  USC00414327 2011-01-05  1.14   NaN   NaN   NaN   NaN"
      ]
     },
     "execution_count": 77,
     "metadata": {},
     "output_type": "execute_result"
    }
   ],
   "source": [
    "weather_total_df_raw.head()"
   ]
  },
  {
   "cell_type": "markdown",
   "metadata": {},
   "source": [
    "#### Description of channels\n",
    "\n",
    "* Station: One of the weather station from around the Houston area\n",
    "* Date: Date\n",
    "* PRCP: Precipitation for the day (inches)\n",
    "* TAVG: Average Temperature (F)\n",
    "* TMAX: Max Temperature (F)\n",
    "* TMIN: Min Temperature (F)\n",
    "* TOBS: Temperature at time of Observations (F)\n",
    "\n",
    "** Note that not all stations took all 3 measurements and that stations are spread around Houston"
   ]
  },
  {
   "cell_type": "code",
   "execution_count": 78,
   "metadata": {},
   "outputs": [
    {
     "data": {
      "text/plain": [
       "(64445, 7)"
      ]
     },
     "execution_count": 78,
     "metadata": {},
     "output_type": "execute_result"
    }
   ],
   "source": [
    "#Check shape of weather df\n",
    "weather_total_df_raw.shape"
   ]
  },
  {
   "cell_type": "code",
   "execution_count": 79,
   "metadata": {},
   "outputs": [
    {
     "data": {
      "text/html": [
       "<div>\n",
       "<style scoped>\n",
       "    .dataframe tbody tr th:only-of-type {\n",
       "        vertical-align: middle;\n",
       "    }\n",
       "\n",
       "    .dataframe tbody tr th {\n",
       "        vertical-align: top;\n",
       "    }\n",
       "\n",
       "    .dataframe thead th {\n",
       "        text-align: right;\n",
       "    }\n",
       "</style>\n",
       "<table border=\"1\" class=\"dataframe\">\n",
       "  <thead>\n",
       "    <tr style=\"text-align: right;\">\n",
       "      <th></th>\n",
       "      <th>PRCP</th>\n",
       "      <th>TAVG</th>\n",
       "      <th>TMAX</th>\n",
       "      <th>TMIN</th>\n",
       "      <th>TOBS</th>\n",
       "    </tr>\n",
       "  </thead>\n",
       "  <tbody>\n",
       "    <tr>\n",
       "      <th>count</th>\n",
       "      <td>64445.000000</td>\n",
       "      <td>7556.000000</td>\n",
       "      <td>32490.000000</td>\n",
       "      <td>32493.000000</td>\n",
       "      <td>7176.000000</td>\n",
       "    </tr>\n",
       "    <tr>\n",
       "      <th>mean</th>\n",
       "      <td>0.144633</td>\n",
       "      <td>63.273293</td>\n",
       "      <td>74.040166</td>\n",
       "      <td>54.319515</td>\n",
       "      <td>57.399666</td>\n",
       "    </tr>\n",
       "    <tr>\n",
       "      <th>std</th>\n",
       "      <td>0.528854</td>\n",
       "      <td>19.270510</td>\n",
       "      <td>18.631504</td>\n",
       "      <td>19.339048</td>\n",
       "      <td>19.361342</td>\n",
       "    </tr>\n",
       "    <tr>\n",
       "      <th>min</th>\n",
       "      <td>0.000000</td>\n",
       "      <td>-26.000000</td>\n",
       "      <td>-15.000000</td>\n",
       "      <td>-43.000000</td>\n",
       "      <td>-32.000000</td>\n",
       "    </tr>\n",
       "    <tr>\n",
       "      <th>25%</th>\n",
       "      <td>0.000000</td>\n",
       "      <td>52.000000</td>\n",
       "      <td>64.000000</td>\n",
       "      <td>42.000000</td>\n",
       "      <td>46.000000</td>\n",
       "    </tr>\n",
       "    <tr>\n",
       "      <th>50%</th>\n",
       "      <td>0.000000</td>\n",
       "      <td>67.000000</td>\n",
       "      <td>78.000000</td>\n",
       "      <td>57.000000</td>\n",
       "      <td>61.000000</td>\n",
       "    </tr>\n",
       "    <tr>\n",
       "      <th>75%</th>\n",
       "      <td>0.030000</td>\n",
       "      <td>79.000000</td>\n",
       "      <td>89.000000</td>\n",
       "      <td>71.000000</td>\n",
       "      <td>73.000000</td>\n",
       "    </tr>\n",
       "    <tr>\n",
       "      <th>max</th>\n",
       "      <td>19.140000</td>\n",
       "      <td>91.000000</td>\n",
       "      <td>109.000000</td>\n",
       "      <td>85.000000</td>\n",
       "      <td>87.000000</td>\n",
       "    </tr>\n",
       "  </tbody>\n",
       "</table>\n",
       "</div>"
      ],
      "text/plain": [
       "               PRCP         TAVG          TMAX          TMIN         TOBS\n",
       "count  64445.000000  7556.000000  32490.000000  32493.000000  7176.000000\n",
       "mean       0.144633    63.273293     74.040166     54.319515    57.399666\n",
       "std        0.528854    19.270510     18.631504     19.339048    19.361342\n",
       "min        0.000000   -26.000000    -15.000000    -43.000000   -32.000000\n",
       "25%        0.000000    52.000000     64.000000     42.000000    46.000000\n",
       "50%        0.000000    67.000000     78.000000     57.000000    61.000000\n",
       "75%        0.030000    79.000000     89.000000     71.000000    73.000000\n",
       "max       19.140000    91.000000    109.000000     85.000000    87.000000"
      ]
     },
     "execution_count": 79,
     "metadata": {},
     "output_type": "execute_result"
    }
   ],
   "source": [
    "weather_total_df_raw.describe()"
   ]
  },
  {
   "cell_type": "code",
   "execution_count": 80,
   "metadata": {},
   "outputs": [
    {
     "data": {
      "text/plain": [
       "STATION            object\n",
       "DATE       datetime64[ns]\n",
       "PRCP              float64\n",
       "TAVG              float64\n",
       "TMAX              float64\n",
       "TMIN              float64\n",
       "TOBS              float64\n",
       "dtype: object"
      ]
     },
     "execution_count": 80,
     "metadata": {},
     "output_type": "execute_result"
    }
   ],
   "source": [
    "weather_total_df_raw.dtypes"
   ]
  },
  {
   "cell_type": "code",
   "execution_count": 81,
   "metadata": {},
   "outputs": [
    {
     "data": {
      "text/html": [
       "<div>\n",
       "<style scoped>\n",
       "    .dataframe tbody tr th:only-of-type {\n",
       "        vertical-align: middle;\n",
       "    }\n",
       "\n",
       "    .dataframe tbody tr th {\n",
       "        vertical-align: top;\n",
       "    }\n",
       "\n",
       "    .dataframe thead th {\n",
       "        text-align: right;\n",
       "    }\n",
       "</style>\n",
       "<table border=\"1\" class=\"dataframe\">\n",
       "  <thead>\n",
       "    <tr style=\"text-align: right;\">\n",
       "      <th></th>\n",
       "      <th>count</th>\n",
       "      <th>%</th>\n",
       "    </tr>\n",
       "  </thead>\n",
       "  <tbody>\n",
       "    <tr>\n",
       "      <th>TOBS</th>\n",
       "      <td>57269</td>\n",
       "      <td>88.864924</td>\n",
       "    </tr>\n",
       "    <tr>\n",
       "      <th>TAVG</th>\n",
       "      <td>56889</td>\n",
       "      <td>88.275273</td>\n",
       "    </tr>\n",
       "    <tr>\n",
       "      <th>TMAX</th>\n",
       "      <td>31955</td>\n",
       "      <td>49.584917</td>\n",
       "    </tr>\n",
       "    <tr>\n",
       "      <th>TMIN</th>\n",
       "      <td>31952</td>\n",
       "      <td>49.580262</td>\n",
       "    </tr>\n",
       "    <tr>\n",
       "      <th>STATION</th>\n",
       "      <td>0</td>\n",
       "      <td>0.000000</td>\n",
       "    </tr>\n",
       "    <tr>\n",
       "      <th>DATE</th>\n",
       "      <td>0</td>\n",
       "      <td>0.000000</td>\n",
       "    </tr>\n",
       "    <tr>\n",
       "      <th>PRCP</th>\n",
       "      <td>0</td>\n",
       "      <td>0.000000</td>\n",
       "    </tr>\n",
       "  </tbody>\n",
       "</table>\n",
       "</div>"
      ],
      "text/plain": [
       "         count          %\n",
       "TOBS     57269  88.864924\n",
       "TAVG     56889  88.275273\n",
       "TMAX     31955  49.584917\n",
       "TMIN     31952  49.580262\n",
       "STATION      0   0.000000\n",
       "DATE         0   0.000000\n",
       "PRCP         0   0.000000"
      ]
     },
     "execution_count": 81,
     "metadata": {},
     "output_type": "execute_result"
    }
   ],
   "source": [
    "# Find all missing values in the weather df\n",
    "missing = pd.concat([weather_total_df_raw.isnull().sum(), 100 * weather_total_df_raw.isnull().mean()], axis=1)\n",
    "missing.columns=['count', '%']\n",
    "missing.sort_values(by='count', ascending=False)"
   ]
  },
  {
   "cell_type": "code",
   "execution_count": 82,
   "metadata": {},
   "outputs": [
    {
     "data": {
      "text/plain": [
       "0.00     45539\n",
       "0.01      1454\n",
       "0.02      1338\n",
       "0.03       911\n",
       "0.04       735\n",
       "         ...  \n",
       "4.09         1\n",
       "6.23         1\n",
       "4.19         1\n",
       "12.07        1\n",
       "4.31         1\n",
       "Name: PRCP, Length: 536, dtype: int64"
      ]
     },
     "execution_count": 82,
     "metadata": {},
     "output_type": "execute_result"
    }
   ],
   "source": [
    "#Check for the largest count of values. With most days showing no rain based on the results. \n",
    "weather_total_df_raw.PRCP.value_counts()"
   ]
  },
  {
   "cell_type": "markdown",
   "metadata": {},
   "source": [
    "#### Begin Data Cleaning..."
   ]
  },
  {
   "cell_type": "code",
   "execution_count": 57,
   "metadata": {},
   "outputs": [],
   "source": [
    "#Rather than drop the value of null precipiation, will fill in with 0 as this will show no precipiation for that day\n",
    "#rather than removing the day all together\n",
    "weather_df_scrub = weather_total_df_raw\n",
    "weather_df_scrub['DATE'] = weather_df_scrub['DATE'].astype('datetime64')\n",
    "weather_df_scrub.PRCP = weather_total_df_raw.PRCP.fillna(value = 0)"
   ]
  },
  {
   "cell_type": "code",
   "execution_count": 58,
   "metadata": {},
   "outputs": [
    {
     "data": {
      "text/plain": [
       "STATION            object\n",
       "DATE       datetime64[ns]\n",
       "PRCP              float64\n",
       "TAVG              float64\n",
       "TMAX              float64\n",
       "TMIN              float64\n",
       "TOBS              float64\n",
       "dtype: object"
      ]
     },
     "execution_count": 58,
     "metadata": {},
     "output_type": "execute_result"
    }
   ],
   "source": [
    "weather_df_scrub.dtypes"
   ]
  },
  {
   "cell_type": "code",
   "execution_count": 59,
   "metadata": {},
   "outputs": [
    {
     "data": {
      "text/html": [
       "<div>\n",
       "<style scoped>\n",
       "    .dataframe tbody tr th:only-of-type {\n",
       "        vertical-align: middle;\n",
       "    }\n",
       "\n",
       "    .dataframe tbody tr th {\n",
       "        vertical-align: top;\n",
       "    }\n",
       "\n",
       "    .dataframe thead th {\n",
       "        text-align: right;\n",
       "    }\n",
       "</style>\n",
       "<table border=\"1\" class=\"dataframe\">\n",
       "  <thead>\n",
       "    <tr style=\"text-align: right;\">\n",
       "      <th></th>\n",
       "      <th>count</th>\n",
       "      <th>%</th>\n",
       "    </tr>\n",
       "  </thead>\n",
       "  <tbody>\n",
       "    <tr>\n",
       "      <th>TOBS</th>\n",
       "      <td>57269</td>\n",
       "      <td>88.864924</td>\n",
       "    </tr>\n",
       "    <tr>\n",
       "      <th>TAVG</th>\n",
       "      <td>56889</td>\n",
       "      <td>88.275273</td>\n",
       "    </tr>\n",
       "    <tr>\n",
       "      <th>TMAX</th>\n",
       "      <td>31955</td>\n",
       "      <td>49.584917</td>\n",
       "    </tr>\n",
       "    <tr>\n",
       "      <th>TMIN</th>\n",
       "      <td>31952</td>\n",
       "      <td>49.580262</td>\n",
       "    </tr>\n",
       "    <tr>\n",
       "      <th>STATION</th>\n",
       "      <td>0</td>\n",
       "      <td>0.000000</td>\n",
       "    </tr>\n",
       "    <tr>\n",
       "      <th>DATE</th>\n",
       "      <td>0</td>\n",
       "      <td>0.000000</td>\n",
       "    </tr>\n",
       "    <tr>\n",
       "      <th>PRCP</th>\n",
       "      <td>0</td>\n",
       "      <td>0.000000</td>\n",
       "    </tr>\n",
       "  </tbody>\n",
       "</table>\n",
       "</div>"
      ],
      "text/plain": [
       "         count          %\n",
       "TOBS     57269  88.864924\n",
       "TAVG     56889  88.275273\n",
       "TMAX     31955  49.584917\n",
       "TMIN     31952  49.580262\n",
       "STATION      0   0.000000\n",
       "DATE         0   0.000000\n",
       "PRCP         0   0.000000"
      ]
     },
     "execution_count": 59,
     "metadata": {},
     "output_type": "execute_result"
    }
   ],
   "source": [
    "missing = pd.concat([weather_df_scrub.isnull().sum(), 100 * weather_df_scrub.isnull().mean()], axis=1)\n",
    "missing.columns=['count', '%']\n",
    "missing.sort_values(by='count', ascending=False)"
   ]
  },
  {
   "cell_type": "markdown",
   "metadata": {},
   "source": [
    "While it appears there is more missing data for TOBS and TAVG, it is important to note that not all stations had all readings taken. For stations that did not have a value for TOBS and TAVG, the other stations average will be substituted for it"
   ]
  },
  {
   "cell_type": "code",
   "execution_count": 60,
   "metadata": {},
   "outputs": [
    {
     "data": {
      "text/plain": [
       "array(['USC00414327', 'US1ARPY0002', 'USC00224265', 'USW00012977',\n",
       "       'US1MOFSA215', 'CA001073615', 'US1MOTX0041', 'US1TXHRR176',\n",
       "       'USC00234019', 'US1MOTX0007', 'USW00053910', 'US1TXHRR147',\n",
       "       'USC00414325', 'US1TXHRR165', 'USC00503731', 'US1TXHRR269',\n",
       "       'USW00012918', 'US1OHSH0011', 'USC00414333', 'US1MOTX0040',\n",
       "       'US1TXHRR209', 'USW00012960', 'USW00012975', 'US1TXHRR232'],\n",
       "      dtype=object)"
      ]
     },
     "execution_count": 60,
     "metadata": {},
     "output_type": "execute_result"
    }
   ],
   "source": [
    "weather_df_scrub.STATION.unique()"
   ]
  },
  {
   "cell_type": "code",
   "execution_count": 61,
   "metadata": {},
   "outputs": [
    {
     "data": {
      "text/html": [
       "<div>\n",
       "<style scoped>\n",
       "    .dataframe tbody tr th:only-of-type {\n",
       "        vertical-align: middle;\n",
       "    }\n",
       "\n",
       "    .dataframe tbody tr th {\n",
       "        vertical-align: top;\n",
       "    }\n",
       "\n",
       "    .dataframe thead th {\n",
       "        text-align: right;\n",
       "    }\n",
       "</style>\n",
       "<table border=\"1\" class=\"dataframe\">\n",
       "  <thead>\n",
       "    <tr style=\"text-align: right;\">\n",
       "      <th></th>\n",
       "      <th>DATE</th>\n",
       "      <th>PRCP</th>\n",
       "      <th>TAVG</th>\n",
       "      <th>TMAX</th>\n",
       "      <th>TMIN</th>\n",
       "      <th>TOBS</th>\n",
       "    </tr>\n",
       "    <tr>\n",
       "      <th>STATION</th>\n",
       "      <th></th>\n",
       "      <th></th>\n",
       "      <th></th>\n",
       "      <th></th>\n",
       "      <th></th>\n",
       "      <th></th>\n",
       "    </tr>\n",
       "  </thead>\n",
       "  <tbody>\n",
       "    <tr>\n",
       "      <th>CA001073615</th>\n",
       "      <td>3429</td>\n",
       "      <td>3429</td>\n",
       "      <td>2016</td>\n",
       "      <td>3420</td>\n",
       "      <td>3423</td>\n",
       "      <td>0</td>\n",
       "    </tr>\n",
       "    <tr>\n",
       "      <th>US1ARPY0002</th>\n",
       "      <td>2673</td>\n",
       "      <td>2673</td>\n",
       "      <td>0</td>\n",
       "      <td>0</td>\n",
       "      <td>0</td>\n",
       "      <td>0</td>\n",
       "    </tr>\n",
       "    <tr>\n",
       "      <th>US1MOFSA215</th>\n",
       "      <td>3283</td>\n",
       "      <td>3283</td>\n",
       "      <td>0</td>\n",
       "      <td>0</td>\n",
       "      <td>0</td>\n",
       "      <td>0</td>\n",
       "    </tr>\n",
       "    <tr>\n",
       "      <th>US1MOTX0007</th>\n",
       "      <td>3580</td>\n",
       "      <td>3580</td>\n",
       "      <td>0</td>\n",
       "      <td>0</td>\n",
       "      <td>0</td>\n",
       "      <td>0</td>\n",
       "    </tr>\n",
       "    <tr>\n",
       "      <th>US1MOTX0040</th>\n",
       "      <td>1317</td>\n",
       "      <td>1317</td>\n",
       "      <td>0</td>\n",
       "      <td>0</td>\n",
       "      <td>0</td>\n",
       "      <td>0</td>\n",
       "    </tr>\n",
       "    <tr>\n",
       "      <th>US1MOTX0041</th>\n",
       "      <td>279</td>\n",
       "      <td>279</td>\n",
       "      <td>0</td>\n",
       "      <td>0</td>\n",
       "      <td>0</td>\n",
       "      <td>0</td>\n",
       "    </tr>\n",
       "    <tr>\n",
       "      <th>US1OHSH0011</th>\n",
       "      <td>3376</td>\n",
       "      <td>3376</td>\n",
       "      <td>0</td>\n",
       "      <td>0</td>\n",
       "      <td>0</td>\n",
       "      <td>0</td>\n",
       "    </tr>\n",
       "    <tr>\n",
       "      <th>US1TXHRR147</th>\n",
       "      <td>1386</td>\n",
       "      <td>1386</td>\n",
       "      <td>0</td>\n",
       "      <td>0</td>\n",
       "      <td>0</td>\n",
       "      <td>0</td>\n",
       "    </tr>\n",
       "    <tr>\n",
       "      <th>US1TXHRR165</th>\n",
       "      <td>1883</td>\n",
       "      <td>1883</td>\n",
       "      <td>0</td>\n",
       "      <td>0</td>\n",
       "      <td>0</td>\n",
       "      <td>0</td>\n",
       "    </tr>\n",
       "    <tr>\n",
       "      <th>US1TXHRR176</th>\n",
       "      <td>2678</td>\n",
       "      <td>2678</td>\n",
       "      <td>0</td>\n",
       "      <td>0</td>\n",
       "      <td>0</td>\n",
       "      <td>0</td>\n",
       "    </tr>\n",
       "    <tr>\n",
       "      <th>US1TXHRR209</th>\n",
       "      <td>2283</td>\n",
       "      <td>2283</td>\n",
       "      <td>0</td>\n",
       "      <td>0</td>\n",
       "      <td>0</td>\n",
       "      <td>0</td>\n",
       "    </tr>\n",
       "    <tr>\n",
       "      <th>US1TXHRR232</th>\n",
       "      <td>1498</td>\n",
       "      <td>1498</td>\n",
       "      <td>0</td>\n",
       "      <td>0</td>\n",
       "      <td>0</td>\n",
       "      <td>0</td>\n",
       "    </tr>\n",
       "    <tr>\n",
       "      <th>US1TXHRR269</th>\n",
       "      <td>407</td>\n",
       "      <td>407</td>\n",
       "      <td>0</td>\n",
       "      <td>0</td>\n",
       "      <td>0</td>\n",
       "      <td>0</td>\n",
       "    </tr>\n",
       "    <tr>\n",
       "      <th>USC00224265</th>\n",
       "      <td>2294</td>\n",
       "      <td>2294</td>\n",
       "      <td>0</td>\n",
       "      <td>2267</td>\n",
       "      <td>2267</td>\n",
       "      <td>2267</td>\n",
       "    </tr>\n",
       "    <tr>\n",
       "      <th>USC00234019</th>\n",
       "      <td>3471</td>\n",
       "      <td>3471</td>\n",
       "      <td>0</td>\n",
       "      <td>3469</td>\n",
       "      <td>3468</td>\n",
       "      <td>0</td>\n",
       "    </tr>\n",
       "    <tr>\n",
       "      <th>USC00414325</th>\n",
       "      <td>3581</td>\n",
       "      <td>3581</td>\n",
       "      <td>0</td>\n",
       "      <td>0</td>\n",
       "      <td>0</td>\n",
       "      <td>0</td>\n",
       "    </tr>\n",
       "    <tr>\n",
       "      <th>USC00414327</th>\n",
       "      <td>3403</td>\n",
       "      <td>3403</td>\n",
       "      <td>0</td>\n",
       "      <td>0</td>\n",
       "      <td>0</td>\n",
       "      <td>0</td>\n",
       "    </tr>\n",
       "    <tr>\n",
       "      <th>USC00414333</th>\n",
       "      <td>3575</td>\n",
       "      <td>3575</td>\n",
       "      <td>0</td>\n",
       "      <td>3572</td>\n",
       "      <td>3572</td>\n",
       "      <td>3499</td>\n",
       "    </tr>\n",
       "    <tr>\n",
       "      <th>USC00503731</th>\n",
       "      <td>2093</td>\n",
       "      <td>2093</td>\n",
       "      <td>0</td>\n",
       "      <td>1814</td>\n",
       "      <td>1813</td>\n",
       "      <td>1410</td>\n",
       "    </tr>\n",
       "    <tr>\n",
       "      <th>USW00012918</th>\n",
       "      <td>3592</td>\n",
       "      <td>3592</td>\n",
       "      <td>2770</td>\n",
       "      <td>3592</td>\n",
       "      <td>3592</td>\n",
       "      <td>0</td>\n",
       "    </tr>\n",
       "    <tr>\n",
       "      <th>USW00012960</th>\n",
       "      <td>3592</td>\n",
       "      <td>3592</td>\n",
       "      <td>2770</td>\n",
       "      <td>3592</td>\n",
       "      <td>3592</td>\n",
       "      <td>0</td>\n",
       "    </tr>\n",
       "    <tr>\n",
       "      <th>USW00012975</th>\n",
       "      <td>3590</td>\n",
       "      <td>3590</td>\n",
       "      <td>0</td>\n",
       "      <td>3587</td>\n",
       "      <td>3588</td>\n",
       "      <td>0</td>\n",
       "    </tr>\n",
       "    <tr>\n",
       "      <th>USW00012977</th>\n",
       "      <td>3591</td>\n",
       "      <td>3591</td>\n",
       "      <td>0</td>\n",
       "      <td>3588</td>\n",
       "      <td>3589</td>\n",
       "      <td>0</td>\n",
       "    </tr>\n",
       "    <tr>\n",
       "      <th>USW00053910</th>\n",
       "      <td>3591</td>\n",
       "      <td>3591</td>\n",
       "      <td>0</td>\n",
       "      <td>3589</td>\n",
       "      <td>3589</td>\n",
       "      <td>0</td>\n",
       "    </tr>\n",
       "  </tbody>\n",
       "</table>\n",
       "</div>"
      ],
      "text/plain": [
       "             DATE  PRCP  TAVG  TMAX  TMIN  TOBS\n",
       "STATION                                        \n",
       "CA001073615  3429  3429  2016  3420  3423     0\n",
       "US1ARPY0002  2673  2673     0     0     0     0\n",
       "US1MOFSA215  3283  3283     0     0     0     0\n",
       "US1MOTX0007  3580  3580     0     0     0     0\n",
       "US1MOTX0040  1317  1317     0     0     0     0\n",
       "US1MOTX0041   279   279     0     0     0     0\n",
       "US1OHSH0011  3376  3376     0     0     0     0\n",
       "US1TXHRR147  1386  1386     0     0     0     0\n",
       "US1TXHRR165  1883  1883     0     0     0     0\n",
       "US1TXHRR176  2678  2678     0     0     0     0\n",
       "US1TXHRR209  2283  2283     0     0     0     0\n",
       "US1TXHRR232  1498  1498     0     0     0     0\n",
       "US1TXHRR269   407   407     0     0     0     0\n",
       "USC00224265  2294  2294     0  2267  2267  2267\n",
       "USC00234019  3471  3471     0  3469  3468     0\n",
       "USC00414325  3581  3581     0     0     0     0\n",
       "USC00414327  3403  3403     0     0     0     0\n",
       "USC00414333  3575  3575     0  3572  3572  3499\n",
       "USC00503731  2093  2093     0  1814  1813  1410\n",
       "USW00012918  3592  3592  2770  3592  3592     0\n",
       "USW00012960  3592  3592  2770  3592  3592     0\n",
       "USW00012975  3590  3590     0  3587  3588     0\n",
       "USW00012977  3591  3591     0  3588  3589     0\n",
       "USW00053910  3591  3591     0  3589  3589     0"
      ]
     },
     "execution_count": 61,
     "metadata": {},
     "output_type": "execute_result"
    }
   ],
   "source": [
    "#Check for counts of data present for each station\n",
    "weather_df_scrub.groupby('STATION').count()"
   ]
  },
  {
   "cell_type": "code",
   "execution_count": 62,
   "metadata": {
    "scrolled": false
   },
   "outputs": [
    {
     "data": {
      "text/html": [
       "<div>\n",
       "<style scoped>\n",
       "    .dataframe tbody tr th:only-of-type {\n",
       "        vertical-align: middle;\n",
       "    }\n",
       "\n",
       "    .dataframe tbody tr th {\n",
       "        vertical-align: top;\n",
       "    }\n",
       "\n",
       "    .dataframe thead th {\n",
       "        text-align: right;\n",
       "    }\n",
       "</style>\n",
       "<table border=\"1\" class=\"dataframe\">\n",
       "  <thead>\n",
       "    <tr style=\"text-align: right;\">\n",
       "      <th></th>\n",
       "      <th>STATION</th>\n",
       "      <th>PRCP</th>\n",
       "      <th>TAVG</th>\n",
       "      <th>TMAX</th>\n",
       "      <th>TMIN</th>\n",
       "      <th>TOBS</th>\n",
       "    </tr>\n",
       "    <tr>\n",
       "      <th>DATE</th>\n",
       "      <th></th>\n",
       "      <th></th>\n",
       "      <th></th>\n",
       "      <th></th>\n",
       "      <th></th>\n",
       "      <th></th>\n",
       "    </tr>\n",
       "  </thead>\n",
       "  <tbody>\n",
       "    <tr>\n",
       "      <th>2011-01-01</th>\n",
       "      <td>12</td>\n",
       "      <td>12</td>\n",
       "      <td>0</td>\n",
       "      <td>8</td>\n",
       "      <td>8</td>\n",
       "      <td>1</td>\n",
       "    </tr>\n",
       "    <tr>\n",
       "      <th>2011-01-02</th>\n",
       "      <td>12</td>\n",
       "      <td>12</td>\n",
       "      <td>0</td>\n",
       "      <td>8</td>\n",
       "      <td>8</td>\n",
       "      <td>1</td>\n",
       "    </tr>\n",
       "    <tr>\n",
       "      <th>2011-01-03</th>\n",
       "      <td>11</td>\n",
       "      <td>11</td>\n",
       "      <td>0</td>\n",
       "      <td>7</td>\n",
       "      <td>7</td>\n",
       "      <td>1</td>\n",
       "    </tr>\n",
       "    <tr>\n",
       "      <th>2011-01-04</th>\n",
       "      <td>11</td>\n",
       "      <td>11</td>\n",
       "      <td>0</td>\n",
       "      <td>7</td>\n",
       "      <td>7</td>\n",
       "      <td>1</td>\n",
       "    </tr>\n",
       "    <tr>\n",
       "      <th>2011-01-05</th>\n",
       "      <td>11</td>\n",
       "      <td>11</td>\n",
       "      <td>0</td>\n",
       "      <td>7</td>\n",
       "      <td>7</td>\n",
       "      <td>1</td>\n",
       "    </tr>\n",
       "    <tr>\n",
       "      <th>...</th>\n",
       "      <td>...</td>\n",
       "      <td>...</td>\n",
       "      <td>...</td>\n",
       "      <td>...</td>\n",
       "      <td>...</td>\n",
       "      <td>...</td>\n",
       "    </tr>\n",
       "    <tr>\n",
       "      <th>2020-10-28</th>\n",
       "      <td>17</td>\n",
       "      <td>17</td>\n",
       "      <td>3</td>\n",
       "      <td>8</td>\n",
       "      <td>8</td>\n",
       "      <td>1</td>\n",
       "    </tr>\n",
       "    <tr>\n",
       "      <th>2020-10-29</th>\n",
       "      <td>17</td>\n",
       "      <td>17</td>\n",
       "      <td>3</td>\n",
       "      <td>8</td>\n",
       "      <td>8</td>\n",
       "      <td>1</td>\n",
       "    </tr>\n",
       "    <tr>\n",
       "      <th>2020-10-30</th>\n",
       "      <td>15</td>\n",
       "      <td>15</td>\n",
       "      <td>3</td>\n",
       "      <td>8</td>\n",
       "      <td>8</td>\n",
       "      <td>1</td>\n",
       "    </tr>\n",
       "    <tr>\n",
       "      <th>2020-10-31</th>\n",
       "      <td>11</td>\n",
       "      <td>11</td>\n",
       "      <td>2</td>\n",
       "      <td>6</td>\n",
       "      <td>6</td>\n",
       "      <td>0</td>\n",
       "    </tr>\n",
       "    <tr>\n",
       "      <th>2020-11-01</th>\n",
       "      <td>6</td>\n",
       "      <td>6</td>\n",
       "      <td>0</td>\n",
       "      <td>0</td>\n",
       "      <td>0</td>\n",
       "      <td>0</td>\n",
       "    </tr>\n",
       "  </tbody>\n",
       "</table>\n",
       "<p>3593 rows × 6 columns</p>\n",
       "</div>"
      ],
      "text/plain": [
       "            STATION  PRCP  TAVG  TMAX  TMIN  TOBS\n",
       "DATE                                             \n",
       "2011-01-01       12    12     0     8     8     1\n",
       "2011-01-02       12    12     0     8     8     1\n",
       "2011-01-03       11    11     0     7     7     1\n",
       "2011-01-04       11    11     0     7     7     1\n",
       "2011-01-05       11    11     0     7     7     1\n",
       "...             ...   ...   ...   ...   ...   ...\n",
       "2020-10-28       17    17     3     8     8     1\n",
       "2020-10-29       17    17     3     8     8     1\n",
       "2020-10-30       15    15     3     8     8     1\n",
       "2020-10-31       11    11     2     6     6     0\n",
       "2020-11-01        6     6     0     0     0     0\n",
       "\n",
       "[3593 rows x 6 columns]"
      ]
     },
     "execution_count": 62,
     "metadata": {},
     "output_type": "execute_result"
    }
   ],
   "source": [
    "\n",
    "weather_df_scrub.groupby('DATE').count()"
   ]
  },
  {
   "cell_type": "code",
   "execution_count": 94,
   "metadata": {},
   "outputs": [
    {
     "data": {
      "text/html": [
       "<div>\n",
       "<style scoped>\n",
       "    .dataframe tbody tr th:only-of-type {\n",
       "        vertical-align: middle;\n",
       "    }\n",
       "\n",
       "    .dataframe tbody tr th {\n",
       "        vertical-align: top;\n",
       "    }\n",
       "\n",
       "    .dataframe thead th {\n",
       "        text-align: right;\n",
       "    }\n",
       "</style>\n",
       "<table border=\"1\" class=\"dataframe\">\n",
       "  <thead>\n",
       "    <tr style=\"text-align: right;\">\n",
       "      <th></th>\n",
       "      <th>STATION</th>\n",
       "      <th>PRCP</th>\n",
       "      <th>TAVG</th>\n",
       "      <th>TMAX</th>\n",
       "      <th>TMIN</th>\n",
       "      <th>TOBS</th>\n",
       "    </tr>\n",
       "    <tr>\n",
       "      <th>DATE</th>\n",
       "      <th></th>\n",
       "      <th></th>\n",
       "      <th></th>\n",
       "      <th></th>\n",
       "      <th></th>\n",
       "      <th></th>\n",
       "    </tr>\n",
       "  </thead>\n",
       "  <tbody>\n",
       "    <tr>\n",
       "      <th>2011-01-01</th>\n",
       "      <td>12</td>\n",
       "      <td>0.113333</td>\n",
       "      <td>NaN</td>\n",
       "      <td>58.750000</td>\n",
       "      <td>37.625000</td>\n",
       "      <td>46.0</td>\n",
       "    </tr>\n",
       "    <tr>\n",
       "      <th>2011-01-02</th>\n",
       "      <td>12</td>\n",
       "      <td>0.000000</td>\n",
       "      <td>NaN</td>\n",
       "      <td>50.375000</td>\n",
       "      <td>31.625000</td>\n",
       "      <td>38.0</td>\n",
       "    </tr>\n",
       "    <tr>\n",
       "      <th>2011-01-03</th>\n",
       "      <td>11</td>\n",
       "      <td>0.000000</td>\n",
       "      <td>NaN</td>\n",
       "      <td>57.571429</td>\n",
       "      <td>32.285714</td>\n",
       "      <td>50.0</td>\n",
       "    </tr>\n",
       "    <tr>\n",
       "      <th>2011-01-04</th>\n",
       "      <td>11</td>\n",
       "      <td>0.191818</td>\n",
       "      <td>NaN</td>\n",
       "      <td>64.857143</td>\n",
       "      <td>45.428571</td>\n",
       "      <td>64.0</td>\n",
       "    </tr>\n",
       "    <tr>\n",
       "      <th>2011-01-05</th>\n",
       "      <td>11</td>\n",
       "      <td>0.163636</td>\n",
       "      <td>NaN</td>\n",
       "      <td>67.857143</td>\n",
       "      <td>46.428571</td>\n",
       "      <td>52.0</td>\n",
       "    </tr>\n",
       "    <tr>\n",
       "      <th>...</th>\n",
       "      <td>...</td>\n",
       "      <td>...</td>\n",
       "      <td>...</td>\n",
       "      <td>...</td>\n",
       "      <td>...</td>\n",
       "      <td>...</td>\n",
       "    </tr>\n",
       "    <tr>\n",
       "      <th>2020-10-28</th>\n",
       "      <td>17</td>\n",
       "      <td>0.198824</td>\n",
       "      <td>48.333333</td>\n",
       "      <td>59.500000</td>\n",
       "      <td>44.500000</td>\n",
       "      <td>67.0</td>\n",
       "    </tr>\n",
       "    <tr>\n",
       "      <th>2020-10-29</th>\n",
       "      <td>17</td>\n",
       "      <td>0.450000</td>\n",
       "      <td>45.666667</td>\n",
       "      <td>62.625000</td>\n",
       "      <td>43.125000</td>\n",
       "      <td>57.0</td>\n",
       "    </tr>\n",
       "    <tr>\n",
       "      <th>2020-10-30</th>\n",
       "      <td>15</td>\n",
       "      <td>0.108000</td>\n",
       "      <td>49.666667</td>\n",
       "      <td>64.750000</td>\n",
       "      <td>44.375000</td>\n",
       "      <td>46.0</td>\n",
       "    </tr>\n",
       "    <tr>\n",
       "      <th>2020-10-31</th>\n",
       "      <td>11</td>\n",
       "      <td>0.005455</td>\n",
       "      <td>55.500000</td>\n",
       "      <td>75.500000</td>\n",
       "      <td>45.666667</td>\n",
       "      <td>NaN</td>\n",
       "    </tr>\n",
       "    <tr>\n",
       "      <th>2020-11-01</th>\n",
       "      <td>6</td>\n",
       "      <td>0.003333</td>\n",
       "      <td>NaN</td>\n",
       "      <td>NaN</td>\n",
       "      <td>NaN</td>\n",
       "      <td>NaN</td>\n",
       "    </tr>\n",
       "  </tbody>\n",
       "</table>\n",
       "<p>3593 rows × 6 columns</p>\n",
       "</div>"
      ],
      "text/plain": [
       "            STATION      PRCP       TAVG       TMAX       TMIN  TOBS\n",
       "DATE                                                                \n",
       "2011-01-01       12  0.113333        NaN  58.750000  37.625000  46.0\n",
       "2011-01-02       12  0.000000        NaN  50.375000  31.625000  38.0\n",
       "2011-01-03       11  0.000000        NaN  57.571429  32.285714  50.0\n",
       "2011-01-04       11  0.191818        NaN  64.857143  45.428571  64.0\n",
       "2011-01-05       11  0.163636        NaN  67.857143  46.428571  52.0\n",
       "...             ...       ...        ...        ...        ...   ...\n",
       "2020-10-28       17  0.198824  48.333333  59.500000  44.500000  67.0\n",
       "2020-10-29       17  0.450000  45.666667  62.625000  43.125000  57.0\n",
       "2020-10-30       15  0.108000  49.666667  64.750000  44.375000  46.0\n",
       "2020-10-31       11  0.005455  55.500000  75.500000  45.666667   NaN\n",
       "2020-11-01        6  0.003333        NaN        NaN        NaN   NaN\n",
       "\n",
       "[3593 rows x 6 columns]"
      ]
     },
     "execution_count": 94,
     "metadata": {},
     "output_type": "execute_result"
    }
   ],
   "source": [
    "#Group the data by date and use agg dict to deteremine how to combine the data\n",
    "weather_agg_dict = {'STATION':'count', 'PRCP':'mean','TAVG':'mean','TMAX':'mean','TMIN':'mean','TOBS':'mean'}\n",
    "weather_grouped = weather_df_scrub.groupby('DATE')[['STATION','PRCP','TAVG','TMAX','TMIN','TOBS']].agg(weather_agg_dict)\n",
    "weather_grouped"
   ]
  },
  {
   "cell_type": "code",
   "execution_count": 95,
   "metadata": {},
   "outputs": [
    {
     "data": {
      "text/plain": [
       "DatetimeIndex(['2011-01-01', '2011-01-02', '2011-01-03', '2011-01-04',\n",
       "               '2011-01-05', '2011-01-06', '2011-01-07', '2011-01-08',\n",
       "               '2011-01-09', '2011-01-10',\n",
       "               ...\n",
       "               '2020-10-23', '2020-10-24', '2020-10-25', '2020-10-26',\n",
       "               '2020-10-27', '2020-10-28', '2020-10-29', '2020-10-30',\n",
       "               '2020-10-31', '2020-11-01'],\n",
       "              dtype='datetime64[ns]', name='DATE', length=3593, freq=None)"
      ]
     },
     "execution_count": 95,
     "metadata": {},
     "output_type": "execute_result"
    }
   ],
   "source": [
    "weather_grouped.index"
   ]
  },
  {
   "cell_type": "code",
   "execution_count": 68,
   "metadata": {},
   "outputs": [
    {
     "data": {
      "text/html": [
       "<div>\n",
       "<style scoped>\n",
       "    .dataframe tbody tr th:only-of-type {\n",
       "        vertical-align: middle;\n",
       "    }\n",
       "\n",
       "    .dataframe tbody tr th {\n",
       "        vertical-align: top;\n",
       "    }\n",
       "\n",
       "    .dataframe thead th {\n",
       "        text-align: right;\n",
       "    }\n",
       "</style>\n",
       "<table border=\"1\" class=\"dataframe\">\n",
       "  <thead>\n",
       "    <tr style=\"text-align: right;\">\n",
       "      <th></th>\n",
       "      <th>count</th>\n",
       "      <th>%</th>\n",
       "    </tr>\n",
       "  </thead>\n",
       "  <tbody>\n",
       "    <tr>\n",
       "      <th>TAVG</th>\n",
       "      <td>822</td>\n",
       "      <td>22.877818</td>\n",
       "    </tr>\n",
       "    <tr>\n",
       "      <th>TOBS</th>\n",
       "      <td>2</td>\n",
       "      <td>0.055664</td>\n",
       "    </tr>\n",
       "    <tr>\n",
       "      <th>TMAX</th>\n",
       "      <td>1</td>\n",
       "      <td>0.027832</td>\n",
       "    </tr>\n",
       "    <tr>\n",
       "      <th>TMIN</th>\n",
       "      <td>1</td>\n",
       "      <td>0.027832</td>\n",
       "    </tr>\n",
       "  </tbody>\n",
       "</table>\n",
       "</div>"
      ],
      "text/plain": [
       "      count          %\n",
       "TAVG    822  22.877818\n",
       "TOBS      2   0.055664\n",
       "TMAX      1   0.027832\n",
       "TMIN      1   0.027832"
      ]
     },
     "execution_count": 68,
     "metadata": {},
     "output_type": "execute_result"
    }
   ],
   "source": [
    "missing_temp = pd.concat([Temperature_Avgs.isnull().sum(), 100 * Temperature_Avgs.isnull().mean()], axis=1)\n",
    "missing_temp.columns=['count', '%']\n",
    "missing_temp.sort_values(by='count', ascending=False)"
   ]
  },
  {
   "cell_type": "markdown",
   "metadata": {},
   "source": [
    "Only one Date appears to be missing all the temperature values"
   ]
  },
  {
   "cell_type": "code",
   "execution_count": 69,
   "metadata": {},
   "outputs": [
    {
     "data": {
      "text/html": [
       "<div>\n",
       "<style scoped>\n",
       "    .dataframe tbody tr th:only-of-type {\n",
       "        vertical-align: middle;\n",
       "    }\n",
       "\n",
       "    .dataframe tbody tr th {\n",
       "        vertical-align: top;\n",
       "    }\n",
       "\n",
       "    .dataframe thead th {\n",
       "        text-align: right;\n",
       "    }\n",
       "</style>\n",
       "<table border=\"1\" class=\"dataframe\">\n",
       "  <thead>\n",
       "    <tr style=\"text-align: right;\">\n",
       "      <th></th>\n",
       "      <th>PRCP</th>\n",
       "      <th>TAVG</th>\n",
       "      <th>TMAX</th>\n",
       "      <th>TMIN</th>\n",
       "      <th>TOBS</th>\n",
       "    </tr>\n",
       "    <tr>\n",
       "      <th>DATE</th>\n",
       "      <th></th>\n",
       "      <th></th>\n",
       "      <th></th>\n",
       "      <th></th>\n",
       "      <th></th>\n",
       "    </tr>\n",
       "  </thead>\n",
       "  <tbody>\n",
       "    <tr>\n",
       "      <th>2011-01-01</th>\n",
       "      <td>0.113333</td>\n",
       "      <td>NaN</td>\n",
       "      <td>58.750000</td>\n",
       "      <td>37.625000</td>\n",
       "      <td>46.0</td>\n",
       "    </tr>\n",
       "    <tr>\n",
       "      <th>2011-01-02</th>\n",
       "      <td>0.000000</td>\n",
       "      <td>NaN</td>\n",
       "      <td>50.375000</td>\n",
       "      <td>31.625000</td>\n",
       "      <td>38.0</td>\n",
       "    </tr>\n",
       "    <tr>\n",
       "      <th>2011-01-03</th>\n",
       "      <td>0.000000</td>\n",
       "      <td>NaN</td>\n",
       "      <td>57.571429</td>\n",
       "      <td>32.285714</td>\n",
       "      <td>50.0</td>\n",
       "    </tr>\n",
       "    <tr>\n",
       "      <th>2011-01-04</th>\n",
       "      <td>0.191818</td>\n",
       "      <td>NaN</td>\n",
       "      <td>64.857143</td>\n",
       "      <td>45.428571</td>\n",
       "      <td>64.0</td>\n",
       "    </tr>\n",
       "    <tr>\n",
       "      <th>2011-01-05</th>\n",
       "      <td>0.163636</td>\n",
       "      <td>NaN</td>\n",
       "      <td>67.857143</td>\n",
       "      <td>46.428571</td>\n",
       "      <td>52.0</td>\n",
       "    </tr>\n",
       "    <tr>\n",
       "      <th>...</th>\n",
       "      <td>...</td>\n",
       "      <td>...</td>\n",
       "      <td>...</td>\n",
       "      <td>...</td>\n",
       "      <td>...</td>\n",
       "    </tr>\n",
       "    <tr>\n",
       "      <th>2020-10-28</th>\n",
       "      <td>0.198824</td>\n",
       "      <td>48.333333</td>\n",
       "      <td>59.500000</td>\n",
       "      <td>44.500000</td>\n",
       "      <td>67.0</td>\n",
       "    </tr>\n",
       "    <tr>\n",
       "      <th>2020-10-29</th>\n",
       "      <td>0.450000</td>\n",
       "      <td>45.666667</td>\n",
       "      <td>62.625000</td>\n",
       "      <td>43.125000</td>\n",
       "      <td>57.0</td>\n",
       "    </tr>\n",
       "    <tr>\n",
       "      <th>2020-10-30</th>\n",
       "      <td>0.108000</td>\n",
       "      <td>49.666667</td>\n",
       "      <td>64.750000</td>\n",
       "      <td>44.375000</td>\n",
       "      <td>46.0</td>\n",
       "    </tr>\n",
       "    <tr>\n",
       "      <th>2020-10-31</th>\n",
       "      <td>0.005455</td>\n",
       "      <td>55.500000</td>\n",
       "      <td>75.500000</td>\n",
       "      <td>45.666667</td>\n",
       "      <td>NaN</td>\n",
       "    </tr>\n",
       "    <tr>\n",
       "      <th>2020-11-01</th>\n",
       "      <td>0.003333</td>\n",
       "      <td>NaN</td>\n",
       "      <td>NaN</td>\n",
       "      <td>NaN</td>\n",
       "      <td>NaN</td>\n",
       "    </tr>\n",
       "  </tbody>\n",
       "</table>\n",
       "<p>3593 rows × 5 columns</p>\n",
       "</div>"
      ],
      "text/plain": [
       "                PRCP       TAVG       TMAX       TMIN  TOBS\n",
       "DATE                                                       \n",
       "2011-01-01  0.113333        NaN  58.750000  37.625000  46.0\n",
       "2011-01-02  0.000000        NaN  50.375000  31.625000  38.0\n",
       "2011-01-03  0.000000        NaN  57.571429  32.285714  50.0\n",
       "2011-01-04  0.191818        NaN  64.857143  45.428571  64.0\n",
       "2011-01-05  0.163636        NaN  67.857143  46.428571  52.0\n",
       "...              ...        ...        ...        ...   ...\n",
       "2020-10-28  0.198824  48.333333  59.500000  44.500000  67.0\n",
       "2020-10-29  0.450000  45.666667  62.625000  43.125000  57.0\n",
       "2020-10-30  0.108000  49.666667  64.750000  44.375000  46.0\n",
       "2020-10-31  0.005455  55.500000  75.500000  45.666667   NaN\n",
       "2020-11-01  0.003333        NaN        NaN        NaN   NaN\n",
       "\n",
       "[3593 rows x 5 columns]"
      ]
     },
     "execution_count": 69,
     "metadata": {},
     "output_type": "execute_result"
    }
   ],
   "source": [
    "weather_df_scrubbed = weather_df_scrub.groupby('DATE').mean()\n",
    "weather_df_scrubbed"
   ]
  },
  {
   "cell_type": "code",
   "execution_count": 70,
   "metadata": {},
   "outputs": [
    {
     "data": {
      "text/html": [
       "<div>\n",
       "<style scoped>\n",
       "    .dataframe tbody tr th:only-of-type {\n",
       "        vertical-align: middle;\n",
       "    }\n",
       "\n",
       "    .dataframe tbody tr th {\n",
       "        vertical-align: top;\n",
       "    }\n",
       "\n",
       "    .dataframe thead th {\n",
       "        text-align: right;\n",
       "    }\n",
       "</style>\n",
       "<table border=\"1\" class=\"dataframe\">\n",
       "  <thead>\n",
       "    <tr style=\"text-align: right;\">\n",
       "      <th></th>\n",
       "      <th>PRCP</th>\n",
       "      <th>TAVG</th>\n",
       "      <th>TMAX</th>\n",
       "      <th>TMIN</th>\n",
       "      <th>TOBS</th>\n",
       "    </tr>\n",
       "    <tr>\n",
       "      <th>DATE</th>\n",
       "      <th></th>\n",
       "      <th></th>\n",
       "      <th></th>\n",
       "      <th></th>\n",
       "      <th></th>\n",
       "    </tr>\n",
       "  </thead>\n",
       "  <tbody>\n",
       "    <tr>\n",
       "      <th>2011-01-01</th>\n",
       "      <td>0.113333</td>\n",
       "      <td>NaN</td>\n",
       "      <td>58.750000</td>\n",
       "      <td>37.625000</td>\n",
       "      <td>46.0</td>\n",
       "    </tr>\n",
       "    <tr>\n",
       "      <th>2011-01-02</th>\n",
       "      <td>0.000000</td>\n",
       "      <td>NaN</td>\n",
       "      <td>50.375000</td>\n",
       "      <td>31.625000</td>\n",
       "      <td>38.0</td>\n",
       "    </tr>\n",
       "    <tr>\n",
       "      <th>2011-01-03</th>\n",
       "      <td>0.000000</td>\n",
       "      <td>NaN</td>\n",
       "      <td>57.571429</td>\n",
       "      <td>32.285714</td>\n",
       "      <td>50.0</td>\n",
       "    </tr>\n",
       "    <tr>\n",
       "      <th>2011-01-04</th>\n",
       "      <td>0.191818</td>\n",
       "      <td>NaN</td>\n",
       "      <td>64.857143</td>\n",
       "      <td>45.428571</td>\n",
       "      <td>64.0</td>\n",
       "    </tr>\n",
       "    <tr>\n",
       "      <th>2011-01-05</th>\n",
       "      <td>0.163636</td>\n",
       "      <td>NaN</td>\n",
       "      <td>67.857143</td>\n",
       "      <td>46.428571</td>\n",
       "      <td>52.0</td>\n",
       "    </tr>\n",
       "  </tbody>\n",
       "</table>\n",
       "</div>"
      ],
      "text/plain": [
       "                PRCP  TAVG       TMAX       TMIN  TOBS\n",
       "DATE                                                  \n",
       "2011-01-01  0.113333   NaN  58.750000  37.625000  46.0\n",
       "2011-01-02  0.000000   NaN  50.375000  31.625000  38.0\n",
       "2011-01-03  0.000000   NaN  57.571429  32.285714  50.0\n",
       "2011-01-04  0.191818   NaN  64.857143  45.428571  64.0\n",
       "2011-01-05  0.163636   NaN  67.857143  46.428571  52.0"
      ]
     },
     "execution_count": 70,
     "metadata": {},
     "output_type": "execute_result"
    }
   ],
   "source": [
    "weather_df_scrubbed.head()"
   ]
  },
  {
   "cell_type": "code",
   "execution_count": 71,
   "metadata": {},
   "outputs": [
    {
     "data": {
      "text/html": [
       "<div>\n",
       "<style scoped>\n",
       "    .dataframe tbody tr th:only-of-type {\n",
       "        vertical-align: middle;\n",
       "    }\n",
       "\n",
       "    .dataframe tbody tr th {\n",
       "        vertical-align: top;\n",
       "    }\n",
       "\n",
       "    .dataframe thead th {\n",
       "        text-align: right;\n",
       "    }\n",
       "</style>\n",
       "<table border=\"1\" class=\"dataframe\">\n",
       "  <thead>\n",
       "    <tr style=\"text-align: right;\">\n",
       "      <th></th>\n",
       "      <th>PRCP</th>\n",
       "      <th>TAVG</th>\n",
       "      <th>TMAX</th>\n",
       "      <th>TMIN</th>\n",
       "      <th>TOBS</th>\n",
       "    </tr>\n",
       "    <tr>\n",
       "      <th>DATE</th>\n",
       "      <th></th>\n",
       "      <th></th>\n",
       "      <th></th>\n",
       "      <th></th>\n",
       "      <th></th>\n",
       "    </tr>\n",
       "  </thead>\n",
       "  <tbody>\n",
       "    <tr>\n",
       "      <th>2020-10-28</th>\n",
       "      <td>0.198824</td>\n",
       "      <td>48.333333</td>\n",
       "      <td>59.500</td>\n",
       "      <td>44.500000</td>\n",
       "      <td>67.0</td>\n",
       "    </tr>\n",
       "    <tr>\n",
       "      <th>2020-10-29</th>\n",
       "      <td>0.450000</td>\n",
       "      <td>45.666667</td>\n",
       "      <td>62.625</td>\n",
       "      <td>43.125000</td>\n",
       "      <td>57.0</td>\n",
       "    </tr>\n",
       "    <tr>\n",
       "      <th>2020-10-30</th>\n",
       "      <td>0.108000</td>\n",
       "      <td>49.666667</td>\n",
       "      <td>64.750</td>\n",
       "      <td>44.375000</td>\n",
       "      <td>46.0</td>\n",
       "    </tr>\n",
       "    <tr>\n",
       "      <th>2020-10-31</th>\n",
       "      <td>0.005455</td>\n",
       "      <td>55.500000</td>\n",
       "      <td>75.500</td>\n",
       "      <td>45.666667</td>\n",
       "      <td>NaN</td>\n",
       "    </tr>\n",
       "    <tr>\n",
       "      <th>2020-11-01</th>\n",
       "      <td>0.003333</td>\n",
       "      <td>NaN</td>\n",
       "      <td>NaN</td>\n",
       "      <td>NaN</td>\n",
       "      <td>NaN</td>\n",
       "    </tr>\n",
       "  </tbody>\n",
       "</table>\n",
       "</div>"
      ],
      "text/plain": [
       "                PRCP       TAVG    TMAX       TMIN  TOBS\n",
       "DATE                                                    \n",
       "2020-10-28  0.198824  48.333333  59.500  44.500000  67.0\n",
       "2020-10-29  0.450000  45.666667  62.625  43.125000  57.0\n",
       "2020-10-30  0.108000  49.666667  64.750  44.375000  46.0\n",
       "2020-10-31  0.005455  55.500000  75.500  45.666667   NaN\n",
       "2020-11-01  0.003333        NaN     NaN        NaN   NaN"
      ]
     },
     "execution_count": 71,
     "metadata": {},
     "output_type": "execute_result"
    }
   ],
   "source": [
    "weather_df_scrubbed.tail()"
   ]
  },
  {
   "cell_type": "code",
   "execution_count": 72,
   "metadata": {
    "scrolled": true
   },
   "outputs": [
    {
     "data": {
      "text/plain": [
       "DatetimeIndex(['2011-01-01', '2011-01-02', '2011-01-03', '2011-01-04',\n",
       "               '2011-01-05', '2011-01-06', '2011-01-07', '2011-01-08',\n",
       "               '2011-01-09', '2011-01-10',\n",
       "               ...\n",
       "               '2020-10-23', '2020-10-24', '2020-10-25', '2020-10-26',\n",
       "               '2020-10-27', '2020-10-28', '2020-10-29', '2020-10-30',\n",
       "               '2020-10-31', '2020-11-01'],\n",
       "              dtype='datetime64[ns]', name='DATE', length=3593, freq=None)"
      ]
     },
     "execution_count": 72,
     "metadata": {},
     "output_type": "execute_result"
    }
   ],
   "source": [
    "weather_df_scrubbed.index"
   ]
  },
  {
   "cell_type": "markdown",
   "metadata": {},
   "source": [
    "## Summary of both cleaned DFs"
   ]
  },
  {
   "cell_type": "markdown",
   "metadata": {},
   "source": [
    "#### This is a summary of the dataframes cleaned."
   ]
  },
  {
   "cell_type": "markdown",
   "metadata": {},
   "source": [
    "### Pothole Data"
   ]
  },
  {
   "cell_type": "code",
   "execution_count": 89,
   "metadata": {},
   "outputs": [
    {
     "data": {
      "text/html": [
       "<div>\n",
       "<style scoped>\n",
       "    .dataframe tbody tr th:only-of-type {\n",
       "        vertical-align: middle;\n",
       "    }\n",
       "\n",
       "    .dataframe tbody tr th {\n",
       "        vertical-align: top;\n",
       "    }\n",
       "\n",
       "    .dataframe thead th {\n",
       "        text-align: right;\n",
       "    }\n",
       "</style>\n",
       "<table border=\"1\" class=\"dataframe\">\n",
       "  <thead>\n",
       "    <tr style=\"text-align: right;\">\n",
       "      <th></th>\n",
       "      <th>SR LOCATION</th>\n",
       "      <th>COUNTY</th>\n",
       "      <th>NEIGHBORHOOD</th>\n",
       "      <th>SR TYPE</th>\n",
       "      <th>QUEUE</th>\n",
       "      <th>STATUS</th>\n",
       "      <th>SR CREATE DATE</th>\n",
       "      <th>DUE DATE</th>\n",
       "      <th>DATE CLOSED</th>\n",
       "      <th>OVERDUE</th>\n",
       "      <th>LATITUDE</th>\n",
       "      <th>LONGITUDE</th>\n",
       "      <th>CREATION DATE</th>\n",
       "      <th>DATE</th>\n",
       "    </tr>\n",
       "    <tr>\n",
       "      <th>CASE NUMBER</th>\n",
       "      <th></th>\n",
       "      <th></th>\n",
       "      <th></th>\n",
       "      <th></th>\n",
       "      <th></th>\n",
       "      <th></th>\n",
       "      <th></th>\n",
       "      <th></th>\n",
       "      <th></th>\n",
       "      <th></th>\n",
       "      <th></th>\n",
       "      <th></th>\n",
       "      <th></th>\n",
       "      <th></th>\n",
       "    </tr>\n",
       "  </thead>\n",
       "  <tbody>\n",
       "    <tr>\n",
       "      <th>11433929-101000452108</th>\n",
       "      <td>Intersection 13500 S POST OAK RD &amp; 5400 WILLOM...</td>\n",
       "      <td>Harris County</td>\n",
       "      <td>CENTRAL SOUTHWEST</td>\n",
       "      <td>Pothole</td>\n",
       "      <td>ROWM_StreetMain</td>\n",
       "      <td>Closed</td>\n",
       "      <td>2011-11-09 06:49:13</td>\n",
       "      <td>2011-11-19 06:49:12</td>\n",
       "      <td>2011-11-22 09:26:28</td>\n",
       "      <td>3.11</td>\n",
       "      <td>29.630333</td>\n",
       "      <td>-95.464071</td>\n",
       "      <td>2011-11-09</td>\n",
       "      <td>2011-11-09</td>\n",
       "    </tr>\n",
       "    <tr>\n",
       "      <th>11433959-101000452225</th>\n",
       "      <td>8142 BONNER, HOUSTON TX 77017</td>\n",
       "      <td>HARRIS</td>\n",
       "      <td>MEADOWBROOK / ALLENDALE</td>\n",
       "      <td>Pothole</td>\n",
       "      <td>ROWM_StreetMain</td>\n",
       "      <td>Closed</td>\n",
       "      <td>2011-11-09 08:55:49</td>\n",
       "      <td>2011-11-19 08:55:49</td>\n",
       "      <td>2011-12-01 09:20:03</td>\n",
       "      <td>12.02</td>\n",
       "      <td>29.680578</td>\n",
       "      <td>-95.264047</td>\n",
       "      <td>2011-11-09</td>\n",
       "      <td>2011-11-09</td>\n",
       "    </tr>\n",
       "    <tr>\n",
       "      <th>11455803-101000452382</th>\n",
       "      <td>875 LOCKWOOD, HOUSTON TX 77020</td>\n",
       "      <td>HARRIS</td>\n",
       "      <td>GREATER FIFTH WARD</td>\n",
       "      <td>Pothole</td>\n",
       "      <td>ROWM_StreetMain</td>\n",
       "      <td>Closed</td>\n",
       "      <td>2011-11-09 10:32:12</td>\n",
       "      <td>2011-11-19 10:32:11</td>\n",
       "      <td>2012-01-25 11:25:38</td>\n",
       "      <td>67.04</td>\n",
       "      <td>29.761035</td>\n",
       "      <td>-95.317502</td>\n",
       "      <td>2011-11-09</td>\n",
       "      <td>2011-11-09</td>\n",
       "    </tr>\n",
       "    <tr>\n",
       "      <th>11434023-101000452387</th>\n",
       "      <td>875 LOCKWOOD, HOUSTON TX 77020</td>\n",
       "      <td>HARRIS</td>\n",
       "      <td>GREATER FIFTH WARD</td>\n",
       "      <td>Pothole</td>\n",
       "      <td>ROWM_StreetMain</td>\n",
       "      <td>Closed</td>\n",
       "      <td>2011-11-09 10:35:11</td>\n",
       "      <td>2011-11-19 10:35:10</td>\n",
       "      <td>2011-11-29 12:49:13</td>\n",
       "      <td>10.09</td>\n",
       "      <td>29.761035</td>\n",
       "      <td>-95.317502</td>\n",
       "      <td>2011-11-09</td>\n",
       "      <td>2011-11-09</td>\n",
       "    </tr>\n",
       "    <tr>\n",
       "      <th>11434047-101000452444</th>\n",
       "      <td>12501 BRIAR FOREST, HOUSTON TX 77077</td>\n",
       "      <td>HARRIS</td>\n",
       "      <td>BRIAR FOREST</td>\n",
       "      <td>Pothole</td>\n",
       "      <td>ROWM_StreetMain</td>\n",
       "      <td>Closed</td>\n",
       "      <td>2011-11-09 11:09:56</td>\n",
       "      <td>2011-11-19 11:09:56</td>\n",
       "      <td>2011-11-29 13:00:17</td>\n",
       "      <td>10.08</td>\n",
       "      <td>29.753557</td>\n",
       "      <td>-95.602467</td>\n",
       "      <td>2011-11-09</td>\n",
       "      <td>2011-11-09</td>\n",
       "    </tr>\n",
       "  </tbody>\n",
       "</table>\n",
       "</div>"
      ],
      "text/plain": [
       "                                                             SR LOCATION  \\\n",
       "CASE NUMBER                                                                \n",
       "11433929-101000452108  Intersection 13500 S POST OAK RD & 5400 WILLOM...   \n",
       "11433959-101000452225                      8142 BONNER, HOUSTON TX 77017   \n",
       "11455803-101000452382                     875 LOCKWOOD, HOUSTON TX 77020   \n",
       "11434023-101000452387                     875 LOCKWOOD, HOUSTON TX 77020   \n",
       "11434047-101000452444               12501 BRIAR FOREST, HOUSTON TX 77077   \n",
       "\n",
       "                              COUNTY             NEIGHBORHOOD  SR TYPE  \\\n",
       "CASE NUMBER                                                              \n",
       "11433929-101000452108  Harris County        CENTRAL SOUTHWEST  Pothole   \n",
       "11433959-101000452225         HARRIS  MEADOWBROOK / ALLENDALE  Pothole   \n",
       "11455803-101000452382         HARRIS       GREATER FIFTH WARD  Pothole   \n",
       "11434023-101000452387         HARRIS       GREATER FIFTH WARD  Pothole   \n",
       "11434047-101000452444         HARRIS             BRIAR FOREST  Pothole   \n",
       "\n",
       "                                 QUEUE  STATUS      SR CREATE DATE  \\\n",
       "CASE NUMBER                                                          \n",
       "11433929-101000452108  ROWM_StreetMain  Closed 2011-11-09 06:49:13   \n",
       "11433959-101000452225  ROWM_StreetMain  Closed 2011-11-09 08:55:49   \n",
       "11455803-101000452382  ROWM_StreetMain  Closed 2011-11-09 10:32:12   \n",
       "11434023-101000452387  ROWM_StreetMain  Closed 2011-11-09 10:35:11   \n",
       "11434047-101000452444  ROWM_StreetMain  Closed 2011-11-09 11:09:56   \n",
       "\n",
       "                                 DUE DATE         DATE CLOSED  OVERDUE  \\\n",
       "CASE NUMBER                                                              \n",
       "11433929-101000452108 2011-11-19 06:49:12 2011-11-22 09:26:28     3.11   \n",
       "11433959-101000452225 2011-11-19 08:55:49 2011-12-01 09:20:03    12.02   \n",
       "11455803-101000452382 2011-11-19 10:32:11 2012-01-25 11:25:38    67.04   \n",
       "11434023-101000452387 2011-11-19 10:35:10 2011-11-29 12:49:13    10.09   \n",
       "11434047-101000452444 2011-11-19 11:09:56 2011-11-29 13:00:17    10.08   \n",
       "\n",
       "                        LATITUDE  LONGITUDE CREATION DATE        DATE  \n",
       "CASE NUMBER                                                            \n",
       "11433929-101000452108  29.630333 -95.464071    2011-11-09  2011-11-09  \n",
       "11433959-101000452225  29.680578 -95.264047    2011-11-09  2011-11-09  \n",
       "11455803-101000452382  29.761035 -95.317502    2011-11-09  2011-11-09  \n",
       "11434023-101000452387  29.761035 -95.317502    2011-11-09  2011-11-09  \n",
       "11434047-101000452444  29.753557 -95.602467    2011-11-09  2011-11-09  "
      ]
     },
     "execution_count": 89,
     "metadata": {},
     "output_type": "execute_result"
    }
   ],
   "source": [
    "pothole_df_scrubbed.head()"
   ]
  },
  {
   "cell_type": "markdown",
   "metadata": {},
   "source": [
    "### Weather Data"
   ]
  },
  {
   "cell_type": "code",
   "execution_count": 90,
   "metadata": {},
   "outputs": [
    {
     "data": {
      "text/html": [
       "<div>\n",
       "<style scoped>\n",
       "    .dataframe tbody tr th:only-of-type {\n",
       "        vertical-align: middle;\n",
       "    }\n",
       "\n",
       "    .dataframe tbody tr th {\n",
       "        vertical-align: top;\n",
       "    }\n",
       "\n",
       "    .dataframe thead th {\n",
       "        text-align: right;\n",
       "    }\n",
       "</style>\n",
       "<table border=\"1\" class=\"dataframe\">\n",
       "  <thead>\n",
       "    <tr style=\"text-align: right;\">\n",
       "      <th></th>\n",
       "      <th>PRCP</th>\n",
       "      <th>TAVG</th>\n",
       "      <th>TMAX</th>\n",
       "      <th>TMIN</th>\n",
       "      <th>TOBS</th>\n",
       "    </tr>\n",
       "    <tr>\n",
       "      <th>DATE</th>\n",
       "      <th></th>\n",
       "      <th></th>\n",
       "      <th></th>\n",
       "      <th></th>\n",
       "      <th></th>\n",
       "    </tr>\n",
       "  </thead>\n",
       "  <tbody>\n",
       "    <tr>\n",
       "      <th>2011-01-01</th>\n",
       "      <td>0.113333</td>\n",
       "      <td>NaN</td>\n",
       "      <td>58.750000</td>\n",
       "      <td>37.625000</td>\n",
       "      <td>46.0</td>\n",
       "    </tr>\n",
       "    <tr>\n",
       "      <th>2011-01-02</th>\n",
       "      <td>0.000000</td>\n",
       "      <td>NaN</td>\n",
       "      <td>50.375000</td>\n",
       "      <td>31.625000</td>\n",
       "      <td>38.0</td>\n",
       "    </tr>\n",
       "    <tr>\n",
       "      <th>2011-01-03</th>\n",
       "      <td>0.000000</td>\n",
       "      <td>NaN</td>\n",
       "      <td>57.571429</td>\n",
       "      <td>32.285714</td>\n",
       "      <td>50.0</td>\n",
       "    </tr>\n",
       "    <tr>\n",
       "      <th>2011-01-04</th>\n",
       "      <td>0.191818</td>\n",
       "      <td>NaN</td>\n",
       "      <td>64.857143</td>\n",
       "      <td>45.428571</td>\n",
       "      <td>64.0</td>\n",
       "    </tr>\n",
       "    <tr>\n",
       "      <th>2011-01-05</th>\n",
       "      <td>0.163636</td>\n",
       "      <td>NaN</td>\n",
       "      <td>67.857143</td>\n",
       "      <td>46.428571</td>\n",
       "      <td>52.0</td>\n",
       "    </tr>\n",
       "  </tbody>\n",
       "</table>\n",
       "</div>"
      ],
      "text/plain": [
       "                PRCP  TAVG       TMAX       TMIN  TOBS\n",
       "DATE                                                  \n",
       "2011-01-01  0.113333   NaN  58.750000  37.625000  46.0\n",
       "2011-01-02  0.000000   NaN  50.375000  31.625000  38.0\n",
       "2011-01-03  0.000000   NaN  57.571429  32.285714  50.0\n",
       "2011-01-04  0.191818   NaN  64.857143  45.428571  64.0\n",
       "2011-01-05  0.163636   NaN  67.857143  46.428571  52.0"
      ]
     },
     "execution_count": 90,
     "metadata": {},
     "output_type": "execute_result"
    }
   ],
   "source": [
    "weather_df_scrubbed.head()"
   ]
  },
  {
   "cell_type": "code",
   "execution_count": 96,
   "metadata": {},
   "outputs": [
    {
     "data": {
      "text/html": [
       "<div>\n",
       "<style scoped>\n",
       "    .dataframe tbody tr th:only-of-type {\n",
       "        vertical-align: middle;\n",
       "    }\n",
       "\n",
       "    .dataframe tbody tr th {\n",
       "        vertical-align: top;\n",
       "    }\n",
       "\n",
       "    .dataframe thead th {\n",
       "        text-align: right;\n",
       "    }\n",
       "</style>\n",
       "<table border=\"1\" class=\"dataframe\">\n",
       "  <thead>\n",
       "    <tr style=\"text-align: right;\">\n",
       "      <th></th>\n",
       "      <th>STATION</th>\n",
       "      <th>PRCP</th>\n",
       "      <th>TAVG</th>\n",
       "      <th>TMAX</th>\n",
       "      <th>TMIN</th>\n",
       "      <th>TOBS</th>\n",
       "    </tr>\n",
       "    <tr>\n",
       "      <th>DATE</th>\n",
       "      <th></th>\n",
       "      <th></th>\n",
       "      <th></th>\n",
       "      <th></th>\n",
       "      <th></th>\n",
       "      <th></th>\n",
       "    </tr>\n",
       "  </thead>\n",
       "  <tbody>\n",
       "    <tr>\n",
       "      <th>2011-01-01</th>\n",
       "      <td>12</td>\n",
       "      <td>0.113333</td>\n",
       "      <td>NaN</td>\n",
       "      <td>58.750000</td>\n",
       "      <td>37.625000</td>\n",
       "      <td>46.0</td>\n",
       "    </tr>\n",
       "    <tr>\n",
       "      <th>2011-01-02</th>\n",
       "      <td>12</td>\n",
       "      <td>0.000000</td>\n",
       "      <td>NaN</td>\n",
       "      <td>50.375000</td>\n",
       "      <td>31.625000</td>\n",
       "      <td>38.0</td>\n",
       "    </tr>\n",
       "    <tr>\n",
       "      <th>2011-01-03</th>\n",
       "      <td>11</td>\n",
       "      <td>0.000000</td>\n",
       "      <td>NaN</td>\n",
       "      <td>57.571429</td>\n",
       "      <td>32.285714</td>\n",
       "      <td>50.0</td>\n",
       "    </tr>\n",
       "    <tr>\n",
       "      <th>2011-01-04</th>\n",
       "      <td>11</td>\n",
       "      <td>0.191818</td>\n",
       "      <td>NaN</td>\n",
       "      <td>64.857143</td>\n",
       "      <td>45.428571</td>\n",
       "      <td>64.0</td>\n",
       "    </tr>\n",
       "    <tr>\n",
       "      <th>2011-01-05</th>\n",
       "      <td>11</td>\n",
       "      <td>0.163636</td>\n",
       "      <td>NaN</td>\n",
       "      <td>67.857143</td>\n",
       "      <td>46.428571</td>\n",
       "      <td>52.0</td>\n",
       "    </tr>\n",
       "  </tbody>\n",
       "</table>\n",
       "</div>"
      ],
      "text/plain": [
       "            STATION      PRCP  TAVG       TMAX       TMIN  TOBS\n",
       "DATE                                                           \n",
       "2011-01-01       12  0.113333   NaN  58.750000  37.625000  46.0\n",
       "2011-01-02       12  0.000000   NaN  50.375000  31.625000  38.0\n",
       "2011-01-03       11  0.000000   NaN  57.571429  32.285714  50.0\n",
       "2011-01-04       11  0.191818   NaN  64.857143  45.428571  64.0\n",
       "2011-01-05       11  0.163636   NaN  67.857143  46.428571  52.0"
      ]
     },
     "execution_count": 96,
     "metadata": {},
     "output_type": "execute_result"
    }
   ],
   "source": [
    "weather_grouped.head()"
   ]
  },
  {
   "cell_type": "markdown",
   "metadata": {},
   "source": [
    "## Extract Data"
   ]
  },
  {
   "cell_type": "code",
   "execution_count": 97,
   "metadata": {},
   "outputs": [],
   "source": [
    "datapath = '../data'\n",
    "if not os.path.exists(datapath):\n",
    "    os.mkdir(datapath)"
   ]
  },
  {
   "cell_type": "code",
   "execution_count": 98,
   "metadata": {},
   "outputs": [],
   "source": [
    "datapath_pothole = os.path.join(datapath, 'pothole_cleaned.csv')\n",
    "if not os.path.exists(datapath_pothole):\n",
    "    pothole_df_scrubbed.to_csv(datapath_pothole, index=False)"
   ]
  },
  {
   "cell_type": "code",
   "execution_count": 99,
   "metadata": {},
   "outputs": [],
   "source": [
    "datapath_weather = os.path.join(datapath, 'weather_summary.csv')\n",
    "if not os.path.exists(datapath_weather):\n",
    "    weather_df_scrubbed.to_csv(datapath_weather, index=False)"
   ]
  }
 ],
 "metadata": {
  "kernelspec": {
   "display_name": "Python 3",
   "language": "python",
   "name": "python3"
  },
  "language_info": {
   "codemirror_mode": {
    "name": "ipython",
    "version": 3
   },
   "file_extension": ".py",
   "mimetype": "text/x-python",
   "name": "python",
   "nbconvert_exporter": "python",
   "pygments_lexer": "ipython3",
   "version": "3.8.3"
  },
  "toc": {
   "base_numbering": 1,
   "nav_menu": {},
   "number_sections": true,
   "sideBar": true,
   "skip_h1_title": false,
   "title_cell": "Table of Contents",
   "title_sidebar": "Contents",
   "toc_cell": false,
   "toc_position": {},
   "toc_section_display": true,
   "toc_window_display": true
  },
  "varInspector": {
   "cols": {
    "lenName": 16,
    "lenType": 16,
    "lenVar": 40
   },
   "kernels_config": {
    "python": {
     "delete_cmd_postfix": "",
     "delete_cmd_prefix": "del ",
     "library": "var_list.py",
     "varRefreshCmd": "print(var_dic_list())"
    },
    "r": {
     "delete_cmd_postfix": ") ",
     "delete_cmd_prefix": "rm(",
     "library": "var_list.r",
     "varRefreshCmd": "cat(var_dic_list()) "
    }
   },
   "types_to_exclude": [
    "module",
    "function",
    "builtin_function_or_method",
    "instance",
    "_Feature"
   ],
   "window_display": false
  }
 },
 "nbformat": 4,
 "nbformat_minor": 4
}
