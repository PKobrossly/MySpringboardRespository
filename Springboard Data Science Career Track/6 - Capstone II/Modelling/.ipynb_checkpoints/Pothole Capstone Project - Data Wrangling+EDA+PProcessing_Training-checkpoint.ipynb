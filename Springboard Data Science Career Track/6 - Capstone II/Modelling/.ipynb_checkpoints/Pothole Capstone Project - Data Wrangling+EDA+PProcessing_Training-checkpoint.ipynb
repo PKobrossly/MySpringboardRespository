{
 "cells": [
  {
   "cell_type": "markdown",
   "metadata": {},
   "source": [
    "The purpose of this data science project is to come up with a predictive model for pothole location while utilizing the existing pothole data and weather forecast data. If potholes could be predicted it could allow for better planning for commuters and also better planning for the city to distribute resources more effectively. The City of Houston has a next day policy for pothole repairs. "
   ]
  },
  {
   "cell_type": "markdown",
   "metadata": {},
   "source": [
    "# Data Wrangling"
   ]
  },
  {
   "cell_type": "markdown",
   "metadata": {},
   "source": [
    "## Imports"
   ]
  },
  {
   "cell_type": "markdown",
   "metadata": {},
   "source": [
    "Importing used dependencies"
   ]
  },
  {
   "cell_type": "code",
   "execution_count": 126,
   "metadata": {},
   "outputs": [],
   "source": [
    "#Import pandas, matplotlib.pyplot, and seaborn in the correct lines below\n",
    "import pandas as pd\n",
    "import numpy as np\n",
    "import matplotlib.pyplot as plt\n",
    "import os\n",
    "import datetime as dt\n",
    "import time\n",
    "import seaborn as sns\n",
    "from scipy import stats"
   ]
  },
  {
   "cell_type": "markdown",
   "metadata": {},
   "source": [
    "## Objectives"
   ]
  },
  {
   "cell_type": "markdown",
   "metadata": {},
   "source": [
    "* Do you think you may have the data you need to tackle the desired question?\n",
    "    * Have you identified the required target value?\n",
    "    * Do you have potentially useful features?\n",
    "* Do you have any fundamental issues with the data?"
   ]
  },
  {
   "cell_type": "markdown",
   "metadata": {},
   "source": [
    "## Loading Pothole Data"
   ]
  },
  {
   "cell_type": "code",
   "execution_count": 2,
   "metadata": {},
   "outputs": [
    {
     "name": "stderr",
     "output_type": "stream",
     "text": [
      "b'Skipping line 99736: expected 29 fields, saw 30\\n'\n",
      "b'Skipping line 142010: expected 29 fields, saw 30\\nSkipping line 142599: expected 29 fields, saw 30\\nSkipping line 153313: expected 29 fields, saw 30\\n'\n",
      "b'Skipping line 191143: expected 29 fields, saw 30\\nSkipping line 193671: expected 29 fields, saw 30\\n'\n",
      "b'Skipping line 207631: expected 29 fields, saw 30\\nSkipping line 219597: expected 29 fields, saw 30\\nSkipping line 225109: expected 29 fields, saw 30\\n'\n",
      "b'Skipping line 277039: expected 29 fields, saw 30\\n'\n",
      "b'Skipping line 78774: expected 29 fields, saw 31\\n'\n",
      "b'Skipping line 105843: expected 29 fields, saw 30\\n'\n",
      "b'Skipping line 134105: expected 29 fields, saw 30\\n'\n",
      "b'Skipping line 168993: expected 29 fields, saw 30\\n'\n",
      "b'Skipping line 198472: expected 29 fields, saw 30\\nSkipping line 220143: expected 29 fields, saw 30\\n'\n",
      "b'Skipping line 272900: expected 29 fields, saw 30\\nSkipping line 282458: expected 29 fields, saw 30\\n'\n",
      "b'Skipping line 339869: expected 29 fields, saw 31\\nSkipping line 351878: expected 29 fields, saw 30\\n'\n",
      "b'Skipping line 9973: expected 29 fields, saw 30\\nSkipping line 16333: expected 29 fields, saw 30\\n'\n",
      "b'Skipping line 211061: expected 29 fields, saw 30\\n'\n",
      "b'Skipping line 294293: expected 29 fields, saw 30\\n'\n",
      "b'Skipping line 327920: expected 29 fields, saw 30\\n'\n",
      "b'Skipping line 124857: expected 29 fields, saw 30\\n'\n",
      "b'Skipping line 86853: expected 29 fields, saw 31\\n'\n",
      "b'Skipping line 124907: expected 29 fields, saw 30\\n'\n",
      "b'Skipping line 144491: expected 29 fields, saw 30\\n'\n",
      "b'Skipping line 218646: expected 29 fields, saw 31\\n'\n",
      "b'Skipping line 349868: expected 29 fields, saw 30\\n'\n"
     ]
    },
    {
     "name": "stdout",
     "output_type": "stream",
     "text": [
      "264.2061769962311\n"
     ]
    }
   ],
   "source": [
    "# The pothole data is supplied by the City of Houston Pothole record site. It is broken down into years. Iterating through\n",
    "# years and appending a Pandas table should populate the data\n",
    "pothole_years = [datayear for datayear in range(2011,dt.date.today().year +1)]\n",
    "pothole_URL_list = ['https://hfdapp.houstontx.gov/311/311-Public-Data-Extract-' + str(year) + '-clean.txt' for year in pothole_years]\n",
    "start = time.time()\n",
    "pothole_df_list = [pd.read_csv(url,sep = \"|\",error_bad_lines=False, index_col=0) for url in pothole_URL_list]\n",
    "end = time.time()\n",
    "print(end - start)"
   ]
  },
  {
   "cell_type": "code",
   "execution_count": 3,
   "metadata": {},
   "outputs": [],
   "source": [
    "#Create set of years and pothole df's to create one dictionary\n",
    "pothole_df_sets = zip(pothole_years,pothole_df_list)\n",
    "pothole_df_dict = dict(pothole_df_sets)"
   ]
  },
  {
   "cell_type": "code",
   "execution_count": 4,
   "metadata": {},
   "outputs": [
    {
     "data": {
      "text/plain": [
       "dict_keys([2011, 2012, 2013, 2014, 2015, 2016, 2017, 2018, 2019, 2020, 2021])"
      ]
     },
     "execution_count": 4,
     "metadata": {},
     "output_type": "execute_result"
    }
   ],
   "source": [
    "#confirm keys of dicitionary of pothole dataframes\n",
    "pothole_df_dict.keys()"
   ]
  },
  {
   "cell_type": "code",
   "execution_count": 5,
   "metadata": {
    "scrolled": true
   },
   "outputs": [
    {
     "data": {
      "text/plain": [
       "{2011: (35072, 28),\n",
       " 2012: (294752, 28),\n",
       " 2013: (313220, 28),\n",
       " 2014: (321929, 28),\n",
       " 2015: (343633, 28),\n",
       " 2016: (361308, 28),\n",
       " 2017: (364664, 28),\n",
       " 2018: (399952, 28),\n",
       " 2019: (395257, 28),\n",
       " 2020: (373117, 28),\n",
       " 2021: (172550, 28)}"
      ]
     },
     "execution_count": 5,
     "metadata": {},
     "output_type": "execute_result"
    }
   ],
   "source": [
    "#visualize dataframe shapes in a dictionary \n",
    "{year : pothole_df_dict[year].shape for year in pothole_years}"
   ]
  },
  {
   "cell_type": "markdown",
   "metadata": {},
   "source": [
    "The same number of columns for all imported pothole dataframes"
   ]
  },
  {
   "cell_type": "code",
   "execution_count": 6,
   "metadata": {
    "scrolled": false
   },
   "outputs": [
    {
     "name": "stdout",
     "output_type": "stream",
     "text": [
      "3375454\n"
     ]
    },
    {
     "data": {
      "text/plain": [
       "0.0008591436885230846"
      ]
     },
     "execution_count": 6,
     "metadata": {},
     "output_type": "execute_result"
    }
   ],
   "source": [
    "#Calculate total number of rows across all dataframes\n",
    "totalrows_pothole = sum([pothole_df_dict[year].shape[0] for year in pothole_years])\n",
    "print(totalrows_pothole)\n",
    "#29 rows skipped\n",
    "29/totalrows_pothole * 100"
   ]
  },
  {
   "cell_type": "markdown",
   "metadata": {},
   "source": [
    "0.0009% of the rows were skipped due to parsing issues where an incorrect number of fields were brought in than expected. This percentage is acceptable to move forward. "
   ]
  },
  {
   "cell_type": "code",
   "execution_count": 7,
   "metadata": {},
   "outputs": [
    {
     "data": {
      "text/plain": [
       "[set(), set(), set(), set(), set(), set(), set(), set(), set(), set()]"
      ]
     },
     "execution_count": 7,
     "metadata": {},
     "output_type": "execute_result"
    }
   ],
   "source": [
    "#Find if there are differences in headers between each pothole df\n",
    "header_lists = [pothole_df_dict[year].columns for year in pothole_years]\n",
    "column_compare = [set(header_lists[x]).difference(set(header_lists[x+1])) for x in range(len(pothole_years)-1)]\n",
    "column_compare"
   ]
  },
  {
   "cell_type": "markdown",
   "metadata": {},
   "source": [
    "All headers appear the same. "
   ]
  },
  {
   "cell_type": "code",
   "execution_count": 8,
   "metadata": {},
   "outputs": [
    {
     "data": {
      "text/plain": [
       "[set(), set(), set(), set(), set(), set(), set(), set(), set(), set()]"
      ]
     },
     "execution_count": 8,
     "metadata": {},
     "output_type": "execute_result"
    }
   ],
   "source": [
    "#Check that data types are the same across pothole df's\n",
    "dtypes_lists = [pothole_df_dict[year].dtypes for year in pothole_years]\n",
    "dtypes_compare = [set(dtypes_lists[x]).difference(set(dtypes_lists[x+1])) for x in range(len(pothole_years)-1)]\n",
    "dtypes_compare"
   ]
  },
  {
   "cell_type": "markdown",
   "metadata": {},
   "source": [
    "All data types for each pothole dataframe appear the same. "
   ]
  },
  {
   "cell_type": "code",
   "execution_count": 9,
   "metadata": {},
   "outputs": [
    {
     "data": {
      "text/plain": [
       "(3375454, 28)"
      ]
     },
     "execution_count": 9,
     "metadata": {},
     "output_type": "execute_result"
    }
   ],
   "source": [
    "#Pothole dataframe combination\n",
    "pothole_total_df_raw = pd.concat(pothole_df_list,axis=0)\n",
    "pothole_total_df_raw.shape"
   ]
  },
  {
   "cell_type": "markdown",
   "metadata": {},
   "source": [
    "Total rows of combined pothole dataframes equals the sum of the individual dataframes. This give confidence that the rows properly merged. "
   ]
  },
  {
   "cell_type": "markdown",
   "metadata": {},
   "source": [
    "## Loading Weather Data"
   ]
  },
  {
   "cell_type": "code",
   "execution_count": 10,
   "metadata": {},
   "outputs": [],
   "source": [
    "# The weather data comes from 24 stations around the greater Houston area. A quick glance at the site showed various levels of\n",
    "# data collection and varying dates of records starting. Data will be limited to the range of 1/1/2011 to present day to\n",
    "# correlate with the pothole tracking start date\n",
    "\n",
    "weather_stations_list = ['USC00414327', 'US1ARPY0002', 'USC00224265', 'USW00012977', 'US1MOFSA215', 'CA001073615', 'US1MOTX0041',\n",
    "                       'US1TXHRR176', 'USC00234019', 'US1MOTX0007', 'USW00053910', 'US1TXHRR147', 'USC00414325', 'US1TXHRR165',\n",
    "                       'USC00503731', 'US1TXHRR269', 'USW00012918', 'US1OHSH0011', 'USC00414333', 'US1MOTX0040', 'US1TXHRR209',\n",
    "                       'USW00012960', 'USW00012975', 'US1TXHRR232']\n",
    "weather_stations_URL_list = ['https://www.ncei.noaa.gov/access/services/data/v1?dataset=daily-summaries&stations=' \n",
    "                             + station \n",
    "                             + '&startDate=2011-01-01&endDate=2020-11-01&units=standard' for station in weather_stations_list]\n",
    "weather_stations_df_list = [pd.read_csv(url,usecols = ['STATION','DATE','PRCP','TAVG','TMAX','TMIN','TOBS']) for url in weather_stations_URL_list]"
   ]
  },
  {
   "cell_type": "code",
   "execution_count": 11,
   "metadata": {},
   "outputs": [
    {
     "data": {
      "text/plain": [
       "(3435, 7)"
      ]
     },
     "execution_count": 11,
     "metadata": {},
     "output_type": "execute_result"
    }
   ],
   "source": [
    "#Check shape of one of the weather df's\n",
    "weather_stations_df_list[0].shape"
   ]
  },
  {
   "cell_type": "code",
   "execution_count": 12,
   "metadata": {},
   "outputs": [],
   "source": [
    "#Create set of stations and weather df's to create one dictionary\n",
    "weather_df_sets = zip(weather_stations_list,weather_stations_df_list)\n",
    "weather_df_dict = dict(weather_df_sets)"
   ]
  },
  {
   "cell_type": "code",
   "execution_count": 13,
   "metadata": {},
   "outputs": [
    {
     "name": "stdout",
     "output_type": "stream",
     "text": [
      "dict_keys(['USC00414327', 'US1ARPY0002', 'USC00224265', 'USW00012977', 'US1MOFSA215', 'CA001073615', 'US1MOTX0041', 'US1TXHRR176', 'USC00234019', 'US1MOTX0007', 'USW00053910', 'US1TXHRR147', 'USC00414325', 'US1TXHRR165', 'USC00503731', 'US1TXHRR269', 'USW00012918', 'US1OHSH0011', 'USC00414333', 'US1MOTX0040', 'US1TXHRR209', 'USW00012960', 'USW00012975', 'US1TXHRR232'])\n"
     ]
    },
    {
     "data": {
      "text/plain": [
       "24"
      ]
     },
     "execution_count": 13,
     "metadata": {},
     "output_type": "execute_result"
    }
   ],
   "source": [
    "#confirm keys of dicitionary of weather dataframes\n",
    "print(weather_df_dict.keys())\n",
    "len(weather_df_dict.keys())"
   ]
  },
  {
   "cell_type": "code",
   "execution_count": 14,
   "metadata": {},
   "outputs": [
    {
     "data": {
      "text/plain": [
       "{'USC00414327': (3435, 7),\n",
       " 'US1ARPY0002': (2673, 7),\n",
       " 'USC00224265': (2296, 7),\n",
       " 'USW00012977': (3592, 7),\n",
       " 'US1MOFSA215': (3286, 7),\n",
       " 'CA001073615': (3277, 7),\n",
       " 'US1MOTX0041': (279, 7),\n",
       " 'US1TXHRR176': (2711, 7),\n",
       " 'USC00234019': (3516, 7),\n",
       " 'US1MOTX0007': (3580, 7),\n",
       " 'USW00053910': (3592, 7),\n",
       " 'US1TXHRR147': (1387, 7),\n",
       " 'USC00414325': (3593, 7),\n",
       " 'US1TXHRR165': (1883, 7),\n",
       " 'USC00503731': (2093, 7),\n",
       " 'US1TXHRR269': (407, 7),\n",
       " 'USW00012918': (3593, 7),\n",
       " 'US1OHSH0011': (3376, 7),\n",
       " 'USC00414333': (3593, 7),\n",
       " 'US1MOTX0040': (1317, 7),\n",
       " 'US1TXHRR209': (2283, 7),\n",
       " 'USW00012960': (3593, 7),\n",
       " 'USW00012975': (3591, 7),\n",
       " 'US1TXHRR232': (1501, 7)}"
      ]
     },
     "execution_count": 14,
     "metadata": {},
     "output_type": "execute_result"
    }
   ],
   "source": [
    "#visualize dataframe shapes in a dictionary \n",
    "{station : weather_df_dict[station].shape for station in weather_stations_list}"
   ]
  },
  {
   "cell_type": "markdown",
   "metadata": {},
   "source": [
    "The same number of columns for all imported weather dataframes"
   ]
  },
  {
   "cell_type": "code",
   "execution_count": 15,
   "metadata": {},
   "outputs": [
    {
     "name": "stdout",
     "output_type": "stream",
     "text": [
      "64447\n"
     ]
    }
   ],
   "source": [
    "#Calculate total number of rows across all dataframes\n",
    "totalrows_weather = sum([weather_df_dict[station].shape[0] for station in weather_stations_list])\n",
    "print(totalrows_weather)"
   ]
  },
  {
   "cell_type": "code",
   "execution_count": 16,
   "metadata": {},
   "outputs": [
    {
     "data": {
      "text/plain": [
       "(64447, 7)"
      ]
     },
     "execution_count": 16,
     "metadata": {},
     "output_type": "execute_result"
    }
   ],
   "source": [
    "#Weather dataframe combination\n",
    "weather_total_df_raw = pd.concat(weather_stations_df_list,axis=0)\n",
    "weather_total_df_raw.shape"
   ]
  },
  {
   "cell_type": "markdown",
   "metadata": {},
   "source": [
    "## Explore The Data and Cleaning"
   ]
  },
  {
   "cell_type": "markdown",
   "metadata": {},
   "source": [
    "### Exploring the Data (Pothole)"
   ]
  },
  {
   "cell_type": "code",
   "execution_count": 17,
   "metadata": {
    "scrolled": true
   },
   "outputs": [
    {
     "data": {
      "text/html": [
       "<div>\n",
       "<style scoped>\n",
       "    .dataframe tbody tr th:only-of-type {\n",
       "        vertical-align: middle;\n",
       "    }\n",
       "\n",
       "    .dataframe tbody tr th {\n",
       "        vertical-align: top;\n",
       "    }\n",
       "\n",
       "    .dataframe thead th {\n",
       "        text-align: right;\n",
       "    }\n",
       "</style>\n",
       "<table border=\"1\" class=\"dataframe\">\n",
       "  <thead>\n",
       "    <tr style=\"text-align: right;\">\n",
       "      <th></th>\n",
       "      <th>SR LOCATION</th>\n",
       "      <th>COUNTY</th>\n",
       "      <th>DISTRICT</th>\n",
       "      <th>NEIGHBORHOOD</th>\n",
       "      <th>TAX ID</th>\n",
       "      <th>TRASH QUAD</th>\n",
       "      <th>RECYCLE QUAD</th>\n",
       "      <th>TRASH DAY</th>\n",
       "      <th>HEAVY TRASH DAY</th>\n",
       "      <th>RECYCLE DAY</th>\n",
       "      <th>...</th>\n",
       "      <th>SR CREATE DATE</th>\n",
       "      <th>DUE DATE</th>\n",
       "      <th>DATE CLOSED</th>\n",
       "      <th>OVERDUE</th>\n",
       "      <th>Title</th>\n",
       "      <th>x</th>\n",
       "      <th>y</th>\n",
       "      <th>LATITUDE</th>\n",
       "      <th>LONGITUDE</th>\n",
       "      <th>Channel Type</th>\n",
       "    </tr>\n",
       "    <tr>\n",
       "      <th>CASE NUMBER</th>\n",
       "      <th></th>\n",
       "      <th></th>\n",
       "      <th></th>\n",
       "      <th></th>\n",
       "      <th></th>\n",
       "      <th></th>\n",
       "      <th></th>\n",
       "      <th></th>\n",
       "      <th></th>\n",
       "      <th></th>\n",
       "      <th></th>\n",
       "      <th></th>\n",
       "      <th></th>\n",
       "      <th></th>\n",
       "      <th></th>\n",
       "      <th></th>\n",
       "      <th></th>\n",
       "      <th></th>\n",
       "      <th></th>\n",
       "      <th></th>\n",
       "      <th></th>\n",
       "    </tr>\n",
       "  </thead>\n",
       "  <tbody>\n",
       "    <tr>\n",
       "      <th>1100329481-101000461231</th>\n",
       "      <td>NaN</td>\n",
       "      <td>Unknown</td>\n",
       "      <td>Unknown</td>\n",
       "      <td>Unknown</td>\n",
       "      <td>Unknown</td>\n",
       "      <td>Unknown</td>\n",
       "      <td>Unknown</td>\n",
       "      <td>Unknown</td>\n",
       "      <td>Unknown</td>\n",
       "      <td>Unknown</td>\n",
       "      <td>...</td>\n",
       "      <td>2011-11-09 01:24:57</td>\n",
       "      <td>2011-12-19 01:24:57</td>\n",
       "      <td>2011-12-29 20:33:19</td>\n",
       "      <td>10.80</td>\n",
       "      <td>Investigate minor main line break</td>\n",
       "      <td>NaN</td>\n",
       "      <td>NaN</td>\n",
       "      <td>Unknown</td>\n",
       "      <td>Unknown</td>\n",
       "      <td>Unknown</td>\n",
       "    </tr>\n",
       "    <tr>\n",
       "      <th>1100329484-101000461236</th>\n",
       "      <td>NaN</td>\n",
       "      <td>Unknown</td>\n",
       "      <td>Unknown</td>\n",
       "      <td>Unknown</td>\n",
       "      <td>Unknown</td>\n",
       "      <td>Unknown</td>\n",
       "      <td>Unknown</td>\n",
       "      <td>Unknown</td>\n",
       "      <td>Unknown</td>\n",
       "      <td>Unknown</td>\n",
       "      <td>...</td>\n",
       "      <td>2011-11-09 02:12:52</td>\n",
       "      <td>2011-12-19 02:12:52</td>\n",
       "      <td>2011-12-29 20:33:53</td>\n",
       "      <td>10.76</td>\n",
       "      <td>Investigate minor main line break</td>\n",
       "      <td>NaN</td>\n",
       "      <td>NaN</td>\n",
       "      <td>Unknown</td>\n",
       "      <td>Unknown</td>\n",
       "      <td>Unknown</td>\n",
       "    </tr>\n",
       "    <tr>\n",
       "      <th>101000451923</th>\n",
       "      <td>611 WALKER, HOUSTON TX 77002</td>\n",
       "      <td>Harris</td>\n",
       "      <td>I</td>\n",
       "      <td>DOWNTOWN</td>\n",
       "      <td>0010890000001</td>\n",
       "      <td>NaN</td>\n",
       "      <td>NaN</td>\n",
       "      <td>NaN</td>\n",
       "      <td>NaN</td>\n",
       "      <td>NaN</td>\n",
       "      <td>...</td>\n",
       "      <td>2011-11-09 05:15:37</td>\n",
       "      <td>2011-11-24 05:15:33</td>\n",
       "      <td>2011-11-09 05:28:13</td>\n",
       "      <td>-14.99</td>\n",
       "      <td>Contact Forestry to request a tree to plant in...</td>\n",
       "      <td>NaN</td>\n",
       "      <td>NaN</td>\n",
       "      <td>29.75989828</td>\n",
       "      <td>-95.36705705</td>\n",
       "      <td>Voice In</td>\n",
       "    </tr>\n",
       "    <tr>\n",
       "      <th>101000451924</th>\n",
       "      <td>611 WALKER, HOUSTON TX 77002</td>\n",
       "      <td>Harris</td>\n",
       "      <td>I</td>\n",
       "      <td>DOWNTOWN</td>\n",
       "      <td>0010890000001</td>\n",
       "      <td>NaN</td>\n",
       "      <td>NaN</td>\n",
       "      <td>NaN</td>\n",
       "      <td>NaN</td>\n",
       "      <td>NaN</td>\n",
       "      <td>...</td>\n",
       "      <td>2011-11-09 05:17:50</td>\n",
       "      <td>2011-11-24 05:17:49</td>\n",
       "      <td>2011-11-09 05:28:02</td>\n",
       "      <td>-14.99</td>\n",
       "      <td>Contact Forestry to request a tree to plant in...</td>\n",
       "      <td>NaN</td>\n",
       "      <td>NaN</td>\n",
       "      <td>29.75989828</td>\n",
       "      <td>-95.36705705</td>\n",
       "      <td>Voice In</td>\n",
       "    </tr>\n",
       "    <tr>\n",
       "      <th>101000451925</th>\n",
       "      <td>TEST, TEST</td>\n",
       "      <td>NaN</td>\n",
       "      <td>Unknown</td>\n",
       "      <td>NaN</td>\n",
       "      <td>NaN</td>\n",
       "      <td>NaN</td>\n",
       "      <td>NaN</td>\n",
       "      <td>NaN</td>\n",
       "      <td>NaN</td>\n",
       "      <td>NaN</td>\n",
       "      <td>...</td>\n",
       "      <td>2011-11-09 05:28:52</td>\n",
       "      <td>2011-11-24 05:28:51</td>\n",
       "      <td>2012-10-23 10:21:29</td>\n",
       "      <td>334.20</td>\n",
       "      <td>Contact Forestry to request a tree to plant in...</td>\n",
       "      <td>NaN</td>\n",
       "      <td>NaN</td>\n",
       "      <td>NaN</td>\n",
       "      <td>NaN</td>\n",
       "      <td>Voice In</td>\n",
       "    </tr>\n",
       "  </tbody>\n",
       "</table>\n",
       "<p>5 rows × 28 columns</p>\n",
       "</div>"
      ],
      "text/plain": [
       "                                          SR LOCATION   COUNTY DISTRICT  \\\n",
       "CASE NUMBER                                                               \n",
       "1100329481-101000461231                           NaN  Unknown  Unknown   \n",
       "1100329484-101000461236                           NaN  Unknown  Unknown   \n",
       "101000451923             611 WALKER, HOUSTON TX 77002   Harris        I   \n",
       "101000451924             611 WALKER, HOUSTON TX 77002   Harris        I   \n",
       "101000451925                               TEST, TEST      NaN  Unknown   \n",
       "\n",
       "                        NEIGHBORHOOD         TAX ID TRASH QUAD RECYCLE QUAD  \\\n",
       "CASE NUMBER                                                                   \n",
       "1100329481-101000461231      Unknown        Unknown    Unknown      Unknown   \n",
       "1100329484-101000461236      Unknown        Unknown    Unknown      Unknown   \n",
       "101000451923                DOWNTOWN  0010890000001        NaN          NaN   \n",
       "101000451924                DOWNTOWN  0010890000001        NaN          NaN   \n",
       "101000451925                     NaN            NaN        NaN          NaN   \n",
       "\n",
       "                        TRASH DAY HEAVY TRASH DAY RECYCLE DAY  ...  \\\n",
       "CASE NUMBER                                                    ...   \n",
       "1100329481-101000461231   Unknown         Unknown     Unknown  ...   \n",
       "1100329484-101000461236   Unknown         Unknown     Unknown  ...   \n",
       "101000451923                  NaN             NaN         NaN  ...   \n",
       "101000451924                  NaN             NaN         NaN  ...   \n",
       "101000451925                  NaN             NaN         NaN  ...   \n",
       "\n",
       "                              SR CREATE DATE             DUE DATE  \\\n",
       "CASE NUMBER                                                         \n",
       "1100329481-101000461231  2011-11-09 01:24:57  2011-12-19 01:24:57   \n",
       "1100329484-101000461236  2011-11-09 02:12:52  2011-12-19 02:12:52   \n",
       "101000451923             2011-11-09 05:15:37  2011-11-24 05:15:33   \n",
       "101000451924             2011-11-09 05:17:50  2011-11-24 05:17:49   \n",
       "101000451925             2011-11-09 05:28:52  2011-11-24 05:28:51   \n",
       "\n",
       "                                 DATE CLOSED OVERDUE  \\\n",
       "CASE NUMBER                                            \n",
       "1100329481-101000461231  2011-12-29 20:33:19   10.80   \n",
       "1100329484-101000461236  2011-12-29 20:33:53   10.76   \n",
       "101000451923             2011-11-09 05:28:13  -14.99   \n",
       "101000451924             2011-11-09 05:28:02  -14.99   \n",
       "101000451925             2012-10-23 10:21:29  334.20   \n",
       "\n",
       "                                                                     Title  \\\n",
       "CASE NUMBER                                                                  \n",
       "1100329481-101000461231                  Investigate minor main line break   \n",
       "1100329484-101000461236                  Investigate minor main line break   \n",
       "101000451923             Contact Forestry to request a tree to plant in...   \n",
       "101000451924             Contact Forestry to request a tree to plant in...   \n",
       "101000451925             Contact Forestry to request a tree to plant in...   \n",
       "\n",
       "                          x   y     LATITUDE     LONGITUDE Channel Type  \n",
       "CASE NUMBER                                                              \n",
       "1100329481-101000461231 NaN NaN      Unknown       Unknown      Unknown  \n",
       "1100329484-101000461236 NaN NaN      Unknown       Unknown      Unknown  \n",
       "101000451923            NaN NaN  29.75989828  -95.36705705     Voice In  \n",
       "101000451924            NaN NaN  29.75989828  -95.36705705     Voice In  \n",
       "101000451925            NaN NaN          NaN           NaN     Voice In  \n",
       "\n",
       "[5 rows x 28 columns]"
      ]
     },
     "execution_count": 17,
     "metadata": {},
     "output_type": "execute_result"
    }
   ],
   "source": [
    "#Explore the columns and initial data of the potholes\n",
    "pothole_total_df_raw.head()"
   ]
  },
  {
   "cell_type": "code",
   "execution_count": 18,
   "metadata": {},
   "outputs": [
    {
     "data": {
      "text/plain": [
       "Index(['SR LOCATION', 'COUNTY', 'DISTRICT', 'NEIGHBORHOOD', 'TAX ID',\n",
       "       'TRASH QUAD', 'RECYCLE QUAD', 'TRASH DAY', 'HEAVY TRASH DAY',\n",
       "       'RECYCLE DAY', 'KEY MAP', 'MANAGEMENT DISTRICT', 'DEPARTMENT',\n",
       "       'DIVISION', 'SR TYPE', 'QUEUE', 'SLA', 'STATUS', 'SR CREATE DATE',\n",
       "       'DUE DATE', 'DATE CLOSED', 'OVERDUE', 'Title', 'x', 'y', 'LATITUDE',\n",
       "       'LONGITUDE', 'Channel Type'],\n",
       "      dtype='object')"
      ]
     },
     "execution_count": 18,
     "metadata": {},
     "output_type": "execute_result"
    }
   ],
   "source": [
    "#Explore the columns\n",
    "pothole_total_df_raw.columns"
   ]
  },
  {
   "cell_type": "code",
   "execution_count": 19,
   "metadata": {},
   "outputs": [
    {
     "data": {
      "text/plain": [
       "SR LOCATION             object\n",
       "COUNTY                  object\n",
       "DISTRICT                object\n",
       "NEIGHBORHOOD            object\n",
       "TAX ID                  object\n",
       "TRASH QUAD              object\n",
       "RECYCLE QUAD            object\n",
       "TRASH DAY               object\n",
       "HEAVY TRASH DAY         object\n",
       "RECYCLE DAY             object\n",
       "KEY MAP                 object\n",
       "MANAGEMENT DISTRICT     object\n",
       "DEPARTMENT              object\n",
       "DIVISION                object\n",
       "SR TYPE                 object\n",
       "QUEUE                   object\n",
       "SLA                    float64\n",
       "STATUS                  object\n",
       "SR CREATE DATE          object\n",
       "DUE DATE                object\n",
       "DATE CLOSED             object\n",
       "OVERDUE                float64\n",
       "Title                   object\n",
       "x                      float64\n",
       "y                      float64\n",
       "LATITUDE                object\n",
       "LONGITUDE               object\n",
       "Channel Type            object\n",
       "dtype: object"
      ]
     },
     "execution_count": 19,
     "metadata": {},
     "output_type": "execute_result"
    }
   ],
   "source": [
    "#Check data types\n",
    "pothole_total_df_raw.dtypes"
   ]
  },
  {
   "cell_type": "markdown",
   "metadata": {},
   "source": [
    " - DUE DATE, DATE CLOSED, and ST CREATE DATE will need to be converted to datetime format. \n",
    " - Latitude and Longitude will need to be converted to float."
   ]
  },
  {
   "cell_type": "code",
   "execution_count": 20,
   "metadata": {
    "scrolled": true
   },
   "outputs": [
    {
     "data": {
      "text/html": [
       "<div>\n",
       "<style scoped>\n",
       "    .dataframe tbody tr th:only-of-type {\n",
       "        vertical-align: middle;\n",
       "    }\n",
       "\n",
       "    .dataframe tbody tr th {\n",
       "        vertical-align: top;\n",
       "    }\n",
       "\n",
       "    .dataframe thead th {\n",
       "        text-align: right;\n",
       "    }\n",
       "</style>\n",
       "<table border=\"1\" class=\"dataframe\">\n",
       "  <thead>\n",
       "    <tr style=\"text-align: right;\">\n",
       "      <th></th>\n",
       "      <th>count</th>\n",
       "      <th>%</th>\n",
       "    </tr>\n",
       "  </thead>\n",
       "  <tbody>\n",
       "    <tr>\n",
       "      <th>MANAGEMENT DISTRICT</th>\n",
       "      <td>1878212</td>\n",
       "      <td>55.643241</td>\n",
       "    </tr>\n",
       "    <tr>\n",
       "      <th>TRASH DAY</th>\n",
       "      <td>1003511</td>\n",
       "      <td>29.729660</td>\n",
       "    </tr>\n",
       "    <tr>\n",
       "      <th>RECYCLE DAY</th>\n",
       "      <td>828677</td>\n",
       "      <td>24.550090</td>\n",
       "    </tr>\n",
       "    <tr>\n",
       "      <th>RECYCLE QUAD</th>\n",
       "      <td>820710</td>\n",
       "      <td>24.314063</td>\n",
       "    </tr>\n",
       "    <tr>\n",
       "      <th>HEAVY TRASH DAY</th>\n",
       "      <td>805049</td>\n",
       "      <td>23.850095</td>\n",
       "    </tr>\n",
       "    <tr>\n",
       "      <th>TRASH QUAD</th>\n",
       "      <td>800144</td>\n",
       "      <td>23.704782</td>\n",
       "    </tr>\n",
       "    <tr>\n",
       "      <th>TAX ID</th>\n",
       "      <td>659322</td>\n",
       "      <td>19.532839</td>\n",
       "    </tr>\n",
       "    <tr>\n",
       "      <th>y</th>\n",
       "      <td>358430</td>\n",
       "      <td>10.618720</td>\n",
       "    </tr>\n",
       "    <tr>\n",
       "      <th>x</th>\n",
       "      <td>358430</td>\n",
       "      <td>10.618720</td>\n",
       "    </tr>\n",
       "    <tr>\n",
       "      <th>LATITUDE</th>\n",
       "      <td>86288</td>\n",
       "      <td>2.556338</td>\n",
       "    </tr>\n",
       "    <tr>\n",
       "      <th>LONGITUDE</th>\n",
       "      <td>86288</td>\n",
       "      <td>2.556338</td>\n",
       "    </tr>\n",
       "    <tr>\n",
       "      <th>COUNTY</th>\n",
       "      <td>67720</td>\n",
       "      <td>2.006249</td>\n",
       "    </tr>\n",
       "    <tr>\n",
       "      <th>NEIGHBORHOOD</th>\n",
       "      <td>40557</td>\n",
       "      <td>1.201527</td>\n",
       "    </tr>\n",
       "    <tr>\n",
       "      <th>SR LOCATION</th>\n",
       "      <td>24354</td>\n",
       "      <td>0.721503</td>\n",
       "    </tr>\n",
       "    <tr>\n",
       "      <th>DISTRICT</th>\n",
       "      <td>18806</td>\n",
       "      <td>0.557140</td>\n",
       "    </tr>\n",
       "    <tr>\n",
       "      <th>DATE CLOSED</th>\n",
       "      <td>16330</td>\n",
       "      <td>0.483787</td>\n",
       "    </tr>\n",
       "    <tr>\n",
       "      <th>SLA</th>\n",
       "      <td>14539</td>\n",
       "      <td>0.430727</td>\n",
       "    </tr>\n",
       "    <tr>\n",
       "      <th>KEY MAP</th>\n",
       "      <td>13981</td>\n",
       "      <td>0.414196</td>\n",
       "    </tr>\n",
       "    <tr>\n",
       "      <th>DUE DATE</th>\n",
       "      <td>5692</td>\n",
       "      <td>0.168629</td>\n",
       "    </tr>\n",
       "    <tr>\n",
       "      <th>OVERDUE</th>\n",
       "      <td>5690</td>\n",
       "      <td>0.168570</td>\n",
       "    </tr>\n",
       "    <tr>\n",
       "      <th>Channel Type</th>\n",
       "      <td>5690</td>\n",
       "      <td>0.168570</td>\n",
       "    </tr>\n",
       "    <tr>\n",
       "      <th>Title</th>\n",
       "      <td>23</td>\n",
       "      <td>0.000681</td>\n",
       "    </tr>\n",
       "    <tr>\n",
       "      <th>SR CREATE DATE</th>\n",
       "      <td>0</td>\n",
       "      <td>0.000000</td>\n",
       "    </tr>\n",
       "    <tr>\n",
       "      <th>STATUS</th>\n",
       "      <td>0</td>\n",
       "      <td>0.000000</td>\n",
       "    </tr>\n",
       "    <tr>\n",
       "      <th>QUEUE</th>\n",
       "      <td>0</td>\n",
       "      <td>0.000000</td>\n",
       "    </tr>\n",
       "    <tr>\n",
       "      <th>DIVISION</th>\n",
       "      <td>0</td>\n",
       "      <td>0.000000</td>\n",
       "    </tr>\n",
       "    <tr>\n",
       "      <th>DEPARTMENT</th>\n",
       "      <td>0</td>\n",
       "      <td>0.000000</td>\n",
       "    </tr>\n",
       "    <tr>\n",
       "      <th>SR TYPE</th>\n",
       "      <td>0</td>\n",
       "      <td>0.000000</td>\n",
       "    </tr>\n",
       "  </tbody>\n",
       "</table>\n",
       "</div>"
      ],
      "text/plain": [
       "                       count          %\n",
       "MANAGEMENT DISTRICT  1878212  55.643241\n",
       "TRASH DAY            1003511  29.729660\n",
       "RECYCLE DAY           828677  24.550090\n",
       "RECYCLE QUAD          820710  24.314063\n",
       "HEAVY TRASH DAY       805049  23.850095\n",
       "TRASH QUAD            800144  23.704782\n",
       "TAX ID                659322  19.532839\n",
       "y                     358430  10.618720\n",
       "x                     358430  10.618720\n",
       "LATITUDE               86288   2.556338\n",
       "LONGITUDE              86288   2.556338\n",
       "COUNTY                 67720   2.006249\n",
       "NEIGHBORHOOD           40557   1.201527\n",
       "SR LOCATION            24354   0.721503\n",
       "DISTRICT               18806   0.557140\n",
       "DATE CLOSED            16330   0.483787\n",
       "SLA                    14539   0.430727\n",
       "KEY MAP                13981   0.414196\n",
       "DUE DATE                5692   0.168629\n",
       "OVERDUE                 5690   0.168570\n",
       "Channel Type            5690   0.168570\n",
       "Title                     23   0.000681\n",
       "SR CREATE DATE             0   0.000000\n",
       "STATUS                     0   0.000000\n",
       "QUEUE                      0   0.000000\n",
       "DIVISION                   0   0.000000\n",
       "DEPARTMENT                 0   0.000000\n",
       "SR TYPE                    0   0.000000"
      ]
     },
     "execution_count": 20,
     "metadata": {},
     "output_type": "execute_result"
    }
   ],
   "source": [
    "#Check for the number of missing data for each column\n",
    "missing = pd.concat([pothole_total_df_raw.isnull().sum(), 100 * pothole_total_df_raw.isnull().mean()], axis=1)\n",
    "missing.columns=['count', '%']\n",
    "missing.sort_values(by='count', ascending=False)"
   ]
  },
  {
   "cell_type": "markdown",
   "metadata": {},
   "source": [
    "Target values for this dataset will be location columns. \n",
    "Therefore we can remove MANAGEMENT DISTRICT, TRASH DAY, RECYCLE DAY, RECYCLE QUAD, KEY MAP, HEAVY TRASH DAY, TRASH QUAD, TAX ID, Y, and X since these have many missing values and also are not needed. "
   ]
  },
  {
   "cell_type": "markdown",
   "metadata": {},
   "source": [
    "#### Description of channels\n",
    "\n",
    "* Column: Description\n",
    "* CASE_NUMBER: Unique case ID\n",
    "* Caller_CITY: Caller's City\n",
    "* Caller_STATE: Caller's State\n",
    "* Caller_ZIP: Caller's Zip\n",
    "* SR_LOCATION: The location the service request is being called in for\n",
    "* COUNTY: The county of the service request\n",
    "* DISTRICT: The geocoded Council district of the service request\n",
    "* NEIGHBORHOOD: The neighborhood of the geocoded service request\n",
    "* TAX_ID: The HCAD property tax ID for the service request\n",
    "* SERVICE_AREA: \n",
    "* KEY_MAP: Key map of the service request\n",
    "* MANAGEMENT_DISTRICT: The management district of the service request location\n",
    "* TRASH_DAY: The trash day of the service request location\n",
    "* HEAVY_TRASH_DAY: The heavy trash day of the service request location\n",
    "* RECYCLE_DAY: The recycling day of the service request location\n",
    "* SR_CREATOR: The creator of the service request \n",
    "* DEPARTMENT: The department the service request is directed to (could be virtual department, e.g. 311 Help Line)\n",
    "* DIVISION: The division the service request is directed to (e.g. Knowledge)\n",
    "* SR_TYPE: The service request type\n",
    "* QUEUE: The queue the service request is put into\n",
    "* SLA: The service level agreement days. The number of days the department has from the create date to address the service request\n",
    "* STATUS: Status of the service request. Closed does not necessarily mean the SR was solved to meet citizen needs.\n",
    "* SR_CREATE_DATE: The create date of the service request\n",
    "* DUE_DATE: The due date of the service request based on the SLA days\n",
    "* DATE_CLOSED: The date the service request is closed\n",
    "* OVERDUE: If the number is negative, it means the number days the service request was completed before the SLA was due (or, how many days are remaining to the SLA if the case is still open). If positive, it means the number of days the service request was complete after the SLA was due (or, how many days past the SLA if the case is still outstanding)\n",
    "* x: The ESRI projection system X of the service request; this X is the best guess based on the P&D address points available at the time the service request was created\n",
    "* y: The ESRI projection system Y of the service request; this Y is a the best guess based on the P&D address points available at the time the service request was created\n",
    "* LATITUDE: Decimal Degrees longitude\n",
    "* LONGITUDE: Decimal Degrees longitude\n",
    "* Channel Type: How the ticket came in\n",
    "\n"
   ]
  },
  {
   "cell_type": "code",
   "execution_count": 21,
   "metadata": {
    "scrolled": true
   },
   "outputs": [
    {
     "data": {
      "text/plain": [
       "Container Problem                  212366\n",
       "Nuisance On Property               210972\n",
       "Missed Garbage Pickup              191405\n",
       "Water Leak                         173840\n",
       "Sewer Wastewater                   159820\n",
       "                                    ...  \n",
       "Open Records                            2\n",
       "Curb Repair due to Utility Work         2\n",
       "Water Shortage Violation                1\n",
       "Driveway Replacement                    1\n",
       "Pothole (App_Serv)                      1\n",
       "Name: SR TYPE, Length: 290, dtype: int64"
      ]
     },
     "execution_count": 21,
     "metadata": {},
     "output_type": "execute_result"
    }
   ],
   "source": [
    "#Check ST Types to make sure only pothole data is present\n",
    "pothole_total_df_raw['SR TYPE'].value_counts()"
   ]
  },
  {
   "cell_type": "code",
   "execution_count": 22,
   "metadata": {},
   "outputs": [
    {
     "data": {
      "text/plain": [
       "64505"
      ]
     },
     "execution_count": 22,
     "metadata": {},
     "output_type": "execute_result"
    }
   ],
   "source": [
    "#Check to see how many Service Request Types are pothole related. The rest are not needed as they are for another service\n",
    "SR_pothole = pothole_total_df_raw['SR TYPE'].str.lower()\n",
    "SR_pothole.str.contains('pothole').sum()"
   ]
  },
  {
   "cell_type": "markdown",
   "metadata": {},
   "source": [
    "### Cleaning the Data (Pothole)"
   ]
  },
  {
   "cell_type": "markdown",
   "metadata": {},
   "source": [
    "#### Checking for Inconsistencies and Removing Unnecessary Columns"
   ]
  },
  {
   "cell_type": "code",
   "execution_count": 23,
   "metadata": {},
   "outputs": [],
   "source": [
    "#Create a copy of the pothole df to leave the original intact \n",
    "pothole_df_scrub = pothole_total_df_raw"
   ]
  },
  {
   "cell_type": "code",
   "execution_count": 24,
   "metadata": {},
   "outputs": [],
   "source": [
    "#Limit to ST Type equal to pothole for only pothole information\n",
    "pothole_df_scrub = pothole_df_scrub[pothole_df_scrub['SR TYPE'] == 'Pothole']"
   ]
  },
  {
   "cell_type": "code",
   "execution_count": 25,
   "metadata": {
    "scrolled": false
   },
   "outputs": [
    {
     "name": "stdout",
     "output_type": "stream",
     "text": [
      "(64387, 28)\n"
     ]
    },
    {
     "data": {
      "text/html": [
       "<div>\n",
       "<style scoped>\n",
       "    .dataframe tbody tr th:only-of-type {\n",
       "        vertical-align: middle;\n",
       "    }\n",
       "\n",
       "    .dataframe tbody tr th {\n",
       "        vertical-align: top;\n",
       "    }\n",
       "\n",
       "    .dataframe thead th {\n",
       "        text-align: right;\n",
       "    }\n",
       "</style>\n",
       "<table border=\"1\" class=\"dataframe\">\n",
       "  <thead>\n",
       "    <tr style=\"text-align: right;\">\n",
       "      <th></th>\n",
       "      <th>SR LOCATION</th>\n",
       "      <th>COUNTY</th>\n",
       "      <th>DISTRICT</th>\n",
       "      <th>NEIGHBORHOOD</th>\n",
       "      <th>TAX ID</th>\n",
       "      <th>TRASH QUAD</th>\n",
       "      <th>RECYCLE QUAD</th>\n",
       "      <th>TRASH DAY</th>\n",
       "      <th>HEAVY TRASH DAY</th>\n",
       "      <th>RECYCLE DAY</th>\n",
       "      <th>...</th>\n",
       "      <th>SR CREATE DATE</th>\n",
       "      <th>DUE DATE</th>\n",
       "      <th>DATE CLOSED</th>\n",
       "      <th>OVERDUE</th>\n",
       "      <th>Title</th>\n",
       "      <th>x</th>\n",
       "      <th>y</th>\n",
       "      <th>LATITUDE</th>\n",
       "      <th>LONGITUDE</th>\n",
       "      <th>Channel Type</th>\n",
       "    </tr>\n",
       "    <tr>\n",
       "      <th>CASE NUMBER</th>\n",
       "      <th></th>\n",
       "      <th></th>\n",
       "      <th></th>\n",
       "      <th></th>\n",
       "      <th></th>\n",
       "      <th></th>\n",
       "      <th></th>\n",
       "      <th></th>\n",
       "      <th></th>\n",
       "      <th></th>\n",
       "      <th></th>\n",
       "      <th></th>\n",
       "      <th></th>\n",
       "      <th></th>\n",
       "      <th></th>\n",
       "      <th></th>\n",
       "      <th></th>\n",
       "      <th></th>\n",
       "      <th></th>\n",
       "      <th></th>\n",
       "      <th></th>\n",
       "    </tr>\n",
       "  </thead>\n",
       "  <tbody>\n",
       "    <tr>\n",
       "      <th>11433929-101000452108</th>\n",
       "      <td>Intersection 13500 S POST OAK RD &amp; 5400 WILLOM...</td>\n",
       "      <td>Harris County</td>\n",
       "      <td>K</td>\n",
       "      <td>CENTRAL SOUTHWEST</td>\n",
       "      <td>NaN</td>\n",
       "      <td>NaN</td>\n",
       "      <td>NaN</td>\n",
       "      <td>NaN</td>\n",
       "      <td>NaN</td>\n",
       "      <td>NaN</td>\n",
       "      <td>...</td>\n",
       "      <td>2011-11-09 06:49:13</td>\n",
       "      <td>2011-11-19 06:49:12</td>\n",
       "      <td>2011-11-22 09:26:28</td>\n",
       "      <td>3.11</td>\n",
       "      <td>Pothole</td>\n",
       "      <td>3.091633e+06</td>\n",
       "      <td>1.379371e+07</td>\n",
       "      <td>29.63033251</td>\n",
       "      <td>-95.46407063</td>\n",
       "      <td>Voice In</td>\n",
       "    </tr>\n",
       "    <tr>\n",
       "      <th>11433959-101000452225</th>\n",
       "      <td>8142 BONNER, HOUSTON TX 77017</td>\n",
       "      <td>HARRIS</td>\n",
       "      <td>I</td>\n",
       "      <td>MEADOWBROOK / ALLENDALE</td>\n",
       "      <td>0591820220008</td>\n",
       "      <td>SE</td>\n",
       "      <td>SE</td>\n",
       "      <td>MONDAY</td>\n",
       "      <td>1st Monday</td>\n",
       "      <td>MONDAY-B</td>\n",
       "      <td>...</td>\n",
       "      <td>2011-11-09 08:55:49</td>\n",
       "      <td>2011-11-19 08:55:49</td>\n",
       "      <td>2011-12-01 09:20:03</td>\n",
       "      <td>12.02</td>\n",
       "      <td>Pothole</td>\n",
       "      <td>3.154563e+06</td>\n",
       "      <td>1.381395e+07</td>\n",
       "      <td>29.6805785</td>\n",
       "      <td>-95.26404703</td>\n",
       "      <td>Voice In</td>\n",
       "    </tr>\n",
       "    <tr>\n",
       "      <th>11455803-101000452382</th>\n",
       "      <td>875 LOCKWOOD, HOUSTON TX 77020</td>\n",
       "      <td>Harris</td>\n",
       "      <td>B</td>\n",
       "      <td>GREATER FIFTH WARD</td>\n",
       "      <td>0402630000023</td>\n",
       "      <td>NaN</td>\n",
       "      <td>NaN</td>\n",
       "      <td>NaN</td>\n",
       "      <td>NaN</td>\n",
       "      <td>NaN</td>\n",
       "      <td>...</td>\n",
       "      <td>2011-11-09 10:32:12</td>\n",
       "      <td>2011-11-19 10:32:11</td>\n",
       "      <td>2012-01-25 11:25:38</td>\n",
       "      <td>67.04</td>\n",
       "      <td>Pothole</td>\n",
       "      <td>3.136677e+06</td>\n",
       "      <td>1.384265e+07</td>\n",
       "      <td>29.76103454</td>\n",
       "      <td>-95.31750208</td>\n",
       "      <td>Voice In</td>\n",
       "    </tr>\n",
       "    <tr>\n",
       "      <th>11434023-101000452387</th>\n",
       "      <td>875 LOCKWOOD, HOUSTON TX 77020</td>\n",
       "      <td>Harris</td>\n",
       "      <td>B</td>\n",
       "      <td>GREATER FIFTH WARD</td>\n",
       "      <td>0402630000023</td>\n",
       "      <td>NaN</td>\n",
       "      <td>NaN</td>\n",
       "      <td>NaN</td>\n",
       "      <td>NaN</td>\n",
       "      <td>NaN</td>\n",
       "      <td>...</td>\n",
       "      <td>2011-11-09 10:35:11</td>\n",
       "      <td>2011-11-19 10:35:10</td>\n",
       "      <td>2011-11-29 12:49:13</td>\n",
       "      <td>10.09</td>\n",
       "      <td>Pothole</td>\n",
       "      <td>3.136677e+06</td>\n",
       "      <td>1.384265e+07</td>\n",
       "      <td>29.76103454</td>\n",
       "      <td>-95.31750208</td>\n",
       "      <td>Voice In</td>\n",
       "    </tr>\n",
       "    <tr>\n",
       "      <th>11434047-101000452444</th>\n",
       "      <td>12501 BRIAR FOREST, HOUSTON TX 77077</td>\n",
       "      <td>HARRIS</td>\n",
       "      <td>G</td>\n",
       "      <td>BRIAR FOREST</td>\n",
       "      <td>0992570020007</td>\n",
       "      <td>NaN</td>\n",
       "      <td>NaN</td>\n",
       "      <td>NaN</td>\n",
       "      <td>NaN</td>\n",
       "      <td>NaN</td>\n",
       "      <td>...</td>\n",
       "      <td>2011-11-09 11:09:56</td>\n",
       "      <td>2011-11-19 11:09:56</td>\n",
       "      <td>2011-11-29 13:00:17</td>\n",
       "      <td>10.08</td>\n",
       "      <td>Pothole</td>\n",
       "      <td>3.046384e+06</td>\n",
       "      <td>1.383720e+07</td>\n",
       "      <td>29.75355695</td>\n",
       "      <td>-95.60246727</td>\n",
       "      <td>Voice In</td>\n",
       "    </tr>\n",
       "  </tbody>\n",
       "</table>\n",
       "<p>5 rows × 28 columns</p>\n",
       "</div>"
      ],
      "text/plain": [
       "                                                             SR LOCATION  \\\n",
       "CASE NUMBER                                                                \n",
       "11433929-101000452108  Intersection 13500 S POST OAK RD & 5400 WILLOM...   \n",
       "11433959-101000452225                      8142 BONNER, HOUSTON TX 77017   \n",
       "11455803-101000452382                     875 LOCKWOOD, HOUSTON TX 77020   \n",
       "11434023-101000452387                     875 LOCKWOOD, HOUSTON TX 77020   \n",
       "11434047-101000452444               12501 BRIAR FOREST, HOUSTON TX 77077   \n",
       "\n",
       "                              COUNTY DISTRICT             NEIGHBORHOOD  \\\n",
       "CASE NUMBER                                                              \n",
       "11433929-101000452108  Harris County        K        CENTRAL SOUTHWEST   \n",
       "11433959-101000452225         HARRIS        I  MEADOWBROOK / ALLENDALE   \n",
       "11455803-101000452382         Harris        B       GREATER FIFTH WARD   \n",
       "11434023-101000452387         Harris        B       GREATER FIFTH WARD   \n",
       "11434047-101000452444         HARRIS        G             BRIAR FOREST   \n",
       "\n",
       "                              TAX ID TRASH QUAD RECYCLE QUAD TRASH DAY  \\\n",
       "CASE NUMBER                                                              \n",
       "11433929-101000452108            NaN        NaN          NaN       NaN   \n",
       "11433959-101000452225  0591820220008         SE           SE    MONDAY   \n",
       "11455803-101000452382  0402630000023        NaN          NaN       NaN   \n",
       "11434023-101000452387  0402630000023        NaN          NaN       NaN   \n",
       "11434047-101000452444  0992570020007        NaN          NaN       NaN   \n",
       "\n",
       "                      HEAVY TRASH DAY RECYCLE DAY  ...       SR CREATE DATE  \\\n",
       "CASE NUMBER                                        ...                        \n",
       "11433929-101000452108             NaN         NaN  ...  2011-11-09 06:49:13   \n",
       "11433959-101000452225      1st Monday    MONDAY-B  ...  2011-11-09 08:55:49   \n",
       "11455803-101000452382             NaN         NaN  ...  2011-11-09 10:32:12   \n",
       "11434023-101000452387             NaN         NaN  ...  2011-11-09 10:35:11   \n",
       "11434047-101000452444             NaN         NaN  ...  2011-11-09 11:09:56   \n",
       "\n",
       "                                  DUE DATE          DATE CLOSED OVERDUE  \\\n",
       "CASE NUMBER                                                               \n",
       "11433929-101000452108  2011-11-19 06:49:12  2011-11-22 09:26:28    3.11   \n",
       "11433959-101000452225  2011-11-19 08:55:49  2011-12-01 09:20:03   12.02   \n",
       "11455803-101000452382  2011-11-19 10:32:11  2012-01-25 11:25:38   67.04   \n",
       "11434023-101000452387  2011-11-19 10:35:10  2011-11-29 12:49:13   10.09   \n",
       "11434047-101000452444  2011-11-19 11:09:56  2011-11-29 13:00:17   10.08   \n",
       "\n",
       "                         Title             x             y     LATITUDE  \\\n",
       "CASE NUMBER                                                               \n",
       "11433929-101000452108  Pothole  3.091633e+06  1.379371e+07  29.63033251   \n",
       "11433959-101000452225  Pothole  3.154563e+06  1.381395e+07   29.6805785   \n",
       "11455803-101000452382  Pothole  3.136677e+06  1.384265e+07  29.76103454   \n",
       "11434023-101000452387  Pothole  3.136677e+06  1.384265e+07  29.76103454   \n",
       "11434047-101000452444  Pothole  3.046384e+06  1.383720e+07  29.75355695   \n",
       "\n",
       "                          LONGITUDE Channel Type  \n",
       "CASE NUMBER                                       \n",
       "11433929-101000452108  -95.46407063     Voice In  \n",
       "11433959-101000452225  -95.26404703     Voice In  \n",
       "11455803-101000452382  -95.31750208     Voice In  \n",
       "11434023-101000452387  -95.31750208     Voice In  \n",
       "11434047-101000452444  -95.60246727     Voice In  \n",
       "\n",
       "[5 rows x 28 columns]"
      ]
     },
     "execution_count": 25,
     "metadata": {},
     "output_type": "execute_result"
    }
   ],
   "source": [
    "print(pothole_df_scrub.shape)\n",
    "pothole_df_scrub.head()"
   ]
  },
  {
   "cell_type": "markdown",
   "metadata": {},
   "source": [
    "#### Check for the uniqueness of each column"
   ]
  },
  {
   "cell_type": "code",
   "execution_count": 26,
   "metadata": {},
   "outputs": [
    {
     "data": {
      "text/plain": [
       "array(['harris county', 'harris', nan, 'unknown', 'fort bend county',\n",
       "       'fort bend', 'montgomery county', 'montgomery', 'galveston county',\n",
       "       'brazoria county'], dtype=object)"
      ]
     },
     "execution_count": 26,
     "metadata": {},
     "output_type": "execute_result"
    }
   ],
   "source": [
    "#Visualize the different forms of the entries of County. Not needed yet but in case this column is needed, can adjust at the time. \n",
    "pothole_df_scrub['COUNTY'].str.lower().unique()"
   ]
  },
  {
   "cell_type": "code",
   "execution_count": 27,
   "metadata": {},
   "outputs": [
    {
     "data": {
      "text/plain": [
       "array(['pwe public works engineering'], dtype=object)"
      ]
     },
     "execution_count": 27,
     "metadata": {},
     "output_type": "execute_result"
    }
   ],
   "source": [
    "pothole_df_scrub.DEPARTMENT.str.lower().unique()"
   ]
  },
  {
   "cell_type": "code",
   "execution_count": 28,
   "metadata": {},
   "outputs": [
    {
     "data": {
      "text/plain": [
       "array(['k', 'i', 'b', 'g', 'unknown', 'f', 'c', 'a', 'j', 'd', 'h', 'e',\n",
       "       nan], dtype=object)"
      ]
     },
     "execution_count": 28,
     "metadata": {},
     "output_type": "execute_result"
    }
   ],
   "source": [
    "pothole_df_scrub.DISTRICT.str.lower().unique()"
   ]
  },
  {
   "cell_type": "code",
   "execution_count": 29,
   "metadata": {},
   "outputs": [
    {
     "data": {
      "text/plain": [
       "array(['pothole', nan, 'pothole - 1362', ..., 'pothole - 459957',\n",
       "       'pothole - 459981', 'pothole - 460022'], dtype=object)"
      ]
     },
     "execution_count": 29,
     "metadata": {},
     "output_type": "execute_result"
    }
   ],
   "source": [
    "pothole_df_scrub.Title.str.lower().unique()"
   ]
  },
  {
   "cell_type": "code",
   "execution_count": 30,
   "metadata": {},
   "outputs": [
    {
     "data": {
      "text/plain": [
       "array(['street and drainage'], dtype=object)"
      ]
     },
     "execution_count": 30,
     "metadata": {},
     "output_type": "execute_result"
    }
   ],
   "source": [
    "pothole_df_scrub.DIVISION.str.lower().unique()"
   ]
  },
  {
   "cell_type": "code",
   "execution_count": 31,
   "metadata": {},
   "outputs": [
    {
     "data": {
      "text/plain": [
       "array([18.])"
      ]
     },
     "execution_count": 31,
     "metadata": {},
     "output_type": "execute_result"
    }
   ],
   "source": [
    "pothole_df_scrub.SLA.unique()"
   ]
  },
  {
   "cell_type": "code",
   "execution_count": 32,
   "metadata": {},
   "outputs": [
    {
     "data": {
      "text/plain": [
       "array(['rowm_streetmain', 'hpw_complaints', 'no queue assigned to user',\n",
       "       'pu_water', 'defectivecase', 'cao_potholerescontact',\n",
       "       '311_helpline'], dtype=object)"
      ]
     },
     "execution_count": 32,
     "metadata": {},
     "output_type": "execute_result"
    }
   ],
   "source": [
    "pothole_df_scrub.QUEUE.str.lower().unique()"
   ]
  },
  {
   "cell_type": "code",
   "execution_count": 33,
   "metadata": {
    "scrolled": true
   },
   "outputs": [
    {
     "data": {
      "text/plain": [
       "array(['central southwest', 'meadowbrook / allendale',\n",
       "       'greater fifth ward', 'briar forest', nan, 'alief',\n",
       "       'meyerland area', 'clinton park tri-community',\n",
       "       'eldridge / west oaks', 'university place', 'greater inwood',\n",
       "       'neartown - montrose', 'trinity / houston gardens', 'unknown',\n",
       "       'sharpstown', 'braeburn', 'westchase', 'spring branch east',\n",
       "       'fairbanks / northwest crossing', 'greater third ward',\n",
       "       'greater eastwood', 'south main', 'central northwest',\n",
       "       'washington avenue coalition / memorial p',\n",
       "       'greenway / upper kirby area', 'south belt / ellington',\n",
       "       'afton oaks / river oaks area', 'golfcrest / bellfort / reveille',\n",
       "       'sunnyside', 'brays oaks', 'addicks park ten', 'midtown',\n",
       "       'clear lake', 'greater heights', 'downtown',\n",
       "       'greater ost / south union', 'acres home', 'greater uptown',\n",
       "       'iah / airport area', 'spring branch central', 'minnetex',\n",
       "       'braeswood', 'denver harbor / port houston', 'northside/northline',\n",
       "       'northside village', 'memorial', 'second ward', 'braeswood place',\n",
       "       'near northside', 'eastex - jensen area', 'fourth ward',\n",
       "       'independence heights', 'langwood', 'south park',\n",
       "       'east little york / homestead', 'pleasantville area',\n",
       "       'gulfgate riverview / pine valley', 'east houston',\n",
       "       'willow meadows / willowbend area', 'fondren gardens',\n",
       "       'spring branch north', 'spring branch west',\n",
       "       'lazy brook / timbergrove', 'el dorado / oates prairie',\n",
       "       'lawndale / wayside', 'edgebrook area', 'mid west',\n",
       "       'kingwood area', 'fort bend houston', 'westbury', 'gulfton',\n",
       "       'fort bend / houston', 'northshore', 'willowbrook', 'macgregor',\n",
       "       'lazybrook / timbergrove', 'westwood', 'settegast',\n",
       "       'greater greenspoint', 'medical center area', 'greater hobby area',\n",
       "       'magnolia park', 'kashmere gardens', 'pecan park',\n",
       "       'south acres / crestmont park', 'astrodome area', 'museum park',\n",
       "       'hidden valley', 'carverdale', 'ost / south union', 'westbranch',\n",
       "       'park place', 'harrisburg / manchester', 'briarforest area',\n",
       "       'lake houston', 'hunterwood'], dtype=object)"
      ]
     },
     "execution_count": 33,
     "metadata": {},
     "output_type": "execute_result"
    }
   ],
   "source": [
    "pothole_df_scrub.NEIGHBORHOOD.str.lower().unique()"
   ]
  },
  {
   "cell_type": "markdown",
   "metadata": {},
   "source": [
    "#### Begin Data Cleaning..."
   ]
  },
  {
   "cell_type": "code",
   "execution_count": 34,
   "metadata": {},
   "outputs": [
    {
     "name": "stdout",
     "output_type": "stream",
     "text": [
      "(64387, 12)\n",
      "Index(['SR LOCATION', 'COUNTY', 'NEIGHBORHOOD', 'SR TYPE', 'QUEUE', 'STATUS',\n",
      "       'SR CREATE DATE', 'DUE DATE', 'DATE CLOSED', 'OVERDUE', 'LATITUDE',\n",
      "       'LONGITUDE'],\n",
      "      dtype='object')\n"
     ]
    }
   ],
   "source": [
    "# Drop extraneous columns and columns filled with a larger percentage of missing values\n",
    "pothole_df_scrubbed = pothole_df_scrub.drop(columns = ['MANAGEMENT DISTRICT','TRASH DAY','RECYCLE DAY','HEAVY TRASH DAY','TRASH QUAD','x','y','Channel Type',\n",
    "                                  'TAX ID','KEY MAP','RECYCLE QUAD','DEPARTMENT','Channel Type','DISTRICT','Title','DIVISION',\n",
    "                                                       'SLA'])\n",
    "print(pothole_df_scrubbed.shape)\n",
    "print(pothole_df_scrubbed.columns)"
   ]
  },
  {
   "cell_type": "markdown",
   "metadata": {},
   "source": [
    "Since Longitude and Latitude are needed for the analysis, if a record does not have that information, it will be dropped"
   ]
  },
  {
   "cell_type": "code",
   "execution_count": 35,
   "metadata": {
    "scrolled": true
   },
   "outputs": [
    {
     "data": {
      "text/plain": [
       "SR LOCATION        object\n",
       "COUNTY             object\n",
       "NEIGHBORHOOD       object\n",
       "SR TYPE            object\n",
       "QUEUE              object\n",
       "STATUS             object\n",
       "SR CREATE DATE     object\n",
       "DUE DATE           object\n",
       "DATE CLOSED        object\n",
       "OVERDUE           float64\n",
       "LATITUDE           object\n",
       "LONGITUDE          object\n",
       "dtype: object"
      ]
     },
     "execution_count": 35,
     "metadata": {},
     "output_type": "execute_result"
    }
   ],
   "source": [
    "#Check types again to make adjustments\n",
    "pothole_df_scrubbed.dtypes"
   ]
  },
  {
   "cell_type": "code",
   "execution_count": 36,
   "metadata": {},
   "outputs": [],
   "source": [
    "#Convert date columns of interest to datetime formats, convert Latitude/Longitude to float\n",
    "pothole_df_scrubbed[['DUE DATE','DATE CLOSED','SR CREATE DATE']] = pothole_df_scrubbed[['DUE DATE','DATE CLOSED','SR CREATE DATE']].astype('datetime64')\n",
    "pothole_df_scrubbed['LONGITUDE'] = pd.to_numeric(pothole_df_scrubbed['LONGITUDE'],errors='coerce')\n",
    "pothole_df_scrubbed['LATITUDE'] = pd.to_numeric(pothole_df_scrubbed['LATITUDE'],errors='coerce')"
   ]
  },
  {
   "cell_type": "code",
   "execution_count": 37,
   "metadata": {
    "scrolled": true
   },
   "outputs": [
    {
     "data": {
      "text/html": [
       "<div>\n",
       "<style scoped>\n",
       "    .dataframe tbody tr th:only-of-type {\n",
       "        vertical-align: middle;\n",
       "    }\n",
       "\n",
       "    .dataframe tbody tr th {\n",
       "        vertical-align: top;\n",
       "    }\n",
       "\n",
       "    .dataframe thead th {\n",
       "        text-align: right;\n",
       "    }\n",
       "</style>\n",
       "<table border=\"1\" class=\"dataframe\">\n",
       "  <thead>\n",
       "    <tr style=\"text-align: right;\">\n",
       "      <th></th>\n",
       "      <th>count</th>\n",
       "      <th>%</th>\n",
       "    </tr>\n",
       "  </thead>\n",
       "  <tbody>\n",
       "    <tr>\n",
       "      <th>LATITUDE</th>\n",
       "      <td>3904</td>\n",
       "      <td>6.063336</td>\n",
       "    </tr>\n",
       "    <tr>\n",
       "      <th>LONGITUDE</th>\n",
       "      <td>3904</td>\n",
       "      <td>6.063336</td>\n",
       "    </tr>\n",
       "    <tr>\n",
       "      <th>COUNTY</th>\n",
       "      <td>2740</td>\n",
       "      <td>4.255517</td>\n",
       "    </tr>\n",
       "    <tr>\n",
       "      <th>NEIGHBORHOOD</th>\n",
       "      <td>2056</td>\n",
       "      <td>3.193191</td>\n",
       "    </tr>\n",
       "    <tr>\n",
       "      <th>SR LOCATION</th>\n",
       "      <td>1562</td>\n",
       "      <td>2.425956</td>\n",
       "    </tr>\n",
       "    <tr>\n",
       "      <th>DATE CLOSED</th>\n",
       "      <td>157</td>\n",
       "      <td>0.243838</td>\n",
       "    </tr>\n",
       "    <tr>\n",
       "      <th>SR TYPE</th>\n",
       "      <td>0</td>\n",
       "      <td>0.000000</td>\n",
       "    </tr>\n",
       "    <tr>\n",
       "      <th>QUEUE</th>\n",
       "      <td>0</td>\n",
       "      <td>0.000000</td>\n",
       "    </tr>\n",
       "    <tr>\n",
       "      <th>STATUS</th>\n",
       "      <td>0</td>\n",
       "      <td>0.000000</td>\n",
       "    </tr>\n",
       "    <tr>\n",
       "      <th>SR CREATE DATE</th>\n",
       "      <td>0</td>\n",
       "      <td>0.000000</td>\n",
       "    </tr>\n",
       "    <tr>\n",
       "      <th>DUE DATE</th>\n",
       "      <td>0</td>\n",
       "      <td>0.000000</td>\n",
       "    </tr>\n",
       "    <tr>\n",
       "      <th>OVERDUE</th>\n",
       "      <td>0</td>\n",
       "      <td>0.000000</td>\n",
       "    </tr>\n",
       "  </tbody>\n",
       "</table>\n",
       "</div>"
      ],
      "text/plain": [
       "                count         %\n",
       "LATITUDE         3904  6.063336\n",
       "LONGITUDE        3904  6.063336\n",
       "COUNTY           2740  4.255517\n",
       "NEIGHBORHOOD     2056  3.193191\n",
       "SR LOCATION      1562  2.425956\n",
       "DATE CLOSED       157  0.243838\n",
       "SR TYPE             0  0.000000\n",
       "QUEUE               0  0.000000\n",
       "STATUS              0  0.000000\n",
       "SR CREATE DATE      0  0.000000\n",
       "DUE DATE            0  0.000000\n",
       "OVERDUE             0  0.000000"
      ]
     },
     "execution_count": 37,
     "metadata": {},
     "output_type": "execute_result"
    }
   ],
   "source": [
    "#Check once again for missing data\n",
    "missing = pd.concat([pothole_df_scrubbed.isnull().sum(), 100 * pothole_df_scrubbed.isnull().mean()], axis=1)\n",
    "missing.columns=['count', '%']\n",
    "missing.sort_values(by='count', ascending=False)"
   ]
  },
  {
   "cell_type": "code",
   "execution_count": 38,
   "metadata": {},
   "outputs": [
    {
     "data": {
      "text/plain": [
       "(60483, 12)"
      ]
     },
     "execution_count": 38,
     "metadata": {},
     "output_type": "execute_result"
    }
   ],
   "source": [
    "#Remove columns where no latitude data is present\n",
    "pothole_df_scrubbed = pothole_df_scrubbed[~pothole_df_scrubbed.LATITUDE.isnull()]\n",
    "pothole_df_scrubbed.shape"
   ]
  },
  {
   "cell_type": "code",
   "execution_count": 39,
   "metadata": {
    "scrolled": true
   },
   "outputs": [
    {
     "data": {
      "text/html": [
       "<div>\n",
       "<style scoped>\n",
       "    .dataframe tbody tr th:only-of-type {\n",
       "        vertical-align: middle;\n",
       "    }\n",
       "\n",
       "    .dataframe tbody tr th {\n",
       "        vertical-align: top;\n",
       "    }\n",
       "\n",
       "    .dataframe thead th {\n",
       "        text-align: right;\n",
       "    }\n",
       "</style>\n",
       "<table border=\"1\" class=\"dataframe\">\n",
       "  <thead>\n",
       "    <tr style=\"text-align: right;\">\n",
       "      <th></th>\n",
       "      <th>count</th>\n",
       "      <th>%</th>\n",
       "    </tr>\n",
       "  </thead>\n",
       "  <tbody>\n",
       "    <tr>\n",
       "      <th>NEIGHBORHOOD</th>\n",
       "      <td>1800</td>\n",
       "      <td>2.976043</td>\n",
       "    </tr>\n",
       "    <tr>\n",
       "      <th>COUNTY</th>\n",
       "      <td>1250</td>\n",
       "      <td>2.066696</td>\n",
       "    </tr>\n",
       "    <tr>\n",
       "      <th>DATE CLOSED</th>\n",
       "      <td>155</td>\n",
       "      <td>0.256270</td>\n",
       "    </tr>\n",
       "    <tr>\n",
       "      <th>SR LOCATION</th>\n",
       "      <td>0</td>\n",
       "      <td>0.000000</td>\n",
       "    </tr>\n",
       "    <tr>\n",
       "      <th>SR TYPE</th>\n",
       "      <td>0</td>\n",
       "      <td>0.000000</td>\n",
       "    </tr>\n",
       "    <tr>\n",
       "      <th>QUEUE</th>\n",
       "      <td>0</td>\n",
       "      <td>0.000000</td>\n",
       "    </tr>\n",
       "    <tr>\n",
       "      <th>STATUS</th>\n",
       "      <td>0</td>\n",
       "      <td>0.000000</td>\n",
       "    </tr>\n",
       "    <tr>\n",
       "      <th>SR CREATE DATE</th>\n",
       "      <td>0</td>\n",
       "      <td>0.000000</td>\n",
       "    </tr>\n",
       "    <tr>\n",
       "      <th>DUE DATE</th>\n",
       "      <td>0</td>\n",
       "      <td>0.000000</td>\n",
       "    </tr>\n",
       "    <tr>\n",
       "      <th>OVERDUE</th>\n",
       "      <td>0</td>\n",
       "      <td>0.000000</td>\n",
       "    </tr>\n",
       "    <tr>\n",
       "      <th>LATITUDE</th>\n",
       "      <td>0</td>\n",
       "      <td>0.000000</td>\n",
       "    </tr>\n",
       "    <tr>\n",
       "      <th>LONGITUDE</th>\n",
       "      <td>0</td>\n",
       "      <td>0.000000</td>\n",
       "    </tr>\n",
       "  </tbody>\n",
       "</table>\n",
       "</div>"
      ],
      "text/plain": [
       "                count         %\n",
       "NEIGHBORHOOD     1800  2.976043\n",
       "COUNTY           1250  2.066696\n",
       "DATE CLOSED       155  0.256270\n",
       "SR LOCATION         0  0.000000\n",
       "SR TYPE             0  0.000000\n",
       "QUEUE               0  0.000000\n",
       "STATUS              0  0.000000\n",
       "SR CREATE DATE      0  0.000000\n",
       "DUE DATE            0  0.000000\n",
       "OVERDUE             0  0.000000\n",
       "LATITUDE            0  0.000000\n",
       "LONGITUDE           0  0.000000"
      ]
     },
     "execution_count": 39,
     "metadata": {},
     "output_type": "execute_result"
    }
   ],
   "source": [
    "#Re-check columns for missing data\n",
    "missing = pd.concat([pothole_df_scrubbed.isnull().sum(), 100 * pothole_df_scrubbed.isnull().mean()], axis=1)\n",
    "missing.columns=['count', '%']\n",
    "missing.sort_values(by='count', ascending=False)"
   ]
  },
  {
   "cell_type": "code",
   "execution_count": 40,
   "metadata": {},
   "outputs": [
    {
     "data": {
      "text/plain": [
       "(60483, 12)"
      ]
     },
     "execution_count": 40,
     "metadata": {},
     "output_type": "execute_result"
    }
   ],
   "source": [
    "pothole_df_scrubbed.shape"
   ]
  },
  {
   "cell_type": "markdown",
   "metadata": {},
   "source": [
    "The rest of the null values in neighborhood, SR Location, County, and Date Closed won't affect the occurrences of the pothole so they can be left in but noted. If their values are needed, they can be identified later from the longitude and latitude. "
   ]
  },
  {
   "cell_type": "code",
   "execution_count": 41,
   "metadata": {
    "scrolled": true
   },
   "outputs": [
    {
     "data": {
      "text/plain": [
       "SR LOCATION               object\n",
       "COUNTY                    object\n",
       "NEIGHBORHOOD              object\n",
       "SR TYPE                   object\n",
       "QUEUE                     object\n",
       "STATUS                    object\n",
       "SR CREATE DATE    datetime64[ns]\n",
       "DUE DATE          datetime64[ns]\n",
       "DATE CLOSED       datetime64[ns]\n",
       "OVERDUE                  float64\n",
       "LATITUDE                 float64\n",
       "LONGITUDE                float64\n",
       "dtype: object"
      ]
     },
     "execution_count": 41,
     "metadata": {},
     "output_type": "execute_result"
    }
   ],
   "source": [
    "pothole_df_scrubbed.dtypes"
   ]
  },
  {
   "cell_type": "code",
   "execution_count": 42,
   "metadata": {
    "scrolled": true
   },
   "outputs": [
    {
     "name": "stdout",
     "output_type": "stream",
     "text": [
      "<class 'pandas.core.frame.DataFrame'>\n",
      "Index: 60483 entries, 11433929-101000452108 to 12465198-101004716626\n",
      "Data columns (total 12 columns):\n",
      " #   Column          Non-Null Count  Dtype         \n",
      "---  ------          --------------  -----         \n",
      " 0   SR LOCATION     60483 non-null  object        \n",
      " 1   COUNTY          59233 non-null  object        \n",
      " 2   NEIGHBORHOOD    58683 non-null  object        \n",
      " 3   SR TYPE         60483 non-null  object        \n",
      " 4   QUEUE           60483 non-null  object        \n",
      " 5   STATUS          60483 non-null  object        \n",
      " 6   SR CREATE DATE  60483 non-null  datetime64[ns]\n",
      " 7   DUE DATE        60483 non-null  datetime64[ns]\n",
      " 8   DATE CLOSED     60328 non-null  datetime64[ns]\n",
      " 9   OVERDUE         60483 non-null  float64       \n",
      " 10  LATITUDE        60483 non-null  float64       \n",
      " 11  LONGITUDE       60483 non-null  float64       \n",
      "dtypes: datetime64[ns](3), float64(3), object(6)\n",
      "memory usage: 6.0+ MB\n"
     ]
    }
   ],
   "source": [
    "# Review CLeaned Data\n",
    "pothole_df_scrubbed.info()"
   ]
  },
  {
   "cell_type": "code",
   "execution_count": 43,
   "metadata": {},
   "outputs": [
    {
     "data": {
      "text/html": [
       "<div>\n",
       "<style scoped>\n",
       "    .dataframe tbody tr th:only-of-type {\n",
       "        vertical-align: middle;\n",
       "    }\n",
       "\n",
       "    .dataframe tbody tr th {\n",
       "        vertical-align: top;\n",
       "    }\n",
       "\n",
       "    .dataframe thead th {\n",
       "        text-align: right;\n",
       "    }\n",
       "</style>\n",
       "<table border=\"1\" class=\"dataframe\">\n",
       "  <thead>\n",
       "    <tr style=\"text-align: right;\">\n",
       "      <th></th>\n",
       "      <th>SR LOCATION</th>\n",
       "      <th>COUNTY</th>\n",
       "      <th>NEIGHBORHOOD</th>\n",
       "      <th>SR TYPE</th>\n",
       "      <th>QUEUE</th>\n",
       "      <th>STATUS</th>\n",
       "      <th>SR CREATE DATE</th>\n",
       "      <th>DUE DATE</th>\n",
       "      <th>DATE CLOSED</th>\n",
       "      <th>OVERDUE</th>\n",
       "      <th>LATITUDE</th>\n",
       "      <th>LONGITUDE</th>\n",
       "      <th>DATE</th>\n",
       "    </tr>\n",
       "    <tr>\n",
       "      <th>CASE NUMBER</th>\n",
       "      <th></th>\n",
       "      <th></th>\n",
       "      <th></th>\n",
       "      <th></th>\n",
       "      <th></th>\n",
       "      <th></th>\n",
       "      <th></th>\n",
       "      <th></th>\n",
       "      <th></th>\n",
       "      <th></th>\n",
       "      <th></th>\n",
       "      <th></th>\n",
       "      <th></th>\n",
       "    </tr>\n",
       "  </thead>\n",
       "  <tbody>\n",
       "    <tr>\n",
       "      <th>11433929-101000452108</th>\n",
       "      <td>Intersection 13500 S POST OAK RD &amp; 5400 WILLOM...</td>\n",
       "      <td>Harris County</td>\n",
       "      <td>CENTRAL SOUTHWEST</td>\n",
       "      <td>Pothole</td>\n",
       "      <td>ROWM_StreetMain</td>\n",
       "      <td>Closed</td>\n",
       "      <td>2011-11-09 06:49:13</td>\n",
       "      <td>2011-11-19 06:49:12</td>\n",
       "      <td>2011-11-22 09:26:28</td>\n",
       "      <td>3.11</td>\n",
       "      <td>29.630333</td>\n",
       "      <td>-95.464071</td>\n",
       "      <td>2011-11-09</td>\n",
       "    </tr>\n",
       "    <tr>\n",
       "      <th>11433959-101000452225</th>\n",
       "      <td>8142 BONNER, HOUSTON TX 77017</td>\n",
       "      <td>HARRIS</td>\n",
       "      <td>MEADOWBROOK / ALLENDALE</td>\n",
       "      <td>Pothole</td>\n",
       "      <td>ROWM_StreetMain</td>\n",
       "      <td>Closed</td>\n",
       "      <td>2011-11-09 08:55:49</td>\n",
       "      <td>2011-11-19 08:55:49</td>\n",
       "      <td>2011-12-01 09:20:03</td>\n",
       "      <td>12.02</td>\n",
       "      <td>29.680578</td>\n",
       "      <td>-95.264047</td>\n",
       "      <td>2011-11-09</td>\n",
       "    </tr>\n",
       "    <tr>\n",
       "      <th>11455803-101000452382</th>\n",
       "      <td>875 LOCKWOOD, HOUSTON TX 77020</td>\n",
       "      <td>Harris</td>\n",
       "      <td>GREATER FIFTH WARD</td>\n",
       "      <td>Pothole</td>\n",
       "      <td>ROWM_StreetMain</td>\n",
       "      <td>Closed</td>\n",
       "      <td>2011-11-09 10:32:12</td>\n",
       "      <td>2011-11-19 10:32:11</td>\n",
       "      <td>2012-01-25 11:25:38</td>\n",
       "      <td>67.04</td>\n",
       "      <td>29.761035</td>\n",
       "      <td>-95.317502</td>\n",
       "      <td>2011-11-09</td>\n",
       "    </tr>\n",
       "    <tr>\n",
       "      <th>11434023-101000452387</th>\n",
       "      <td>875 LOCKWOOD, HOUSTON TX 77020</td>\n",
       "      <td>Harris</td>\n",
       "      <td>GREATER FIFTH WARD</td>\n",
       "      <td>Pothole</td>\n",
       "      <td>ROWM_StreetMain</td>\n",
       "      <td>Closed</td>\n",
       "      <td>2011-11-09 10:35:11</td>\n",
       "      <td>2011-11-19 10:35:10</td>\n",
       "      <td>2011-11-29 12:49:13</td>\n",
       "      <td>10.09</td>\n",
       "      <td>29.761035</td>\n",
       "      <td>-95.317502</td>\n",
       "      <td>2011-11-09</td>\n",
       "    </tr>\n",
       "    <tr>\n",
       "      <th>11434047-101000452444</th>\n",
       "      <td>12501 BRIAR FOREST, HOUSTON TX 77077</td>\n",
       "      <td>HARRIS</td>\n",
       "      <td>BRIAR FOREST</td>\n",
       "      <td>Pothole</td>\n",
       "      <td>ROWM_StreetMain</td>\n",
       "      <td>Closed</td>\n",
       "      <td>2011-11-09 11:09:56</td>\n",
       "      <td>2011-11-19 11:09:56</td>\n",
       "      <td>2011-11-29 13:00:17</td>\n",
       "      <td>10.08</td>\n",
       "      <td>29.753557</td>\n",
       "      <td>-95.602467</td>\n",
       "      <td>2011-11-09</td>\n",
       "    </tr>\n",
       "  </tbody>\n",
       "</table>\n",
       "</div>"
      ],
      "text/plain": [
       "                                                             SR LOCATION  \\\n",
       "CASE NUMBER                                                                \n",
       "11433929-101000452108  Intersection 13500 S POST OAK RD & 5400 WILLOM...   \n",
       "11433959-101000452225                      8142 BONNER, HOUSTON TX 77017   \n",
       "11455803-101000452382                     875 LOCKWOOD, HOUSTON TX 77020   \n",
       "11434023-101000452387                     875 LOCKWOOD, HOUSTON TX 77020   \n",
       "11434047-101000452444               12501 BRIAR FOREST, HOUSTON TX 77077   \n",
       "\n",
       "                              COUNTY             NEIGHBORHOOD  SR TYPE  \\\n",
       "CASE NUMBER                                                              \n",
       "11433929-101000452108  Harris County        CENTRAL SOUTHWEST  Pothole   \n",
       "11433959-101000452225         HARRIS  MEADOWBROOK / ALLENDALE  Pothole   \n",
       "11455803-101000452382         Harris       GREATER FIFTH WARD  Pothole   \n",
       "11434023-101000452387         Harris       GREATER FIFTH WARD  Pothole   \n",
       "11434047-101000452444         HARRIS             BRIAR FOREST  Pothole   \n",
       "\n",
       "                                 QUEUE  STATUS      SR CREATE DATE  \\\n",
       "CASE NUMBER                                                          \n",
       "11433929-101000452108  ROWM_StreetMain  Closed 2011-11-09 06:49:13   \n",
       "11433959-101000452225  ROWM_StreetMain  Closed 2011-11-09 08:55:49   \n",
       "11455803-101000452382  ROWM_StreetMain  Closed 2011-11-09 10:32:12   \n",
       "11434023-101000452387  ROWM_StreetMain  Closed 2011-11-09 10:35:11   \n",
       "11434047-101000452444  ROWM_StreetMain  Closed 2011-11-09 11:09:56   \n",
       "\n",
       "                                 DUE DATE         DATE CLOSED  OVERDUE  \\\n",
       "CASE NUMBER                                                              \n",
       "11433929-101000452108 2011-11-19 06:49:12 2011-11-22 09:26:28     3.11   \n",
       "11433959-101000452225 2011-11-19 08:55:49 2011-12-01 09:20:03    12.02   \n",
       "11455803-101000452382 2011-11-19 10:32:11 2012-01-25 11:25:38    67.04   \n",
       "11434023-101000452387 2011-11-19 10:35:10 2011-11-29 12:49:13    10.09   \n",
       "11434047-101000452444 2011-11-19 11:09:56 2011-11-29 13:00:17    10.08   \n",
       "\n",
       "                        LATITUDE  LONGITUDE        DATE  \n",
       "CASE NUMBER                                              \n",
       "11433929-101000452108  29.630333 -95.464071  2011-11-09  \n",
       "11433959-101000452225  29.680578 -95.264047  2011-11-09  \n",
       "11455803-101000452382  29.761035 -95.317502  2011-11-09  \n",
       "11434023-101000452387  29.761035 -95.317502  2011-11-09  \n",
       "11434047-101000452444  29.753557 -95.602467  2011-11-09  "
      ]
     },
     "execution_count": 43,
     "metadata": {},
     "output_type": "execute_result"
    }
   ],
   "source": [
    "#Create date column that is just the date of SR Create Data without time\n",
    "pothole_df_scrubbed['DATE'] = pothole_df_scrubbed['SR CREATE DATE'].dt.date\n",
    "pothole_df_scrubbed.head()"
   ]
  },
  {
   "cell_type": "code",
   "execution_count": 44,
   "metadata": {},
   "outputs": [
    {
     "data": {
      "text/plain": [
       "3468"
      ]
     },
     "execution_count": 44,
     "metadata": {},
     "output_type": "execute_result"
    }
   ],
   "source": [
    "#Groupby Date to view data and SR Create count\n",
    "pothole_grouped = pothole_df_scrubbed.groupby('DATE')['SR CREATE DATE'].count()\n",
    "len(pothole_grouped)"
   ]
  },
  {
   "cell_type": "code",
   "execution_count": 45,
   "metadata": {},
   "outputs": [
    {
     "data": {
      "text/plain": [
       "DATE\n",
       "2016-01-14    239\n",
       "2016-01-13    217\n",
       "2016-01-19    212\n",
       "2016-01-20    181\n",
       "2016-03-12    168\n",
       "Name: SR CREATE DATE, dtype: int64"
      ]
     },
     "execution_count": 45,
     "metadata": {},
     "output_type": "execute_result"
    }
   ],
   "source": [
    "#Check for the max number of SR's created in a day\n",
    "pothole_grouped.sort_values(ascending=False).head()"
   ]
  },
  {
   "cell_type": "code",
   "execution_count": 46,
   "metadata": {},
   "outputs": [
    {
     "data": {
      "text/plain": [
       "DATE\n",
       "2021-06-03    28\n",
       "2021-06-04    20\n",
       "2021-06-05     9\n",
       "2021-06-06    11\n",
       "2021-06-07    27\n",
       "Name: SR CREATE DATE, dtype: int64"
      ]
     },
     "execution_count": 46,
     "metadata": {},
     "output_type": "execute_result"
    }
   ],
   "source": [
    "pothole_grouped.tail()"
   ]
  },
  {
   "cell_type": "markdown",
   "metadata": {},
   "source": [
    "### Exploring the Data (Weather)"
   ]
  },
  {
   "cell_type": "code",
   "execution_count": 47,
   "metadata": {},
   "outputs": [
    {
     "data": {
      "text/html": [
       "<div>\n",
       "<style scoped>\n",
       "    .dataframe tbody tr th:only-of-type {\n",
       "        vertical-align: middle;\n",
       "    }\n",
       "\n",
       "    .dataframe tbody tr th {\n",
       "        vertical-align: top;\n",
       "    }\n",
       "\n",
       "    .dataframe thead th {\n",
       "        text-align: right;\n",
       "    }\n",
       "</style>\n",
       "<table border=\"1\" class=\"dataframe\">\n",
       "  <thead>\n",
       "    <tr style=\"text-align: right;\">\n",
       "      <th></th>\n",
       "      <th>STATION</th>\n",
       "      <th>DATE</th>\n",
       "      <th>PRCP</th>\n",
       "      <th>TAVG</th>\n",
       "      <th>TMAX</th>\n",
       "      <th>TMIN</th>\n",
       "      <th>TOBS</th>\n",
       "    </tr>\n",
       "  </thead>\n",
       "  <tbody>\n",
       "    <tr>\n",
       "      <th>0</th>\n",
       "      <td>USC00414327</td>\n",
       "      <td>2011-01-01</td>\n",
       "      <td>0.00</td>\n",
       "      <td>NaN</td>\n",
       "      <td>NaN</td>\n",
       "      <td>NaN</td>\n",
       "      <td>NaN</td>\n",
       "    </tr>\n",
       "    <tr>\n",
       "      <th>1</th>\n",
       "      <td>USC00414327</td>\n",
       "      <td>2011-01-02</td>\n",
       "      <td>0.00</td>\n",
       "      <td>NaN</td>\n",
       "      <td>NaN</td>\n",
       "      <td>NaN</td>\n",
       "      <td>NaN</td>\n",
       "    </tr>\n",
       "    <tr>\n",
       "      <th>2</th>\n",
       "      <td>USC00414327</td>\n",
       "      <td>2011-01-03</td>\n",
       "      <td>0.00</td>\n",
       "      <td>NaN</td>\n",
       "      <td>NaN</td>\n",
       "      <td>NaN</td>\n",
       "      <td>NaN</td>\n",
       "    </tr>\n",
       "    <tr>\n",
       "      <th>3</th>\n",
       "      <td>USC00414327</td>\n",
       "      <td>2011-01-04</td>\n",
       "      <td>0.00</td>\n",
       "      <td>NaN</td>\n",
       "      <td>NaN</td>\n",
       "      <td>NaN</td>\n",
       "      <td>NaN</td>\n",
       "    </tr>\n",
       "    <tr>\n",
       "      <th>4</th>\n",
       "      <td>USC00414327</td>\n",
       "      <td>2011-01-05</td>\n",
       "      <td>1.14</td>\n",
       "      <td>NaN</td>\n",
       "      <td>NaN</td>\n",
       "      <td>NaN</td>\n",
       "      <td>NaN</td>\n",
       "    </tr>\n",
       "  </tbody>\n",
       "</table>\n",
       "</div>"
      ],
      "text/plain": [
       "       STATION        DATE  PRCP  TAVG  TMAX  TMIN  TOBS\n",
       "0  USC00414327  2011-01-01  0.00   NaN   NaN   NaN   NaN\n",
       "1  USC00414327  2011-01-02  0.00   NaN   NaN   NaN   NaN\n",
       "2  USC00414327  2011-01-03  0.00   NaN   NaN   NaN   NaN\n",
       "3  USC00414327  2011-01-04  0.00   NaN   NaN   NaN   NaN\n",
       "4  USC00414327  2011-01-05  1.14   NaN   NaN   NaN   NaN"
      ]
     },
     "execution_count": 47,
     "metadata": {},
     "output_type": "execute_result"
    }
   ],
   "source": [
    "weather_total_df_raw.head()"
   ]
  },
  {
   "cell_type": "markdown",
   "metadata": {},
   "source": [
    "#### Description of channels\n",
    "\n",
    "* Station: One of the weather station from around the Houston area\n",
    "* Date: Date\n",
    "* PRCP: Precipitation for the day (inches)\n",
    "* TAVG: Average Temperature (F)\n",
    "* TMAX: Max Temperature (F)\n",
    "* TMIN: Min Temperature (F)\n",
    "* TOBS: Temperature at time of Observations (F)\n",
    "\n",
    "** Note that not all stations took all 3 measurements and that stations are spread around Houston"
   ]
  },
  {
   "cell_type": "code",
   "execution_count": 48,
   "metadata": {},
   "outputs": [
    {
     "data": {
      "text/plain": [
       "(64447, 7)"
      ]
     },
     "execution_count": 48,
     "metadata": {},
     "output_type": "execute_result"
    }
   ],
   "source": [
    "#Check shape of weather df\n",
    "weather_total_df_raw.shape"
   ]
  },
  {
   "cell_type": "code",
   "execution_count": 49,
   "metadata": {},
   "outputs": [
    {
     "data": {
      "text/html": [
       "<div>\n",
       "<style scoped>\n",
       "    .dataframe tbody tr th:only-of-type {\n",
       "        vertical-align: middle;\n",
       "    }\n",
       "\n",
       "    .dataframe tbody tr th {\n",
       "        vertical-align: top;\n",
       "    }\n",
       "\n",
       "    .dataframe thead th {\n",
       "        text-align: right;\n",
       "    }\n",
       "</style>\n",
       "<table border=\"1\" class=\"dataframe\">\n",
       "  <thead>\n",
       "    <tr style=\"text-align: right;\">\n",
       "      <th></th>\n",
       "      <th>PRCP</th>\n",
       "      <th>TAVG</th>\n",
       "      <th>TMAX</th>\n",
       "      <th>TMIN</th>\n",
       "      <th>TOBS</th>\n",
       "    </tr>\n",
       "  </thead>\n",
       "  <tbody>\n",
       "    <tr>\n",
       "      <th>count</th>\n",
       "      <td>63371.000000</td>\n",
       "      <td>7408.000000</td>\n",
       "      <td>32409.000000</td>\n",
       "      <td>32412.000000</td>\n",
       "      <td>7271.000000</td>\n",
       "    </tr>\n",
       "    <tr>\n",
       "      <th>mean</th>\n",
       "      <td>0.147111</td>\n",
       "      <td>63.910232</td>\n",
       "      <td>74.187386</td>\n",
       "      <td>54.478187</td>\n",
       "      <td>57.628524</td>\n",
       "    </tr>\n",
       "    <tr>\n",
       "      <th>std</th>\n",
       "      <td>0.533065</td>\n",
       "      <td>18.790717</td>\n",
       "      <td>18.510054</td>\n",
       "      <td>19.209028</td>\n",
       "      <td>19.367416</td>\n",
       "    </tr>\n",
       "    <tr>\n",
       "      <th>min</th>\n",
       "      <td>0.000000</td>\n",
       "      <td>-12.000000</td>\n",
       "      <td>-12.000000</td>\n",
       "      <td>-43.000000</td>\n",
       "      <td>-32.000000</td>\n",
       "    </tr>\n",
       "    <tr>\n",
       "      <th>25%</th>\n",
       "      <td>0.000000</td>\n",
       "      <td>53.000000</td>\n",
       "      <td>64.000000</td>\n",
       "      <td>42.000000</td>\n",
       "      <td>46.000000</td>\n",
       "    </tr>\n",
       "    <tr>\n",
       "      <th>50%</th>\n",
       "      <td>0.000000</td>\n",
       "      <td>68.000000</td>\n",
       "      <td>78.000000</td>\n",
       "      <td>57.000000</td>\n",
       "      <td>62.000000</td>\n",
       "    </tr>\n",
       "    <tr>\n",
       "      <th>75%</th>\n",
       "      <td>0.030000</td>\n",
       "      <td>80.000000</td>\n",
       "      <td>89.000000</td>\n",
       "      <td>71.000000</td>\n",
       "      <td>73.000000</td>\n",
       "    </tr>\n",
       "    <tr>\n",
       "      <th>max</th>\n",
       "      <td>19.140000</td>\n",
       "      <td>91.000000</td>\n",
       "      <td>109.000000</td>\n",
       "      <td>85.000000</td>\n",
       "      <td>87.000000</td>\n",
       "    </tr>\n",
       "  </tbody>\n",
       "</table>\n",
       "</div>"
      ],
      "text/plain": [
       "               PRCP         TAVG          TMAX          TMIN         TOBS\n",
       "count  63371.000000  7408.000000  32409.000000  32412.000000  7271.000000\n",
       "mean       0.147111    63.910232     74.187386     54.478187    57.628524\n",
       "std        0.533065    18.790717     18.510054     19.209028    19.367416\n",
       "min        0.000000   -12.000000    -12.000000    -43.000000   -32.000000\n",
       "25%        0.000000    53.000000     64.000000     42.000000    46.000000\n",
       "50%        0.000000    68.000000     78.000000     57.000000    62.000000\n",
       "75%        0.030000    80.000000     89.000000     71.000000    73.000000\n",
       "max       19.140000    91.000000    109.000000     85.000000    87.000000"
      ]
     },
     "execution_count": 49,
     "metadata": {},
     "output_type": "execute_result"
    }
   ],
   "source": [
    "weather_total_df_raw.describe()"
   ]
  },
  {
   "cell_type": "code",
   "execution_count": 50,
   "metadata": {},
   "outputs": [
    {
     "data": {
      "text/plain": [
       "STATION     object\n",
       "DATE        object\n",
       "PRCP       float64\n",
       "TAVG       float64\n",
       "TMAX       float64\n",
       "TMIN       float64\n",
       "TOBS       float64\n",
       "dtype: object"
      ]
     },
     "execution_count": 50,
     "metadata": {},
     "output_type": "execute_result"
    }
   ],
   "source": [
    "weather_total_df_raw.dtypes"
   ]
  },
  {
   "cell_type": "code",
   "execution_count": 51,
   "metadata": {},
   "outputs": [
    {
     "data": {
      "text/html": [
       "<div>\n",
       "<style scoped>\n",
       "    .dataframe tbody tr th:only-of-type {\n",
       "        vertical-align: middle;\n",
       "    }\n",
       "\n",
       "    .dataframe tbody tr th {\n",
       "        vertical-align: top;\n",
       "    }\n",
       "\n",
       "    .dataframe thead th {\n",
       "        text-align: right;\n",
       "    }\n",
       "</style>\n",
       "<table border=\"1\" class=\"dataframe\">\n",
       "  <thead>\n",
       "    <tr style=\"text-align: right;\">\n",
       "      <th></th>\n",
       "      <th>count</th>\n",
       "      <th>%</th>\n",
       "    </tr>\n",
       "  </thead>\n",
       "  <tbody>\n",
       "    <tr>\n",
       "      <th>TOBS</th>\n",
       "      <td>57176</td>\n",
       "      <td>88.717861</td>\n",
       "    </tr>\n",
       "    <tr>\n",
       "      <th>TAVG</th>\n",
       "      <td>57039</td>\n",
       "      <td>88.505283</td>\n",
       "    </tr>\n",
       "    <tr>\n",
       "      <th>TMAX</th>\n",
       "      <td>32038</td>\n",
       "      <td>49.712167</td>\n",
       "    </tr>\n",
       "    <tr>\n",
       "      <th>TMIN</th>\n",
       "      <td>32035</td>\n",
       "      <td>49.707512</td>\n",
       "    </tr>\n",
       "    <tr>\n",
       "      <th>PRCP</th>\n",
       "      <td>1076</td>\n",
       "      <td>1.669589</td>\n",
       "    </tr>\n",
       "    <tr>\n",
       "      <th>STATION</th>\n",
       "      <td>0</td>\n",
       "      <td>0.000000</td>\n",
       "    </tr>\n",
       "    <tr>\n",
       "      <th>DATE</th>\n",
       "      <td>0</td>\n",
       "      <td>0.000000</td>\n",
       "    </tr>\n",
       "  </tbody>\n",
       "</table>\n",
       "</div>"
      ],
      "text/plain": [
       "         count          %\n",
       "TOBS     57176  88.717861\n",
       "TAVG     57039  88.505283\n",
       "TMAX     32038  49.712167\n",
       "TMIN     32035  49.707512\n",
       "PRCP      1076   1.669589\n",
       "STATION      0   0.000000\n",
       "DATE         0   0.000000"
      ]
     },
     "execution_count": 51,
     "metadata": {},
     "output_type": "execute_result"
    }
   ],
   "source": [
    "# Find all missing values in the weather df\n",
    "missing = pd.concat([weather_total_df_raw.isnull().sum(), 100 * weather_total_df_raw.isnull().mean()], axis=1)\n",
    "missing.columns=['count', '%']\n",
    "missing.sort_values(by='count', ascending=False)"
   ]
  },
  {
   "cell_type": "code",
   "execution_count": 52,
   "metadata": {},
   "outputs": [
    {
     "data": {
      "text/plain": [
       "0.00     44475\n",
       "0.01      1455\n",
       "0.02      1337\n",
       "0.03       908\n",
       "0.04       733\n",
       "         ...  \n",
       "4.09         1\n",
       "6.23         1\n",
       "4.19         1\n",
       "12.07        1\n",
       "4.31         1\n",
       "Name: PRCP, Length: 536, dtype: int64"
      ]
     },
     "execution_count": 52,
     "metadata": {},
     "output_type": "execute_result"
    }
   ],
   "source": [
    "#Check for the largest count of values. With most days showing no rain based on the results. \n",
    "weather_total_df_raw.PRCP.value_counts()"
   ]
  },
  {
   "cell_type": "markdown",
   "metadata": {},
   "source": [
    "#### Begin Data Cleaning..."
   ]
  },
  {
   "cell_type": "code",
   "execution_count": 53,
   "metadata": {},
   "outputs": [],
   "source": [
    "#Rather than drop the value of null precipiation, will fill in with 0 as this will show no precipiation for that day\n",
    "#rather than removing the day all together\n",
    "weather_df_scrub = weather_total_df_raw\n",
    "weather_df_scrub['DATE'] = weather_df_scrub['DATE'].astype('datetime64')\n",
    "weather_df_scrub.PRCP = weather_total_df_raw.PRCP.fillna(value = 0)"
   ]
  },
  {
   "cell_type": "code",
   "execution_count": 54,
   "metadata": {},
   "outputs": [
    {
     "data": {
      "text/plain": [
       "STATION            object\n",
       "DATE       datetime64[ns]\n",
       "PRCP              float64\n",
       "TAVG              float64\n",
       "TMAX              float64\n",
       "TMIN              float64\n",
       "TOBS              float64\n",
       "dtype: object"
      ]
     },
     "execution_count": 54,
     "metadata": {},
     "output_type": "execute_result"
    }
   ],
   "source": [
    "weather_df_scrub.dtypes"
   ]
  },
  {
   "cell_type": "code",
   "execution_count": 55,
   "metadata": {},
   "outputs": [
    {
     "data": {
      "text/html": [
       "<div>\n",
       "<style scoped>\n",
       "    .dataframe tbody tr th:only-of-type {\n",
       "        vertical-align: middle;\n",
       "    }\n",
       "\n",
       "    .dataframe tbody tr th {\n",
       "        vertical-align: top;\n",
       "    }\n",
       "\n",
       "    .dataframe thead th {\n",
       "        text-align: right;\n",
       "    }\n",
       "</style>\n",
       "<table border=\"1\" class=\"dataframe\">\n",
       "  <thead>\n",
       "    <tr style=\"text-align: right;\">\n",
       "      <th></th>\n",
       "      <th>count</th>\n",
       "      <th>%</th>\n",
       "    </tr>\n",
       "  </thead>\n",
       "  <tbody>\n",
       "    <tr>\n",
       "      <th>TOBS</th>\n",
       "      <td>57176</td>\n",
       "      <td>88.717861</td>\n",
       "    </tr>\n",
       "    <tr>\n",
       "      <th>TAVG</th>\n",
       "      <td>57039</td>\n",
       "      <td>88.505283</td>\n",
       "    </tr>\n",
       "    <tr>\n",
       "      <th>TMAX</th>\n",
       "      <td>32038</td>\n",
       "      <td>49.712167</td>\n",
       "    </tr>\n",
       "    <tr>\n",
       "      <th>TMIN</th>\n",
       "      <td>32035</td>\n",
       "      <td>49.707512</td>\n",
       "    </tr>\n",
       "    <tr>\n",
       "      <th>STATION</th>\n",
       "      <td>0</td>\n",
       "      <td>0.000000</td>\n",
       "    </tr>\n",
       "    <tr>\n",
       "      <th>DATE</th>\n",
       "      <td>0</td>\n",
       "      <td>0.000000</td>\n",
       "    </tr>\n",
       "    <tr>\n",
       "      <th>PRCP</th>\n",
       "      <td>0</td>\n",
       "      <td>0.000000</td>\n",
       "    </tr>\n",
       "  </tbody>\n",
       "</table>\n",
       "</div>"
      ],
      "text/plain": [
       "         count          %\n",
       "TOBS     57176  88.717861\n",
       "TAVG     57039  88.505283\n",
       "TMAX     32038  49.712167\n",
       "TMIN     32035  49.707512\n",
       "STATION      0   0.000000\n",
       "DATE         0   0.000000\n",
       "PRCP         0   0.000000"
      ]
     },
     "execution_count": 55,
     "metadata": {},
     "output_type": "execute_result"
    }
   ],
   "source": [
    "missing = pd.concat([weather_df_scrub.isnull().sum(), 100 * weather_df_scrub.isnull().mean()], axis=1)\n",
    "missing.columns=['count', '%']\n",
    "missing.sort_values(by='count', ascending=False)"
   ]
  },
  {
   "cell_type": "markdown",
   "metadata": {},
   "source": [
    "While it appears there is more missing data for TOBS and TAVG, it is important to note that not all stations had all readings taken. For stations that did not have a value for TOBS and TAVG, the other stations average will be substituted for it"
   ]
  },
  {
   "cell_type": "code",
   "execution_count": 56,
   "metadata": {},
   "outputs": [
    {
     "data": {
      "text/plain": [
       "array(['USC00414327', 'US1ARPY0002', 'USC00224265', 'USW00012977',\n",
       "       'US1MOFSA215', 'CA001073615', 'US1MOTX0041', 'US1TXHRR176',\n",
       "       'USC00234019', 'US1MOTX0007', 'USW00053910', 'US1TXHRR147',\n",
       "       'USC00414325', 'US1TXHRR165', 'USC00503731', 'US1TXHRR269',\n",
       "       'USW00012918', 'US1OHSH0011', 'USC00414333', 'US1MOTX0040',\n",
       "       'US1TXHRR209', 'USW00012960', 'USW00012975', 'US1TXHRR232'],\n",
       "      dtype=object)"
      ]
     },
     "execution_count": 56,
     "metadata": {},
     "output_type": "execute_result"
    }
   ],
   "source": [
    "weather_df_scrub.STATION.unique()"
   ]
  },
  {
   "cell_type": "code",
   "execution_count": 57,
   "metadata": {},
   "outputs": [
    {
     "data": {
      "text/plain": [
       "<matplotlib.collections.PathCollection at 0x1cfca514c70>"
      ]
     },
     "execution_count": 57,
     "metadata": {},
     "output_type": "execute_result"
    },
    {
     "data": {
      "image/png": "[encoded data removed]",
      "text/plain": [
       "<Figure size 432x288 with 1 Axes>"
      ]
     },
     "metadata": {
      "needs_background": "light"
     },
     "output_type": "display_data"
    }
   ],
   "source": [
    "plt.scatter(weather_df_scrub.DATE,weather_df_scrub.TMAX)"
   ]
  },
  {
   "cell_type": "code",
   "execution_count": 58,
   "metadata": {},
   "outputs": [
    {
     "data": {
      "text/plain": [
       "<matplotlib.collections.PathCollection at 0x1cfca80ce50>"
      ]
     },
     "execution_count": 58,
     "metadata": {},
     "output_type": "execute_result"
    },
    {
     "data": {
      "image/png": "[encoded data removed]",
      "text/plain": [
       "<Figure size 432x288 with 1 Axes>"
      ]
     },
     "metadata": {
      "needs_background": "light"
     },
     "output_type": "display_data"
    }
   ],
   "source": [
    "plt.scatter(weather_df_scrub.DATE,weather_df_scrub.PRCP)"
   ]
  },
  {
   "cell_type": "code",
   "execution_count": 59,
   "metadata": {},
   "outputs": [
    {
     "data": {
      "text/html": [
       "<div>\n",
       "<style scoped>\n",
       "    .dataframe tbody tr th:only-of-type {\n",
       "        vertical-align: middle;\n",
       "    }\n",
       "\n",
       "    .dataframe tbody tr th {\n",
       "        vertical-align: top;\n",
       "    }\n",
       "\n",
       "    .dataframe thead th {\n",
       "        text-align: right;\n",
       "    }\n",
       "</style>\n",
       "<table border=\"1\" class=\"dataframe\">\n",
       "  <thead>\n",
       "    <tr style=\"text-align: right;\">\n",
       "      <th></th>\n",
       "      <th>DATE</th>\n",
       "      <th>PRCP</th>\n",
       "      <th>TAVG</th>\n",
       "      <th>TMAX</th>\n",
       "      <th>TMIN</th>\n",
       "      <th>TOBS</th>\n",
       "    </tr>\n",
       "    <tr>\n",
       "      <th>STATION</th>\n",
       "      <th></th>\n",
       "      <th></th>\n",
       "      <th></th>\n",
       "      <th></th>\n",
       "      <th></th>\n",
       "      <th></th>\n",
       "    </tr>\n",
       "  </thead>\n",
       "  <tbody>\n",
       "    <tr>\n",
       "      <th>CA001073615</th>\n",
       "      <td>3277</td>\n",
       "      <td>3277</td>\n",
       "      <td>1864</td>\n",
       "      <td>3268</td>\n",
       "      <td>3271</td>\n",
       "      <td>0</td>\n",
       "    </tr>\n",
       "    <tr>\n",
       "      <th>US1ARPY0002</th>\n",
       "      <td>2673</td>\n",
       "      <td>2673</td>\n",
       "      <td>0</td>\n",
       "      <td>0</td>\n",
       "      <td>0</td>\n",
       "      <td>0</td>\n",
       "    </tr>\n",
       "    <tr>\n",
       "      <th>US1MOFSA215</th>\n",
       "      <td>3286</td>\n",
       "      <td>3286</td>\n",
       "      <td>0</td>\n",
       "      <td>0</td>\n",
       "      <td>0</td>\n",
       "      <td>0</td>\n",
       "    </tr>\n",
       "    <tr>\n",
       "      <th>US1MOTX0007</th>\n",
       "      <td>3580</td>\n",
       "      <td>3580</td>\n",
       "      <td>0</td>\n",
       "      <td>0</td>\n",
       "      <td>0</td>\n",
       "      <td>0</td>\n",
       "    </tr>\n",
       "    <tr>\n",
       "      <th>US1MOTX0040</th>\n",
       "      <td>1317</td>\n",
       "      <td>1317</td>\n",
       "      <td>0</td>\n",
       "      <td>0</td>\n",
       "      <td>0</td>\n",
       "      <td>0</td>\n",
       "    </tr>\n",
       "    <tr>\n",
       "      <th>US1MOTX0041</th>\n",
       "      <td>279</td>\n",
       "      <td>279</td>\n",
       "      <td>0</td>\n",
       "      <td>0</td>\n",
       "      <td>0</td>\n",
       "      <td>0</td>\n",
       "    </tr>\n",
       "    <tr>\n",
       "      <th>US1OHSH0011</th>\n",
       "      <td>3376</td>\n",
       "      <td>3376</td>\n",
       "      <td>0</td>\n",
       "      <td>0</td>\n",
       "      <td>0</td>\n",
       "      <td>0</td>\n",
       "    </tr>\n",
       "    <tr>\n",
       "      <th>US1TXHRR147</th>\n",
       "      <td>1387</td>\n",
       "      <td>1387</td>\n",
       "      <td>0</td>\n",
       "      <td>0</td>\n",
       "      <td>0</td>\n",
       "      <td>0</td>\n",
       "    </tr>\n",
       "    <tr>\n",
       "      <th>US1TXHRR165</th>\n",
       "      <td>1883</td>\n",
       "      <td>1883</td>\n",
       "      <td>0</td>\n",
       "      <td>0</td>\n",
       "      <td>0</td>\n",
       "      <td>0</td>\n",
       "    </tr>\n",
       "    <tr>\n",
       "      <th>US1TXHRR176</th>\n",
       "      <td>2711</td>\n",
       "      <td>2711</td>\n",
       "      <td>0</td>\n",
       "      <td>0</td>\n",
       "      <td>0</td>\n",
       "      <td>0</td>\n",
       "    </tr>\n",
       "    <tr>\n",
       "      <th>US1TXHRR209</th>\n",
       "      <td>2283</td>\n",
       "      <td>2283</td>\n",
       "      <td>0</td>\n",
       "      <td>0</td>\n",
       "      <td>0</td>\n",
       "      <td>0</td>\n",
       "    </tr>\n",
       "    <tr>\n",
       "      <th>US1TXHRR232</th>\n",
       "      <td>1501</td>\n",
       "      <td>1501</td>\n",
       "      <td>0</td>\n",
       "      <td>0</td>\n",
       "      <td>0</td>\n",
       "      <td>0</td>\n",
       "    </tr>\n",
       "    <tr>\n",
       "      <th>US1TXHRR269</th>\n",
       "      <td>407</td>\n",
       "      <td>407</td>\n",
       "      <td>0</td>\n",
       "      <td>0</td>\n",
       "      <td>0</td>\n",
       "      <td>0</td>\n",
       "    </tr>\n",
       "    <tr>\n",
       "      <th>USC00224265</th>\n",
       "      <td>2296</td>\n",
       "      <td>2296</td>\n",
       "      <td>0</td>\n",
       "      <td>2269</td>\n",
       "      <td>2269</td>\n",
       "      <td>2269</td>\n",
       "    </tr>\n",
       "    <tr>\n",
       "      <th>USC00234019</th>\n",
       "      <td>3516</td>\n",
       "      <td>3516</td>\n",
       "      <td>0</td>\n",
       "      <td>3514</td>\n",
       "      <td>3513</td>\n",
       "      <td>0</td>\n",
       "    </tr>\n",
       "    <tr>\n",
       "      <th>USC00414325</th>\n",
       "      <td>3593</td>\n",
       "      <td>3593</td>\n",
       "      <td>0</td>\n",
       "      <td>0</td>\n",
       "      <td>0</td>\n",
       "      <td>0</td>\n",
       "    </tr>\n",
       "    <tr>\n",
       "      <th>USC00414327</th>\n",
       "      <td>3435</td>\n",
       "      <td>3435</td>\n",
       "      <td>0</td>\n",
       "      <td>0</td>\n",
       "      <td>0</td>\n",
       "      <td>0</td>\n",
       "    </tr>\n",
       "    <tr>\n",
       "      <th>USC00414333</th>\n",
       "      <td>3593</td>\n",
       "      <td>3593</td>\n",
       "      <td>0</td>\n",
       "      <td>3591</td>\n",
       "      <td>3591</td>\n",
       "      <td>3592</td>\n",
       "    </tr>\n",
       "    <tr>\n",
       "      <th>USC00503731</th>\n",
       "      <td>2093</td>\n",
       "      <td>2093</td>\n",
       "      <td>0</td>\n",
       "      <td>1814</td>\n",
       "      <td>1813</td>\n",
       "      <td>1410</td>\n",
       "    </tr>\n",
       "    <tr>\n",
       "      <th>USW00012918</th>\n",
       "      <td>3593</td>\n",
       "      <td>3593</td>\n",
       "      <td>2772</td>\n",
       "      <td>3593</td>\n",
       "      <td>3593</td>\n",
       "      <td>0</td>\n",
       "    </tr>\n",
       "    <tr>\n",
       "      <th>USW00012960</th>\n",
       "      <td>3593</td>\n",
       "      <td>3593</td>\n",
       "      <td>2772</td>\n",
       "      <td>3593</td>\n",
       "      <td>3593</td>\n",
       "      <td>0</td>\n",
       "    </tr>\n",
       "    <tr>\n",
       "      <th>USW00012975</th>\n",
       "      <td>3591</td>\n",
       "      <td>3591</td>\n",
       "      <td>0</td>\n",
       "      <td>3588</td>\n",
       "      <td>3589</td>\n",
       "      <td>0</td>\n",
       "    </tr>\n",
       "    <tr>\n",
       "      <th>USW00012977</th>\n",
       "      <td>3592</td>\n",
       "      <td>3592</td>\n",
       "      <td>0</td>\n",
       "      <td>3589</td>\n",
       "      <td>3590</td>\n",
       "      <td>0</td>\n",
       "    </tr>\n",
       "    <tr>\n",
       "      <th>USW00053910</th>\n",
       "      <td>3592</td>\n",
       "      <td>3592</td>\n",
       "      <td>0</td>\n",
       "      <td>3590</td>\n",
       "      <td>3590</td>\n",
       "      <td>0</td>\n",
       "    </tr>\n",
       "  </tbody>\n",
       "</table>\n",
       "</div>"
      ],
      "text/plain": [
       "             DATE  PRCP  TAVG  TMAX  TMIN  TOBS\n",
       "STATION                                        \n",
       "CA001073615  3277  3277  1864  3268  3271     0\n",
       "US1ARPY0002  2673  2673     0     0     0     0\n",
       "US1MOFSA215  3286  3286     0     0     0     0\n",
       "US1MOTX0007  3580  3580     0     0     0     0\n",
       "US1MOTX0040  1317  1317     0     0     0     0\n",
       "US1MOTX0041   279   279     0     0     0     0\n",
       "US1OHSH0011  3376  3376     0     0     0     0\n",
       "US1TXHRR147  1387  1387     0     0     0     0\n",
       "US1TXHRR165  1883  1883     0     0     0     0\n",
       "US1TXHRR176  2711  2711     0     0     0     0\n",
       "US1TXHRR209  2283  2283     0     0     0     0\n",
       "US1TXHRR232  1501  1501     0     0     0     0\n",
       "US1TXHRR269   407   407     0     0     0     0\n",
       "USC00224265  2296  2296     0  2269  2269  2269\n",
       "USC00234019  3516  3516     0  3514  3513     0\n",
       "USC00414325  3593  3593     0     0     0     0\n",
       "USC00414327  3435  3435     0     0     0     0\n",
       "USC00414333  3593  3593     0  3591  3591  3592\n",
       "USC00503731  2093  2093     0  1814  1813  1410\n",
       "USW00012918  3593  3593  2772  3593  3593     0\n",
       "USW00012960  3593  3593  2772  3593  3593     0\n",
       "USW00012975  3591  3591     0  3588  3589     0\n",
       "USW00012977  3592  3592     0  3589  3590     0\n",
       "USW00053910  3592  3592     0  3590  3590     0"
      ]
     },
     "execution_count": 59,
     "metadata": {},
     "output_type": "execute_result"
    }
   ],
   "source": [
    "#Check for counts of data present for each station\n",
    "weather_df_scrub.groupby('STATION').count()"
   ]
  },
  {
   "cell_type": "code",
   "execution_count": 60,
   "metadata": {
    "scrolled": false
   },
   "outputs": [
    {
     "data": {
      "text/html": [
       "<div>\n",
       "<style scoped>\n",
       "    .dataframe tbody tr th:only-of-type {\n",
       "        vertical-align: middle;\n",
       "    }\n",
       "\n",
       "    .dataframe tbody tr th {\n",
       "        vertical-align: top;\n",
       "    }\n",
       "\n",
       "    .dataframe thead th {\n",
       "        text-align: right;\n",
       "    }\n",
       "</style>\n",
       "<table border=\"1\" class=\"dataframe\">\n",
       "  <thead>\n",
       "    <tr style=\"text-align: right;\">\n",
       "      <th></th>\n",
       "      <th>STATION</th>\n",
       "      <th>PRCP</th>\n",
       "      <th>TAVG</th>\n",
       "      <th>TMAX</th>\n",
       "      <th>TMIN</th>\n",
       "      <th>TOBS</th>\n",
       "    </tr>\n",
       "    <tr>\n",
       "      <th>DATE</th>\n",
       "      <th></th>\n",
       "      <th></th>\n",
       "      <th></th>\n",
       "      <th></th>\n",
       "      <th></th>\n",
       "      <th></th>\n",
       "    </tr>\n",
       "  </thead>\n",
       "  <tbody>\n",
       "    <tr>\n",
       "      <th>2011-01-01</th>\n",
       "      <td>12</td>\n",
       "      <td>12</td>\n",
       "      <td>0</td>\n",
       "      <td>8</td>\n",
       "      <td>8</td>\n",
       "      <td>1</td>\n",
       "    </tr>\n",
       "    <tr>\n",
       "      <th>2011-01-02</th>\n",
       "      <td>12</td>\n",
       "      <td>12</td>\n",
       "      <td>0</td>\n",
       "      <td>8</td>\n",
       "      <td>8</td>\n",
       "      <td>1</td>\n",
       "    </tr>\n",
       "    <tr>\n",
       "      <th>2011-01-03</th>\n",
       "      <td>11</td>\n",
       "      <td>11</td>\n",
       "      <td>0</td>\n",
       "      <td>7</td>\n",
       "      <td>7</td>\n",
       "      <td>1</td>\n",
       "    </tr>\n",
       "    <tr>\n",
       "      <th>2011-01-04</th>\n",
       "      <td>11</td>\n",
       "      <td>11</td>\n",
       "      <td>0</td>\n",
       "      <td>7</td>\n",
       "      <td>7</td>\n",
       "      <td>1</td>\n",
       "    </tr>\n",
       "    <tr>\n",
       "      <th>2011-01-05</th>\n",
       "      <td>11</td>\n",
       "      <td>11</td>\n",
       "      <td>0</td>\n",
       "      <td>7</td>\n",
       "      <td>7</td>\n",
       "      <td>1</td>\n",
       "    </tr>\n",
       "    <tr>\n",
       "      <th>...</th>\n",
       "      <td>...</td>\n",
       "      <td>...</td>\n",
       "      <td>...</td>\n",
       "      <td>...</td>\n",
       "      <td>...</td>\n",
       "      <td>...</td>\n",
       "    </tr>\n",
       "    <tr>\n",
       "      <th>2020-10-28</th>\n",
       "      <td>21</td>\n",
       "      <td>21</td>\n",
       "      <td>3</td>\n",
       "      <td>9</td>\n",
       "      <td>9</td>\n",
       "      <td>2</td>\n",
       "    </tr>\n",
       "    <tr>\n",
       "      <th>2020-10-29</th>\n",
       "      <td>21</td>\n",
       "      <td>21</td>\n",
       "      <td>3</td>\n",
       "      <td>9</td>\n",
       "      <td>9</td>\n",
       "      <td>2</td>\n",
       "    </tr>\n",
       "    <tr>\n",
       "      <th>2020-10-30</th>\n",
       "      <td>21</td>\n",
       "      <td>21</td>\n",
       "      <td>3</td>\n",
       "      <td>9</td>\n",
       "      <td>9</td>\n",
       "      <td>2</td>\n",
       "    </tr>\n",
       "    <tr>\n",
       "      <th>2020-10-31</th>\n",
       "      <td>19</td>\n",
       "      <td>19</td>\n",
       "      <td>3</td>\n",
       "      <td>9</td>\n",
       "      <td>9</td>\n",
       "      <td>2</td>\n",
       "    </tr>\n",
       "    <tr>\n",
       "      <th>2020-11-01</th>\n",
       "      <td>19</td>\n",
       "      <td>19</td>\n",
       "      <td>3</td>\n",
       "      <td>9</td>\n",
       "      <td>9</td>\n",
       "      <td>2</td>\n",
       "    </tr>\n",
       "  </tbody>\n",
       "</table>\n",
       "<p>3593 rows × 6 columns</p>\n",
       "</div>"
      ],
      "text/plain": [
       "            STATION  PRCP  TAVG  TMAX  TMIN  TOBS\n",
       "DATE                                             \n",
       "2011-01-01       12    12     0     8     8     1\n",
       "2011-01-02       12    12     0     8     8     1\n",
       "2011-01-03       11    11     0     7     7     1\n",
       "2011-01-04       11    11     0     7     7     1\n",
       "2011-01-05       11    11     0     7     7     1\n",
       "...             ...   ...   ...   ...   ...   ...\n",
       "2020-10-28       21    21     3     9     9     2\n",
       "2020-10-29       21    21     3     9     9     2\n",
       "2020-10-30       21    21     3     9     9     2\n",
       "2020-10-31       19    19     3     9     9     2\n",
       "2020-11-01       19    19     3     9     9     2\n",
       "\n",
       "[3593 rows x 6 columns]"
      ]
     },
     "execution_count": 60,
     "metadata": {},
     "output_type": "execute_result"
    }
   ],
   "source": [
    "weather_df_scrub.groupby('DATE').count()"
   ]
  },
  {
   "cell_type": "code",
   "execution_count": 61,
   "metadata": {},
   "outputs": [
    {
     "data": {
      "text/html": [
       "<div>\n",
       "<style scoped>\n",
       "    .dataframe tbody tr th:only-of-type {\n",
       "        vertical-align: middle;\n",
       "    }\n",
       "\n",
       "    .dataframe tbody tr th {\n",
       "        vertical-align: top;\n",
       "    }\n",
       "\n",
       "    .dataframe thead th {\n",
       "        text-align: right;\n",
       "    }\n",
       "</style>\n",
       "<table border=\"1\" class=\"dataframe\">\n",
       "  <thead>\n",
       "    <tr style=\"text-align: right;\">\n",
       "      <th></th>\n",
       "      <th>STATION</th>\n",
       "      <th>PRCP</th>\n",
       "      <th>TAVG</th>\n",
       "      <th>TMAX</th>\n",
       "      <th>TMIN</th>\n",
       "      <th>TOBS</th>\n",
       "    </tr>\n",
       "    <tr>\n",
       "      <th>DATE</th>\n",
       "      <th></th>\n",
       "      <th></th>\n",
       "      <th></th>\n",
       "      <th></th>\n",
       "      <th></th>\n",
       "      <th></th>\n",
       "    </tr>\n",
       "  </thead>\n",
       "  <tbody>\n",
       "    <tr>\n",
       "      <th>2011-01-01</th>\n",
       "      <td>12</td>\n",
       "      <td>0.113333</td>\n",
       "      <td>NaN</td>\n",
       "      <td>58.750000</td>\n",
       "      <td>37.625000</td>\n",
       "      <td>46.0</td>\n",
       "    </tr>\n",
       "    <tr>\n",
       "      <th>2011-01-02</th>\n",
       "      <td>12</td>\n",
       "      <td>0.000000</td>\n",
       "      <td>NaN</td>\n",
       "      <td>50.375000</td>\n",
       "      <td>31.625000</td>\n",
       "      <td>38.0</td>\n",
       "    </tr>\n",
       "    <tr>\n",
       "      <th>2011-01-03</th>\n",
       "      <td>11</td>\n",
       "      <td>0.000000</td>\n",
       "      <td>NaN</td>\n",
       "      <td>57.571429</td>\n",
       "      <td>32.285714</td>\n",
       "      <td>50.0</td>\n",
       "    </tr>\n",
       "    <tr>\n",
       "      <th>2011-01-04</th>\n",
       "      <td>11</td>\n",
       "      <td>0.191818</td>\n",
       "      <td>NaN</td>\n",
       "      <td>64.857143</td>\n",
       "      <td>45.428571</td>\n",
       "      <td>64.0</td>\n",
       "    </tr>\n",
       "    <tr>\n",
       "      <th>2011-01-05</th>\n",
       "      <td>11</td>\n",
       "      <td>0.163636</td>\n",
       "      <td>NaN</td>\n",
       "      <td>67.857143</td>\n",
       "      <td>46.428571</td>\n",
       "      <td>52.0</td>\n",
       "    </tr>\n",
       "    <tr>\n",
       "      <th>...</th>\n",
       "      <td>...</td>\n",
       "      <td>...</td>\n",
       "      <td>...</td>\n",
       "      <td>...</td>\n",
       "      <td>...</td>\n",
       "      <td>...</td>\n",
       "    </tr>\n",
       "    <tr>\n",
       "      <th>2020-10-28</th>\n",
       "      <td>21</td>\n",
       "      <td>0.185238</td>\n",
       "      <td>48.333333</td>\n",
       "      <td>57.444444</td>\n",
       "      <td>43.111111</td>\n",
       "      <td>58.0</td>\n",
       "    </tr>\n",
       "    <tr>\n",
       "      <th>2020-10-29</th>\n",
       "      <td>21</td>\n",
       "      <td>0.478571</td>\n",
       "      <td>45.666667</td>\n",
       "      <td>61.333333</td>\n",
       "      <td>42.555556</td>\n",
       "      <td>55.0</td>\n",
       "    </tr>\n",
       "    <tr>\n",
       "      <th>2020-10-30</th>\n",
       "      <td>21</td>\n",
       "      <td>0.077143</td>\n",
       "      <td>49.666667</td>\n",
       "      <td>62.333333</td>\n",
       "      <td>42.555556</td>\n",
       "      <td>48.0</td>\n",
       "    </tr>\n",
       "    <tr>\n",
       "      <th>2020-10-31</th>\n",
       "      <td>19</td>\n",
       "      <td>0.003158</td>\n",
       "      <td>52.000000</td>\n",
       "      <td>68.666667</td>\n",
       "      <td>41.000000</td>\n",
       "      <td>47.0</td>\n",
       "    </tr>\n",
       "    <tr>\n",
       "      <th>2020-11-01</th>\n",
       "      <td>19</td>\n",
       "      <td>0.001053</td>\n",
       "      <td>55.000000</td>\n",
       "      <td>72.111111</td>\n",
       "      <td>45.666667</td>\n",
       "      <td>51.0</td>\n",
       "    </tr>\n",
       "  </tbody>\n",
       "</table>\n",
       "<p>3593 rows × 6 columns</p>\n",
       "</div>"
      ],
      "text/plain": [
       "            STATION      PRCP       TAVG       TMAX       TMIN  TOBS\n",
       "DATE                                                                \n",
       "2011-01-01       12  0.113333        NaN  58.750000  37.625000  46.0\n",
       "2011-01-02       12  0.000000        NaN  50.375000  31.625000  38.0\n",
       "2011-01-03       11  0.000000        NaN  57.571429  32.285714  50.0\n",
       "2011-01-04       11  0.191818        NaN  64.857143  45.428571  64.0\n",
       "2011-01-05       11  0.163636        NaN  67.857143  46.428571  52.0\n",
       "...             ...       ...        ...        ...        ...   ...\n",
       "2020-10-28       21  0.185238  48.333333  57.444444  43.111111  58.0\n",
       "2020-10-29       21  0.478571  45.666667  61.333333  42.555556  55.0\n",
       "2020-10-30       21  0.077143  49.666667  62.333333  42.555556  48.0\n",
       "2020-10-31       19  0.003158  52.000000  68.666667  41.000000  47.0\n",
       "2020-11-01       19  0.001053  55.000000  72.111111  45.666667  51.0\n",
       "\n",
       "[3593 rows x 6 columns]"
      ]
     },
     "execution_count": 61,
     "metadata": {},
     "output_type": "execute_result"
    }
   ],
   "source": [
    "#Group the data by date and use agg dict to deteremine how to combine the data\n",
    "weather_agg_dict = {'STATION':'count', 'PRCP':'mean','TAVG':'mean','TMAX':'mean','TMIN':'mean','TOBS':'mean'}\n",
    "weather_grouped = weather_df_scrub.groupby('DATE')[['STATION','PRCP','TAVG','TMAX','TMIN','TOBS']].agg(weather_agg_dict)\n",
    "weather_grouped"
   ]
  },
  {
   "cell_type": "code",
   "execution_count": 62,
   "metadata": {},
   "outputs": [
    {
     "data": {
      "text/plain": [
       "DatetimeIndex(['2011-01-01', '2011-01-02', '2011-01-03', '2011-01-04',\n",
       "               '2011-01-05', '2011-01-06', '2011-01-07', '2011-01-08',\n",
       "               '2011-01-09', '2011-01-10',\n",
       "               ...\n",
       "               '2020-10-23', '2020-10-24', '2020-10-25', '2020-10-26',\n",
       "               '2020-10-27', '2020-10-28', '2020-10-29', '2020-10-30',\n",
       "               '2020-10-31', '2020-11-01'],\n",
       "              dtype='datetime64[ns]', name='DATE', length=3593, freq=None)"
      ]
     },
     "execution_count": 62,
     "metadata": {},
     "output_type": "execute_result"
    }
   ],
   "source": [
    "weather_grouped.index"
   ]
  },
  {
   "cell_type": "code",
   "execution_count": 63,
   "metadata": {},
   "outputs": [
    {
     "data": {
      "text/html": [
       "<div>\n",
       "<style scoped>\n",
       "    .dataframe tbody tr th:only-of-type {\n",
       "        vertical-align: middle;\n",
       "    }\n",
       "\n",
       "    .dataframe tbody tr th {\n",
       "        vertical-align: top;\n",
       "    }\n",
       "\n",
       "    .dataframe thead th {\n",
       "        text-align: right;\n",
       "    }\n",
       "</style>\n",
       "<table border=\"1\" class=\"dataframe\">\n",
       "  <thead>\n",
       "    <tr style=\"text-align: right;\">\n",
       "      <th></th>\n",
       "      <th>count</th>\n",
       "      <th>%</th>\n",
       "    </tr>\n",
       "  </thead>\n",
       "  <tbody>\n",
       "    <tr>\n",
       "      <th>TAVG</th>\n",
       "      <td>821</td>\n",
       "      <td>22.849986</td>\n",
       "    </tr>\n",
       "    <tr>\n",
       "      <th>STATION</th>\n",
       "      <td>0</td>\n",
       "      <td>0.000000</td>\n",
       "    </tr>\n",
       "    <tr>\n",
       "      <th>PRCP</th>\n",
       "      <td>0</td>\n",
       "      <td>0.000000</td>\n",
       "    </tr>\n",
       "    <tr>\n",
       "      <th>TMAX</th>\n",
       "      <td>0</td>\n",
       "      <td>0.000000</td>\n",
       "    </tr>\n",
       "    <tr>\n",
       "      <th>TMIN</th>\n",
       "      <td>0</td>\n",
       "      <td>0.000000</td>\n",
       "    </tr>\n",
       "    <tr>\n",
       "      <th>TOBS</th>\n",
       "      <td>0</td>\n",
       "      <td>0.000000</td>\n",
       "    </tr>\n",
       "  </tbody>\n",
       "</table>\n",
       "</div>"
      ],
      "text/plain": [
       "         count          %\n",
       "TAVG       821  22.849986\n",
       "STATION      0   0.000000\n",
       "PRCP         0   0.000000\n",
       "TMAX         0   0.000000\n",
       "TMIN         0   0.000000\n",
       "TOBS         0   0.000000"
      ]
     },
     "execution_count": 63,
     "metadata": {},
     "output_type": "execute_result"
    }
   ],
   "source": [
    "missing_temp = pd.concat([weather_grouped.isnull().sum(), 100 * weather_grouped.isnull().mean()], axis=1)\n",
    "missing_temp.columns=['count', '%']\n",
    "missing_temp.sort_values(by='count', ascending=False)"
   ]
  },
  {
   "cell_type": "code",
   "execution_count": 64,
   "metadata": {},
   "outputs": [
    {
     "data": {
      "text/plain": [
       "<matplotlib.collections.PathCollection at 0x1cfca89f370>"
      ]
     },
     "execution_count": 64,
     "metadata": {},
     "output_type": "execute_result"
    },
    {
     "data": {
      "image/png": "[encoded data removed]",
      "text/plain": [
       "<Figure size 432x288 with 1 Axes>"
      ]
     },
     "metadata": {
      "needs_background": "light"
     },
     "output_type": "display_data"
    }
   ],
   "source": [
    "plt.scatter(weather_grouped.index,weather_grouped.PRCP)"
   ]
  },
  {
   "cell_type": "code",
   "execution_count": 65,
   "metadata": {},
   "outputs": [
    {
     "data": {
      "text/plain": [
       "<matplotlib.collections.PathCollection at 0x1cfcad9f0a0>"
      ]
     },
     "execution_count": 65,
     "metadata": {},
     "output_type": "execute_result"
    },
    {
     "data": {
      "image/png": "[encoded data removed]",
      "text/plain": [
       "<Figure size 432x288 with 1 Axes>"
      ]
     },
     "metadata": {
      "needs_background": "light"
     },
     "output_type": "display_data"
    }
   ],
   "source": [
    "plt.scatter(weather_grouped.index,weather_grouped.TMAX)"
   ]
  },
  {
   "cell_type": "code",
   "execution_count": 66,
   "metadata": {},
   "outputs": [
    {
     "data": {
      "text/html": [
       "<div>\n",
       "<style scoped>\n",
       "    .dataframe tbody tr th:only-of-type {\n",
       "        vertical-align: middle;\n",
       "    }\n",
       "\n",
       "    .dataframe tbody tr th {\n",
       "        vertical-align: top;\n",
       "    }\n",
       "\n",
       "    .dataframe thead th {\n",
       "        text-align: right;\n",
       "    }\n",
       "</style>\n",
       "<table border=\"1\" class=\"dataframe\">\n",
       "  <thead>\n",
       "    <tr style=\"text-align: right;\">\n",
       "      <th></th>\n",
       "      <th>PRCP</th>\n",
       "      <th>TAVG</th>\n",
       "      <th>TMAX</th>\n",
       "      <th>TMIN</th>\n",
       "      <th>TOBS</th>\n",
       "    </tr>\n",
       "    <tr>\n",
       "      <th>DATE</th>\n",
       "      <th></th>\n",
       "      <th></th>\n",
       "      <th></th>\n",
       "      <th></th>\n",
       "      <th></th>\n",
       "    </tr>\n",
       "  </thead>\n",
       "  <tbody>\n",
       "    <tr>\n",
       "      <th>2011-01-01</th>\n",
       "      <td>0.113333</td>\n",
       "      <td>NaN</td>\n",
       "      <td>58.750000</td>\n",
       "      <td>37.625000</td>\n",
       "      <td>46.0</td>\n",
       "    </tr>\n",
       "    <tr>\n",
       "      <th>2011-01-02</th>\n",
       "      <td>0.000000</td>\n",
       "      <td>NaN</td>\n",
       "      <td>50.375000</td>\n",
       "      <td>31.625000</td>\n",
       "      <td>38.0</td>\n",
       "    </tr>\n",
       "    <tr>\n",
       "      <th>2011-01-03</th>\n",
       "      <td>0.000000</td>\n",
       "      <td>NaN</td>\n",
       "      <td>57.571429</td>\n",
       "      <td>32.285714</td>\n",
       "      <td>50.0</td>\n",
       "    </tr>\n",
       "    <tr>\n",
       "      <th>2011-01-04</th>\n",
       "      <td>0.191818</td>\n",
       "      <td>NaN</td>\n",
       "      <td>64.857143</td>\n",
       "      <td>45.428571</td>\n",
       "      <td>64.0</td>\n",
       "    </tr>\n",
       "    <tr>\n",
       "      <th>2011-01-05</th>\n",
       "      <td>0.163636</td>\n",
       "      <td>NaN</td>\n",
       "      <td>67.857143</td>\n",
       "      <td>46.428571</td>\n",
       "      <td>52.0</td>\n",
       "    </tr>\n",
       "    <tr>\n",
       "      <th>...</th>\n",
       "      <td>...</td>\n",
       "      <td>...</td>\n",
       "      <td>...</td>\n",
       "      <td>...</td>\n",
       "      <td>...</td>\n",
       "    </tr>\n",
       "    <tr>\n",
       "      <th>2020-10-28</th>\n",
       "      <td>0.185238</td>\n",
       "      <td>48.333333</td>\n",
       "      <td>57.444444</td>\n",
       "      <td>43.111111</td>\n",
       "      <td>58.0</td>\n",
       "    </tr>\n",
       "    <tr>\n",
       "      <th>2020-10-29</th>\n",
       "      <td>0.478571</td>\n",
       "      <td>45.666667</td>\n",
       "      <td>61.333333</td>\n",
       "      <td>42.555556</td>\n",
       "      <td>55.0</td>\n",
       "    </tr>\n",
       "    <tr>\n",
       "      <th>2020-10-30</th>\n",
       "      <td>0.077143</td>\n",
       "      <td>49.666667</td>\n",
       "      <td>62.333333</td>\n",
       "      <td>42.555556</td>\n",
       "      <td>48.0</td>\n",
       "    </tr>\n",
       "    <tr>\n",
       "      <th>2020-10-31</th>\n",
       "      <td>0.003158</td>\n",
       "      <td>52.000000</td>\n",
       "      <td>68.666667</td>\n",
       "      <td>41.000000</td>\n",
       "      <td>47.0</td>\n",
       "    </tr>\n",
       "    <tr>\n",
       "      <th>2020-11-01</th>\n",
       "      <td>0.001053</td>\n",
       "      <td>55.000000</td>\n",
       "      <td>72.111111</td>\n",
       "      <td>45.666667</td>\n",
       "      <td>51.0</td>\n",
       "    </tr>\n",
       "  </tbody>\n",
       "</table>\n",
       "<p>3593 rows × 5 columns</p>\n",
       "</div>"
      ],
      "text/plain": [
       "                PRCP       TAVG       TMAX       TMIN  TOBS\n",
       "DATE                                                       \n",
       "2011-01-01  0.113333        NaN  58.750000  37.625000  46.0\n",
       "2011-01-02  0.000000        NaN  50.375000  31.625000  38.0\n",
       "2011-01-03  0.000000        NaN  57.571429  32.285714  50.0\n",
       "2011-01-04  0.191818        NaN  64.857143  45.428571  64.0\n",
       "2011-01-05  0.163636        NaN  67.857143  46.428571  52.0\n",
       "...              ...        ...        ...        ...   ...\n",
       "2020-10-28  0.185238  48.333333  57.444444  43.111111  58.0\n",
       "2020-10-29  0.478571  45.666667  61.333333  42.555556  55.0\n",
       "2020-10-30  0.077143  49.666667  62.333333  42.555556  48.0\n",
       "2020-10-31  0.003158  52.000000  68.666667  41.000000  47.0\n",
       "2020-11-01  0.001053  55.000000  72.111111  45.666667  51.0\n",
       "\n",
       "[3593 rows x 5 columns]"
      ]
     },
     "execution_count": 66,
     "metadata": {},
     "output_type": "execute_result"
    }
   ],
   "source": [
    "weather_df_scrubbed = weather_df_scrub.groupby('DATE').mean()\n",
    "weather_df_scrubbed"
   ]
  },
  {
   "cell_type": "code",
   "execution_count": 67,
   "metadata": {},
   "outputs": [
    {
     "data": {
      "text/html": [
       "<div>\n",
       "<style scoped>\n",
       "    .dataframe tbody tr th:only-of-type {\n",
       "        vertical-align: middle;\n",
       "    }\n",
       "\n",
       "    .dataframe tbody tr th {\n",
       "        vertical-align: top;\n",
       "    }\n",
       "\n",
       "    .dataframe thead th {\n",
       "        text-align: right;\n",
       "    }\n",
       "</style>\n",
       "<table border=\"1\" class=\"dataframe\">\n",
       "  <thead>\n",
       "    <tr style=\"text-align: right;\">\n",
       "      <th></th>\n",
       "      <th>PRCP</th>\n",
       "      <th>TAVG</th>\n",
       "      <th>TMAX</th>\n",
       "      <th>TMIN</th>\n",
       "      <th>TOBS</th>\n",
       "    </tr>\n",
       "    <tr>\n",
       "      <th>DATE</th>\n",
       "      <th></th>\n",
       "      <th></th>\n",
       "      <th></th>\n",
       "      <th></th>\n",
       "      <th></th>\n",
       "    </tr>\n",
       "  </thead>\n",
       "  <tbody>\n",
       "    <tr>\n",
       "      <th>2011-01-01</th>\n",
       "      <td>0.113333</td>\n",
       "      <td>NaN</td>\n",
       "      <td>58.750000</td>\n",
       "      <td>37.625000</td>\n",
       "      <td>46.0</td>\n",
       "    </tr>\n",
       "    <tr>\n",
       "      <th>2011-01-02</th>\n",
       "      <td>0.000000</td>\n",
       "      <td>NaN</td>\n",
       "      <td>50.375000</td>\n",
       "      <td>31.625000</td>\n",
       "      <td>38.0</td>\n",
       "    </tr>\n",
       "    <tr>\n",
       "      <th>2011-01-03</th>\n",
       "      <td>0.000000</td>\n",
       "      <td>NaN</td>\n",
       "      <td>57.571429</td>\n",
       "      <td>32.285714</td>\n",
       "      <td>50.0</td>\n",
       "    </tr>\n",
       "    <tr>\n",
       "      <th>2011-01-04</th>\n",
       "      <td>0.191818</td>\n",
       "      <td>NaN</td>\n",
       "      <td>64.857143</td>\n",
       "      <td>45.428571</td>\n",
       "      <td>64.0</td>\n",
       "    </tr>\n",
       "    <tr>\n",
       "      <th>2011-01-05</th>\n",
       "      <td>0.163636</td>\n",
       "      <td>NaN</td>\n",
       "      <td>67.857143</td>\n",
       "      <td>46.428571</td>\n",
       "      <td>52.0</td>\n",
       "    </tr>\n",
       "  </tbody>\n",
       "</table>\n",
       "</div>"
      ],
      "text/plain": [
       "                PRCP  TAVG       TMAX       TMIN  TOBS\n",
       "DATE                                                  \n",
       "2011-01-01  0.113333   NaN  58.750000  37.625000  46.0\n",
       "2011-01-02  0.000000   NaN  50.375000  31.625000  38.0\n",
       "2011-01-03  0.000000   NaN  57.571429  32.285714  50.0\n",
       "2011-01-04  0.191818   NaN  64.857143  45.428571  64.0\n",
       "2011-01-05  0.163636   NaN  67.857143  46.428571  52.0"
      ]
     },
     "execution_count": 67,
     "metadata": {},
     "output_type": "execute_result"
    }
   ],
   "source": [
    "weather_df_scrubbed.head()"
   ]
  },
  {
   "cell_type": "code",
   "execution_count": 68,
   "metadata": {},
   "outputs": [
    {
     "data": {
      "text/html": [
       "<div>\n",
       "<style scoped>\n",
       "    .dataframe tbody tr th:only-of-type {\n",
       "        vertical-align: middle;\n",
       "    }\n",
       "\n",
       "    .dataframe tbody tr th {\n",
       "        vertical-align: top;\n",
       "    }\n",
       "\n",
       "    .dataframe thead th {\n",
       "        text-align: right;\n",
       "    }\n",
       "</style>\n",
       "<table border=\"1\" class=\"dataframe\">\n",
       "  <thead>\n",
       "    <tr style=\"text-align: right;\">\n",
       "      <th></th>\n",
       "      <th>PRCP</th>\n",
       "      <th>TAVG</th>\n",
       "      <th>TMAX</th>\n",
       "      <th>TMIN</th>\n",
       "      <th>TOBS</th>\n",
       "    </tr>\n",
       "    <tr>\n",
       "      <th>DATE</th>\n",
       "      <th></th>\n",
       "      <th></th>\n",
       "      <th></th>\n",
       "      <th></th>\n",
       "      <th></th>\n",
       "    </tr>\n",
       "  </thead>\n",
       "  <tbody>\n",
       "    <tr>\n",
       "      <th>2020-10-28</th>\n",
       "      <td>0.185238</td>\n",
       "      <td>48.333333</td>\n",
       "      <td>57.444444</td>\n",
       "      <td>43.111111</td>\n",
       "      <td>58.0</td>\n",
       "    </tr>\n",
       "    <tr>\n",
       "      <th>2020-10-29</th>\n",
       "      <td>0.478571</td>\n",
       "      <td>45.666667</td>\n",
       "      <td>61.333333</td>\n",
       "      <td>42.555556</td>\n",
       "      <td>55.0</td>\n",
       "    </tr>\n",
       "    <tr>\n",
       "      <th>2020-10-30</th>\n",
       "      <td>0.077143</td>\n",
       "      <td>49.666667</td>\n",
       "      <td>62.333333</td>\n",
       "      <td>42.555556</td>\n",
       "      <td>48.0</td>\n",
       "    </tr>\n",
       "    <tr>\n",
       "      <th>2020-10-31</th>\n",
       "      <td>0.003158</td>\n",
       "      <td>52.000000</td>\n",
       "      <td>68.666667</td>\n",
       "      <td>41.000000</td>\n",
       "      <td>47.0</td>\n",
       "    </tr>\n",
       "    <tr>\n",
       "      <th>2020-11-01</th>\n",
       "      <td>0.001053</td>\n",
       "      <td>55.000000</td>\n",
       "      <td>72.111111</td>\n",
       "      <td>45.666667</td>\n",
       "      <td>51.0</td>\n",
       "    </tr>\n",
       "  </tbody>\n",
       "</table>\n",
       "</div>"
      ],
      "text/plain": [
       "                PRCP       TAVG       TMAX       TMIN  TOBS\n",
       "DATE                                                       \n",
       "2020-10-28  0.185238  48.333333  57.444444  43.111111  58.0\n",
       "2020-10-29  0.478571  45.666667  61.333333  42.555556  55.0\n",
       "2020-10-30  0.077143  49.666667  62.333333  42.555556  48.0\n",
       "2020-10-31  0.003158  52.000000  68.666667  41.000000  47.0\n",
       "2020-11-01  0.001053  55.000000  72.111111  45.666667  51.0"
      ]
     },
     "execution_count": 68,
     "metadata": {},
     "output_type": "execute_result"
    }
   ],
   "source": [
    "weather_df_scrubbed.tail()"
   ]
  },
  {
   "cell_type": "code",
   "execution_count": 69,
   "metadata": {
    "scrolled": true
   },
   "outputs": [
    {
     "data": {
      "text/plain": [
       "DatetimeIndex(['2011-01-01', '2011-01-02', '2011-01-03', '2011-01-04',\n",
       "               '2011-01-05', '2011-01-06', '2011-01-07', '2011-01-08',\n",
       "               '2011-01-09', '2011-01-10',\n",
       "               ...\n",
       "               '2020-10-23', '2020-10-24', '2020-10-25', '2020-10-26',\n",
       "               '2020-10-27', '2020-10-28', '2020-10-29', '2020-10-30',\n",
       "               '2020-10-31', '2020-11-01'],\n",
       "              dtype='datetime64[ns]', name='DATE', length=3593, freq=None)"
      ]
     },
     "execution_count": 69,
     "metadata": {},
     "output_type": "execute_result"
    }
   ],
   "source": [
    "weather_df_scrubbed.index"
   ]
  },
  {
   "cell_type": "markdown",
   "metadata": {},
   "source": [
    "## Summary of both cleaned DFs"
   ]
  },
  {
   "cell_type": "markdown",
   "metadata": {},
   "source": [
    "#### This is a summary of the dataframes cleaned."
   ]
  },
  {
   "cell_type": "markdown",
   "metadata": {},
   "source": [
    "### Pothole Data"
   ]
  },
  {
   "cell_type": "code",
   "execution_count": 70,
   "metadata": {},
   "outputs": [
    {
     "data": {
      "text/html": [
       "<div>\n",
       "<style scoped>\n",
       "    .dataframe tbody tr th:only-of-type {\n",
       "        vertical-align: middle;\n",
       "    }\n",
       "\n",
       "    .dataframe tbody tr th {\n",
       "        vertical-align: top;\n",
       "    }\n",
       "\n",
       "    .dataframe thead th {\n",
       "        text-align: right;\n",
       "    }\n",
       "</style>\n",
       "<table border=\"1\" class=\"dataframe\">\n",
       "  <thead>\n",
       "    <tr style=\"text-align: right;\">\n",
       "      <th></th>\n",
       "      <th>SR LOCATION</th>\n",
       "      <th>COUNTY</th>\n",
       "      <th>NEIGHBORHOOD</th>\n",
       "      <th>SR TYPE</th>\n",
       "      <th>QUEUE</th>\n",
       "      <th>STATUS</th>\n",
       "      <th>SR CREATE DATE</th>\n",
       "      <th>DUE DATE</th>\n",
       "      <th>DATE CLOSED</th>\n",
       "      <th>OVERDUE</th>\n",
       "      <th>LATITUDE</th>\n",
       "      <th>LONGITUDE</th>\n",
       "      <th>DATE</th>\n",
       "    </tr>\n",
       "    <tr>\n",
       "      <th>CASE NUMBER</th>\n",
       "      <th></th>\n",
       "      <th></th>\n",
       "      <th></th>\n",
       "      <th></th>\n",
       "      <th></th>\n",
       "      <th></th>\n",
       "      <th></th>\n",
       "      <th></th>\n",
       "      <th></th>\n",
       "      <th></th>\n",
       "      <th></th>\n",
       "      <th></th>\n",
       "      <th></th>\n",
       "    </tr>\n",
       "  </thead>\n",
       "  <tbody>\n",
       "    <tr>\n",
       "      <th>11433929-101000452108</th>\n",
       "      <td>Intersection 13500 S POST OAK RD &amp; 5400 WILLOM...</td>\n",
       "      <td>Harris County</td>\n",
       "      <td>CENTRAL SOUTHWEST</td>\n",
       "      <td>Pothole</td>\n",
       "      <td>ROWM_StreetMain</td>\n",
       "      <td>Closed</td>\n",
       "      <td>2011-11-09 06:49:13</td>\n",
       "      <td>2011-11-19 06:49:12</td>\n",
       "      <td>2011-11-22 09:26:28</td>\n",
       "      <td>3.11</td>\n",
       "      <td>29.630333</td>\n",
       "      <td>-95.464071</td>\n",
       "      <td>2011-11-09</td>\n",
       "    </tr>\n",
       "    <tr>\n",
       "      <th>11433959-101000452225</th>\n",
       "      <td>8142 BONNER, HOUSTON TX 77017</td>\n",
       "      <td>HARRIS</td>\n",
       "      <td>MEADOWBROOK / ALLENDALE</td>\n",
       "      <td>Pothole</td>\n",
       "      <td>ROWM_StreetMain</td>\n",
       "      <td>Closed</td>\n",
       "      <td>2011-11-09 08:55:49</td>\n",
       "      <td>2011-11-19 08:55:49</td>\n",
       "      <td>2011-12-01 09:20:03</td>\n",
       "      <td>12.02</td>\n",
       "      <td>29.680578</td>\n",
       "      <td>-95.264047</td>\n",
       "      <td>2011-11-09</td>\n",
       "    </tr>\n",
       "    <tr>\n",
       "      <th>11455803-101000452382</th>\n",
       "      <td>875 LOCKWOOD, HOUSTON TX 77020</td>\n",
       "      <td>Harris</td>\n",
       "      <td>GREATER FIFTH WARD</td>\n",
       "      <td>Pothole</td>\n",
       "      <td>ROWM_StreetMain</td>\n",
       "      <td>Closed</td>\n",
       "      <td>2011-11-09 10:32:12</td>\n",
       "      <td>2011-11-19 10:32:11</td>\n",
       "      <td>2012-01-25 11:25:38</td>\n",
       "      <td>67.04</td>\n",
       "      <td>29.761035</td>\n",
       "      <td>-95.317502</td>\n",
       "      <td>2011-11-09</td>\n",
       "    </tr>\n",
       "    <tr>\n",
       "      <th>11434023-101000452387</th>\n",
       "      <td>875 LOCKWOOD, HOUSTON TX 77020</td>\n",
       "      <td>Harris</td>\n",
       "      <td>GREATER FIFTH WARD</td>\n",
       "      <td>Pothole</td>\n",
       "      <td>ROWM_StreetMain</td>\n",
       "      <td>Closed</td>\n",
       "      <td>2011-11-09 10:35:11</td>\n",
       "      <td>2011-11-19 10:35:10</td>\n",
       "      <td>2011-11-29 12:49:13</td>\n",
       "      <td>10.09</td>\n",
       "      <td>29.761035</td>\n",
       "      <td>-95.317502</td>\n",
       "      <td>2011-11-09</td>\n",
       "    </tr>\n",
       "    <tr>\n",
       "      <th>11434047-101000452444</th>\n",
       "      <td>12501 BRIAR FOREST, HOUSTON TX 77077</td>\n",
       "      <td>HARRIS</td>\n",
       "      <td>BRIAR FOREST</td>\n",
       "      <td>Pothole</td>\n",
       "      <td>ROWM_StreetMain</td>\n",
       "      <td>Closed</td>\n",
       "      <td>2011-11-09 11:09:56</td>\n",
       "      <td>2011-11-19 11:09:56</td>\n",
       "      <td>2011-11-29 13:00:17</td>\n",
       "      <td>10.08</td>\n",
       "      <td>29.753557</td>\n",
       "      <td>-95.602467</td>\n",
       "      <td>2011-11-09</td>\n",
       "    </tr>\n",
       "  </tbody>\n",
       "</table>\n",
       "</div>"
      ],
      "text/plain": [
       "                                                             SR LOCATION  \\\n",
       "CASE NUMBER                                                                \n",
       "11433929-101000452108  Intersection 13500 S POST OAK RD & 5400 WILLOM...   \n",
       "11433959-101000452225                      8142 BONNER, HOUSTON TX 77017   \n",
       "11455803-101000452382                     875 LOCKWOOD, HOUSTON TX 77020   \n",
       "11434023-101000452387                     875 LOCKWOOD, HOUSTON TX 77020   \n",
       "11434047-101000452444               12501 BRIAR FOREST, HOUSTON TX 77077   \n",
       "\n",
       "                              COUNTY             NEIGHBORHOOD  SR TYPE  \\\n",
       "CASE NUMBER                                                              \n",
       "11433929-101000452108  Harris County        CENTRAL SOUTHWEST  Pothole   \n",
       "11433959-101000452225         HARRIS  MEADOWBROOK / ALLENDALE  Pothole   \n",
       "11455803-101000452382         Harris       GREATER FIFTH WARD  Pothole   \n",
       "11434023-101000452387         Harris       GREATER FIFTH WARD  Pothole   \n",
       "11434047-101000452444         HARRIS             BRIAR FOREST  Pothole   \n",
       "\n",
       "                                 QUEUE  STATUS      SR CREATE DATE  \\\n",
       "CASE NUMBER                                                          \n",
       "11433929-101000452108  ROWM_StreetMain  Closed 2011-11-09 06:49:13   \n",
       "11433959-101000452225  ROWM_StreetMain  Closed 2011-11-09 08:55:49   \n",
       "11455803-101000452382  ROWM_StreetMain  Closed 2011-11-09 10:32:12   \n",
       "11434023-101000452387  ROWM_StreetMain  Closed 2011-11-09 10:35:11   \n",
       "11434047-101000452444  ROWM_StreetMain  Closed 2011-11-09 11:09:56   \n",
       "\n",
       "                                 DUE DATE         DATE CLOSED  OVERDUE  \\\n",
       "CASE NUMBER                                                              \n",
       "11433929-101000452108 2011-11-19 06:49:12 2011-11-22 09:26:28     3.11   \n",
       "11433959-101000452225 2011-11-19 08:55:49 2011-12-01 09:20:03    12.02   \n",
       "11455803-101000452382 2011-11-19 10:32:11 2012-01-25 11:25:38    67.04   \n",
       "11434023-101000452387 2011-11-19 10:35:10 2011-11-29 12:49:13    10.09   \n",
       "11434047-101000452444 2011-11-19 11:09:56 2011-11-29 13:00:17    10.08   \n",
       "\n",
       "                        LATITUDE  LONGITUDE        DATE  \n",
       "CASE NUMBER                                              \n",
       "11433929-101000452108  29.630333 -95.464071  2011-11-09  \n",
       "11433959-101000452225  29.680578 -95.264047  2011-11-09  \n",
       "11455803-101000452382  29.761035 -95.317502  2011-11-09  \n",
       "11434023-101000452387  29.761035 -95.317502  2011-11-09  \n",
       "11434047-101000452444  29.753557 -95.602467  2011-11-09  "
      ]
     },
     "execution_count": 70,
     "metadata": {},
     "output_type": "execute_result"
    }
   ],
   "source": [
    "pothole_df_scrubbed.head()"
   ]
  },
  {
   "cell_type": "markdown",
   "metadata": {},
   "source": [
    "### Weather Data"
   ]
  },
  {
   "cell_type": "code",
   "execution_count": 71,
   "metadata": {},
   "outputs": [
    {
     "data": {
      "text/html": [
       "<div>\n",
       "<style scoped>\n",
       "    .dataframe tbody tr th:only-of-type {\n",
       "        vertical-align: middle;\n",
       "    }\n",
       "\n",
       "    .dataframe tbody tr th {\n",
       "        vertical-align: top;\n",
       "    }\n",
       "\n",
       "    .dataframe thead th {\n",
       "        text-align: right;\n",
       "    }\n",
       "</style>\n",
       "<table border=\"1\" class=\"dataframe\">\n",
       "  <thead>\n",
       "    <tr style=\"text-align: right;\">\n",
       "      <th></th>\n",
       "      <th>PRCP</th>\n",
       "      <th>TAVG</th>\n",
       "      <th>TMAX</th>\n",
       "      <th>TMIN</th>\n",
       "      <th>TOBS</th>\n",
       "    </tr>\n",
       "    <tr>\n",
       "      <th>DATE</th>\n",
       "      <th></th>\n",
       "      <th></th>\n",
       "      <th></th>\n",
       "      <th></th>\n",
       "      <th></th>\n",
       "    </tr>\n",
       "  </thead>\n",
       "  <tbody>\n",
       "    <tr>\n",
       "      <th>2011-01-01</th>\n",
       "      <td>0.113333</td>\n",
       "      <td>NaN</td>\n",
       "      <td>58.750000</td>\n",
       "      <td>37.625000</td>\n",
       "      <td>46.0</td>\n",
       "    </tr>\n",
       "    <tr>\n",
       "      <th>2011-01-02</th>\n",
       "      <td>0.000000</td>\n",
       "      <td>NaN</td>\n",
       "      <td>50.375000</td>\n",
       "      <td>31.625000</td>\n",
       "      <td>38.0</td>\n",
       "    </tr>\n",
       "    <tr>\n",
       "      <th>2011-01-03</th>\n",
       "      <td>0.000000</td>\n",
       "      <td>NaN</td>\n",
       "      <td>57.571429</td>\n",
       "      <td>32.285714</td>\n",
       "      <td>50.0</td>\n",
       "    </tr>\n",
       "    <tr>\n",
       "      <th>2011-01-04</th>\n",
       "      <td>0.191818</td>\n",
       "      <td>NaN</td>\n",
       "      <td>64.857143</td>\n",
       "      <td>45.428571</td>\n",
       "      <td>64.0</td>\n",
       "    </tr>\n",
       "    <tr>\n",
       "      <th>2011-01-05</th>\n",
       "      <td>0.163636</td>\n",
       "      <td>NaN</td>\n",
       "      <td>67.857143</td>\n",
       "      <td>46.428571</td>\n",
       "      <td>52.0</td>\n",
       "    </tr>\n",
       "  </tbody>\n",
       "</table>\n",
       "</div>"
      ],
      "text/plain": [
       "                PRCP  TAVG       TMAX       TMIN  TOBS\n",
       "DATE                                                  \n",
       "2011-01-01  0.113333   NaN  58.750000  37.625000  46.0\n",
       "2011-01-02  0.000000   NaN  50.375000  31.625000  38.0\n",
       "2011-01-03  0.000000   NaN  57.571429  32.285714  50.0\n",
       "2011-01-04  0.191818   NaN  64.857143  45.428571  64.0\n",
       "2011-01-05  0.163636   NaN  67.857143  46.428571  52.0"
      ]
     },
     "execution_count": 71,
     "metadata": {},
     "output_type": "execute_result"
    }
   ],
   "source": [
    "weather_df_scrubbed.head()"
   ]
  },
  {
   "cell_type": "code",
   "execution_count": 72,
   "metadata": {},
   "outputs": [
    {
     "data": {
      "text/html": [
       "<div>\n",
       "<style scoped>\n",
       "    .dataframe tbody tr th:only-of-type {\n",
       "        vertical-align: middle;\n",
       "    }\n",
       "\n",
       "    .dataframe tbody tr th {\n",
       "        vertical-align: top;\n",
       "    }\n",
       "\n",
       "    .dataframe thead th {\n",
       "        text-align: right;\n",
       "    }\n",
       "</style>\n",
       "<table border=\"1\" class=\"dataframe\">\n",
       "  <thead>\n",
       "    <tr style=\"text-align: right;\">\n",
       "      <th></th>\n",
       "      <th>STATION</th>\n",
       "      <th>PRCP</th>\n",
       "      <th>TAVG</th>\n",
       "      <th>TMAX</th>\n",
       "      <th>TMIN</th>\n",
       "      <th>TOBS</th>\n",
       "    </tr>\n",
       "    <tr>\n",
       "      <th>DATE</th>\n",
       "      <th></th>\n",
       "      <th></th>\n",
       "      <th></th>\n",
       "      <th></th>\n",
       "      <th></th>\n",
       "      <th></th>\n",
       "    </tr>\n",
       "  </thead>\n",
       "  <tbody>\n",
       "    <tr>\n",
       "      <th>2011-01-01</th>\n",
       "      <td>12</td>\n",
       "      <td>0.113333</td>\n",
       "      <td>NaN</td>\n",
       "      <td>58.750000</td>\n",
       "      <td>37.625000</td>\n",
       "      <td>46.0</td>\n",
       "    </tr>\n",
       "    <tr>\n",
       "      <th>2011-01-02</th>\n",
       "      <td>12</td>\n",
       "      <td>0.000000</td>\n",
       "      <td>NaN</td>\n",
       "      <td>50.375000</td>\n",
       "      <td>31.625000</td>\n",
       "      <td>38.0</td>\n",
       "    </tr>\n",
       "    <tr>\n",
       "      <th>2011-01-03</th>\n",
       "      <td>11</td>\n",
       "      <td>0.000000</td>\n",
       "      <td>NaN</td>\n",
       "      <td>57.571429</td>\n",
       "      <td>32.285714</td>\n",
       "      <td>50.0</td>\n",
       "    </tr>\n",
       "    <tr>\n",
       "      <th>2011-01-04</th>\n",
       "      <td>11</td>\n",
       "      <td>0.191818</td>\n",
       "      <td>NaN</td>\n",
       "      <td>64.857143</td>\n",
       "      <td>45.428571</td>\n",
       "      <td>64.0</td>\n",
       "    </tr>\n",
       "    <tr>\n",
       "      <th>2011-01-05</th>\n",
       "      <td>11</td>\n",
       "      <td>0.163636</td>\n",
       "      <td>NaN</td>\n",
       "      <td>67.857143</td>\n",
       "      <td>46.428571</td>\n",
       "      <td>52.0</td>\n",
       "    </tr>\n",
       "  </tbody>\n",
       "</table>\n",
       "</div>"
      ],
      "text/plain": [
       "            STATION      PRCP  TAVG       TMAX       TMIN  TOBS\n",
       "DATE                                                           \n",
       "2011-01-01       12  0.113333   NaN  58.750000  37.625000  46.0\n",
       "2011-01-02       12  0.000000   NaN  50.375000  31.625000  38.0\n",
       "2011-01-03       11  0.000000   NaN  57.571429  32.285714  50.0\n",
       "2011-01-04       11  0.191818   NaN  64.857143  45.428571  64.0\n",
       "2011-01-05       11  0.163636   NaN  67.857143  46.428571  52.0"
      ]
     },
     "execution_count": 72,
     "metadata": {},
     "output_type": "execute_result"
    }
   ],
   "source": [
    "weather_grouped.head()"
   ]
  },
  {
   "cell_type": "markdown",
   "metadata": {},
   "source": [
    "## Extract Data"
   ]
  },
  {
   "cell_type": "code",
   "execution_count": 73,
   "metadata": {},
   "outputs": [],
   "source": [
    "datapath = '../data'\n",
    "if not os.path.exists(datapath):\n",
    "    os.mkdir(datapath)"
   ]
  },
  {
   "cell_type": "code",
   "execution_count": 74,
   "metadata": {},
   "outputs": [],
   "source": [
    "datapath_pothole = os.path.join(datapath, 'pothole_cleaned.csv')\n",
    "if not os.path.exists(datapath_pothole):\n",
    "    pothole_df_scrubbed.to_csv(datapath_pothole, index=False)"
   ]
  },
  {
   "cell_type": "code",
   "execution_count": 75,
   "metadata": {},
   "outputs": [],
   "source": [
    "datapath_weather = os.path.join(datapath, 'weather_summary.csv')\n",
    "if not os.path.exists(datapath_weather):\n",
    "    weather_df_scrubbed.to_csv(datapath_weather, index=False)"
   ]
  },
  {
   "cell_type": "markdown",
   "metadata": {},
   "source": [
    "# EDA"
   ]
  },
  {
   "cell_type": "markdown",
   "metadata": {},
   "source": [
    "### Look at Distribution of values"
   ]
  },
  {
   "cell_type": "code",
   "execution_count": 76,
   "metadata": {},
   "outputs": [
    {
     "name": "stdout",
     "output_type": "stream",
     "text": [
      "(60483, 13)\n"
     ]
    },
    {
     "data": {
      "text/html": [
       "<div>\n",
       "<style scoped>\n",
       "    .dataframe tbody tr th:only-of-type {\n",
       "        vertical-align: middle;\n",
       "    }\n",
       "\n",
       "    .dataframe tbody tr th {\n",
       "        vertical-align: top;\n",
       "    }\n",
       "\n",
       "    .dataframe thead th {\n",
       "        text-align: right;\n",
       "    }\n",
       "</style>\n",
       "<table border=\"1\" class=\"dataframe\">\n",
       "  <thead>\n",
       "    <tr style=\"text-align: right;\">\n",
       "      <th></th>\n",
       "      <th>SR LOCATION</th>\n",
       "      <th>COUNTY</th>\n",
       "      <th>NEIGHBORHOOD</th>\n",
       "      <th>SR TYPE</th>\n",
       "      <th>QUEUE</th>\n",
       "      <th>STATUS</th>\n",
       "      <th>SR CREATE DATE</th>\n",
       "      <th>DUE DATE</th>\n",
       "      <th>DATE CLOSED</th>\n",
       "      <th>OVERDUE</th>\n",
       "      <th>LATITUDE</th>\n",
       "      <th>LONGITUDE</th>\n",
       "      <th>DATE</th>\n",
       "    </tr>\n",
       "    <tr>\n",
       "      <th>CASE NUMBER</th>\n",
       "      <th></th>\n",
       "      <th></th>\n",
       "      <th></th>\n",
       "      <th></th>\n",
       "      <th></th>\n",
       "      <th></th>\n",
       "      <th></th>\n",
       "      <th></th>\n",
       "      <th></th>\n",
       "      <th></th>\n",
       "      <th></th>\n",
       "      <th></th>\n",
       "      <th></th>\n",
       "    </tr>\n",
       "  </thead>\n",
       "  <tbody>\n",
       "    <tr>\n",
       "      <th>11433929-101000452108</th>\n",
       "      <td>Intersection 13500 S POST OAK RD &amp; 5400 WILLOM...</td>\n",
       "      <td>Harris County</td>\n",
       "      <td>CENTRAL SOUTHWEST</td>\n",
       "      <td>Pothole</td>\n",
       "      <td>ROWM_StreetMain</td>\n",
       "      <td>Closed</td>\n",
       "      <td>2011-11-09 06:49:13</td>\n",
       "      <td>2011-11-19 06:49:12</td>\n",
       "      <td>2011-11-22 09:26:28</td>\n",
       "      <td>3.11</td>\n",
       "      <td>29.630333</td>\n",
       "      <td>-95.464071</td>\n",
       "      <td>2011-11-09</td>\n",
       "    </tr>\n",
       "    <tr>\n",
       "      <th>11433959-101000452225</th>\n",
       "      <td>8142 BONNER, HOUSTON TX 77017</td>\n",
       "      <td>HARRIS</td>\n",
       "      <td>MEADOWBROOK / ALLENDALE</td>\n",
       "      <td>Pothole</td>\n",
       "      <td>ROWM_StreetMain</td>\n",
       "      <td>Closed</td>\n",
       "      <td>2011-11-09 08:55:49</td>\n",
       "      <td>2011-11-19 08:55:49</td>\n",
       "      <td>2011-12-01 09:20:03</td>\n",
       "      <td>12.02</td>\n",
       "      <td>29.680578</td>\n",
       "      <td>-95.264047</td>\n",
       "      <td>2011-11-09</td>\n",
       "    </tr>\n",
       "    <tr>\n",
       "      <th>11455803-101000452382</th>\n",
       "      <td>875 LOCKWOOD, HOUSTON TX 77020</td>\n",
       "      <td>Harris</td>\n",
       "      <td>GREATER FIFTH WARD</td>\n",
       "      <td>Pothole</td>\n",
       "      <td>ROWM_StreetMain</td>\n",
       "      <td>Closed</td>\n",
       "      <td>2011-11-09 10:32:12</td>\n",
       "      <td>2011-11-19 10:32:11</td>\n",
       "      <td>2012-01-25 11:25:38</td>\n",
       "      <td>67.04</td>\n",
       "      <td>29.761035</td>\n",
       "      <td>-95.317502</td>\n",
       "      <td>2011-11-09</td>\n",
       "    </tr>\n",
       "    <tr>\n",
       "      <th>11434023-101000452387</th>\n",
       "      <td>875 LOCKWOOD, HOUSTON TX 77020</td>\n",
       "      <td>Harris</td>\n",
       "      <td>GREATER FIFTH WARD</td>\n",
       "      <td>Pothole</td>\n",
       "      <td>ROWM_StreetMain</td>\n",
       "      <td>Closed</td>\n",
       "      <td>2011-11-09 10:35:11</td>\n",
       "      <td>2011-11-19 10:35:10</td>\n",
       "      <td>2011-11-29 12:49:13</td>\n",
       "      <td>10.09</td>\n",
       "      <td>29.761035</td>\n",
       "      <td>-95.317502</td>\n",
       "      <td>2011-11-09</td>\n",
       "    </tr>\n",
       "    <tr>\n",
       "      <th>11434047-101000452444</th>\n",
       "      <td>12501 BRIAR FOREST, HOUSTON TX 77077</td>\n",
       "      <td>HARRIS</td>\n",
       "      <td>BRIAR FOREST</td>\n",
       "      <td>Pothole</td>\n",
       "      <td>ROWM_StreetMain</td>\n",
       "      <td>Closed</td>\n",
       "      <td>2011-11-09 11:09:56</td>\n",
       "      <td>2011-11-19 11:09:56</td>\n",
       "      <td>2011-11-29 13:00:17</td>\n",
       "      <td>10.08</td>\n",
       "      <td>29.753557</td>\n",
       "      <td>-95.602467</td>\n",
       "      <td>2011-11-09</td>\n",
       "    </tr>\n",
       "  </tbody>\n",
       "</table>\n",
       "</div>"
      ],
      "text/plain": [
       "                                                             SR LOCATION  \\\n",
       "CASE NUMBER                                                                \n",
       "11433929-101000452108  Intersection 13500 S POST OAK RD & 5400 WILLOM...   \n",
       "11433959-101000452225                      8142 BONNER, HOUSTON TX 77017   \n",
       "11455803-101000452382                     875 LOCKWOOD, HOUSTON TX 77020   \n",
       "11434023-101000452387                     875 LOCKWOOD, HOUSTON TX 77020   \n",
       "11434047-101000452444               12501 BRIAR FOREST, HOUSTON TX 77077   \n",
       "\n",
       "                              COUNTY             NEIGHBORHOOD  SR TYPE  \\\n",
       "CASE NUMBER                                                              \n",
       "11433929-101000452108  Harris County        CENTRAL SOUTHWEST  Pothole   \n",
       "11433959-101000452225         HARRIS  MEADOWBROOK / ALLENDALE  Pothole   \n",
       "11455803-101000452382         Harris       GREATER FIFTH WARD  Pothole   \n",
       "11434023-101000452387         Harris       GREATER FIFTH WARD  Pothole   \n",
       "11434047-101000452444         HARRIS             BRIAR FOREST  Pothole   \n",
       "\n",
       "                                 QUEUE  STATUS      SR CREATE DATE  \\\n",
       "CASE NUMBER                                                          \n",
       "11433929-101000452108  ROWM_StreetMain  Closed 2011-11-09 06:49:13   \n",
       "11433959-101000452225  ROWM_StreetMain  Closed 2011-11-09 08:55:49   \n",
       "11455803-101000452382  ROWM_StreetMain  Closed 2011-11-09 10:32:12   \n",
       "11434023-101000452387  ROWM_StreetMain  Closed 2011-11-09 10:35:11   \n",
       "11434047-101000452444  ROWM_StreetMain  Closed 2011-11-09 11:09:56   \n",
       "\n",
       "                                 DUE DATE         DATE CLOSED  OVERDUE  \\\n",
       "CASE NUMBER                                                              \n",
       "11433929-101000452108 2011-11-19 06:49:12 2011-11-22 09:26:28     3.11   \n",
       "11433959-101000452225 2011-11-19 08:55:49 2011-12-01 09:20:03    12.02   \n",
       "11455803-101000452382 2011-11-19 10:32:11 2012-01-25 11:25:38    67.04   \n",
       "11434023-101000452387 2011-11-19 10:35:10 2011-11-29 12:49:13    10.09   \n",
       "11434047-101000452444 2011-11-19 11:09:56 2011-11-29 13:00:17    10.08   \n",
       "\n",
       "                        LATITUDE  LONGITUDE        DATE  \n",
       "CASE NUMBER                                              \n",
       "11433929-101000452108  29.630333 -95.464071  2011-11-09  \n",
       "11433959-101000452225  29.680578 -95.264047  2011-11-09  \n",
       "11455803-101000452382  29.761035 -95.317502  2011-11-09  \n",
       "11434023-101000452387  29.761035 -95.317502  2011-11-09  \n",
       "11434047-101000452444  29.753557 -95.602467  2011-11-09  "
      ]
     },
     "execution_count": 76,
     "metadata": {},
     "output_type": "execute_result"
    }
   ],
   "source": [
    "print(pothole_df_scrubbed.shape)\n",
    "pothole_df_scrubbed.head()"
   ]
  },
  {
   "cell_type": "code",
   "execution_count": 77,
   "metadata": {},
   "outputs": [
    {
     "data": {
      "text/plain": [
       "datetime.date(2011, 11, 9)"
      ]
     },
     "execution_count": 77,
     "metadata": {},
     "output_type": "execute_result"
    }
   ],
   "source": [
    "pothole_df_scrubbed.DATE.min()"
   ]
  },
  {
   "cell_type": "code",
   "execution_count": 78,
   "metadata": {},
   "outputs": [
    {
     "name": "stdout",
     "output_type": "stream",
     "text": [
      "(3593, 5)\n"
     ]
    },
    {
     "data": {
      "text/html": [
       "<div>\n",
       "<style scoped>\n",
       "    .dataframe tbody tr th:only-of-type {\n",
       "        vertical-align: middle;\n",
       "    }\n",
       "\n",
       "    .dataframe tbody tr th {\n",
       "        vertical-align: top;\n",
       "    }\n",
       "\n",
       "    .dataframe thead th {\n",
       "        text-align: right;\n",
       "    }\n",
       "</style>\n",
       "<table border=\"1\" class=\"dataframe\">\n",
       "  <thead>\n",
       "    <tr style=\"text-align: right;\">\n",
       "      <th></th>\n",
       "      <th>PRCP</th>\n",
       "      <th>TAVG</th>\n",
       "      <th>TMAX</th>\n",
       "      <th>TMIN</th>\n",
       "      <th>TOBS</th>\n",
       "    </tr>\n",
       "    <tr>\n",
       "      <th>DATE</th>\n",
       "      <th></th>\n",
       "      <th></th>\n",
       "      <th></th>\n",
       "      <th></th>\n",
       "      <th></th>\n",
       "    </tr>\n",
       "  </thead>\n",
       "  <tbody>\n",
       "    <tr>\n",
       "      <th>2011-01-01</th>\n",
       "      <td>0.113333</td>\n",
       "      <td>NaN</td>\n",
       "      <td>58.750000</td>\n",
       "      <td>37.625000</td>\n",
       "      <td>46.0</td>\n",
       "    </tr>\n",
       "    <tr>\n",
       "      <th>2011-01-02</th>\n",
       "      <td>0.000000</td>\n",
       "      <td>NaN</td>\n",
       "      <td>50.375000</td>\n",
       "      <td>31.625000</td>\n",
       "      <td>38.0</td>\n",
       "    </tr>\n",
       "    <tr>\n",
       "      <th>2011-01-03</th>\n",
       "      <td>0.000000</td>\n",
       "      <td>NaN</td>\n",
       "      <td>57.571429</td>\n",
       "      <td>32.285714</td>\n",
       "      <td>50.0</td>\n",
       "    </tr>\n",
       "    <tr>\n",
       "      <th>2011-01-04</th>\n",
       "      <td>0.191818</td>\n",
       "      <td>NaN</td>\n",
       "      <td>64.857143</td>\n",
       "      <td>45.428571</td>\n",
       "      <td>64.0</td>\n",
       "    </tr>\n",
       "    <tr>\n",
       "      <th>2011-01-05</th>\n",
       "      <td>0.163636</td>\n",
       "      <td>NaN</td>\n",
       "      <td>67.857143</td>\n",
       "      <td>46.428571</td>\n",
       "      <td>52.0</td>\n",
       "    </tr>\n",
       "  </tbody>\n",
       "</table>\n",
       "</div>"
      ],
      "text/plain": [
       "                PRCP  TAVG       TMAX       TMIN  TOBS\n",
       "DATE                                                  \n",
       "2011-01-01  0.113333   NaN  58.750000  37.625000  46.0\n",
       "2011-01-02  0.000000   NaN  50.375000  31.625000  38.0\n",
       "2011-01-03  0.000000   NaN  57.571429  32.285714  50.0\n",
       "2011-01-04  0.191818   NaN  64.857143  45.428571  64.0\n",
       "2011-01-05  0.163636   NaN  67.857143  46.428571  52.0"
      ]
     },
     "execution_count": 78,
     "metadata": {},
     "output_type": "execute_result"
    }
   ],
   "source": [
    "print(weather_df_scrubbed.shape)\n",
    "weather_df_scrubbed.head()"
   ]
  },
  {
   "cell_type": "code",
   "execution_count": 79,
   "metadata": {},
   "outputs": [
    {
     "data": {
      "text/html": [
       "<div>\n",
       "<style scoped>\n",
       "    .dataframe tbody tr th:only-of-type {\n",
       "        vertical-align: middle;\n",
       "    }\n",
       "\n",
       "    .dataframe tbody tr th {\n",
       "        vertical-align: top;\n",
       "    }\n",
       "\n",
       "    .dataframe thead th {\n",
       "        text-align: right;\n",
       "    }\n",
       "</style>\n",
       "<table border=\"1\" class=\"dataframe\">\n",
       "  <thead>\n",
       "    <tr style=\"text-align: right;\">\n",
       "      <th></th>\n",
       "      <th>PRCP</th>\n",
       "      <th>TAVG</th>\n",
       "      <th>TMAX</th>\n",
       "      <th>TMIN</th>\n",
       "      <th>TOBS</th>\n",
       "    </tr>\n",
       "  </thead>\n",
       "  <tbody>\n",
       "    <tr>\n",
       "      <th>count</th>\n",
       "      <td>3593.000000</td>\n",
       "      <td>2772.000000</td>\n",
       "      <td>3593.000000</td>\n",
       "      <td>3593.000000</td>\n",
       "      <td>3593.000000</td>\n",
       "    </tr>\n",
       "    <tr>\n",
       "      <th>mean</th>\n",
       "      <td>0.139037</td>\n",
       "      <td>64.405303</td>\n",
       "      <td>74.179527</td>\n",
       "      <td>54.471626</td>\n",
       "      <td>59.137907</td>\n",
       "    </tr>\n",
       "    <tr>\n",
       "      <th>std</th>\n",
       "      <td>0.297666</td>\n",
       "      <td>13.260624</td>\n",
       "      <td>13.562602</td>\n",
       "      <td>13.778004</td>\n",
       "      <td>14.718355</td>\n",
       "    </tr>\n",
       "    <tr>\n",
       "      <th>min</th>\n",
       "      <td>0.000000</td>\n",
       "      <td>23.666667</td>\n",
       "      <td>31.100000</td>\n",
       "      <td>16.900000</td>\n",
       "      <td>8.000000</td>\n",
       "    </tr>\n",
       "    <tr>\n",
       "      <th>25%</th>\n",
       "      <td>0.005238</td>\n",
       "      <td>55.000000</td>\n",
       "      <td>64.333333</td>\n",
       "      <td>43.375000</td>\n",
       "      <td>48.333333</td>\n",
       "    </tr>\n",
       "    <tr>\n",
       "      <th>50%</th>\n",
       "      <td>0.041053</td>\n",
       "      <td>66.666667</td>\n",
       "      <td>75.900000</td>\n",
       "      <td>56.300000</td>\n",
       "      <td>62.000000</td>\n",
       "    </tr>\n",
       "    <tr>\n",
       "      <th>75%</th>\n",
       "      <td>0.154286</td>\n",
       "      <td>75.333333</td>\n",
       "      <td>86.000000</td>\n",
       "      <td>67.300000</td>\n",
       "      <td>71.333333</td>\n",
       "    </tr>\n",
       "    <tr>\n",
       "      <th>max</th>\n",
       "      <td>7.560455</td>\n",
       "      <td>90.000000</td>\n",
       "      <td>101.142857</td>\n",
       "      <td>76.428571</td>\n",
       "      <td>85.000000</td>\n",
       "    </tr>\n",
       "  </tbody>\n",
       "</table>\n",
       "</div>"
      ],
      "text/plain": [
       "              PRCP         TAVG         TMAX         TMIN         TOBS\n",
       "count  3593.000000  2772.000000  3593.000000  3593.000000  3593.000000\n",
       "mean      0.139037    64.405303    74.179527    54.471626    59.137907\n",
       "std       0.297666    13.260624    13.562602    13.778004    14.718355\n",
       "min       0.000000    23.666667    31.100000    16.900000     8.000000\n",
       "25%       0.005238    55.000000    64.333333    43.375000    48.333333\n",
       "50%       0.041053    66.666667    75.900000    56.300000    62.000000\n",
       "75%       0.154286    75.333333    86.000000    67.300000    71.333333\n",
       "max       7.560455    90.000000   101.142857    76.428571    85.000000"
      ]
     },
     "execution_count": 79,
     "metadata": {},
     "output_type": "execute_result"
    }
   ],
   "source": [
    "weather_df_scrubbed.describe()"
   ]
  },
  {
   "cell_type": "code",
   "execution_count": 80,
   "metadata": {},
   "outputs": [
    {
     "data": {
      "text/plain": [
       "3468"
      ]
     },
     "execution_count": 80,
     "metadata": {},
     "output_type": "execute_result"
    }
   ],
   "source": [
    "pothole_group = pothole_df_scrubbed.groupby('DATE')['SR CREATE DATE'].count()\n",
    "pothole_group.size"
   ]
  },
  {
   "cell_type": "code",
   "execution_count": 81,
   "metadata": {},
   "outputs": [
    {
     "data": {
      "text/plain": [
       "(3252, 6)"
      ]
     },
     "execution_count": 81,
     "metadata": {},
     "output_type": "execute_result"
    }
   ],
   "source": [
    "combined = weather_df_scrubbed.join(pothole_group,how='inner')\n",
    "combined.shape"
   ]
  },
  {
   "cell_type": "code",
   "execution_count": 82,
   "metadata": {},
   "outputs": [
    {
     "data": {
      "text/html": [
       "<div>\n",
       "<style scoped>\n",
       "    .dataframe tbody tr th:only-of-type {\n",
       "        vertical-align: middle;\n",
       "    }\n",
       "\n",
       "    .dataframe tbody tr th {\n",
       "        vertical-align: top;\n",
       "    }\n",
       "\n",
       "    .dataframe thead th {\n",
       "        text-align: right;\n",
       "    }\n",
       "</style>\n",
       "<table border=\"1\" class=\"dataframe\">\n",
       "  <thead>\n",
       "    <tr style=\"text-align: right;\">\n",
       "      <th></th>\n",
       "      <th>PRCP</th>\n",
       "      <th>TAVG</th>\n",
       "      <th>TMAX</th>\n",
       "      <th>TMIN</th>\n",
       "      <th>TOBS</th>\n",
       "      <th>SR CREATE DATE</th>\n",
       "    </tr>\n",
       "    <tr>\n",
       "      <th>DATE</th>\n",
       "      <th></th>\n",
       "      <th></th>\n",
       "      <th></th>\n",
       "      <th></th>\n",
       "      <th></th>\n",
       "      <th></th>\n",
       "    </tr>\n",
       "  </thead>\n",
       "  <tbody>\n",
       "    <tr>\n",
       "      <th>2011-11-09</th>\n",
       "      <td>0.347692</td>\n",
       "      <td>NaN</td>\n",
       "      <td>62.000000</td>\n",
       "      <td>46.125000</td>\n",
       "      <td>53.0</td>\n",
       "      <td>11</td>\n",
       "    </tr>\n",
       "    <tr>\n",
       "      <th>2011-11-10</th>\n",
       "      <td>0.017857</td>\n",
       "      <td>NaN</td>\n",
       "      <td>57.777778</td>\n",
       "      <td>37.888889</td>\n",
       "      <td>42.0</td>\n",
       "      <td>17</td>\n",
       "    </tr>\n",
       "    <tr>\n",
       "      <th>2011-11-11</th>\n",
       "      <td>0.111429</td>\n",
       "      <td>NaN</td>\n",
       "      <td>58.888889</td>\n",
       "      <td>33.888889</td>\n",
       "      <td>52.0</td>\n",
       "      <td>1</td>\n",
       "    </tr>\n",
       "    <tr>\n",
       "      <th>2011-11-12</th>\n",
       "      <td>0.000000</td>\n",
       "      <td>NaN</td>\n",
       "      <td>66.888889</td>\n",
       "      <td>41.111111</td>\n",
       "      <td>67.0</td>\n",
       "      <td>1</td>\n",
       "    </tr>\n",
       "    <tr>\n",
       "      <th>2011-11-13</th>\n",
       "      <td>0.007857</td>\n",
       "      <td>NaN</td>\n",
       "      <td>69.777778</td>\n",
       "      <td>52.888889</td>\n",
       "      <td>71.0</td>\n",
       "      <td>2</td>\n",
       "    </tr>\n",
       "  </tbody>\n",
       "</table>\n",
       "</div>"
      ],
      "text/plain": [
       "                PRCP  TAVG       TMAX       TMIN  TOBS  SR CREATE DATE\n",
       "DATE                                                                  \n",
       "2011-11-09  0.347692   NaN  62.000000  46.125000  53.0              11\n",
       "2011-11-10  0.017857   NaN  57.777778  37.888889  42.0              17\n",
       "2011-11-11  0.111429   NaN  58.888889  33.888889  52.0               1\n",
       "2011-11-12  0.000000   NaN  66.888889  41.111111  67.0               1\n",
       "2011-11-13  0.007857   NaN  69.777778  52.888889  71.0               2"
      ]
     },
     "execution_count": 82,
     "metadata": {},
     "output_type": "execute_result"
    }
   ],
   "source": [
    "combined.head()"
   ]
  },
  {
   "cell_type": "code",
   "execution_count": 83,
   "metadata": {},
   "outputs": [],
   "source": [
    "combined = combined.rename({'SR CREATE DATE':'POTHOLE COUNT'}, axis='columns')"
   ]
  },
  {
   "cell_type": "code",
   "execution_count": 84,
   "metadata": {},
   "outputs": [
    {
     "data": {
      "text/html": [
       "<div>\n",
       "<style scoped>\n",
       "    .dataframe tbody tr th:only-of-type {\n",
       "        vertical-align: middle;\n",
       "    }\n",
       "\n",
       "    .dataframe tbody tr th {\n",
       "        vertical-align: top;\n",
       "    }\n",
       "\n",
       "    .dataframe thead th {\n",
       "        text-align: right;\n",
       "    }\n",
       "</style>\n",
       "<table border=\"1\" class=\"dataframe\">\n",
       "  <thead>\n",
       "    <tr style=\"text-align: right;\">\n",
       "      <th></th>\n",
       "      <th>PRCP</th>\n",
       "      <th>TAVG</th>\n",
       "      <th>TMAX</th>\n",
       "      <th>TMIN</th>\n",
       "      <th>TOBS</th>\n",
       "      <th>POTHOLE COUNT</th>\n",
       "    </tr>\n",
       "    <tr>\n",
       "      <th>DATE</th>\n",
       "      <th></th>\n",
       "      <th></th>\n",
       "      <th></th>\n",
       "      <th></th>\n",
       "      <th></th>\n",
       "      <th></th>\n",
       "    </tr>\n",
       "  </thead>\n",
       "  <tbody>\n",
       "    <tr>\n",
       "      <th>2011-11-09</th>\n",
       "      <td>0.347692</td>\n",
       "      <td>NaN</td>\n",
       "      <td>62.000000</td>\n",
       "      <td>46.125000</td>\n",
       "      <td>53.0</td>\n",
       "      <td>11</td>\n",
       "    </tr>\n",
       "    <tr>\n",
       "      <th>2011-11-10</th>\n",
       "      <td>0.017857</td>\n",
       "      <td>NaN</td>\n",
       "      <td>57.777778</td>\n",
       "      <td>37.888889</td>\n",
       "      <td>42.0</td>\n",
       "      <td>17</td>\n",
       "    </tr>\n",
       "    <tr>\n",
       "      <th>2011-11-11</th>\n",
       "      <td>0.111429</td>\n",
       "      <td>NaN</td>\n",
       "      <td>58.888889</td>\n",
       "      <td>33.888889</td>\n",
       "      <td>52.0</td>\n",
       "      <td>1</td>\n",
       "    </tr>\n",
       "    <tr>\n",
       "      <th>2011-11-12</th>\n",
       "      <td>0.000000</td>\n",
       "      <td>NaN</td>\n",
       "      <td>66.888889</td>\n",
       "      <td>41.111111</td>\n",
       "      <td>67.0</td>\n",
       "      <td>1</td>\n",
       "    </tr>\n",
       "    <tr>\n",
       "      <th>2011-11-13</th>\n",
       "      <td>0.007857</td>\n",
       "      <td>NaN</td>\n",
       "      <td>69.777778</td>\n",
       "      <td>52.888889</td>\n",
       "      <td>71.0</td>\n",
       "      <td>2</td>\n",
       "    </tr>\n",
       "  </tbody>\n",
       "</table>\n",
       "</div>"
      ],
      "text/plain": [
       "                PRCP  TAVG       TMAX       TMIN  TOBS  POTHOLE COUNT\n",
       "DATE                                                                 \n",
       "2011-11-09  0.347692   NaN  62.000000  46.125000  53.0             11\n",
       "2011-11-10  0.017857   NaN  57.777778  37.888889  42.0             17\n",
       "2011-11-11  0.111429   NaN  58.888889  33.888889  52.0              1\n",
       "2011-11-12  0.000000   NaN  66.888889  41.111111  67.0              1\n",
       "2011-11-13  0.007857   NaN  69.777778  52.888889  71.0              2"
      ]
     },
     "execution_count": 84,
     "metadata": {},
     "output_type": "execute_result"
    }
   ],
   "source": [
    "combined.head()"
   ]
  },
  {
   "cell_type": "code",
   "execution_count": 85,
   "metadata": {},
   "outputs": [
    {
     "data": {
      "text/html": [
       "<div>\n",
       "<style scoped>\n",
       "    .dataframe tbody tr th:only-of-type {\n",
       "        vertical-align: middle;\n",
       "    }\n",
       "\n",
       "    .dataframe tbody tr th {\n",
       "        vertical-align: top;\n",
       "    }\n",
       "\n",
       "    .dataframe thead th {\n",
       "        text-align: right;\n",
       "    }\n",
       "</style>\n",
       "<table border=\"1\" class=\"dataframe\">\n",
       "  <thead>\n",
       "    <tr style=\"text-align: right;\">\n",
       "      <th></th>\n",
       "      <th>PRCP</th>\n",
       "      <th>TAVG</th>\n",
       "      <th>TMAX</th>\n",
       "      <th>TMIN</th>\n",
       "      <th>TOBS</th>\n",
       "      <th>POTHOLE COUNT</th>\n",
       "    </tr>\n",
       "  </thead>\n",
       "  <tbody>\n",
       "    <tr>\n",
       "      <th>PRCP</th>\n",
       "      <td>1.000000</td>\n",
       "      <td>0.040386</td>\n",
       "      <td>0.018409</td>\n",
       "      <td>0.096624</td>\n",
       "      <td>0.076583</td>\n",
       "      <td>-0.042758</td>\n",
       "    </tr>\n",
       "    <tr>\n",
       "      <th>TAVG</th>\n",
       "      <td>0.040386</td>\n",
       "      <td>1.000000</td>\n",
       "      <td>0.923235</td>\n",
       "      <td>0.913122</td>\n",
       "      <td>0.857968</td>\n",
       "      <td>-0.186505</td>\n",
       "    </tr>\n",
       "    <tr>\n",
       "      <th>TMAX</th>\n",
       "      <td>0.018409</td>\n",
       "      <td>0.923235</td>\n",
       "      <td>1.000000</td>\n",
       "      <td>0.945378</td>\n",
       "      <td>0.869318</td>\n",
       "      <td>-0.164412</td>\n",
       "    </tr>\n",
       "    <tr>\n",
       "      <th>TMIN</th>\n",
       "      <td>0.096624</td>\n",
       "      <td>0.913122</td>\n",
       "      <td>0.945378</td>\n",
       "      <td>1.000000</td>\n",
       "      <td>0.900276</td>\n",
       "      <td>-0.169966</td>\n",
       "    </tr>\n",
       "    <tr>\n",
       "      <th>TOBS</th>\n",
       "      <td>0.076583</td>\n",
       "      <td>0.857968</td>\n",
       "      <td>0.869318</td>\n",
       "      <td>0.900276</td>\n",
       "      <td>1.000000</td>\n",
       "      <td>-0.217257</td>\n",
       "    </tr>\n",
       "    <tr>\n",
       "      <th>POTHOLE COUNT</th>\n",
       "      <td>-0.042758</td>\n",
       "      <td>-0.186505</td>\n",
       "      <td>-0.164412</td>\n",
       "      <td>-0.169966</td>\n",
       "      <td>-0.217257</td>\n",
       "      <td>1.000000</td>\n",
       "    </tr>\n",
       "  </tbody>\n",
       "</table>\n",
       "</div>"
      ],
      "text/plain": [
       "                   PRCP      TAVG      TMAX      TMIN      TOBS  POTHOLE COUNT\n",
       "PRCP           1.000000  0.040386  0.018409  0.096624  0.076583      -0.042758\n",
       "TAVG           0.040386  1.000000  0.923235  0.913122  0.857968      -0.186505\n",
       "TMAX           0.018409  0.923235  1.000000  0.945378  0.869318      -0.164412\n",
       "TMIN           0.096624  0.913122  0.945378  1.000000  0.900276      -0.169966\n",
       "TOBS           0.076583  0.857968  0.869318  0.900276  1.000000      -0.217257\n",
       "POTHOLE COUNT -0.042758 -0.186505 -0.164412 -0.169966 -0.217257       1.000000"
      ]
     },
     "execution_count": 85,
     "metadata": {},
     "output_type": "execute_result"
    }
   ],
   "source": [
    "combined.corr()"
   ]
  },
  {
   "cell_type": "code",
   "execution_count": 86,
   "metadata": {},
   "outputs": [
    {
     "data": {
      "text/plain": [
       "<seaborn.axisgrid.PairGrid at 0x1cfcad910d0>"
      ]
     },
     "execution_count": 86,
     "metadata": {},
     "output_type": "execute_result"
    },
    {
     "data": {
      "image/png": "[encoded data removed]",
      "text/plain": [
       "<Figure size 1080x1080 with 42 Axes>"
      ]
     },
     "metadata": {
      "needs_background": "light"
     },
     "output_type": "display_data"
    }
   ],
   "source": [
    "sns.pairplot(combined)"
   ]
  },
  {
   "cell_type": "code",
   "execution_count": 87,
   "metadata": {},
   "outputs": [
    {
     "data": {
      "text/plain": [
       "<matplotlib.axes._subplots.AxesSubplot at 0x1cfcc77d430>"
      ]
     },
     "execution_count": 87,
     "metadata": {},
     "output_type": "execute_result"
    },
    {
     "data": {
      "image/png": "[encoded data removed]",
      "text/plain": [
       "<Figure size 432x288 with 2 Axes>"
      ]
     },
     "metadata": {
      "needs_background": "light"
     },
     "output_type": "display_data"
    }
   ],
   "source": [
    "sns.heatmap(combined.corr())"
   ]
  },
  {
   "cell_type": "code",
   "execution_count": 88,
   "metadata": {},
   "outputs": [
    {
     "data": {
      "text/plain": [
       "[None, None]"
      ]
     },
     "execution_count": 88,
     "metadata": {},
     "output_type": "execute_result"
    },
    {
     "data": {
      "image/png": "[encoded data removed]",
      "text/plain": [
       "<Figure size 432x288 with 1 Axes>"
      ]
     },
     "metadata": {
      "needs_background": "light"
     },
     "output_type": "display_data"
    }
   ],
   "source": [
    "plot = sns.scatterplot(data=combined, x='PRCP',y='POTHOLE COUNT')\n",
    "plot.set(xscale='log',yscale='log')"
   ]
  },
  {
   "cell_type": "markdown",
   "metadata": {},
   "source": [
    "### Attempt analyis by neighborhood since general PRCP to pothole count showed a low correlation"
   ]
  },
  {
   "cell_type": "code",
   "execution_count": 89,
   "metadata": {},
   "outputs": [
    {
     "data": {
      "text/plain": [
       "array(['CENTRAL SOUTHWEST', 'MEADOWBROOK / ALLENDALE',\n",
       "       'GREATER FIFTH WARD', 'BRIAR FOREST', 'ALIEF', 'MEYERLAND AREA',\n",
       "       'CLINTON PARK TRI-COMMUNITY', 'ELDRIDGE / WEST OAKS',\n",
       "       'UNIVERSITY PLACE', 'GREATER INWOOD', 'NEARTOWN - MONTROSE',\n",
       "       'TRINITY / HOUSTON GARDENS', 'SHARPSTOWN', 'BRAEBURN', 'WESTCHASE',\n",
       "       'SPRING BRANCH EAST', 'GREATER THIRD WARD', 'GREATER EASTWOOD',\n",
       "       'SOUTH MAIN', 'WASHINGTON AVENUE COALITION / MEMORIAL P',\n",
       "       'GREENWAY / UPPER KIRBY AREA', 'SOUTH BELT / ELLINGTON',\n",
       "       'AFTON OAKS / RIVER OAKS AREA', 'GOLFCREST / BELLFORT / REVEILLE',\n",
       "       'CENTRAL NORTHWEST', 'SUNNYSIDE', 'ADDICKS PARK TEN', 'MIDTOWN',\n",
       "       'CLEAR LAKE', 'GREATER HEIGHTS', 'DOWNTOWN',\n",
       "       'GREATER OST / SOUTH UNION', nan, 'GREATER UPTOWN',\n",
       "       'IAH / AIRPORT AREA', 'SPRING BRANCH CENTRAL', 'MINNETEX',\n",
       "       'DENVER HARBOR / PORT HOUSTON', 'NORTHSIDE/NORTHLINE', 'MEMORIAL',\n",
       "       'SECOND WARD', 'FAIRBANKS / NORTHWEST CROSSING', 'NEAR NORTHSIDE',\n",
       "       'EASTEX - JENSEN AREA', 'FOURTH WARD', 'INDEPENDENCE HEIGHTS',\n",
       "       'LANGWOOD', 'SOUTH PARK', 'EAST LITTLE YORK / HOMESTEAD',\n",
       "       'PLEASANTVILLE AREA', 'GULFGATE RIVERVIEW / PINE VALLEY',\n",
       "       'EAST HOUSTON', 'FONDREN GARDENS', 'SPRING BRANCH WEST',\n",
       "       'EL DORADO / OATES PRAIRIE', 'LAWNDALE / WAYSIDE', 'ACRES HOME',\n",
       "       'EDGEBROOK AREA', 'MID WEST', 'KINGWOOD AREA',\n",
       "       'WILLOW MEADOWS / WILLOWBEND AREA', 'FORT BEND HOUSTON',\n",
       "       'WESTBURY', 'GULFTON', 'NORTHSHORE', 'SPRING BRANCH NORTH',\n",
       "       'WILLOWBROOK', 'BRAYS OAKS', 'LAZYBROOK / TIMBERGROVE', 'WESTWOOD',\n",
       "       'BRAESWOOD', 'GREATER GREENSPOINT', 'MEDICAL CENTER AREA',\n",
       "       'GREATER HOBBY AREA', 'MAGNOLIA PARK', 'KASHMERE GARDENS',\n",
       "       'PECAN PARK', 'SOUTH ACRES / CRESTMONT PARK', 'ASTRODOME AREA',\n",
       "       'MACGREGOR', 'MUSEUM PARK', 'HIDDEN VALLEY', 'CARVERDALE',\n",
       "       'BRAESWOOD PLACE', 'WESTBRANCH', 'SETTEGAST', 'PARK PLACE',\n",
       "       'HARRISBURG / MANCHESTER', 'LAKE HOUSTON', 'OST / SOUTH UNION',\n",
       "       'NORTHSIDE VILLAGE', 'HUNTERWOOD'], dtype=object)"
      ]
     },
     "execution_count": 89,
     "metadata": {},
     "output_type": "execute_result"
    }
   ],
   "source": [
    "pothole_df_scrubbed.NEIGHBORHOOD.unique()"
   ]
  },
  {
   "cell_type": "code",
   "execution_count": 90,
   "metadata": {},
   "outputs": [],
   "source": [
    "pothole_new = pothole_df_scrubbed.reset_index()\n",
    "pothole_new['DATE2'] = pothole_new['DATE']"
   ]
  },
  {
   "cell_type": "code",
   "execution_count": 91,
   "metadata": {},
   "outputs": [],
   "source": [
    "pothole_group2 = pothole_new.groupby(['NEIGHBORHOOD','DATE'])['DATE2'].count()"
   ]
  },
  {
   "cell_type": "code",
   "execution_count": 92,
   "metadata": {},
   "outputs": [
    {
     "data": {
      "text/plain": [
       "NEIGHBORHOOD  DATE      \n",
       "ACRES HOME    2011-11-29    1\n",
       "              2011-12-06    1\n",
       "              2011-12-29    1\n",
       "              2012-01-05    1\n",
       "              2012-01-10    1\n",
       "Name: DATE2, dtype: int64"
      ]
     },
     "execution_count": 92,
     "metadata": {},
     "output_type": "execute_result"
    }
   ],
   "source": [
    "pothole_group2.head()"
   ]
  },
  {
   "cell_type": "code",
   "execution_count": 93,
   "metadata": {},
   "outputs": [
    {
     "data": {
      "text/html": [
       "<div>\n",
       "<style scoped>\n",
       "    .dataframe tbody tr th:only-of-type {\n",
       "        vertical-align: middle;\n",
       "    }\n",
       "\n",
       "    .dataframe tbody tr th {\n",
       "        vertical-align: top;\n",
       "    }\n",
       "\n",
       "    .dataframe thead th {\n",
       "        text-align: right;\n",
       "    }\n",
       "</style>\n",
       "<table border=\"1\" class=\"dataframe\">\n",
       "  <thead>\n",
       "    <tr style=\"text-align: right;\">\n",
       "      <th>NEIGHBORHOOD</th>\n",
       "      <th>ACRES HOME</th>\n",
       "      <th>ADDICKS PARK TEN</th>\n",
       "      <th>AFTON OAKS / RIVER OAKS AREA</th>\n",
       "      <th>ALIEF</th>\n",
       "      <th>ASTRODOME AREA</th>\n",
       "      <th>BRAEBURN</th>\n",
       "      <th>BRAESWOOD</th>\n",
       "      <th>BRAESWOOD PLACE</th>\n",
       "      <th>BRAYS OAKS</th>\n",
       "      <th>BRIAR FOREST</th>\n",
       "      <th>...</th>\n",
       "      <th>SUNNYSIDE</th>\n",
       "      <th>TRINITY / HOUSTON GARDENS</th>\n",
       "      <th>UNIVERSITY PLACE</th>\n",
       "      <th>WASHINGTON AVENUE COALITION / MEMORIAL P</th>\n",
       "      <th>WESTBRANCH</th>\n",
       "      <th>WESTBURY</th>\n",
       "      <th>WESTCHASE</th>\n",
       "      <th>WESTWOOD</th>\n",
       "      <th>WILLOW MEADOWS / WILLOWBEND AREA</th>\n",
       "      <th>WILLOWBROOK</th>\n",
       "    </tr>\n",
       "    <tr>\n",
       "      <th>DATE</th>\n",
       "      <th></th>\n",
       "      <th></th>\n",
       "      <th></th>\n",
       "      <th></th>\n",
       "      <th></th>\n",
       "      <th></th>\n",
       "      <th></th>\n",
       "      <th></th>\n",
       "      <th></th>\n",
       "      <th></th>\n",
       "      <th></th>\n",
       "      <th></th>\n",
       "      <th></th>\n",
       "      <th></th>\n",
       "      <th></th>\n",
       "      <th></th>\n",
       "      <th></th>\n",
       "      <th></th>\n",
       "      <th></th>\n",
       "      <th></th>\n",
       "      <th></th>\n",
       "    </tr>\n",
       "  </thead>\n",
       "  <tbody>\n",
       "    <tr>\n",
       "      <th>2011-11-09</th>\n",
       "      <td>NaN</td>\n",
       "      <td>NaN</td>\n",
       "      <td>NaN</td>\n",
       "      <td>1.0</td>\n",
       "      <td>NaN</td>\n",
       "      <td>NaN</td>\n",
       "      <td>NaN</td>\n",
       "      <td>NaN</td>\n",
       "      <td>NaN</td>\n",
       "      <td>1.0</td>\n",
       "      <td>...</td>\n",
       "      <td>NaN</td>\n",
       "      <td>NaN</td>\n",
       "      <td>1.0</td>\n",
       "      <td>NaN</td>\n",
       "      <td>NaN</td>\n",
       "      <td>NaN</td>\n",
       "      <td>NaN</td>\n",
       "      <td>NaN</td>\n",
       "      <td>NaN</td>\n",
       "      <td>NaN</td>\n",
       "    </tr>\n",
       "    <tr>\n",
       "      <th>2011-11-10</th>\n",
       "      <td>NaN</td>\n",
       "      <td>NaN</td>\n",
       "      <td>NaN</td>\n",
       "      <td>3.0</td>\n",
       "      <td>NaN</td>\n",
       "      <td>1.0</td>\n",
       "      <td>NaN</td>\n",
       "      <td>NaN</td>\n",
       "      <td>NaN</td>\n",
       "      <td>NaN</td>\n",
       "      <td>...</td>\n",
       "      <td>NaN</td>\n",
       "      <td>1.0</td>\n",
       "      <td>NaN</td>\n",
       "      <td>NaN</td>\n",
       "      <td>NaN</td>\n",
       "      <td>NaN</td>\n",
       "      <td>2.0</td>\n",
       "      <td>NaN</td>\n",
       "      <td>NaN</td>\n",
       "      <td>NaN</td>\n",
       "    </tr>\n",
       "    <tr>\n",
       "      <th>2011-11-11</th>\n",
       "      <td>NaN</td>\n",
       "      <td>NaN</td>\n",
       "      <td>NaN</td>\n",
       "      <td>NaN</td>\n",
       "      <td>NaN</td>\n",
       "      <td>NaN</td>\n",
       "      <td>NaN</td>\n",
       "      <td>NaN</td>\n",
       "      <td>NaN</td>\n",
       "      <td>NaN</td>\n",
       "      <td>...</td>\n",
       "      <td>NaN</td>\n",
       "      <td>NaN</td>\n",
       "      <td>NaN</td>\n",
       "      <td>NaN</td>\n",
       "      <td>NaN</td>\n",
       "      <td>NaN</td>\n",
       "      <td>NaN</td>\n",
       "      <td>NaN</td>\n",
       "      <td>NaN</td>\n",
       "      <td>NaN</td>\n",
       "    </tr>\n",
       "    <tr>\n",
       "      <th>2011-11-12</th>\n",
       "      <td>NaN</td>\n",
       "      <td>NaN</td>\n",
       "      <td>NaN</td>\n",
       "      <td>NaN</td>\n",
       "      <td>NaN</td>\n",
       "      <td>NaN</td>\n",
       "      <td>NaN</td>\n",
       "      <td>NaN</td>\n",
       "      <td>NaN</td>\n",
       "      <td>NaN</td>\n",
       "      <td>...</td>\n",
       "      <td>NaN</td>\n",
       "      <td>NaN</td>\n",
       "      <td>NaN</td>\n",
       "      <td>NaN</td>\n",
       "      <td>NaN</td>\n",
       "      <td>NaN</td>\n",
       "      <td>NaN</td>\n",
       "      <td>NaN</td>\n",
       "      <td>NaN</td>\n",
       "      <td>NaN</td>\n",
       "    </tr>\n",
       "    <tr>\n",
       "      <th>2011-11-13</th>\n",
       "      <td>NaN</td>\n",
       "      <td>NaN</td>\n",
       "      <td>NaN</td>\n",
       "      <td>NaN</td>\n",
       "      <td>NaN</td>\n",
       "      <td>NaN</td>\n",
       "      <td>NaN</td>\n",
       "      <td>NaN</td>\n",
       "      <td>NaN</td>\n",
       "      <td>NaN</td>\n",
       "      <td>...</td>\n",
       "      <td>NaN</td>\n",
       "      <td>NaN</td>\n",
       "      <td>NaN</td>\n",
       "      <td>1.0</td>\n",
       "      <td>NaN</td>\n",
       "      <td>NaN</td>\n",
       "      <td>NaN</td>\n",
       "      <td>NaN</td>\n",
       "      <td>NaN</td>\n",
       "      <td>NaN</td>\n",
       "    </tr>\n",
       "    <tr>\n",
       "      <th>...</th>\n",
       "      <td>...</td>\n",
       "      <td>...</td>\n",
       "      <td>...</td>\n",
       "      <td>...</td>\n",
       "      <td>...</td>\n",
       "      <td>...</td>\n",
       "      <td>...</td>\n",
       "      <td>...</td>\n",
       "      <td>...</td>\n",
       "      <td>...</td>\n",
       "      <td>...</td>\n",
       "      <td>...</td>\n",
       "      <td>...</td>\n",
       "      <td>...</td>\n",
       "      <td>...</td>\n",
       "      <td>...</td>\n",
       "      <td>...</td>\n",
       "      <td>...</td>\n",
       "      <td>...</td>\n",
       "      <td>...</td>\n",
       "      <td>...</td>\n",
       "    </tr>\n",
       "    <tr>\n",
       "      <th>2021-06-03</th>\n",
       "      <td>NaN</td>\n",
       "      <td>NaN</td>\n",
       "      <td>NaN</td>\n",
       "      <td>2.0</td>\n",
       "      <td>NaN</td>\n",
       "      <td>NaN</td>\n",
       "      <td>NaN</td>\n",
       "      <td>NaN</td>\n",
       "      <td>NaN</td>\n",
       "      <td>NaN</td>\n",
       "      <td>...</td>\n",
       "      <td>NaN</td>\n",
       "      <td>NaN</td>\n",
       "      <td>NaN</td>\n",
       "      <td>1.0</td>\n",
       "      <td>NaN</td>\n",
       "      <td>NaN</td>\n",
       "      <td>NaN</td>\n",
       "      <td>NaN</td>\n",
       "      <td>NaN</td>\n",
       "      <td>NaN</td>\n",
       "    </tr>\n",
       "    <tr>\n",
       "      <th>2021-06-04</th>\n",
       "      <td>NaN</td>\n",
       "      <td>NaN</td>\n",
       "      <td>1.0</td>\n",
       "      <td>NaN</td>\n",
       "      <td>NaN</td>\n",
       "      <td>NaN</td>\n",
       "      <td>2.0</td>\n",
       "      <td>NaN</td>\n",
       "      <td>2.0</td>\n",
       "      <td>1.0</td>\n",
       "      <td>...</td>\n",
       "      <td>1.0</td>\n",
       "      <td>NaN</td>\n",
       "      <td>2.0</td>\n",
       "      <td>1.0</td>\n",
       "      <td>NaN</td>\n",
       "      <td>NaN</td>\n",
       "      <td>NaN</td>\n",
       "      <td>2.0</td>\n",
       "      <td>NaN</td>\n",
       "      <td>NaN</td>\n",
       "    </tr>\n",
       "    <tr>\n",
       "      <th>2021-06-05</th>\n",
       "      <td>NaN</td>\n",
       "      <td>1.0</td>\n",
       "      <td>NaN</td>\n",
       "      <td>2.0</td>\n",
       "      <td>NaN</td>\n",
       "      <td>NaN</td>\n",
       "      <td>NaN</td>\n",
       "      <td>NaN</td>\n",
       "      <td>1.0</td>\n",
       "      <td>NaN</td>\n",
       "      <td>...</td>\n",
       "      <td>NaN</td>\n",
       "      <td>NaN</td>\n",
       "      <td>NaN</td>\n",
       "      <td>2.0</td>\n",
       "      <td>NaN</td>\n",
       "      <td>NaN</td>\n",
       "      <td>NaN</td>\n",
       "      <td>1.0</td>\n",
       "      <td>NaN</td>\n",
       "      <td>NaN</td>\n",
       "    </tr>\n",
       "    <tr>\n",
       "      <th>2021-06-06</th>\n",
       "      <td>NaN</td>\n",
       "      <td>NaN</td>\n",
       "      <td>NaN</td>\n",
       "      <td>NaN</td>\n",
       "      <td>NaN</td>\n",
       "      <td>NaN</td>\n",
       "      <td>1.0</td>\n",
       "      <td>NaN</td>\n",
       "      <td>NaN</td>\n",
       "      <td>NaN</td>\n",
       "      <td>...</td>\n",
       "      <td>NaN</td>\n",
       "      <td>NaN</td>\n",
       "      <td>1.0</td>\n",
       "      <td>NaN</td>\n",
       "      <td>NaN</td>\n",
       "      <td>NaN</td>\n",
       "      <td>NaN</td>\n",
       "      <td>NaN</td>\n",
       "      <td>NaN</td>\n",
       "      <td>NaN</td>\n",
       "    </tr>\n",
       "    <tr>\n",
       "      <th>2021-06-07</th>\n",
       "      <td>1.0</td>\n",
       "      <td>NaN</td>\n",
       "      <td>NaN</td>\n",
       "      <td>1.0</td>\n",
       "      <td>NaN</td>\n",
       "      <td>NaN</td>\n",
       "      <td>NaN</td>\n",
       "      <td>NaN</td>\n",
       "      <td>4.0</td>\n",
       "      <td>1.0</td>\n",
       "      <td>...</td>\n",
       "      <td>NaN</td>\n",
       "      <td>NaN</td>\n",
       "      <td>NaN</td>\n",
       "      <td>2.0</td>\n",
       "      <td>NaN</td>\n",
       "      <td>NaN</td>\n",
       "      <td>NaN</td>\n",
       "      <td>NaN</td>\n",
       "      <td>NaN</td>\n",
       "      <td>NaN</td>\n",
       "    </tr>\n",
       "  </tbody>\n",
       "</table>\n",
       "<p>3467 rows × 91 columns</p>\n",
       "</div>"
      ],
      "text/plain": [
       "NEIGHBORHOOD  ACRES HOME  ADDICKS PARK TEN  AFTON OAKS / RIVER OAKS AREA  \\\n",
       "DATE                                                                       \n",
       "2011-11-09           NaN               NaN                           NaN   \n",
       "2011-11-10           NaN               NaN                           NaN   \n",
       "2011-11-11           NaN               NaN                           NaN   \n",
       "2011-11-12           NaN               NaN                           NaN   \n",
       "2011-11-13           NaN               NaN                           NaN   \n",
       "...                  ...               ...                           ...   \n",
       "2021-06-03           NaN               NaN                           NaN   \n",
       "2021-06-04           NaN               NaN                           1.0   \n",
       "2021-06-05           NaN               1.0                           NaN   \n",
       "2021-06-06           NaN               NaN                           NaN   \n",
       "2021-06-07           1.0               NaN                           NaN   \n",
       "\n",
       "NEIGHBORHOOD  ALIEF  ASTRODOME AREA  BRAEBURN  BRAESWOOD  BRAESWOOD PLACE  \\\n",
       "DATE                                                                        \n",
       "2011-11-09      1.0             NaN       NaN        NaN              NaN   \n",
       "2011-11-10      3.0             NaN       1.0        NaN              NaN   \n",
       "2011-11-11      NaN             NaN       NaN        NaN              NaN   \n",
       "2011-11-12      NaN             NaN       NaN        NaN              NaN   \n",
       "2011-11-13      NaN             NaN       NaN        NaN              NaN   \n",
       "...             ...             ...       ...        ...              ...   \n",
       "2021-06-03      2.0             NaN       NaN        NaN              NaN   \n",
       "2021-06-04      NaN             NaN       NaN        2.0              NaN   \n",
       "2021-06-05      2.0             NaN       NaN        NaN              NaN   \n",
       "2021-06-06      NaN             NaN       NaN        1.0              NaN   \n",
       "2021-06-07      1.0             NaN       NaN        NaN              NaN   \n",
       "\n",
       "NEIGHBORHOOD  BRAYS OAKS  BRIAR FOREST  ...  SUNNYSIDE  \\\n",
       "DATE                                    ...              \n",
       "2011-11-09           NaN           1.0  ...        NaN   \n",
       "2011-11-10           NaN           NaN  ...        NaN   \n",
       "2011-11-11           NaN           NaN  ...        NaN   \n",
       "2011-11-12           NaN           NaN  ...        NaN   \n",
       "2011-11-13           NaN           NaN  ...        NaN   \n",
       "...                  ...           ...  ...        ...   \n",
       "2021-06-03           NaN           NaN  ...        NaN   \n",
       "2021-06-04           2.0           1.0  ...        1.0   \n",
       "2021-06-05           1.0           NaN  ...        NaN   \n",
       "2021-06-06           NaN           NaN  ...        NaN   \n",
       "2021-06-07           4.0           1.0  ...        NaN   \n",
       "\n",
       "NEIGHBORHOOD  TRINITY / HOUSTON GARDENS  UNIVERSITY PLACE  \\\n",
       "DATE                                                        \n",
       "2011-11-09                          NaN               1.0   \n",
       "2011-11-10                          1.0               NaN   \n",
       "2011-11-11                          NaN               NaN   \n",
       "2011-11-12                          NaN               NaN   \n",
       "2011-11-13                          NaN               NaN   \n",
       "...                                 ...               ...   \n",
       "2021-06-03                          NaN               NaN   \n",
       "2021-06-04                          NaN               2.0   \n",
       "2021-06-05                          NaN               NaN   \n",
       "2021-06-06                          NaN               1.0   \n",
       "2021-06-07                          NaN               NaN   \n",
       "\n",
       "NEIGHBORHOOD  WASHINGTON AVENUE COALITION / MEMORIAL P  WESTBRANCH  WESTBURY  \\\n",
       "DATE                                                                           \n",
       "2011-11-09                                         NaN         NaN       NaN   \n",
       "2011-11-10                                         NaN         NaN       NaN   \n",
       "2011-11-11                                         NaN         NaN       NaN   \n",
       "2011-11-12                                         NaN         NaN       NaN   \n",
       "2011-11-13                                         1.0         NaN       NaN   \n",
       "...                                                ...         ...       ...   \n",
       "2021-06-03                                         1.0         NaN       NaN   \n",
       "2021-06-04                                         1.0         NaN       NaN   \n",
       "2021-06-05                                         2.0         NaN       NaN   \n",
       "2021-06-06                                         NaN         NaN       NaN   \n",
       "2021-06-07                                         2.0         NaN       NaN   \n",
       "\n",
       "NEIGHBORHOOD  WESTCHASE  WESTWOOD  WILLOW MEADOWS / WILLOWBEND AREA  \\\n",
       "DATE                                                                  \n",
       "2011-11-09          NaN       NaN                               NaN   \n",
       "2011-11-10          2.0       NaN                               NaN   \n",
       "2011-11-11          NaN       NaN                               NaN   \n",
       "2011-11-12          NaN       NaN                               NaN   \n",
       "2011-11-13          NaN       NaN                               NaN   \n",
       "...                 ...       ...                               ...   \n",
       "2021-06-03          NaN       NaN                               NaN   \n",
       "2021-06-04          NaN       2.0                               NaN   \n",
       "2021-06-05          NaN       1.0                               NaN   \n",
       "2021-06-06          NaN       NaN                               NaN   \n",
       "2021-06-07          NaN       NaN                               NaN   \n",
       "\n",
       "NEIGHBORHOOD  WILLOWBROOK  \n",
       "DATE                       \n",
       "2011-11-09            NaN  \n",
       "2011-11-10            NaN  \n",
       "2011-11-11            NaN  \n",
       "2011-11-12            NaN  \n",
       "2011-11-13            NaN  \n",
       "...                   ...  \n",
       "2021-06-03            NaN  \n",
       "2021-06-04            NaN  \n",
       "2021-06-05            NaN  \n",
       "2021-06-06            NaN  \n",
       "2021-06-07            NaN  \n",
       "\n",
       "[3467 rows x 91 columns]"
      ]
     },
     "execution_count": 93,
     "metadata": {},
     "output_type": "execute_result"
    }
   ],
   "source": [
    "PT = pothole_group2.unstack(level='DATE').T\n",
    "PT.sort_index()"
   ]
  },
  {
   "cell_type": "code",
   "execution_count": 94,
   "metadata": {},
   "outputs": [],
   "source": [
    "combined2 = weather_df_scrubbed.join(PT,how='inner')"
   ]
  },
  {
   "cell_type": "code",
   "execution_count": 95,
   "metadata": {},
   "outputs": [
    {
     "data": {
      "text/html": [
       "<div>\n",
       "<style scoped>\n",
       "    .dataframe tbody tr th:only-of-type {\n",
       "        vertical-align: middle;\n",
       "    }\n",
       "\n",
       "    .dataframe tbody tr th {\n",
       "        vertical-align: top;\n",
       "    }\n",
       "\n",
       "    .dataframe thead th {\n",
       "        text-align: right;\n",
       "    }\n",
       "</style>\n",
       "<table border=\"1\" class=\"dataframe\">\n",
       "  <thead>\n",
       "    <tr style=\"text-align: right;\">\n",
       "      <th></th>\n",
       "      <th>PRCP</th>\n",
       "      <th>TAVG</th>\n",
       "      <th>TMAX</th>\n",
       "      <th>TMIN</th>\n",
       "      <th>TOBS</th>\n",
       "      <th>ACRES HOME</th>\n",
       "      <th>ADDICKS PARK TEN</th>\n",
       "      <th>AFTON OAKS / RIVER OAKS AREA</th>\n",
       "      <th>ALIEF</th>\n",
       "      <th>ASTRODOME AREA</th>\n",
       "      <th>...</th>\n",
       "      <th>SUNNYSIDE</th>\n",
       "      <th>TRINITY / HOUSTON GARDENS</th>\n",
       "      <th>UNIVERSITY PLACE</th>\n",
       "      <th>WASHINGTON AVENUE COALITION / MEMORIAL P</th>\n",
       "      <th>WESTBRANCH</th>\n",
       "      <th>WESTBURY</th>\n",
       "      <th>WESTCHASE</th>\n",
       "      <th>WESTWOOD</th>\n",
       "      <th>WILLOW MEADOWS / WILLOWBEND AREA</th>\n",
       "      <th>WILLOWBROOK</th>\n",
       "    </tr>\n",
       "    <tr>\n",
       "      <th>DATE</th>\n",
       "      <th></th>\n",
       "      <th></th>\n",
       "      <th></th>\n",
       "      <th></th>\n",
       "      <th></th>\n",
       "      <th></th>\n",
       "      <th></th>\n",
       "      <th></th>\n",
       "      <th></th>\n",
       "      <th></th>\n",
       "      <th></th>\n",
       "      <th></th>\n",
       "      <th></th>\n",
       "      <th></th>\n",
       "      <th></th>\n",
       "      <th></th>\n",
       "      <th></th>\n",
       "      <th></th>\n",
       "      <th></th>\n",
       "      <th></th>\n",
       "      <th></th>\n",
       "    </tr>\n",
       "  </thead>\n",
       "  <tbody>\n",
       "    <tr>\n",
       "      <th>2011-11-09</th>\n",
       "      <td>0.347692</td>\n",
       "      <td>NaN</td>\n",
       "      <td>62.000000</td>\n",
       "      <td>46.125000</td>\n",
       "      <td>53.0</td>\n",
       "      <td>NaN</td>\n",
       "      <td>NaN</td>\n",
       "      <td>NaN</td>\n",
       "      <td>1.0</td>\n",
       "      <td>NaN</td>\n",
       "      <td>...</td>\n",
       "      <td>NaN</td>\n",
       "      <td>NaN</td>\n",
       "      <td>1.0</td>\n",
       "      <td>NaN</td>\n",
       "      <td>NaN</td>\n",
       "      <td>NaN</td>\n",
       "      <td>NaN</td>\n",
       "      <td>NaN</td>\n",
       "      <td>NaN</td>\n",
       "      <td>NaN</td>\n",
       "    </tr>\n",
       "    <tr>\n",
       "      <th>2011-11-10</th>\n",
       "      <td>0.017857</td>\n",
       "      <td>NaN</td>\n",
       "      <td>57.777778</td>\n",
       "      <td>37.888889</td>\n",
       "      <td>42.0</td>\n",
       "      <td>NaN</td>\n",
       "      <td>NaN</td>\n",
       "      <td>NaN</td>\n",
       "      <td>3.0</td>\n",
       "      <td>NaN</td>\n",
       "      <td>...</td>\n",
       "      <td>NaN</td>\n",
       "      <td>1.0</td>\n",
       "      <td>NaN</td>\n",
       "      <td>NaN</td>\n",
       "      <td>NaN</td>\n",
       "      <td>NaN</td>\n",
       "      <td>2.0</td>\n",
       "      <td>NaN</td>\n",
       "      <td>NaN</td>\n",
       "      <td>NaN</td>\n",
       "    </tr>\n",
       "    <tr>\n",
       "      <th>2011-11-11</th>\n",
       "      <td>0.111429</td>\n",
       "      <td>NaN</td>\n",
       "      <td>58.888889</td>\n",
       "      <td>33.888889</td>\n",
       "      <td>52.0</td>\n",
       "      <td>NaN</td>\n",
       "      <td>NaN</td>\n",
       "      <td>NaN</td>\n",
       "      <td>NaN</td>\n",
       "      <td>NaN</td>\n",
       "      <td>...</td>\n",
       "      <td>NaN</td>\n",
       "      <td>NaN</td>\n",
       "      <td>NaN</td>\n",
       "      <td>NaN</td>\n",
       "      <td>NaN</td>\n",
       "      <td>NaN</td>\n",
       "      <td>NaN</td>\n",
       "      <td>NaN</td>\n",
       "      <td>NaN</td>\n",
       "      <td>NaN</td>\n",
       "    </tr>\n",
       "    <tr>\n",
       "      <th>2011-11-12</th>\n",
       "      <td>0.000000</td>\n",
       "      <td>NaN</td>\n",
       "      <td>66.888889</td>\n",
       "      <td>41.111111</td>\n",
       "      <td>67.0</td>\n",
       "      <td>NaN</td>\n",
       "      <td>NaN</td>\n",
       "      <td>NaN</td>\n",
       "      <td>NaN</td>\n",
       "      <td>NaN</td>\n",
       "      <td>...</td>\n",
       "      <td>NaN</td>\n",
       "      <td>NaN</td>\n",
       "      <td>NaN</td>\n",
       "      <td>NaN</td>\n",
       "      <td>NaN</td>\n",
       "      <td>NaN</td>\n",
       "      <td>NaN</td>\n",
       "      <td>NaN</td>\n",
       "      <td>NaN</td>\n",
       "      <td>NaN</td>\n",
       "    </tr>\n",
       "    <tr>\n",
       "      <th>2011-11-13</th>\n",
       "      <td>0.007857</td>\n",
       "      <td>NaN</td>\n",
       "      <td>69.777778</td>\n",
       "      <td>52.888889</td>\n",
       "      <td>71.0</td>\n",
       "      <td>NaN</td>\n",
       "      <td>NaN</td>\n",
       "      <td>NaN</td>\n",
       "      <td>NaN</td>\n",
       "      <td>NaN</td>\n",
       "      <td>...</td>\n",
       "      <td>NaN</td>\n",
       "      <td>NaN</td>\n",
       "      <td>NaN</td>\n",
       "      <td>1.0</td>\n",
       "      <td>NaN</td>\n",
       "      <td>NaN</td>\n",
       "      <td>NaN</td>\n",
       "      <td>NaN</td>\n",
       "      <td>NaN</td>\n",
       "      <td>NaN</td>\n",
       "    </tr>\n",
       "  </tbody>\n",
       "</table>\n",
       "<p>5 rows × 96 columns</p>\n",
       "</div>"
      ],
      "text/plain": [
       "                PRCP  TAVG       TMAX       TMIN  TOBS  ACRES HOME  \\\n",
       "DATE                                                                 \n",
       "2011-11-09  0.347692   NaN  62.000000  46.125000  53.0         NaN   \n",
       "2011-11-10  0.017857   NaN  57.777778  37.888889  42.0         NaN   \n",
       "2011-11-11  0.111429   NaN  58.888889  33.888889  52.0         NaN   \n",
       "2011-11-12  0.000000   NaN  66.888889  41.111111  67.0         NaN   \n",
       "2011-11-13  0.007857   NaN  69.777778  52.888889  71.0         NaN   \n",
       "\n",
       "            ADDICKS PARK TEN  AFTON OAKS / RIVER OAKS AREA  ALIEF  \\\n",
       "DATE                                                                \n",
       "2011-11-09               NaN                           NaN    1.0   \n",
       "2011-11-10               NaN                           NaN    3.0   \n",
       "2011-11-11               NaN                           NaN    NaN   \n",
       "2011-11-12               NaN                           NaN    NaN   \n",
       "2011-11-13               NaN                           NaN    NaN   \n",
       "\n",
       "            ASTRODOME AREA  ...  SUNNYSIDE  TRINITY / HOUSTON GARDENS  \\\n",
       "DATE                        ...                                         \n",
       "2011-11-09             NaN  ...        NaN                        NaN   \n",
       "2011-11-10             NaN  ...        NaN                        1.0   \n",
       "2011-11-11             NaN  ...        NaN                        NaN   \n",
       "2011-11-12             NaN  ...        NaN                        NaN   \n",
       "2011-11-13             NaN  ...        NaN                        NaN   \n",
       "\n",
       "            UNIVERSITY PLACE  WASHINGTON AVENUE COALITION / MEMORIAL P  \\\n",
       "DATE                                                                     \n",
       "2011-11-09               1.0                                       NaN   \n",
       "2011-11-10               NaN                                       NaN   \n",
       "2011-11-11               NaN                                       NaN   \n",
       "2011-11-12               NaN                                       NaN   \n",
       "2011-11-13               NaN                                       1.0   \n",
       "\n",
       "            WESTBRANCH  WESTBURY  WESTCHASE  WESTWOOD  \\\n",
       "DATE                                                    \n",
       "2011-11-09         NaN       NaN        NaN       NaN   \n",
       "2011-11-10         NaN       NaN        2.0       NaN   \n",
       "2011-11-11         NaN       NaN        NaN       NaN   \n",
       "2011-11-12         NaN       NaN        NaN       NaN   \n",
       "2011-11-13         NaN       NaN        NaN       NaN   \n",
       "\n",
       "            WILLOW MEADOWS / WILLOWBEND AREA  WILLOWBROOK  \n",
       "DATE                                                       \n",
       "2011-11-09                               NaN          NaN  \n",
       "2011-11-10                               NaN          NaN  \n",
       "2011-11-11                               NaN          NaN  \n",
       "2011-11-12                               NaN          NaN  \n",
       "2011-11-13                               NaN          NaN  \n",
       "\n",
       "[5 rows x 96 columns]"
      ]
     },
     "execution_count": 95,
     "metadata": {},
     "output_type": "execute_result"
    }
   ],
   "source": [
    "combined2.head()"
   ]
  },
  {
   "cell_type": "code",
   "execution_count": 96,
   "metadata": {},
   "outputs": [
    {
     "data": {
      "text/plain": [
       "<matplotlib.axes._subplots.AxesSubplot at 0x1cfccea9f10>"
      ]
     },
     "execution_count": 96,
     "metadata": {},
     "output_type": "execute_result"
    },
    {
     "data": {
      "image/png": "[encoded data removed]",
      "text/plain": [
       "<Figure size 432x288 with 2 Axes>"
      ]
     },
     "metadata": {
      "needs_background": "light"
     },
     "output_type": "display_data"
    }
   ],
   "source": [
    "sns.heatmap(combined2.corr())"
   ]
  },
  {
   "cell_type": "code",
   "execution_count": 97,
   "metadata": {
    "scrolled": true
   },
   "outputs": [
    {
     "data": {
      "text/plain": [
       "PRCP                  1.000000\n",
       "OST / SOUTH UNION     0.682243\n",
       "HIDDEN VALLEY         0.631251\n",
       "GREATER THIRD WARD    0.339245\n",
       "FONDREN GARDENS       0.182810\n",
       "                        ...   \n",
       "ADDICKS PARK TEN     -0.110962\n",
       "CARVERDALE           -0.126062\n",
       "BRAESWOOD PLACE            NaN\n",
       "HUNTERWOOD                 NaN\n",
       "NORTHSIDE VILLAGE          NaN\n",
       "Name: PRCP, Length: 96, dtype: float64"
      ]
     },
     "execution_count": 97,
     "metadata": {},
     "output_type": "execute_result"
    }
   ],
   "source": [
    "combined2_corr = combined2.corr()\n",
    "combined2_corr.PRCP.sort_values(ascending=False)"
   ]
  },
  {
   "cell_type": "code",
   "execution_count": 98,
   "metadata": {},
   "outputs": [
    {
     "data": {
      "text/plain": [
       "TOBS                       1.000000\n",
       "TMIN                       0.900311\n",
       "TMAX                       0.869373\n",
       "TAVG                       0.857968\n",
       "HIDDEN VALLEY              0.137259\n",
       "                             ...   \n",
       "EDGEBROOK AREA            -0.232153\n",
       "HARRISBURG / MANCHESTER   -0.286571\n",
       "BRAESWOOD PLACE                 NaN\n",
       "HUNTERWOOD                      NaN\n",
       "NORTHSIDE VILLAGE               NaN\n",
       "Name: TOBS, Length: 96, dtype: float64"
      ]
     },
     "execution_count": 98,
     "metadata": {},
     "output_type": "execute_result"
    }
   ],
   "source": [
    "combined2_corr.TOBS.sort_values(ascending=False)"
   ]
  },
  {
   "cell_type": "markdown",
   "metadata": {},
   "source": [
    "### OST/South Union and Hidden Valley showed the strongest correlation between PRCP and Pothole Reported count with pearson values of 0.68 and 0.63"
   ]
  },
  {
   "cell_type": "markdown",
   "metadata": {},
   "source": [
    "## PreProcessing and Training"
   ]
  },
  {
   "cell_type": "code",
   "execution_count": 120,
   "metadata": {},
   "outputs": [],
   "source": [
    "from sklearn.preprocessing import StandardScaler\n",
    "from sklearn.model_selection import train_test_split\n",
    "scale = StandardScaler()\n",
    "names = combined.columns\n",
    "#scaled_combined = scale.fit_transform(combined)\n",
    "#scaled_combined = pd.DataFrame(scaled_combined, columns=names)\n",
    "y = combined['POTHOLE COUNT'].values\n",
    "X = combined.drop('POTHOLE COUNT', axis=1).values\n",
    "X_train, X_test, y_train, y_test = train_test_split(X,y,test_size = 0.3, random_state=42)"
   ]
  },
  {
   "cell_type": "markdown",
   "metadata": {},
   "source": [
    "### Proceeding ahead for practice as data does not appear correlated. \n",
    "#### No categories so proceeded to standardize the data and split it for training purposes. "
   ]
  },
  {
   "cell_type": "markdown",
   "metadata": {},
   "source": [
    "## Modelling"
   ]
  },
  {
   "cell_type": "code",
   "execution_count": 121,
   "metadata": {},
   "outputs": [],
   "source": [
    "from sklearn.pipeline import make_pipeline\n",
    "from sklearn.linear_model import LinearRegression\n",
    "from sklearn.ensemble import RandomForestRegressor\n",
    "from sklearn.linear_model import LogisticRegression\n",
    "from sklearn.metrics import confusion_matrix, classification_report\n",
    "from sklearn.feature_selection import SelectKBest, f_regression\n",
    "from sklearn.model_selection import train_test_split, cross_validate, GridSearchCV\n",
    "from sklearn.impute import SimpleImputer"
   ]
  },
  {
   "cell_type": "markdown",
   "metadata": {},
   "source": [
    "#### Linear Regression"
   ]
  },
  {
   "cell_type": "code",
   "execution_count": 124,
   "metadata": {},
   "outputs": [],
   "source": [
    "k = [k+1 for k in range(len(X_train[0]))]\n",
    "grid_params = {'selectkbest__k': k}\n",
    "lr_pipe = make_pipeline(SimpleImputer(strategy='mean'),\n",
    "                        StandardScaler(),\n",
    "                        SelectKBest(score_func = f_regression),\n",
    "                        LinearRegression())\n",
    "lr_grid_cv = GridSearchCV(lr_pipe, param_grid=grid_params, cv=5, n_jobs=-1)\n",
    "lr_grid_cv.fit(X_train, y_train)\n",
    "lr_neg_mae = cross_validate(lr_grid_cv.best_estimator_, X_train, y_train, scoring='neg_mean_absolute_error', cv=5, n_jobs=-1)"
   ]
  },
  {
   "cell_type": "code",
   "execution_count": 127,
   "metadata": {},
   "outputs": [
    {
     "data": {
      "text/plain": [
       "(9.435704527988841, 0.26664890290230286)"
      ]
     },
     "execution_count": 127,
     "metadata": {},
     "output_type": "execute_result"
    }
   ],
   "source": [
    "lr_mae_mean = np.mean(-1 * lr_neg_mae['test_score'])\n",
    "lr_mae_std = np.std(-1 * lr_neg_mae['test_score'])\n",
    "lr_mae_mean, lr_mae_std"
   ]
  },
  {
   "cell_type": "markdown",
   "metadata": {},
   "source": [
    "#### Random Forest"
   ]
  },
  {
   "cell_type": "code",
   "execution_count": 130,
   "metadata": {},
   "outputs": [],
   "source": [
    "n_est = [int(n) for n in np.logspace(start=1, stop=3, num=20)]\n",
    "grid_params = {'randomforestregressor__n_estimators': n_est}\n",
    "rf_pipe = make_pipeline(SimpleImputer(strategy='mean'),\n",
    "                        StandardScaler(),\n",
    "                        RandomForestRegressor(random_state=47))\n",
    "rf_grid_cv = GridSearchCV(rf_pipe, param_grid=grid_params, cv= 5, n_jobs=-1)\n",
    "rf_grid_cv.fit(X_train, y_train)\n",
    "rf_neg_mae = cross_validate(rf_grid_cv.best_estimator_, X_train, y_train, \n",
    "                            scoring='neg_mean_absolute_error', cv=5, n_jobs=-1)"
   ]
  },
  {
   "cell_type": "code",
   "execution_count": 131,
   "metadata": {},
   "outputs": [
    {
     "data": {
      "text/plain": [
       "(9.959174432234432, 0.331863424227371)"
      ]
     },
     "execution_count": 131,
     "metadata": {},
     "output_type": "execute_result"
    }
   ],
   "source": [
    "rf_mae_mean = np.mean(-1 * rf_neg_mae['test_score'])\n",
    "rf_mae_std = np.std(-1 * rf_neg_mae['test_score'])\n",
    "rf_mae_mean, rf_mae_std"
   ]
  },
  {
   "cell_type": "markdown",
   "metadata": {},
   "source": [
    "#### Logistic Regression"
   ]
  },
  {
   "cell_type": "code",
   "execution_count": 132,
   "metadata": {},
   "outputs": [
    {
     "name": "stderr",
     "output_type": "stream",
     "text": [
      "C:\\Users\\Pierre\\anaconda3\\lib\\site-packages\\sklearn\\model_selection\\_split.py:670: UserWarning: The least populated class in y has only 1 members, which is less than n_splits=5.\n",
      "  warnings.warn((\"The least populated class in y has only %d\"\n",
      "C:\\Users\\Pierre\\anaconda3\\lib\\site-packages\\sklearn\\linear_model\\_logistic.py:762: ConvergenceWarning: lbfgs failed to converge (status=1):\n",
      "STOP: TOTAL NO. of ITERATIONS REACHED LIMIT.\n",
      "\n",
      "Increase the number of iterations (max_iter) or scale the data as shown in:\n",
      "    https://scikit-learn.org/stable/modules/preprocessing.html\n",
      "Please also refer to the documentation for alternative solver options:\n",
      "    https://scikit-learn.org/stable/modules/linear_model.html#logistic-regression\n",
      "  n_iter_i = _check_optimize_result(\n",
      "C:\\Users\\Pierre\\anaconda3\\lib\\site-packages\\sklearn\\model_selection\\_split.py:670: UserWarning: The least populated class in y has only 1 members, which is less than n_splits=5.\n",
      "  warnings.warn((\"The least populated class in y has only %d\"\n"
     ]
    }
   ],
   "source": [
    "k = [k+1 for k in range(len(X_train[0]))]\n",
    "grid_params = {'selectkbest__k': k}\n",
    "lg_pipe = make_pipeline(SimpleImputer(strategy='mean'),\n",
    "                        StandardScaler(),\n",
    "                        SelectKBest(score_func = f_regression),\n",
    "                        LogisticRegression())\n",
    "lg_grid_cv = GridSearchCV(lg_pipe, param_grid=grid_params, cv=5, n_jobs=-1)\n",
    "lg_grid_cv.fit(X_train, y_train)\n",
    "lg_neg_mae = cross_validate(lg_grid_cv.best_estimator_, X_train, y_train, scoring='neg_mean_absolute_error', cv=5, n_jobs=-1)"
   ]
  },
  {
   "cell_type": "code",
   "execution_count": 133,
   "metadata": {},
   "outputs": [
    {
     "data": {
      "text/plain": [
       "(10.1525014459225, 0.4298962042055948)"
      ]
     },
     "execution_count": 133,
     "metadata": {},
     "output_type": "execute_result"
    }
   ],
   "source": [
    "lg_mae_mean = np.mean(-1 * lg_neg_mae['test_score'])\n",
    "lg_mae_std = np.std(-1 * lg_neg_mae['test_score'])\n",
    "lg_mae_mean, lg_mae_std"
   ]
  },
  {
   "cell_type": "markdown",
   "metadata": {},
   "source": [
    "### Choosing Model"
   ]
  },
  {
   "cell_type": "markdown",
   "metadata": {},
   "source": [
    "With a lower mean and standard deviation, the linear regression model was selected"
   ]
  }
 ],
 "metadata": {
  "kernelspec": {
   "display_name": "Python 3",
   "language": "python",
   "name": "python3"
  },
  "language_info": {
   "codemirror_mode": {
    "name": "ipython",
    "version": 3
   },
   "file_extension": ".py",
   "mimetype": "text/x-python",
   "name": "python",
   "nbconvert_exporter": "python",
   "pygments_lexer": "ipython3",
   "version": "3.8.3"
  },
  "toc": {
   "base_numbering": 1,
   "nav_menu": {},
   "number_sections": true,
   "sideBar": true,
   "skip_h1_title": false,
   "title_cell": "Table of Contents",
   "title_sidebar": "Contents",
   "toc_cell": false,
   "toc_position": {},
   "toc_section_display": true,
   "toc_window_display": true
  },
  "varInspector": {
   "cols": {
    "lenName": 16,
    "lenType": 16,
    "lenVar": 40
   },
   "kernels_config": {
    "python": {
     "delete_cmd_postfix": "",
     "delete_cmd_prefix": "del ",
     "library": "var_list.py",
     "varRefreshCmd": "print(var_dic_list())"
    },
    "r": {
     "delete_cmd_postfix": ") ",
     "delete_cmd_prefix": "rm(",
     "library": "var_list.r",
     "varRefreshCmd": "cat(var_dic_list()) "
    }
   },
   "types_to_exclude": [
    "module",
    "function",
    "builtin_function_or_method",
    "instance",
    "_Feature"
   ],
   "window_display": false
  }
 },
 "nbformat": 4,
 "nbformat_minor": 4
}
