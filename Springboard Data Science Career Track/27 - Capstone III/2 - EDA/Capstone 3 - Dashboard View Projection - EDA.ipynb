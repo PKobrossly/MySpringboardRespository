{
 "cells": [
  {
   "cell_type": "markdown",
   "metadata": {},
   "source": [
    "# Capstone III - Data Wrangling + EDA\n",
    "## Data taken from CSV from export of User Utility Database"
   ]
  },
  {
   "cell_type": "markdown",
   "metadata": {},
   "source": [
    "### Pull in appropriate libraries"
   ]
  },
  {
   "cell_type": "code",
   "execution_count": 79,
   "metadata": {},
   "outputs": [],
   "source": [
    "import numpy as np\n",
    "import pandas as pd\n",
    "from scipy.stats import mode\n",
    "import matplotlib.pyplot as plt\n",
    "import os\n",
    "import seaborn as sns\n",
    "from sklearn.preprocessing import LabelEncoder\n",
    "from sklearn.impute import SimpleImputer\n",
    "from sklearn import preprocessing\n",
    "from sklearn.model_selection import train_test_split\n",
    "from sklearn.linear_model import LogisticRegression\n",
    "from sklearn.ensemble import RandomForestClassifier\n",
    "from sklearn.neighbors import KNeighborsClassifier\n",
    "from sklearn.metrics import accuracy_score, roc_auc_score "
   ]
  },
  {
   "cell_type": "markdown",
   "metadata": {},
   "source": [
    "### Import Activity Data"
   ]
  },
  {
   "cell_type": "code",
   "execution_count": 2,
   "metadata": {},
   "outputs": [],
   "source": [
    "data = pd.read_csv('Dashboard Views.csv',encoding='cp1252')"
   ]
  },
  {
   "cell_type": "code",
   "execution_count": 3,
   "metadata": {},
   "outputs": [
    {
     "data": {
      "text/html": [
       "<div>\n",
       "<style scoped>\n",
       "    .dataframe tbody tr th:only-of-type {\n",
       "        vertical-align: middle;\n",
       "    }\n",
       "\n",
       "    .dataframe tbody tr th {\n",
       "        vertical-align: top;\n",
       "    }\n",
       "\n",
       "    .dataframe thead th {\n",
       "        text-align: right;\n",
       "    }\n",
       "</style>\n",
       "<table border=\"1\" class=\"dataframe\">\n",
       "  <thead>\n",
       "    <tr style=\"text-align: right;\">\n",
       "      <th></th>\n",
       "      <th>Standard Date</th>\n",
       "      <th>Year</th>\n",
       "      <th>Month</th>\n",
       "      <th>Country</th>\n",
       "      <th>Industry</th>\n",
       "      <th>Company</th>\n",
       "      <th>Dashboard Name</th>\n",
       "      <th>Dashboard Page Views</th>\n",
       "      <th>Dashboard Requests</th>\n",
       "      <th>Dashboard View Render Time millisec</th>\n",
       "    </tr>\n",
       "  </thead>\n",
       "  <tbody>\n",
       "    <tr>\n",
       "      <th>0</th>\n",
       "      <td>3/1/2021</td>\n",
       "      <td>2021</td>\n",
       "      <td>3</td>\n",
       "      <td>Australia</td>\n",
       "      <td>Consulting</td>\n",
       "      <td>KPMG</td>\n",
       "      <td>Project Analysis</td>\n",
       "      <td>3</td>\n",
       "      <td>4</td>\n",
       "      <td>30234</td>\n",
       "    </tr>\n",
       "    <tr>\n",
       "      <th>1</th>\n",
       "      <td>3/1/2021</td>\n",
       "      <td>2021</td>\n",
       "      <td>3</td>\n",
       "      <td>Australia</td>\n",
       "      <td>Other</td>\n",
       "      <td>APA Group</td>\n",
       "      <td>Wind Technical Analysis</td>\n",
       "      <td>1</td>\n",
       "      <td>1</td>\n",
       "      <td>5322</td>\n",
       "    </tr>\n",
       "    <tr>\n",
       "      <th>2</th>\n",
       "      <td>3/1/2021</td>\n",
       "      <td>2021</td>\n",
       "      <td>3</td>\n",
       "      <td>Australia</td>\n",
       "      <td>Other</td>\n",
       "      <td>Octopus Investments</td>\n",
       "      <td>Country Analysis</td>\n",
       "      <td>5</td>\n",
       "      <td>4</td>\n",
       "      <td>13380</td>\n",
       "    </tr>\n",
       "    <tr>\n",
       "      <th>3</th>\n",
       "      <td>3/1/2021</td>\n",
       "      <td>2021</td>\n",
       "      <td>3</td>\n",
       "      <td>Australia</td>\n",
       "      <td>Other</td>\n",
       "      <td>SunPower</td>\n",
       "      <td>Country Analysis</td>\n",
       "      <td>3</td>\n",
       "      <td>2</td>\n",
       "      <td>9694</td>\n",
       "    </tr>\n",
       "    <tr>\n",
       "      <th>4</th>\n",
       "      <td>3/1/2021</td>\n",
       "      <td>2021</td>\n",
       "      <td>3</td>\n",
       "      <td>Australia</td>\n",
       "      <td>Other</td>\n",
       "      <td>SunPower</td>\n",
       "      <td>Solar PV Technical Analysis</td>\n",
       "      <td>0</td>\n",
       "      <td>1</td>\n",
       "      <td>4361</td>\n",
       "    </tr>\n",
       "  </tbody>\n",
       "</table>\n",
       "</div>"
      ],
      "text/plain": [
       "  Standard Date  Year  Month    Country    Industry              Company  \\\n",
       "0      3/1/2021  2021      3  Australia  Consulting                 KPMG   \n",
       "1      3/1/2021  2021      3  Australia       Other            APA Group   \n",
       "2      3/1/2021  2021      3  Australia       Other  Octopus Investments   \n",
       "3      3/1/2021  2021      3  Australia       Other             SunPower   \n",
       "4      3/1/2021  2021      3  Australia       Other             SunPower   \n",
       "\n",
       "                Dashboard Name  Dashboard Page Views  Dashboard Requests  \\\n",
       "0             Project Analysis                     3                   4   \n",
       "1      Wind Technical Analysis                     1                   1   \n",
       "2             Country Analysis                     5                   4   \n",
       "3             Country Analysis                     3                   2   \n",
       "4  Solar PV Technical Analysis                     0                   1   \n",
       "\n",
       "   Dashboard View Render Time millisec  \n",
       "0                                30234  \n",
       "1                                 5322  \n",
       "2                                13380  \n",
       "3                                 9694  \n",
       "4                                 4361  "
      ]
     },
     "execution_count": 3,
     "metadata": {},
     "output_type": "execute_result"
    }
   ],
   "source": [
    "data.head()"
   ]
  },
  {
   "cell_type": "markdown",
   "metadata": {},
   "source": [
    "### Check and Prepare Data"
   ]
  },
  {
   "cell_type": "code",
   "execution_count": 4,
   "metadata": {},
   "outputs": [
    {
     "data": {
      "text/plain": [
       "Standard Date                          object\n",
       "Year                                    int64\n",
       "Month                                   int64\n",
       "Country                                object\n",
       "Industry                               object\n",
       "Company                                object\n",
       "Dashboard Name                         object\n",
       "Dashboard Page Views                    int64\n",
       "Dashboard Requests                      int64\n",
       "Dashboard View Render Time millisec     int64\n",
       "dtype: object"
      ]
     },
     "execution_count": 4,
     "metadata": {},
     "output_type": "execute_result"
    }
   ],
   "source": [
    "#Check Datatypes\n",
    "data.dtypes"
   ]
  },
  {
   "cell_type": "code",
   "execution_count": 5,
   "metadata": {},
   "outputs": [
    {
     "data": {
      "text/plain": [
       "array(['3/1/2021', '3/2/2021', '3/3/2021', '3/4/2021', '3/5/2021',\n",
       "       '3/6/2021', '3/7/2021', '3/8/2021', '3/9/2021', '3/10/2021',\n",
       "       '3/11/2021', '3/12/2021', '3/13/2021', '3/14/2021', '3/15/2021',\n",
       "       '3/16/2021', '3/17/2021', '3/18/2021', '3/19/2021', '3/21/2021',\n",
       "       '3/22/2021', '3/23/2021', '3/24/2021', '3/25/2021', '3/26/2021',\n",
       "       '3/27/2021', '3/28/2021', '3/29/2021', '3/30/2021', '3/31/2021',\n",
       "       '4/1/2021', '4/2/2021', '4/4/2021', '4/5/2021', '4/6/2021',\n",
       "       '4/7/2021', '4/8/2021', '4/9/2021', '4/11/2021', '4/12/2021',\n",
       "       '4/13/2021', '4/14/2021', '4/15/2021', '4/16/2021', '4/17/2021',\n",
       "       '4/18/2021', '4/19/2021', '4/20/2021', '4/21/2021', '4/22/2021',\n",
       "       '4/23/2021', '4/24/2021', '4/25/2021', '4/26/2021', '4/27/2021',\n",
       "       '4/28/2021', '4/29/2021', '4/30/2021', '5/1/2021', '5/2/2021',\n",
       "       '5/3/2021', '5/4/2021', '5/5/2021', '5/6/2021', '5/7/2021',\n",
       "       '5/8/2021', '5/10/2021', '5/11/2021', '5/12/2021', '5/13/2021',\n",
       "       '5/14/2021', '5/17/2021', '5/18/2021', '5/19/2021', '5/20/2021',\n",
       "       '5/21/2021', '5/23/2021', '5/24/2021', '5/25/2021', '5/26/2021',\n",
       "       '5/27/2021', '5/28/2021', '5/29/2021', '5/30/2021', '5/31/2021',\n",
       "       '6/1/2021', '6/2/2021', '6/3/2021', '6/4/2021', '6/5/2021',\n",
       "       '6/6/2021', '6/7/2021', '6/8/2021', '6/9/2021', '6/10/2021',\n",
       "       '6/11/2021', '6/14/2021', '6/15/2021', '6/16/2021', '6/17/2021',\n",
       "       '6/18/2021', '6/19/2021', '6/20/2021', '6/21/2021', '6/22/2021',\n",
       "       '6/23/2021', '6/24/2021', '6/25/2021', '6/27/2021', '6/28/2021',\n",
       "       '6/29/2021', '6/30/2021'], dtype=object)"
      ]
     },
     "execution_count": 5,
     "metadata": {},
     "output_type": "execute_result"
    }
   ],
   "source": [
    "#Confirm no string in series\n",
    "data['Standard Date'].unique()"
   ]
  },
  {
   "cell_type": "code",
   "execution_count": 6,
   "metadata": {},
   "outputs": [
    {
     "data": {
      "text/plain": [
       "Standard Date                          datetime64[ns]\n",
       "Year                                            int64\n",
       "Month                                           int64\n",
       "Country                                        object\n",
       "Industry                                       object\n",
       "Company                                        object\n",
       "Dashboard Name                                 object\n",
       "Dashboard Page Views                            int64\n",
       "Dashboard Requests                              int64\n",
       "Dashboard View Render Time millisec             int64\n",
       "dtype: object"
      ]
     },
     "execution_count": 6,
     "metadata": {},
     "output_type": "execute_result"
    }
   ],
   "source": [
    "#Change Standard Date to datetime dtype\n",
    "data['Standard Date'] = pd.to_datetime(data['Standard Date'])\n",
    "data.dtypes"
   ]
  },
  {
   "cell_type": "code",
   "execution_count": 7,
   "metadata": {},
   "outputs": [
    {
     "name": "stdout",
     "output_type": "stream",
     "text": [
      "<class 'pandas.core.frame.DataFrame'>\n",
      "RangeIndex: 2310 entries, 0 to 2309\n",
      "Data columns (total 10 columns):\n",
      " #   Column                               Non-Null Count  Dtype         \n",
      "---  ------                               --------------  -----         \n",
      " 0   Standard Date                        2310 non-null   datetime64[ns]\n",
      " 1   Year                                 2310 non-null   int64         \n",
      " 2   Month                                2310 non-null   int64         \n",
      " 3   Country                              2310 non-null   object        \n",
      " 4   Industry                             2310 non-null   object        \n",
      " 5   Company                              2310 non-null   object        \n",
      " 6   Dashboard Name                       2310 non-null   object        \n",
      " 7   Dashboard Page Views                 2310 non-null   int64         \n",
      " 8   Dashboard Requests                   2310 non-null   int64         \n",
      " 9   Dashboard View Render Time millisec  2310 non-null   int64         \n",
      "dtypes: datetime64[ns](1), int64(5), object(4)\n",
      "memory usage: 180.6+ KB\n"
     ]
    }
   ],
   "source": [
    "#Get info of database\n",
    "data.info()"
   ]
  },
  {
   "cell_type": "code",
   "execution_count": 8,
   "metadata": {},
   "outputs": [
    {
     "data": {
      "text/plain": [
       "Standard Date                          0\n",
       "Year                                   0\n",
       "Month                                  0\n",
       "Country                                0\n",
       "Industry                               0\n",
       "Company                                0\n",
       "Dashboard Name                         0\n",
       "Dashboard Page Views                   0\n",
       "Dashboard Requests                     0\n",
       "Dashboard View Render Time millisec    0\n",
       "dtype: int64"
      ]
     },
     "execution_count": 8,
     "metadata": {},
     "output_type": "execute_result"
    }
   ],
   "source": [
    "#Check for missing values\n",
    "data.isnull().sum()"
   ]
  },
  {
   "cell_type": "code",
   "execution_count": 9,
   "metadata": {},
   "outputs": [
    {
     "name": "stdout",
     "output_type": "stream",
     "text": [
      "Index(['Standard Date', 'Year', 'Month', 'Country', 'Industry', 'Company',\n",
      "       'Dashboard Name', 'Dashboard Page Views', 'Dashboard Requests',\n",
      "       'Dashboard View Render Time millisec'],\n",
      "      dtype='object')\n"
     ]
    },
    {
     "data": {
      "text/plain": [
       "Index(['date', 'year', 'month', 'country', 'industry', 'company', 'dashname',\n",
       "       'views', 'requests', 'rendertime'],\n",
       "      dtype='object')"
      ]
     },
     "execution_count": 9,
     "metadata": {},
     "output_type": "execute_result"
    }
   ],
   "source": [
    "#Change column names for ease\n",
    "columns = data.columns\n",
    "print(columns)\n",
    "new_columns = pd.Series(columns).str.lower()\n",
    "new_columns[0] = 'date'\n",
    "new_columns[6] = 'dashname'\n",
    "new_columns[7] = 'views'\n",
    "new_columns[8] = 'requests'\n",
    "new_columns[9] = 'rendertime'\n",
    "data.columns = new_columns\n",
    "data.columns"
   ]
  },
  {
   "cell_type": "code",
   "execution_count": 10,
   "metadata": {},
   "outputs": [
    {
     "data": {
      "text/plain": [
       "(2310, 10)"
      ]
     },
     "execution_count": 10,
     "metadata": {},
     "output_type": "execute_result"
    }
   ],
   "source": [
    "#check on shape\n",
    "data.shape"
   ]
  },
  {
   "cell_type": "code",
   "execution_count": 11,
   "metadata": {},
   "outputs": [
    {
     "data": {
      "text/html": [
       "<div>\n",
       "<style scoped>\n",
       "    .dataframe tbody tr th:only-of-type {\n",
       "        vertical-align: middle;\n",
       "    }\n",
       "\n",
       "    .dataframe tbody tr th {\n",
       "        vertical-align: top;\n",
       "    }\n",
       "\n",
       "    .dataframe thead th {\n",
       "        text-align: right;\n",
       "    }\n",
       "</style>\n",
       "<table border=\"1\" class=\"dataframe\">\n",
       "  <thead>\n",
       "    <tr style=\"text-align: right;\">\n",
       "      <th></th>\n",
       "      <th>date</th>\n",
       "      <th>year</th>\n",
       "      <th>month</th>\n",
       "      <th>country</th>\n",
       "      <th>industry</th>\n",
       "      <th>company</th>\n",
       "      <th>dashname</th>\n",
       "      <th>views</th>\n",
       "      <th>requests</th>\n",
       "      <th>rendertime</th>\n",
       "    </tr>\n",
       "  </thead>\n",
       "  <tbody>\n",
       "    <tr>\n",
       "      <th>0</th>\n",
       "      <td>2021-03-01</td>\n",
       "      <td>2021</td>\n",
       "      <td>3</td>\n",
       "      <td>Australia</td>\n",
       "      <td>Consulting</td>\n",
       "      <td>KPMG</td>\n",
       "      <td>Project Analysis</td>\n",
       "      <td>3</td>\n",
       "      <td>4</td>\n",
       "      <td>30.234</td>\n",
       "    </tr>\n",
       "    <tr>\n",
       "      <th>1</th>\n",
       "      <td>2021-03-01</td>\n",
       "      <td>2021</td>\n",
       "      <td>3</td>\n",
       "      <td>Australia</td>\n",
       "      <td>Other</td>\n",
       "      <td>APA Group</td>\n",
       "      <td>Wind Technical Analysis</td>\n",
       "      <td>1</td>\n",
       "      <td>1</td>\n",
       "      <td>5.322</td>\n",
       "    </tr>\n",
       "    <tr>\n",
       "      <th>2</th>\n",
       "      <td>2021-03-01</td>\n",
       "      <td>2021</td>\n",
       "      <td>3</td>\n",
       "      <td>Australia</td>\n",
       "      <td>Other</td>\n",
       "      <td>Octopus Investments</td>\n",
       "      <td>Country Analysis</td>\n",
       "      <td>5</td>\n",
       "      <td>4</td>\n",
       "      <td>13.380</td>\n",
       "    </tr>\n",
       "    <tr>\n",
       "      <th>3</th>\n",
       "      <td>2021-03-01</td>\n",
       "      <td>2021</td>\n",
       "      <td>3</td>\n",
       "      <td>Australia</td>\n",
       "      <td>Other</td>\n",
       "      <td>SunPower</td>\n",
       "      <td>Country Analysis</td>\n",
       "      <td>3</td>\n",
       "      <td>2</td>\n",
       "      <td>9.694</td>\n",
       "    </tr>\n",
       "    <tr>\n",
       "      <th>4</th>\n",
       "      <td>2021-03-01</td>\n",
       "      <td>2021</td>\n",
       "      <td>3</td>\n",
       "      <td>Australia</td>\n",
       "      <td>Other</td>\n",
       "      <td>SunPower</td>\n",
       "      <td>Solar PV Technical Analysis</td>\n",
       "      <td>0</td>\n",
       "      <td>1</td>\n",
       "      <td>4.361</td>\n",
       "    </tr>\n",
       "  </tbody>\n",
       "</table>\n",
       "</div>"
      ],
      "text/plain": [
       "        date  year  month    country    industry              company  \\\n",
       "0 2021-03-01  2021      3  Australia  Consulting                 KPMG   \n",
       "1 2021-03-01  2021      3  Australia       Other            APA Group   \n",
       "2 2021-03-01  2021      3  Australia       Other  Octopus Investments   \n",
       "3 2021-03-01  2021      3  Australia       Other             SunPower   \n",
       "4 2021-03-01  2021      3  Australia       Other             SunPower   \n",
       "\n",
       "                      dashname  views  requests  rendertime  \n",
       "0             Project Analysis      3         4      30.234  \n",
       "1      Wind Technical Analysis      1         1       5.322  \n",
       "2             Country Analysis      5         4      13.380  \n",
       "3             Country Analysis      3         2       9.694  \n",
       "4  Solar PV Technical Analysis      0         1       4.361  "
      ]
     },
     "execution_count": 11,
     "metadata": {},
     "output_type": "execute_result"
    }
   ],
   "source": [
    "#Change render time from milliseconds to seconds\n",
    "data.rendertime = data.rendertime / 1000\n",
    "data.head()"
   ]
  },
  {
   "cell_type": "code",
   "execution_count": 12,
   "metadata": {},
   "outputs": [
    {
     "data": {
      "text/html": [
       "<div>\n",
       "<style scoped>\n",
       "    .dataframe tbody tr th:only-of-type {\n",
       "        vertical-align: middle;\n",
       "    }\n",
       "\n",
       "    .dataframe tbody tr th {\n",
       "        vertical-align: top;\n",
       "    }\n",
       "\n",
       "    .dataframe thead th {\n",
       "        text-align: right;\n",
       "    }\n",
       "</style>\n",
       "<table border=\"1\" class=\"dataframe\">\n",
       "  <thead>\n",
       "    <tr style=\"text-align: right;\">\n",
       "      <th></th>\n",
       "      <th>year</th>\n",
       "      <th>month</th>\n",
       "      <th>views</th>\n",
       "      <th>requests</th>\n",
       "      <th>rendertime</th>\n",
       "    </tr>\n",
       "  </thead>\n",
       "  <tbody>\n",
       "    <tr>\n",
       "      <th>count</th>\n",
       "      <td>2310.0</td>\n",
       "      <td>2310.000000</td>\n",
       "      <td>2310.000000</td>\n",
       "      <td>2310.000000</td>\n",
       "      <td>2310.000000</td>\n",
       "    </tr>\n",
       "    <tr>\n",
       "      <th>mean</th>\n",
       "      <td>2021.0</td>\n",
       "      <td>4.356277</td>\n",
       "      <td>2.693939</td>\n",
       "      <td>2.097835</td>\n",
       "      <td>15.583620</td>\n",
       "    </tr>\n",
       "    <tr>\n",
       "      <th>std</th>\n",
       "      <td>0.0</td>\n",
       "      <td>1.160148</td>\n",
       "      <td>5.078450</td>\n",
       "      <td>2.462353</td>\n",
       "      <td>39.256144</td>\n",
       "    </tr>\n",
       "    <tr>\n",
       "      <th>min</th>\n",
       "      <td>2021.0</td>\n",
       "      <td>3.000000</td>\n",
       "      <td>0.000000</td>\n",
       "      <td>0.000000</td>\n",
       "      <td>0.000000</td>\n",
       "    </tr>\n",
       "    <tr>\n",
       "      <th>25%</th>\n",
       "      <td>2021.0</td>\n",
       "      <td>3.000000</td>\n",
       "      <td>0.000000</td>\n",
       "      <td>1.000000</td>\n",
       "      <td>4.371000</td>\n",
       "    </tr>\n",
       "    <tr>\n",
       "      <th>50%</th>\n",
       "      <td>2021.0</td>\n",
       "      <td>4.000000</td>\n",
       "      <td>1.000000</td>\n",
       "      <td>1.000000</td>\n",
       "      <td>7.129500</td>\n",
       "    </tr>\n",
       "    <tr>\n",
       "      <th>75%</th>\n",
       "      <td>2021.0</td>\n",
       "      <td>5.000000</td>\n",
       "      <td>3.000000</td>\n",
       "      <td>2.000000</td>\n",
       "      <td>15.063500</td>\n",
       "    </tr>\n",
       "    <tr>\n",
       "      <th>max</th>\n",
       "      <td>2021.0</td>\n",
       "      <td>6.000000</td>\n",
       "      <td>80.000000</td>\n",
       "      <td>42.000000</td>\n",
       "      <td>841.228000</td>\n",
       "    </tr>\n",
       "  </tbody>\n",
       "</table>\n",
       "</div>"
      ],
      "text/plain": [
       "         year        month        views     requests   rendertime\n",
       "count  2310.0  2310.000000  2310.000000  2310.000000  2310.000000\n",
       "mean   2021.0     4.356277     2.693939     2.097835    15.583620\n",
       "std       0.0     1.160148     5.078450     2.462353    39.256144\n",
       "min    2021.0     3.000000     0.000000     0.000000     0.000000\n",
       "25%    2021.0     3.000000     0.000000     1.000000     4.371000\n",
       "50%    2021.0     4.000000     1.000000     1.000000     7.129500\n",
       "75%    2021.0     5.000000     3.000000     2.000000    15.063500\n",
       "max    2021.0     6.000000    80.000000    42.000000   841.228000"
      ]
     },
     "execution_count": 12,
     "metadata": {},
     "output_type": "execute_result"
    }
   ],
   "source": [
    "data.describe()"
   ]
  },
  {
   "cell_type": "code",
   "execution_count": 13,
   "metadata": {},
   "outputs": [],
   "source": [
    "datapath = '../data'\n",
    "if not os.path.exists(datapath):\n",
    "    os.mkdir(datapath)"
   ]
  },
  {
   "cell_type": "code",
   "execution_count": 14,
   "metadata": {},
   "outputs": [],
   "source": [
    "datapath_dashboards = os.path.join(datapath, 'Dashboard Views_Cleaned.csv')\n",
    "if not os.path.exists(datapath_dashboards):\n",
    "    data.to_csv(datapath_dashboards, index=False)"
   ]
  },
  {
   "cell_type": "markdown",
   "metadata": {},
   "source": [
    "## Exported Data sent to Tableau for some visualization for proof of need for the clustering"
   ]
  },
  {
   "cell_type": "markdown",
   "metadata": {},
   "source": [
    "### Import Analytical Views Data"
   ]
  },
  {
   "cell_type": "code",
   "execution_count": 15,
   "metadata": {},
   "outputs": [],
   "source": [
    "#Pull in Views Data\n",
    "views = pd.read_csv('Analytical Views.csv',encoding='cp1252')"
   ]
  },
  {
   "cell_type": "code",
   "execution_count": 16,
   "metadata": {},
   "outputs": [
    {
     "data": {
      "text/html": [
       "<div>\n",
       "<style scoped>\n",
       "    .dataframe tbody tr th:only-of-type {\n",
       "        vertical-align: middle;\n",
       "    }\n",
       "\n",
       "    .dataframe tbody tr th {\n",
       "        vertical-align: top;\n",
       "    }\n",
       "\n",
       "    .dataframe thead th {\n",
       "        text-align: right;\n",
       "    }\n",
       "</style>\n",
       "<table border=\"1\" class=\"dataframe\">\n",
       "  <thead>\n",
       "    <tr style=\"text-align: right;\">\n",
       "      <th></th>\n",
       "      <th>Company</th>\n",
       "      <th>Industry</th>\n",
       "      <th>Document Name</th>\n",
       "      <th>Analytics Views</th>\n",
       "    </tr>\n",
       "  </thead>\n",
       "  <tbody>\n",
       "    <tr>\n",
       "      <th>0</th>\n",
       "      <td>1832 Asset Management</td>\n",
       "      <td>Buy Side</td>\n",
       "      <td>Africa to see a huge renewable energy boom dri...</td>\n",
       "      <td>2</td>\n",
       "    </tr>\n",
       "    <tr>\n",
       "      <th>1</th>\n",
       "      <td>1832 Asset Management</td>\n",
       "      <td>Buy Side</td>\n",
       "      <td>Apache and Total hit the jackpot for a third t...</td>\n",
       "      <td>1</td>\n",
       "    </tr>\n",
       "    <tr>\n",
       "      <th>2</th>\n",
       "      <td>1832 Asset Management</td>\n",
       "      <td>Buy Side</td>\n",
       "      <td>Are major US shale gas players well-hedged to ...</td>\n",
       "      <td>2</td>\n",
       "    </tr>\n",
       "    <tr>\n",
       "      <th>3</th>\n",
       "      <td>1832 Asset Management</td>\n",
       "      <td>Buy Side</td>\n",
       "      <td>Asia’s offshore wind market to nearly match Eu...</td>\n",
       "      <td>1</td>\n",
       "    </tr>\n",
       "    <tr>\n",
       "      <th>4</th>\n",
       "      <td>1832 Asset Management</td>\n",
       "      <td>Buy Side</td>\n",
       "      <td>Biden’s $2 trillion energy plan paves way for ...</td>\n",
       "      <td>2</td>\n",
       "    </tr>\n",
       "  </tbody>\n",
       "</table>\n",
       "</div>"
      ],
      "text/plain": [
       "                 Company  Industry  \\\n",
       "0  1832 Asset Management  Buy Side   \n",
       "1  1832 Asset Management  Buy Side   \n",
       "2  1832 Asset Management  Buy Side   \n",
       "3  1832 Asset Management  Buy Side   \n",
       "4  1832 Asset Management  Buy Side   \n",
       "\n",
       "                                       Document Name  Analytics Views  \n",
       "0  Africa to see a huge renewable energy boom dri...                2  \n",
       "1  Apache and Total hit the jackpot for a third t...                1  \n",
       "2  Are major US shale gas players well-hedged to ...                2  \n",
       "3  Asia’s offshore wind market to nearly match Eu...                1  \n",
       "4  Biden’s $2 trillion energy plan paves way for ...                2  "
      ]
     },
     "execution_count": 16,
     "metadata": {},
     "output_type": "execute_result"
    }
   ],
   "source": [
    "views.head()"
   ]
  },
  {
   "cell_type": "code",
   "execution_count": 17,
   "metadata": {},
   "outputs": [],
   "source": [
    "views.columns = ['company', 'industry', 'doc_name','views']"
   ]
  },
  {
   "cell_type": "code",
   "execution_count": 18,
   "metadata": {},
   "outputs": [
    {
     "data": {
      "text/plain": [
       "Index(['company', 'industry', 'doc_name', 'views'], dtype='object')"
      ]
     },
     "execution_count": 18,
     "metadata": {},
     "output_type": "execute_result"
    }
   ],
   "source": [
    "views.columns"
   ]
  },
  {
   "cell_type": "code",
   "execution_count": 19,
   "metadata": {},
   "outputs": [
    {
     "data": {
      "text/html": [
       "<div>\n",
       "<style scoped>\n",
       "    .dataframe tbody tr th:only-of-type {\n",
       "        vertical-align: middle;\n",
       "    }\n",
       "\n",
       "    .dataframe tbody tr th {\n",
       "        vertical-align: top;\n",
       "    }\n",
       "\n",
       "    .dataframe thead th {\n",
       "        text-align: right;\n",
       "    }\n",
       "</style>\n",
       "<table border=\"1\" class=\"dataframe\">\n",
       "  <thead>\n",
       "    <tr style=\"text-align: right;\">\n",
       "      <th></th>\n",
       "      <th>views</th>\n",
       "    </tr>\n",
       "  </thead>\n",
       "  <tbody>\n",
       "    <tr>\n",
       "      <th>count</th>\n",
       "      <td>243371.000000</td>\n",
       "    </tr>\n",
       "    <tr>\n",
       "      <th>mean</th>\n",
       "      <td>3.910010</td>\n",
       "    </tr>\n",
       "    <tr>\n",
       "      <th>std</th>\n",
       "      <td>29.493096</td>\n",
       "    </tr>\n",
       "    <tr>\n",
       "      <th>min</th>\n",
       "      <td>1.000000</td>\n",
       "    </tr>\n",
       "    <tr>\n",
       "      <th>25%</th>\n",
       "      <td>1.000000</td>\n",
       "    </tr>\n",
       "    <tr>\n",
       "      <th>50%</th>\n",
       "      <td>2.000000</td>\n",
       "    </tr>\n",
       "    <tr>\n",
       "      <th>75%</th>\n",
       "      <td>4.000000</td>\n",
       "    </tr>\n",
       "    <tr>\n",
       "      <th>max</th>\n",
       "      <td>9292.000000</td>\n",
       "    </tr>\n",
       "  </tbody>\n",
       "</table>\n",
       "</div>"
      ],
      "text/plain": [
       "               views\n",
       "count  243371.000000\n",
       "mean        3.910010\n",
       "std        29.493096\n",
       "min         1.000000\n",
       "25%         1.000000\n",
       "50%         2.000000\n",
       "75%         4.000000\n",
       "max      9292.000000"
      ]
     },
     "execution_count": 19,
     "metadata": {},
     "output_type": "execute_result"
    }
   ],
   "source": [
    "views.describe()"
   ]
  },
  {
   "cell_type": "code",
   "execution_count": 20,
   "metadata": {},
   "outputs": [
    {
     "name": "stdout",
     "output_type": "stream",
     "text": [
      "<class 'pandas.core.frame.DataFrame'>\n",
      "RangeIndex: 243371 entries, 0 to 243370\n",
      "Data columns (total 4 columns):\n",
      " #   Column    Non-Null Count   Dtype \n",
      "---  ------    --------------   ----- \n",
      " 0   company   243371 non-null  object\n",
      " 1   industry  243371 non-null  object\n",
      " 2   doc_name  243371 non-null  object\n",
      " 3   views     243371 non-null  int64 \n",
      "dtypes: int64(1), object(3)\n",
      "memory usage: 7.4+ MB\n"
     ]
    }
   ],
   "source": [
    "views.info()"
   ]
  },
  {
   "cell_type": "code",
   "execution_count": 21,
   "metadata": {},
   "outputs": [
    {
     "data": {
      "text/plain": [
       "company     0\n",
       "industry    0\n",
       "doc_name    0\n",
       "views       0\n",
       "dtype: int64"
      ]
     },
     "execution_count": 21,
     "metadata": {},
     "output_type": "execute_result"
    }
   ],
   "source": [
    "views.isnull().sum()"
   ]
  },
  {
   "cell_type": "markdown",
   "metadata": {},
   "source": [
    "# EDA"
   ]
  },
  {
   "cell_type": "code",
   "execution_count": 23,
   "metadata": {},
   "outputs": [
    {
     "data": {
      "text/html": [
       "<div>\n",
       "<style scoped>\n",
       "    .dataframe tbody tr th:only-of-type {\n",
       "        vertical-align: middle;\n",
       "    }\n",
       "\n",
       "    .dataframe tbody tr th {\n",
       "        vertical-align: top;\n",
       "    }\n",
       "\n",
       "    .dataframe thead th {\n",
       "        text-align: right;\n",
       "    }\n",
       "</style>\n",
       "<table border=\"1\" class=\"dataframe\">\n",
       "  <thead>\n",
       "    <tr style=\"text-align: right;\">\n",
       "      <th></th>\n",
       "      <th>views</th>\n",
       "    </tr>\n",
       "  </thead>\n",
       "  <tbody>\n",
       "    <tr>\n",
       "      <th>count</th>\n",
       "      <td>243371.000000</td>\n",
       "    </tr>\n",
       "    <tr>\n",
       "      <th>mean</th>\n",
       "      <td>3.910010</td>\n",
       "    </tr>\n",
       "    <tr>\n",
       "      <th>std</th>\n",
       "      <td>29.493096</td>\n",
       "    </tr>\n",
       "    <tr>\n",
       "      <th>min</th>\n",
       "      <td>1.000000</td>\n",
       "    </tr>\n",
       "    <tr>\n",
       "      <th>25%</th>\n",
       "      <td>1.000000</td>\n",
       "    </tr>\n",
       "    <tr>\n",
       "      <th>50%</th>\n",
       "      <td>2.000000</td>\n",
       "    </tr>\n",
       "    <tr>\n",
       "      <th>75%</th>\n",
       "      <td>4.000000</td>\n",
       "    </tr>\n",
       "    <tr>\n",
       "      <th>max</th>\n",
       "      <td>9292.000000</td>\n",
       "    </tr>\n",
       "  </tbody>\n",
       "</table>\n",
       "</div>"
      ],
      "text/plain": [
       "               views\n",
       "count  243371.000000\n",
       "mean        3.910010\n",
       "std        29.493096\n",
       "min         1.000000\n",
       "25%         1.000000\n",
       "50%         2.000000\n",
       "75%         4.000000\n",
       "max      9292.000000"
      ]
     },
     "execution_count": 23,
     "metadata": {},
     "output_type": "execute_result"
    }
   ],
   "source": [
    "views.describe()"
   ]
  },
  {
   "cell_type": "code",
   "execution_count": 34,
   "metadata": {},
   "outputs": [
    {
     "data": {
      "image/png": "[encoded data removed]",
      "text/plain": [
       "<Figure size 432x288 with 1 Axes>"
      ]
     },
     "metadata": {
      "needs_background": "light"
     },
     "output_type": "display_data"
    }
   ],
   "source": [
    "plt.boxplot(views.views)\n",
    "plt.show()"
   ]
  },
  {
   "cell_type": "code",
   "execution_count": 35,
   "metadata": {},
   "outputs": [
    {
     "data": {
      "text/html": [
       "<div>\n",
       "<style scoped>\n",
       "    .dataframe tbody tr th:only-of-type {\n",
       "        vertical-align: middle;\n",
       "    }\n",
       "\n",
       "    .dataframe tbody tr th {\n",
       "        vertical-align: top;\n",
       "    }\n",
       "\n",
       "    .dataframe thead th {\n",
       "        text-align: right;\n",
       "    }\n",
       "</style>\n",
       "<table border=\"1\" class=\"dataframe\">\n",
       "  <thead>\n",
       "    <tr style=\"text-align: right;\">\n",
       "      <th></th>\n",
       "      <th>company</th>\n",
       "      <th>industry</th>\n",
       "      <th>doc_name</th>\n",
       "      <th>views</th>\n",
       "    </tr>\n",
       "  </thead>\n",
       "  <tbody>\n",
       "    <tr>\n",
       "      <th>10781</th>\n",
       "      <td>Altera Infrastructure</td>\n",
       "      <td>Oilfield Service Company</td>\n",
       "      <td>Upstream Asset Report</td>\n",
       "      <td>4189</td>\n",
       "    </tr>\n",
       "    <tr>\n",
       "      <th>34686</th>\n",
       "      <td>Boston Consulting Group (BCG)</td>\n",
       "      <td>Consulting</td>\n",
       "      <td>Upstream M&amp;A Trends Report - April 2019</td>\n",
       "      <td>2781</td>\n",
       "    </tr>\n",
       "    <tr>\n",
       "      <th>185865</th>\n",
       "      <td>Schlumberger</td>\n",
       "      <td>Oilfield Service Company</td>\n",
       "      <td>US Rig Monitor: Gas drilling picks up but stil...</td>\n",
       "      <td>5580</td>\n",
       "    </tr>\n",
       "    <tr>\n",
       "      <th>200440</th>\n",
       "      <td>SOCAR Trading</td>\n",
       "      <td>Trading</td>\n",
       "      <td>Mozambique: LNG projects affected by Covid-19,...</td>\n",
       "      <td>2585</td>\n",
       "    </tr>\n",
       "    <tr>\n",
       "      <th>225877</th>\n",
       "      <td>University of Oslo</td>\n",
       "      <td>Research Institute/University</td>\n",
       "      <td>Covid-19 Report - 14 May 2020</td>\n",
       "      <td>9292</td>\n",
       "    </tr>\n",
       "  </tbody>\n",
       "</table>\n",
       "</div>"
      ],
      "text/plain": [
       "                              company                       industry  \\\n",
       "10781           Altera Infrastructure       Oilfield Service Company   \n",
       "34686   Boston Consulting Group (BCG)                     Consulting   \n",
       "185865                   Schlumberger       Oilfield Service Company   \n",
       "200440                  SOCAR Trading                        Trading   \n",
       "225877             University of Oslo  Research Institute/University   \n",
       "\n",
       "                                                 doc_name  views  \n",
       "10781                               Upstream Asset Report   4189  \n",
       "34686             Upstream M&A Trends Report - April 2019   2781  \n",
       "185865  US Rig Monitor: Gas drilling picks up but stil...   5580  \n",
       "200440  Mozambique: LNG projects affected by Covid-19,...   2585  \n",
       "225877                      Covid-19 Report - 14 May 2020   9292  "
      ]
     },
     "execution_count": 35,
     "metadata": {},
     "output_type": "execute_result"
    }
   ],
   "source": [
    "#check on views to see if they're real. They appear real\n",
    "views[views.views >2000]"
   ]
  },
  {
   "cell_type": "code",
   "execution_count": 42,
   "metadata": {},
   "outputs": [
    {
     "data": {
      "text/plain": [
       "Background data on tax models, supporting petroleum fiscal systems presentation                                                  1\n",
       "UKCS Business Development Atlas April 2018                                                                                       1\n",
       "Week 6: US weekly crude stocks data to show ~4 mmbbl build                                                                       1\n",
       "Update: North Dakota’s January output underperforms against our expectations, but positive trend remains in place for 1H 2018    1\n",
       "UKCS Business Development Atlas August 2018                                                                                      1\n",
       "Area 1 LNG (T1&T2), MZ OFS Factsheet                                                                                             1\n",
       "??2021?????????????                                                                                                              1\n",
       "US weekly crude stocks data to show 5.85 million barrels draw                                                                    1\n",
       "North America Service Report – 2Q 2021                                                                                           1\n",
       "South and East Europe Service Report – 2Q 2021                                                                                   1\n",
       "Global Asset Farm-In Opportunities                                                                                               1\n",
       "Keystone XL????????????                                                                                                          1\n",
       "OilMarketCube Partial Update - 1 July 2021                                                                                       1\n",
       "Solar and storage development in APAC                                                                                            1\n",
       "UKCS Business Development Atlas February 2018                                                                                    1\n",
       "Mero (Libra NW), BR OFS Factsheet                                                                                                1\n",
       "??“??”??????????100??/?                                                                                                          1\n",
       "????4??????????????????                                                                                                          1\n",
       "NORWEP Country Report - Nigeria                                                                                                  1\n",
       "The volatile oil market - what's causing the bumps in the road                                                                   1\n",
       "Name: doc_name, dtype: int64"
      ]
     },
     "execution_count": 42,
     "metadata": {},
     "output_type": "execute_result"
    }
   ],
   "source": [
    "#Explore doc_name\n",
    "views.doc_name.value_counts().tail(20)"
   ]
  },
  {
   "cell_type": "code",
   "execution_count": 55,
   "metadata": {},
   "outputs": [
    {
     "data": {
      "text/html": [
       "<div>\n",
       "<style scoped>\n",
       "    .dataframe tbody tr th:only-of-type {\n",
       "        vertical-align: middle;\n",
       "    }\n",
       "\n",
       "    .dataframe tbody tr th {\n",
       "        vertical-align: top;\n",
       "    }\n",
       "\n",
       "    .dataframe thead th {\n",
       "        text-align: right;\n",
       "    }\n",
       "</style>\n",
       "<table border=\"1\" class=\"dataframe\">\n",
       "  <thead>\n",
       "    <tr style=\"text-align: right;\">\n",
       "      <th></th>\n",
       "      <th>company</th>\n",
       "      <th>industry</th>\n",
       "      <th>doc_name</th>\n",
       "      <th>views</th>\n",
       "    </tr>\n",
       "  </thead>\n",
       "  <tbody>\n",
       "    <tr>\n",
       "      <th>386</th>\n",
       "      <td>A.T. Kearney</td>\n",
       "      <td>Consulting</td>\n",
       "      <td>FPSO??——2020?????</td>\n",
       "      <td>1</td>\n",
       "    </tr>\n",
       "    <tr>\n",
       "      <th>1079</th>\n",
       "      <td>A.T. Kearney</td>\n",
       "      <td>Consulting</td>\n",
       "      <td>???????FPSO????????</td>\n",
       "      <td>2</td>\n",
       "    </tr>\n",
       "    <tr>\n",
       "      <th>1080</th>\n",
       "      <td>A.T. Kearney</td>\n",
       "      <td>Consulting</td>\n",
       "      <td>??????????FPSO????</td>\n",
       "      <td>2</td>\n",
       "    </tr>\n",
       "    <tr>\n",
       "      <th>1081</th>\n",
       "      <td>A.T. Kearney</td>\n",
       "      <td>Consulting</td>\n",
       "      <td>?????????????????????</td>\n",
       "      <td>2</td>\n",
       "    </tr>\n",
       "    <tr>\n",
       "      <th>1082</th>\n",
       "      <td>A.T. Kearney</td>\n",
       "      <td>Consulting</td>\n",
       "      <td>????????????????????</td>\n",
       "      <td>2</td>\n",
       "    </tr>\n",
       "    <tr>\n",
       "      <th>...</th>\n",
       "      <td>...</td>\n",
       "      <td>...</td>\n",
       "      <td>...</td>\n",
       "      <td>...</td>\n",
       "    </tr>\n",
       "    <tr>\n",
       "      <th>242577</th>\n",
       "      <td>Zhenhua Oil</td>\n",
       "      <td>Energy Company</td>\n",
       "      <td>????????????????</td>\n",
       "      <td>2</td>\n",
       "    </tr>\n",
       "    <tr>\n",
       "      <th>242578</th>\n",
       "      <td>Zhenhua Oil</td>\n",
       "      <td>Energy Company</td>\n",
       "      <td>????????????2026???</td>\n",
       "      <td>4</td>\n",
       "    </tr>\n",
       "    <tr>\n",
       "      <th>242579</th>\n",
       "      <td>Zhenhua Oil</td>\n",
       "      <td>Energy Company</td>\n",
       "      <td>??“??”??????????100??/?</td>\n",
       "      <td>2</td>\n",
       "    </tr>\n",
       "    <tr>\n",
       "      <th>242580</th>\n",
       "      <td>Zhenhua Oil</td>\n",
       "      <td>Energy Company</td>\n",
       "      <td>??????????????????</td>\n",
       "      <td>2</td>\n",
       "    </tr>\n",
       "    <tr>\n",
       "      <th>242581</th>\n",
       "      <td>Zhenhua Oil</td>\n",
       "      <td>Energy Company</td>\n",
       "      <td>?????????????????</td>\n",
       "      <td>1</td>\n",
       "    </tr>\n",
       "  </tbody>\n",
       "</table>\n",
       "<p>998 rows × 4 columns</p>\n",
       "</div>"
      ],
      "text/plain": [
       "             company        industry                 doc_name  views\n",
       "386     A.T. Kearney      Consulting        FPSO??——2020?????      1\n",
       "1079    A.T. Kearney      Consulting      ???????FPSO????????      2\n",
       "1080    A.T. Kearney      Consulting       ??????????FPSO????      2\n",
       "1081    A.T. Kearney      Consulting    ?????????????????????      2\n",
       "1082    A.T. Kearney      Consulting     ????????????????????      2\n",
       "...              ...             ...                      ...    ...\n",
       "242577   Zhenhua Oil  Energy Company         ????????????????      2\n",
       "242578   Zhenhua Oil  Energy Company      ????????????2026???      4\n",
       "242579   Zhenhua Oil  Energy Company  ??“??”??????????100??/?      2\n",
       "242580   Zhenhua Oil  Energy Company       ??????????????????      2\n",
       "242581   Zhenhua Oil  Energy Company        ?????????????????      1\n",
       "\n",
       "[998 rows x 4 columns]"
      ]
     },
     "execution_count": 55,
     "metadata": {},
     "output_type": "execute_result"
    }
   ],
   "source": [
    "#Find Doc_Name that isn't real\n",
    "views[views['doc_name'].str.find(\"??\") != -1]"
   ]
  },
  {
   "cell_type": "code",
   "execution_count": 56,
   "metadata": {},
   "outputs": [],
   "source": [
    "#Drop Doc Names with ??\n",
    "views2 = views[views['doc_name'].str.find(\"??\") == -1]"
   ]
  },
  {
   "cell_type": "code",
   "execution_count": 59,
   "metadata": {},
   "outputs": [
    {
     "name": "stdout",
     "output_type": "stream",
     "text": [
      "(243371, 4)\n",
      "(242373, 4)\n"
     ]
    }
   ],
   "source": [
    "print(views.shape)\n",
    "print(views2.shape)"
   ]
  },
  {
   "cell_type": "code",
   "execution_count": 60,
   "metadata": {},
   "outputs": [
    {
     "data": {
      "text/plain": [
       "Schlumberger                              4258\n",
       "Baker Hughes                              3416\n",
       "Halliburton                               3081\n",
       "National Oilwell Varco                    2450\n",
       "Barrow, Hanley, Menwhinney and Strauss    2306\n",
       "                                          ... \n",
       "Castle Rock Energy                           1\n",
       "Okea                                         1\n",
       "Stockholm University                         1\n",
       "Avedon Capital Partners                      1\n",
       "ESG Tech                                     1\n",
       "Name: company, Length: 968, dtype: int64"
      ]
     },
     "execution_count": 60,
     "metadata": {},
     "output_type": "execute_result"
    }
   ],
   "source": [
    "#investigate company\n",
    "views2.company.value_counts()\n",
    "##Lots of Service Companies accounting for views"
   ]
  },
  {
   "cell_type": "code",
   "execution_count": 73,
   "metadata": {},
   "outputs": [
    {
     "name": "stdout",
     "output_type": "stream",
     "text": [
      "                                    views\n",
      "industry                                 \n",
      "Banking                            104741\n",
      "Broker                               1384\n",
      "Buy Side                            39091\n",
      "Consulting                          44605\n",
      "Energy Company                     165032\n",
      "Government bodies & Organizations   21477\n",
      "Industrial                          15179\n",
      "Media                                1248\n",
      "Oilfield Service Company           344968\n",
      "Other                              165558\n",
      "Renewable Energy Company             5504\n",
      "Renewable Energy Service Company      613\n",
      "Research Institute/University       22101\n",
      "Trading                             15023\n"
     ]
    },
    {
     "data": {
      "text/plain": [
       "<matplotlib.axes._subplots.AxesSubplot at 0x1fa229b3130>"
      ]
     },
     "execution_count": 73,
     "metadata": {},
     "output_type": "execute_result"
    },
    {
     "data": {
      "image/png": "[encoded data removed]",
      "text/plain": [
       "<Figure size 1080x1080 with 1 Axes>"
      ]
     },
     "metadata": {},
     "output_type": "display_data"
    }
   ],
   "source": [
    "#plot views on pie chart with industry\n",
    "grouped = views2.groupby('industry').agg('sum')\n",
    "print(grouped)\n",
    "grouped.plot.pie(y='views', figsize=(15,15), legend=False)\n"
   ]
  },
  {
   "cell_type": "code",
   "execution_count": 75,
   "metadata": {},
   "outputs": [
    {
     "data": {
      "text/plain": [
       "<matplotlib.axes._subplots.AxesSubplot at 0x1fa22a7aa90>"
      ]
     },
     "execution_count": 75,
     "metadata": {},
     "output_type": "execute_result"
    },
    {
     "data": {
      "image/png": "[encoded data removed]",
      "text/plain": [
       "<Figure size 432x288 with 1 Axes>"
      ]
     },
     "metadata": {
      "needs_background": "light"
     },
     "output_type": "display_data"
    }
   ],
   "source": [
    "#Histogram of views is heavily right tailed because of some very high values\n",
    "views2.plot.hist(views)"
   ]
  },
  {
   "cell_type": "code",
   "execution_count": 77,
   "metadata": {},
   "outputs": [
    {
     "ename": "AttributeError",
     "evalue": "module 'numpy' has no attribute 'mode'",
     "output_type": "error",
     "traceback": [
      "\u001b[1;31m---------------------------------------------------------------------------\u001b[0m",
      "\u001b[1;31mAttributeError\u001b[0m                            Traceback (most recent call last)",
      "\u001b[1;32m<ipython-input-77-4889144c9e5e>\u001b[0m in \u001b[0;36m<module>\u001b[1;34m\u001b[0m\n\u001b[1;32m----> 1\u001b[1;33m \u001b[0mnp\u001b[0m\u001b[1;33m.\u001b[0m\u001b[0mmode\u001b[0m\u001b[1;33m(\u001b[0m\u001b[0mviews2\u001b[0m\u001b[1;33m.\u001b[0m\u001b[0mviews\u001b[0m\u001b[1;33m)\u001b[0m\u001b[1;33m\u001b[0m\u001b[1;33m\u001b[0m\u001b[0m\n\u001b[0m",
      "\u001b[1;32m~\\anaconda3\\lib\\site-packages\\numpy\\__init__.py\u001b[0m in \u001b[0;36m__getattr__\u001b[1;34m(attr)\u001b[0m\n\u001b[0;32m    217\u001b[0m                 \u001b[1;32mreturn\u001b[0m \u001b[0mTester\u001b[0m\u001b[1;33m\u001b[0m\u001b[1;33m\u001b[0m\u001b[0m\n\u001b[0;32m    218\u001b[0m             \u001b[1;32melse\u001b[0m\u001b[1;33m:\u001b[0m\u001b[1;33m\u001b[0m\u001b[1;33m\u001b[0m\u001b[0m\n\u001b[1;32m--> 219\u001b[1;33m                 raise AttributeError(\"module {!r} has no attribute \"\n\u001b[0m\u001b[0;32m    220\u001b[0m                                      \"{!r}\".format(__name__, attr))\n\u001b[0;32m    221\u001b[0m \u001b[1;33m\u001b[0m\u001b[0m\n",
      "\u001b[1;31mAttributeError\u001b[0m: module 'numpy' has no attribute 'mode'"
     ]
    }
   ],
   "source": [
    "np.mode(views2.views)"
   ]
  },
  {
   "cell_type": "code",
   "execution_count": 81,
   "metadata": {},
   "outputs": [
    {
     "data": {
      "text/plain": [
       "0    1\n",
       "dtype: int64"
      ]
     },
     "execution_count": 81,
     "metadata": {},
     "output_type": "execute_result"
    }
   ],
   "source": [
    "#most are viewed one time with the average being 4\n",
    "views2.views.mode()"
   ]
  },
  {
   "cell_type": "code",
   "execution_count": 82,
   "metadata": {},
   "outputs": [
    {
     "data": {
      "text/plain": [
       "<seaborn.axisgrid.PairGrid at 0x1fa22ac0670>"
      ]
     },
     "execution_count": 82,
     "metadata": {},
     "output_type": "execute_result"
    },
    {
     "data": {
      "image/png": "[encoded data removed]",
      "text/plain": [
       "<Figure size 180x180 with 2 Axes>"
      ]
     },
     "metadata": {
      "needs_background": "light"
     },
     "output_type": "display_data"
    }
   ],
   "source": [
    "sns.pairplot(views2)"
   ]
  },
  {
   "cell_type": "code",
   "execution_count": null,
   "metadata": {},
   "outputs": [],
   "source": []
  }
 ],
 "metadata": {
  "kernelspec": {
   "display_name": "Python 3",
   "language": "python",
   "name": "python3"
  },
  "language_info": {
   "codemirror_mode": {
    "name": "ipython",
    "version": 3
   },
   "file_extension": ".py",
   "mimetype": "text/x-python",
   "name": "python",
   "nbconvert_exporter": "python",
   "pygments_lexer": "ipython3",
   "version": "3.8.3"
  }
 },
 "nbformat": 4,
 "nbformat_minor": 4
}
