{
 "cells": [
  {
   "cell_type": "markdown",
   "metadata": {},
   "source": [
    "# Capstone III - Data Wrangling\n",
    "## Data taken from CSV from export of User Utility Database"
   ]
  },
  {
   "cell_type": "markdown",
   "metadata": {},
   "source": [
    "### Pull in appropriate libraries"
   ]
  },
  {
   "cell_type": "code",
   "execution_count": 1,
   "metadata": {},
   "outputs": [],
   "source": [
    "import numpy as np\n",
    "import pandas as pd\n",
    "from scipy.stats import mode\n",
    "import os\n",
    "import seaborn as sns\n",
    "from sklearn.preprocessing import LabelEncoder\n",
    "from sklearn.impute import SimpleImputer\n",
    "from sklearn import preprocessing\n",
    "from sklearn.model_selection import train_test_split\n",
    "from sklearn.linear_model import LogisticRegression\n",
    "from sklearn.ensemble import RandomForestClassifier\n",
    "from sklearn.neighbors import KNeighborsClassifier\n",
    "from sklearn.metrics import accuracy_score, roc_auc_score "
   ]
  },
  {
   "cell_type": "markdown",
   "metadata": {},
   "source": [
    "### Import Activity Data"
   ]
  },
  {
   "cell_type": "code",
   "execution_count": 2,
   "metadata": {},
   "outputs": [],
   "source": [
    "data = pd.read_csv('Dashboard Views.csv',encoding='cp1252')"
   ]
  },
  {
   "cell_type": "code",
   "execution_count": 3,
   "metadata": {},
   "outputs": [
    {
     "data": {
      "text/html": [
       "<div>\n",
       "<style scoped>\n",
       "    .dataframe tbody tr th:only-of-type {\n",
       "        vertical-align: middle;\n",
       "    }\n",
       "\n",
       "    .dataframe tbody tr th {\n",
       "        vertical-align: top;\n",
       "    }\n",
       "\n",
       "    .dataframe thead th {\n",
       "        text-align: right;\n",
       "    }\n",
       "</style>\n",
       "<table border=\"1\" class=\"dataframe\">\n",
       "  <thead>\n",
       "    <tr style=\"text-align: right;\">\n",
       "      <th></th>\n",
       "      <th>Standard Date</th>\n",
       "      <th>Year</th>\n",
       "      <th>Month</th>\n",
       "      <th>Country</th>\n",
       "      <th>Industry</th>\n",
       "      <th>Company</th>\n",
       "      <th>Dashboard Name</th>\n",
       "      <th>Dashboard Page Views</th>\n",
       "      <th>Dashboard Requests</th>\n",
       "      <th>Dashboard View Render Time millisec</th>\n",
       "    </tr>\n",
       "  </thead>\n",
       "  <tbody>\n",
       "    <tr>\n",
       "      <th>0</th>\n",
       "      <td>3/1/2021</td>\n",
       "      <td>2021</td>\n",
       "      <td>3</td>\n",
       "      <td>Australia</td>\n",
       "      <td>Consulting</td>\n",
       "      <td>KPMG</td>\n",
       "      <td>Project Analysis</td>\n",
       "      <td>3</td>\n",
       "      <td>4</td>\n",
       "      <td>30234</td>\n",
       "    </tr>\n",
       "    <tr>\n",
       "      <th>1</th>\n",
       "      <td>3/1/2021</td>\n",
       "      <td>2021</td>\n",
       "      <td>3</td>\n",
       "      <td>Australia</td>\n",
       "      <td>Other</td>\n",
       "      <td>APA Group</td>\n",
       "      <td>Wind Technical Analysis</td>\n",
       "      <td>1</td>\n",
       "      <td>1</td>\n",
       "      <td>5322</td>\n",
       "    </tr>\n",
       "    <tr>\n",
       "      <th>2</th>\n",
       "      <td>3/1/2021</td>\n",
       "      <td>2021</td>\n",
       "      <td>3</td>\n",
       "      <td>Australia</td>\n",
       "      <td>Other</td>\n",
       "      <td>Octopus Investments</td>\n",
       "      <td>Country Analysis</td>\n",
       "      <td>5</td>\n",
       "      <td>4</td>\n",
       "      <td>13380</td>\n",
       "    </tr>\n",
       "    <tr>\n",
       "      <th>3</th>\n",
       "      <td>3/1/2021</td>\n",
       "      <td>2021</td>\n",
       "      <td>3</td>\n",
       "      <td>Australia</td>\n",
       "      <td>Other</td>\n",
       "      <td>SunPower</td>\n",
       "      <td>Country Analysis</td>\n",
       "      <td>3</td>\n",
       "      <td>2</td>\n",
       "      <td>9694</td>\n",
       "    </tr>\n",
       "    <tr>\n",
       "      <th>4</th>\n",
       "      <td>3/1/2021</td>\n",
       "      <td>2021</td>\n",
       "      <td>3</td>\n",
       "      <td>Australia</td>\n",
       "      <td>Other</td>\n",
       "      <td>SunPower</td>\n",
       "      <td>Solar PV Technical Analysis</td>\n",
       "      <td>0</td>\n",
       "      <td>1</td>\n",
       "      <td>4361</td>\n",
       "    </tr>\n",
       "  </tbody>\n",
       "</table>\n",
       "</div>"
      ],
      "text/plain": [
       "  Standard Date  Year  Month    Country    Industry              Company  \\\n",
       "0      3/1/2021  2021      3  Australia  Consulting                 KPMG   \n",
       "1      3/1/2021  2021      3  Australia       Other            APA Group   \n",
       "2      3/1/2021  2021      3  Australia       Other  Octopus Investments   \n",
       "3      3/1/2021  2021      3  Australia       Other             SunPower   \n",
       "4      3/1/2021  2021      3  Australia       Other             SunPower   \n",
       "\n",
       "                Dashboard Name  Dashboard Page Views  Dashboard Requests  \\\n",
       "0             Project Analysis                     3                   4   \n",
       "1      Wind Technical Analysis                     1                   1   \n",
       "2             Country Analysis                     5                   4   \n",
       "3             Country Analysis                     3                   2   \n",
       "4  Solar PV Technical Analysis                     0                   1   \n",
       "\n",
       "   Dashboard View Render Time millisec  \n",
       "0                                30234  \n",
       "1                                 5322  \n",
       "2                                13380  \n",
       "3                                 9694  \n",
       "4                                 4361  "
      ]
     },
     "execution_count": 3,
     "metadata": {},
     "output_type": "execute_result"
    }
   ],
   "source": [
    "data.head()"
   ]
  },
  {
   "cell_type": "markdown",
   "metadata": {},
   "source": [
    "### Check and Prepare Data"
   ]
  },
  {
   "cell_type": "code",
   "execution_count": 4,
   "metadata": {},
   "outputs": [
    {
     "data": {
      "text/plain": [
       "Standard Date                          object\n",
       "Year                                    int64\n",
       "Month                                   int64\n",
       "Country                                object\n",
       "Industry                               object\n",
       "Company                                object\n",
       "Dashboard Name                         object\n",
       "Dashboard Page Views                    int64\n",
       "Dashboard Requests                      int64\n",
       "Dashboard View Render Time millisec     int64\n",
       "dtype: object"
      ]
     },
     "execution_count": 4,
     "metadata": {},
     "output_type": "execute_result"
    }
   ],
   "source": [
    "#Check Datatypes\n",
    "data.dtypes"
   ]
  },
  {
   "cell_type": "code",
   "execution_count": 5,
   "metadata": {},
   "outputs": [
    {
     "data": {
      "text/plain": [
       "array(['3/1/2021', '3/2/2021', '3/3/2021', '3/4/2021', '3/5/2021',\n",
       "       '3/6/2021', '3/7/2021', '3/8/2021', '3/9/2021', '3/10/2021',\n",
       "       '3/11/2021', '3/12/2021', '3/13/2021', '3/14/2021', '3/15/2021',\n",
       "       '3/16/2021', '3/17/2021', '3/18/2021', '3/19/2021', '3/21/2021',\n",
       "       '3/22/2021', '3/23/2021', '3/24/2021', '3/25/2021', '3/26/2021',\n",
       "       '3/27/2021', '3/28/2021', '3/29/2021', '3/30/2021', '3/31/2021',\n",
       "       '4/1/2021', '4/2/2021', '4/4/2021', '4/5/2021', '4/6/2021',\n",
       "       '4/7/2021', '4/8/2021', '4/9/2021', '4/11/2021', '4/12/2021',\n",
       "       '4/13/2021', '4/14/2021', '4/15/2021', '4/16/2021', '4/17/2021',\n",
       "       '4/18/2021', '4/19/2021', '4/20/2021', '4/21/2021', '4/22/2021',\n",
       "       '4/23/2021', '4/24/2021', '4/25/2021', '4/26/2021', '4/27/2021',\n",
       "       '4/28/2021', '4/29/2021', '4/30/2021', '5/1/2021', '5/2/2021',\n",
       "       '5/3/2021', '5/4/2021', '5/5/2021', '5/6/2021', '5/7/2021',\n",
       "       '5/8/2021', '5/10/2021', '5/11/2021', '5/12/2021', '5/13/2021',\n",
       "       '5/14/2021', '5/17/2021', '5/18/2021', '5/19/2021', '5/20/2021',\n",
       "       '5/21/2021', '5/23/2021', '5/24/2021', '5/25/2021', '5/26/2021',\n",
       "       '5/27/2021', '5/28/2021', '5/29/2021', '5/30/2021', '5/31/2021',\n",
       "       '6/1/2021', '6/2/2021', '6/3/2021', '6/4/2021', '6/5/2021',\n",
       "       '6/6/2021', '6/7/2021', '6/8/2021', '6/9/2021', '6/10/2021',\n",
       "       '6/11/2021', '6/14/2021', '6/15/2021', '6/16/2021', '6/17/2021',\n",
       "       '6/18/2021', '6/19/2021', '6/20/2021', '6/21/2021', '6/22/2021',\n",
       "       '6/23/2021', '6/24/2021', '6/25/2021', '6/27/2021', '6/28/2021',\n",
       "       '6/29/2021', '6/30/2021'], dtype=object)"
      ]
     },
     "execution_count": 5,
     "metadata": {},
     "output_type": "execute_result"
    }
   ],
   "source": [
    "#Confirm no string in series\n",
    "data['Standard Date'].unique()"
   ]
  },
  {
   "cell_type": "code",
   "execution_count": 6,
   "metadata": {},
   "outputs": [
    {
     "data": {
      "text/plain": [
       "Standard Date                          datetime64[ns]\n",
       "Year                                            int64\n",
       "Month                                           int64\n",
       "Country                                        object\n",
       "Industry                                       object\n",
       "Company                                        object\n",
       "Dashboard Name                                 object\n",
       "Dashboard Page Views                            int64\n",
       "Dashboard Requests                              int64\n",
       "Dashboard View Render Time millisec             int64\n",
       "dtype: object"
      ]
     },
     "execution_count": 6,
     "metadata": {},
     "output_type": "execute_result"
    }
   ],
   "source": [
    "#Change Standard Date to datetime dtype\n",
    "data['Standard Date'] = pd.to_datetime(data['Standard Date'])\n",
    "data.dtypes"
   ]
  },
  {
   "cell_type": "code",
   "execution_count": 7,
   "metadata": {},
   "outputs": [
    {
     "name": "stdout",
     "output_type": "stream",
     "text": [
      "<class 'pandas.core.frame.DataFrame'>\n",
      "RangeIndex: 2310 entries, 0 to 2309\n",
      "Data columns (total 10 columns):\n",
      " #   Column                               Non-Null Count  Dtype         \n",
      "---  ------                               --------------  -----         \n",
      " 0   Standard Date                        2310 non-null   datetime64[ns]\n",
      " 1   Year                                 2310 non-null   int64         \n",
      " 2   Month                                2310 non-null   int64         \n",
      " 3   Country                              2310 non-null   object        \n",
      " 4   Industry                             2310 non-null   object        \n",
      " 5   Company                              2310 non-null   object        \n",
      " 6   Dashboard Name                       2310 non-null   object        \n",
      " 7   Dashboard Page Views                 2310 non-null   int64         \n",
      " 8   Dashboard Requests                   2310 non-null   int64         \n",
      " 9   Dashboard View Render Time millisec  2310 non-null   int64         \n",
      "dtypes: datetime64[ns](1), int64(5), object(4)\n",
      "memory usage: 180.6+ KB\n"
     ]
    }
   ],
   "source": [
    "#Get info of database\n",
    "data.info()"
   ]
  },
  {
   "cell_type": "code",
   "execution_count": 8,
   "metadata": {},
   "outputs": [
    {
     "data": {
      "text/plain": [
       "Standard Date                          0\n",
       "Year                                   0\n",
       "Month                                  0\n",
       "Country                                0\n",
       "Industry                               0\n",
       "Company                                0\n",
       "Dashboard Name                         0\n",
       "Dashboard Page Views                   0\n",
       "Dashboard Requests                     0\n",
       "Dashboard View Render Time millisec    0\n",
       "dtype: int64"
      ]
     },
     "execution_count": 8,
     "metadata": {},
     "output_type": "execute_result"
    }
   ],
   "source": [
    "#Check for missing values\n",
    "data.isnull().sum()"
   ]
  },
  {
   "cell_type": "code",
   "execution_count": 9,
   "metadata": {},
   "outputs": [
    {
     "name": "stdout",
     "output_type": "stream",
     "text": [
      "Index(['Standard Date', 'Year', 'Month', 'Country', 'Industry', 'Company',\n",
      "       'Dashboard Name', 'Dashboard Page Views', 'Dashboard Requests',\n",
      "       'Dashboard View Render Time millisec'],\n",
      "      dtype='object')\n"
     ]
    },
    {
     "data": {
      "text/plain": [
       "Index(['date', 'year', 'month', 'country', 'industry', 'company', 'dashname',\n",
       "       'views', 'requests', 'rendertime'],\n",
       "      dtype='object')"
      ]
     },
     "execution_count": 9,
     "metadata": {},
     "output_type": "execute_result"
    }
   ],
   "source": [
    "#Change column names for ease\n",
    "columns = data.columns\n",
    "print(columns)\n",
    "new_columns = pd.Series(columns).str.lower()\n",
    "new_columns[0] = 'date'\n",
    "new_columns[6] = 'dashname'\n",
    "new_columns[7] = 'views'\n",
    "new_columns[8] = 'requests'\n",
    "new_columns[9] = 'rendertime'\n",
    "data.columns = new_columns\n",
    "data.columns"
   ]
  },
  {
   "cell_type": "code",
   "execution_count": 10,
   "metadata": {},
   "outputs": [
    {
     "data": {
      "text/plain": [
       "(2310, 10)"
      ]
     },
     "execution_count": 10,
     "metadata": {},
     "output_type": "execute_result"
    }
   ],
   "source": [
    "#check on shape\n",
    "data.shape"
   ]
  },
  {
   "cell_type": "code",
   "execution_count": 11,
   "metadata": {},
   "outputs": [
    {
     "data": {
      "text/html": [
       "<div>\n",
       "<style scoped>\n",
       "    .dataframe tbody tr th:only-of-type {\n",
       "        vertical-align: middle;\n",
       "    }\n",
       "\n",
       "    .dataframe tbody tr th {\n",
       "        vertical-align: top;\n",
       "    }\n",
       "\n",
       "    .dataframe thead th {\n",
       "        text-align: right;\n",
       "    }\n",
       "</style>\n",
       "<table border=\"1\" class=\"dataframe\">\n",
       "  <thead>\n",
       "    <tr style=\"text-align: right;\">\n",
       "      <th></th>\n",
       "      <th>date</th>\n",
       "      <th>year</th>\n",
       "      <th>month</th>\n",
       "      <th>country</th>\n",
       "      <th>industry</th>\n",
       "      <th>company</th>\n",
       "      <th>dashname</th>\n",
       "      <th>views</th>\n",
       "      <th>requests</th>\n",
       "      <th>rendertime</th>\n",
       "    </tr>\n",
       "  </thead>\n",
       "  <tbody>\n",
       "    <tr>\n",
       "      <th>0</th>\n",
       "      <td>2021-03-01</td>\n",
       "      <td>2021</td>\n",
       "      <td>3</td>\n",
       "      <td>Australia</td>\n",
       "      <td>Consulting</td>\n",
       "      <td>KPMG</td>\n",
       "      <td>Project Analysis</td>\n",
       "      <td>3</td>\n",
       "      <td>4</td>\n",
       "      <td>30.234</td>\n",
       "    </tr>\n",
       "    <tr>\n",
       "      <th>1</th>\n",
       "      <td>2021-03-01</td>\n",
       "      <td>2021</td>\n",
       "      <td>3</td>\n",
       "      <td>Australia</td>\n",
       "      <td>Other</td>\n",
       "      <td>APA Group</td>\n",
       "      <td>Wind Technical Analysis</td>\n",
       "      <td>1</td>\n",
       "      <td>1</td>\n",
       "      <td>5.322</td>\n",
       "    </tr>\n",
       "    <tr>\n",
       "      <th>2</th>\n",
       "      <td>2021-03-01</td>\n",
       "      <td>2021</td>\n",
       "      <td>3</td>\n",
       "      <td>Australia</td>\n",
       "      <td>Other</td>\n",
       "      <td>Octopus Investments</td>\n",
       "      <td>Country Analysis</td>\n",
       "      <td>5</td>\n",
       "      <td>4</td>\n",
       "      <td>13.380</td>\n",
       "    </tr>\n",
       "    <tr>\n",
       "      <th>3</th>\n",
       "      <td>2021-03-01</td>\n",
       "      <td>2021</td>\n",
       "      <td>3</td>\n",
       "      <td>Australia</td>\n",
       "      <td>Other</td>\n",
       "      <td>SunPower</td>\n",
       "      <td>Country Analysis</td>\n",
       "      <td>3</td>\n",
       "      <td>2</td>\n",
       "      <td>9.694</td>\n",
       "    </tr>\n",
       "    <tr>\n",
       "      <th>4</th>\n",
       "      <td>2021-03-01</td>\n",
       "      <td>2021</td>\n",
       "      <td>3</td>\n",
       "      <td>Australia</td>\n",
       "      <td>Other</td>\n",
       "      <td>SunPower</td>\n",
       "      <td>Solar PV Technical Analysis</td>\n",
       "      <td>0</td>\n",
       "      <td>1</td>\n",
       "      <td>4.361</td>\n",
       "    </tr>\n",
       "  </tbody>\n",
       "</table>\n",
       "</div>"
      ],
      "text/plain": [
       "        date  year  month    country    industry              company  \\\n",
       "0 2021-03-01  2021      3  Australia  Consulting                 KPMG   \n",
       "1 2021-03-01  2021      3  Australia       Other            APA Group   \n",
       "2 2021-03-01  2021      3  Australia       Other  Octopus Investments   \n",
       "3 2021-03-01  2021      3  Australia       Other             SunPower   \n",
       "4 2021-03-01  2021      3  Australia       Other             SunPower   \n",
       "\n",
       "                      dashname  views  requests  rendertime  \n",
       "0             Project Analysis      3         4      30.234  \n",
       "1      Wind Technical Analysis      1         1       5.322  \n",
       "2             Country Analysis      5         4      13.380  \n",
       "3             Country Analysis      3         2       9.694  \n",
       "4  Solar PV Technical Analysis      0         1       4.361  "
      ]
     },
     "execution_count": 11,
     "metadata": {},
     "output_type": "execute_result"
    }
   ],
   "source": [
    "#Change render time from milliseconds to seconds\n",
    "data.rendertime = data.rendertime / 1000\n",
    "data.head()"
   ]
  },
  {
   "cell_type": "code",
   "execution_count": 12,
   "metadata": {},
   "outputs": [
    {
     "data": {
      "text/html": [
       "<div>\n",
       "<style scoped>\n",
       "    .dataframe tbody tr th:only-of-type {\n",
       "        vertical-align: middle;\n",
       "    }\n",
       "\n",
       "    .dataframe tbody tr th {\n",
       "        vertical-align: top;\n",
       "    }\n",
       "\n",
       "    .dataframe thead th {\n",
       "        text-align: right;\n",
       "    }\n",
       "</style>\n",
       "<table border=\"1\" class=\"dataframe\">\n",
       "  <thead>\n",
       "    <tr style=\"text-align: right;\">\n",
       "      <th></th>\n",
       "      <th>year</th>\n",
       "      <th>month</th>\n",
       "      <th>views</th>\n",
       "      <th>requests</th>\n",
       "      <th>rendertime</th>\n",
       "    </tr>\n",
       "  </thead>\n",
       "  <tbody>\n",
       "    <tr>\n",
       "      <th>count</th>\n",
       "      <td>2310.0</td>\n",
       "      <td>2310.000000</td>\n",
       "      <td>2310.000000</td>\n",
       "      <td>2310.000000</td>\n",
       "      <td>2310.000000</td>\n",
       "    </tr>\n",
       "    <tr>\n",
       "      <th>mean</th>\n",
       "      <td>2021.0</td>\n",
       "      <td>4.356277</td>\n",
       "      <td>2.693939</td>\n",
       "      <td>2.097835</td>\n",
       "      <td>15.583620</td>\n",
       "    </tr>\n",
       "    <tr>\n",
       "      <th>std</th>\n",
       "      <td>0.0</td>\n",
       "      <td>1.160148</td>\n",
       "      <td>5.078450</td>\n",
       "      <td>2.462353</td>\n",
       "      <td>39.256144</td>\n",
       "    </tr>\n",
       "    <tr>\n",
       "      <th>min</th>\n",
       "      <td>2021.0</td>\n",
       "      <td>3.000000</td>\n",
       "      <td>0.000000</td>\n",
       "      <td>0.000000</td>\n",
       "      <td>0.000000</td>\n",
       "    </tr>\n",
       "    <tr>\n",
       "      <th>25%</th>\n",
       "      <td>2021.0</td>\n",
       "      <td>3.000000</td>\n",
       "      <td>0.000000</td>\n",
       "      <td>1.000000</td>\n",
       "      <td>4.371000</td>\n",
       "    </tr>\n",
       "    <tr>\n",
       "      <th>50%</th>\n",
       "      <td>2021.0</td>\n",
       "      <td>4.000000</td>\n",
       "      <td>1.000000</td>\n",
       "      <td>1.000000</td>\n",
       "      <td>7.129500</td>\n",
       "    </tr>\n",
       "    <tr>\n",
       "      <th>75%</th>\n",
       "      <td>2021.0</td>\n",
       "      <td>5.000000</td>\n",
       "      <td>3.000000</td>\n",
       "      <td>2.000000</td>\n",
       "      <td>15.063500</td>\n",
       "    </tr>\n",
       "    <tr>\n",
       "      <th>max</th>\n",
       "      <td>2021.0</td>\n",
       "      <td>6.000000</td>\n",
       "      <td>80.000000</td>\n",
       "      <td>42.000000</td>\n",
       "      <td>841.228000</td>\n",
       "    </tr>\n",
       "  </tbody>\n",
       "</table>\n",
       "</div>"
      ],
      "text/plain": [
       "         year        month        views     requests   rendertime\n",
       "count  2310.0  2310.000000  2310.000000  2310.000000  2310.000000\n",
       "mean   2021.0     4.356277     2.693939     2.097835    15.583620\n",
       "std       0.0     1.160148     5.078450     2.462353    39.256144\n",
       "min    2021.0     3.000000     0.000000     0.000000     0.000000\n",
       "25%    2021.0     3.000000     0.000000     1.000000     4.371000\n",
       "50%    2021.0     4.000000     1.000000     1.000000     7.129500\n",
       "75%    2021.0     5.000000     3.000000     2.000000    15.063500\n",
       "max    2021.0     6.000000    80.000000    42.000000   841.228000"
      ]
     },
     "execution_count": 12,
     "metadata": {},
     "output_type": "execute_result"
    }
   ],
   "source": [
    "data.describe()"
   ]
  },
  {
   "cell_type": "code",
   "execution_count": 13,
   "metadata": {},
   "outputs": [],
   "source": [
    "datapath = '../data'\n",
    "if not os.path.exists(datapath):\n",
    "    os.mkdir(datapath)"
   ]
  },
  {
   "cell_type": "code",
   "execution_count": 14,
   "metadata": {},
   "outputs": [],
   "source": [
    "datapath_dashboards = os.path.join(datapath, 'Dashboard Views_Cleaned.csv')\n",
    "if not os.path.exists(datapath_dashboards):\n",
    "    data.to_csv(datapath_dashboards, index=False)"
   ]
  },
  {
   "cell_type": "markdown",
   "metadata": {},
   "source": [
    "## Exported Data sent to Tableau for some visualization for proof of need for the clustering"
   ]
  },
  {
   "cell_type": "markdown",
   "metadata": {},
   "source": [
    "### Import Analytical Views Data"
   ]
  },
  {
   "cell_type": "code",
   "execution_count": 15,
   "metadata": {},
   "outputs": [],
   "source": [
    "#Pull in Views Data\n",
    "views = pd.read_csv('Analytical Views.csv',encoding='cp1252')"
   ]
  },
  {
   "cell_type": "code",
   "execution_count": 16,
   "metadata": {},
   "outputs": [
    {
     "data": {
      "text/html": [
       "<div>\n",
       "<style scoped>\n",
       "    .dataframe tbody tr th:only-of-type {\n",
       "        vertical-align: middle;\n",
       "    }\n",
       "\n",
       "    .dataframe tbody tr th {\n",
       "        vertical-align: top;\n",
       "    }\n",
       "\n",
       "    .dataframe thead th {\n",
       "        text-align: right;\n",
       "    }\n",
       "</style>\n",
       "<table border=\"1\" class=\"dataframe\">\n",
       "  <thead>\n",
       "    <tr style=\"text-align: right;\">\n",
       "      <th></th>\n",
       "      <th>Company</th>\n",
       "      <th>Industry</th>\n",
       "      <th>Document Name</th>\n",
       "      <th>Analytics Views</th>\n",
       "    </tr>\n",
       "  </thead>\n",
       "  <tbody>\n",
       "    <tr>\n",
       "      <th>0</th>\n",
       "      <td>1832 Asset Management</td>\n",
       "      <td>Buy Side</td>\n",
       "      <td>Africa to see a huge renewable energy boom dri...</td>\n",
       "      <td>2</td>\n",
       "    </tr>\n",
       "    <tr>\n",
       "      <th>1</th>\n",
       "      <td>1832 Asset Management</td>\n",
       "      <td>Buy Side</td>\n",
       "      <td>Apache and Total hit the jackpot for a third t...</td>\n",
       "      <td>1</td>\n",
       "    </tr>\n",
       "    <tr>\n",
       "      <th>2</th>\n",
       "      <td>1832 Asset Management</td>\n",
       "      <td>Buy Side</td>\n",
       "      <td>Are major US shale gas players well-hedged to ...</td>\n",
       "      <td>2</td>\n",
       "    </tr>\n",
       "    <tr>\n",
       "      <th>3</th>\n",
       "      <td>1832 Asset Management</td>\n",
       "      <td>Buy Side</td>\n",
       "      <td>Asia’s offshore wind market to nearly match Eu...</td>\n",
       "      <td>1</td>\n",
       "    </tr>\n",
       "    <tr>\n",
       "      <th>4</th>\n",
       "      <td>1832 Asset Management</td>\n",
       "      <td>Buy Side</td>\n",
       "      <td>Biden’s $2 trillion energy plan paves way for ...</td>\n",
       "      <td>2</td>\n",
       "    </tr>\n",
       "  </tbody>\n",
       "</table>\n",
       "</div>"
      ],
      "text/plain": [
       "                 Company  Industry  \\\n",
       "0  1832 Asset Management  Buy Side   \n",
       "1  1832 Asset Management  Buy Side   \n",
       "2  1832 Asset Management  Buy Side   \n",
       "3  1832 Asset Management  Buy Side   \n",
       "4  1832 Asset Management  Buy Side   \n",
       "\n",
       "                                       Document Name  Analytics Views  \n",
       "0  Africa to see a huge renewable energy boom dri...                2  \n",
       "1  Apache and Total hit the jackpot for a third t...                1  \n",
       "2  Are major US shale gas players well-hedged to ...                2  \n",
       "3  Asia’s offshore wind market to nearly match Eu...                1  \n",
       "4  Biden’s $2 trillion energy plan paves way for ...                2  "
      ]
     },
     "execution_count": 16,
     "metadata": {},
     "output_type": "execute_result"
    }
   ],
   "source": [
    "views.head()"
   ]
  },
  {
   "cell_type": "code",
   "execution_count": 18,
   "metadata": {},
   "outputs": [],
   "source": [
    "views.columns = ['company', 'industry', 'doc_name','views']"
   ]
  },
  {
   "cell_type": "code",
   "execution_count": 19,
   "metadata": {},
   "outputs": [
    {
     "data": {
      "text/plain": [
       "Index(['company', 'industry', 'doc_name', 'views'], dtype='object')"
      ]
     },
     "execution_count": 19,
     "metadata": {},
     "output_type": "execute_result"
    }
   ],
   "source": [
    "views.columns"
   ]
  },
  {
   "cell_type": "code",
   "execution_count": 20,
   "metadata": {},
   "outputs": [
    {
     "data": {
      "text/html": [
       "<div>\n",
       "<style scoped>\n",
       "    .dataframe tbody tr th:only-of-type {\n",
       "        vertical-align: middle;\n",
       "    }\n",
       "\n",
       "    .dataframe tbody tr th {\n",
       "        vertical-align: top;\n",
       "    }\n",
       "\n",
       "    .dataframe thead th {\n",
       "        text-align: right;\n",
       "    }\n",
       "</style>\n",
       "<table border=\"1\" class=\"dataframe\">\n",
       "  <thead>\n",
       "    <tr style=\"text-align: right;\">\n",
       "      <th></th>\n",
       "      <th>views</th>\n",
       "    </tr>\n",
       "  </thead>\n",
       "  <tbody>\n",
       "    <tr>\n",
       "      <th>count</th>\n",
       "      <td>243371.000000</td>\n",
       "    </tr>\n",
       "    <tr>\n",
       "      <th>mean</th>\n",
       "      <td>3.910010</td>\n",
       "    </tr>\n",
       "    <tr>\n",
       "      <th>std</th>\n",
       "      <td>29.493096</td>\n",
       "    </tr>\n",
       "    <tr>\n",
       "      <th>min</th>\n",
       "      <td>1.000000</td>\n",
       "    </tr>\n",
       "    <tr>\n",
       "      <th>25%</th>\n",
       "      <td>1.000000</td>\n",
       "    </tr>\n",
       "    <tr>\n",
       "      <th>50%</th>\n",
       "      <td>2.000000</td>\n",
       "    </tr>\n",
       "    <tr>\n",
       "      <th>75%</th>\n",
       "      <td>4.000000</td>\n",
       "    </tr>\n",
       "    <tr>\n",
       "      <th>max</th>\n",
       "      <td>9292.000000</td>\n",
       "    </tr>\n",
       "  </tbody>\n",
       "</table>\n",
       "</div>"
      ],
      "text/plain": [
       "               views\n",
       "count  243371.000000\n",
       "mean        3.910010\n",
       "std        29.493096\n",
       "min         1.000000\n",
       "25%         1.000000\n",
       "50%         2.000000\n",
       "75%         4.000000\n",
       "max      9292.000000"
      ]
     },
     "execution_count": 20,
     "metadata": {},
     "output_type": "execute_result"
    }
   ],
   "source": [
    "views.describe()"
   ]
  },
  {
   "cell_type": "code",
   "execution_count": 21,
   "metadata": {},
   "outputs": [
    {
     "name": "stdout",
     "output_type": "stream",
     "text": [
      "<class 'pandas.core.frame.DataFrame'>\n",
      "RangeIndex: 243371 entries, 0 to 243370\n",
      "Data columns (total 4 columns):\n",
      " #   Column    Non-Null Count   Dtype \n",
      "---  ------    --------------   ----- \n",
      " 0   company   243371 non-null  object\n",
      " 1   industry  243371 non-null  object\n",
      " 2   doc_name  243371 non-null  object\n",
      " 3   views     243371 non-null  int64 \n",
      "dtypes: int64(1), object(3)\n",
      "memory usage: 7.4+ MB\n"
     ]
    }
   ],
   "source": [
    "views.info()"
   ]
  },
  {
   "cell_type": "code",
   "execution_count": 24,
   "metadata": {},
   "outputs": [
    {
     "data": {
      "text/plain": [
       "company     0\n",
       "industry    0\n",
       "doc_name    0\n",
       "views       0\n",
       "dtype: int64"
      ]
     },
     "execution_count": 24,
     "metadata": {},
     "output_type": "execute_result"
    }
   ],
   "source": [
    "views.isnull().sum()"
   ]
  },
  {
   "cell_type": "code",
   "execution_count": null,
   "metadata": {},
   "outputs": [],
   "source": []
  }
 ],
 "metadata": {
  "kernelspec": {
   "display_name": "Python 3",
   "language": "python",
   "name": "python3"
  },
  "language_info": {
   "codemirror_mode": {
    "name": "ipython",
    "version": 3
   },
   "file_extension": ".py",
   "mimetype": "text/x-python",
   "name": "python",
   "nbconvert_exporter": "python",
   "pygments_lexer": "ipython3",
   "version": "3.8.3"
  }
 },
 "nbformat": 4,
 "nbformat_minor": 4
}
