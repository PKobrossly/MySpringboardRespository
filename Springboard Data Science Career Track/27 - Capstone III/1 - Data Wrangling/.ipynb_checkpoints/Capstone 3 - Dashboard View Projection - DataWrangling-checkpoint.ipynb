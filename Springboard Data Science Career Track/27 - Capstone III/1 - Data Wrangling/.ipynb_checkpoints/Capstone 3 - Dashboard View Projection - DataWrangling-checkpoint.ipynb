{
 "cells": [
  {
   "cell_type": "markdown",
   "metadata": {},
   "source": [
    "# Capstone III - Data Wrangling\n",
    "## Data taken from CSV from export of User Utility Database"
   ]
  },
  {
   "cell_type": "markdown",
   "metadata": {},
   "source": [
    "### Pull in appropriate libraries"
   ]
  },
  {
   "cell_type": "code",
   "execution_count": 1,
   "metadata": {},
   "outputs": [],
   "source": [
    "import numpy as np\n",
    "import pandas as pd\n",
    "from scipy.stats import mode\n",
    "import os\n",
    "import seaborn as sns\n",
    "from sklearn.preprocessing import LabelEncoder\n",
    "from sklearn.impute import SimpleImputer\n",
    "from sklearn import preprocessing\n",
    "from sklearn.model_selection import train_test_split\n",
    "from sklearn.linear_model import LogisticRegression\n",
    "from sklearn.ensemble import RandomForestClassifier\n",
    "from sklearn.neighbors import KNeighborsClassifier\n",
    "from sklearn.metrics import accuracy_score, roc_auc_score "
   ]
  },
  {
   "cell_type": "markdown",
   "metadata": {},
   "source": [
    "### Import Data"
   ]
  },
  {
   "cell_type": "code",
   "execution_count": 2,
   "metadata": {},
   "outputs": [],
   "source": [
    "data = pd.read_csv('Dashboard Views.csv',encoding='cp1252')"
   ]
  },
  {
   "cell_type": "code",
   "execution_count": 3,
   "metadata": {},
   "outputs": [
    {
     "data": {
      "text/html": [
       "<div>\n",
       "<style scoped>\n",
       "    .dataframe tbody tr th:only-of-type {\n",
       "        vertical-align: middle;\n",
       "    }\n",
       "\n",
       "    .dataframe tbody tr th {\n",
       "        vertical-align: top;\n",
       "    }\n",
       "\n",
       "    .dataframe thead th {\n",
       "        text-align: right;\n",
       "    }\n",
       "</style>\n",
       "<table border=\"1\" class=\"dataframe\">\n",
       "  <thead>\n",
       "    <tr style=\"text-align: right;\">\n",
       "      <th></th>\n",
       "      <th>Standard Date</th>\n",
       "      <th>Year</th>\n",
       "      <th>Month</th>\n",
       "      <th>Country</th>\n",
       "      <th>Industry</th>\n",
       "      <th>Company</th>\n",
       "      <th>Dashboard Name</th>\n",
       "      <th>Dashboard Page Views</th>\n",
       "      <th>Dashboard Requests</th>\n",
       "      <th>Dashboard View Render Time millisec</th>\n",
       "    </tr>\n",
       "  </thead>\n",
       "  <tbody>\n",
       "    <tr>\n",
       "      <th>0</th>\n",
       "      <td>1/3/2021</td>\n",
       "      <td>2021</td>\n",
       "      <td>3</td>\n",
       "      <td>Australia</td>\n",
       "      <td>Consulting</td>\n",
       "      <td>KPMG</td>\n",
       "      <td>Project Analysis</td>\n",
       "      <td>3</td>\n",
       "      <td>4</td>\n",
       "      <td>30234</td>\n",
       "    </tr>\n",
       "    <tr>\n",
       "      <th>1</th>\n",
       "      <td>1/3/2021</td>\n",
       "      <td>2021</td>\n",
       "      <td>3</td>\n",
       "      <td>Australia</td>\n",
       "      <td>Other</td>\n",
       "      <td>APA Group</td>\n",
       "      <td>Wind Technical Analysis</td>\n",
       "      <td>1</td>\n",
       "      <td>1</td>\n",
       "      <td>5322</td>\n",
       "    </tr>\n",
       "    <tr>\n",
       "      <th>2</th>\n",
       "      <td>1/3/2021</td>\n",
       "      <td>2021</td>\n",
       "      <td>3</td>\n",
       "      <td>Australia</td>\n",
       "      <td>Other</td>\n",
       "      <td>Octopus Investments</td>\n",
       "      <td>Country Analysis</td>\n",
       "      <td>5</td>\n",
       "      <td>4</td>\n",
       "      <td>13380</td>\n",
       "    </tr>\n",
       "    <tr>\n",
       "      <th>3</th>\n",
       "      <td>1/3/2021</td>\n",
       "      <td>2021</td>\n",
       "      <td>3</td>\n",
       "      <td>Australia</td>\n",
       "      <td>Other</td>\n",
       "      <td>SunPower</td>\n",
       "      <td>Country Analysis</td>\n",
       "      <td>3</td>\n",
       "      <td>2</td>\n",
       "      <td>9694</td>\n",
       "    </tr>\n",
       "    <tr>\n",
       "      <th>4</th>\n",
       "      <td>1/3/2021</td>\n",
       "      <td>2021</td>\n",
       "      <td>3</td>\n",
       "      <td>Australia</td>\n",
       "      <td>Other</td>\n",
       "      <td>SunPower</td>\n",
       "      <td>Solar PV Technical Analysis</td>\n",
       "      <td>0</td>\n",
       "      <td>1</td>\n",
       "      <td>4361</td>\n",
       "    </tr>\n",
       "  </tbody>\n",
       "</table>\n",
       "</div>"
      ],
      "text/plain": [
       "  Standard Date  Year  Month    Country    Industry              Company  \\\n",
       "0      1/3/2021  2021      3  Australia  Consulting                 KPMG   \n",
       "1      1/3/2021  2021      3  Australia       Other            APA Group   \n",
       "2      1/3/2021  2021      3  Australia       Other  Octopus Investments   \n",
       "3      1/3/2021  2021      3  Australia       Other             SunPower   \n",
       "4      1/3/2021  2021      3  Australia       Other             SunPower   \n",
       "\n",
       "                Dashboard Name  Dashboard Page Views  Dashboard Requests  \\\n",
       "0             Project Analysis                     3                   4   \n",
       "1      Wind Technical Analysis                     1                   1   \n",
       "2             Country Analysis                     5                   4   \n",
       "3             Country Analysis                     3                   2   \n",
       "4  Solar PV Technical Analysis                     0                   1   \n",
       "\n",
       "   Dashboard View Render Time millisec  \n",
       "0                                30234  \n",
       "1                                 5322  \n",
       "2                                13380  \n",
       "3                                 9694  \n",
       "4                                 4361  "
      ]
     },
     "execution_count": 3,
     "metadata": {},
     "output_type": "execute_result"
    }
   ],
   "source": [
    "data.head()"
   ]
  },
  {
   "cell_type": "markdown",
   "metadata": {},
   "source": [
    "### Check and Prepare Data"
   ]
  },
  {
   "cell_type": "code",
   "execution_count": 4,
   "metadata": {},
   "outputs": [
    {
     "data": {
      "text/plain": [
       "Standard Date                          object\n",
       "Year                                    int64\n",
       "Month                                   int64\n",
       "Country                                object\n",
       "Industry                               object\n",
       "Company                                object\n",
       "Dashboard Name                         object\n",
       "Dashboard Page Views                    int64\n",
       "Dashboard Requests                      int64\n",
       "Dashboard View Render Time millisec     int64\n",
       "dtype: object"
      ]
     },
     "execution_count": 4,
     "metadata": {},
     "output_type": "execute_result"
    }
   ],
   "source": [
    "#Check Datatypes\n",
    "data.dtypes"
   ]
  },
  {
   "cell_type": "code",
   "execution_count": 5,
   "metadata": {},
   "outputs": [
    {
     "data": {
      "text/plain": [
       "array(['1/3/2021', '2/3/2021', '3/3/2021', '4/3/2021', '5/3/2021',\n",
       "       '6/3/2021', '7/3/2021', '8/3/2021', '9/3/2021', '10/3/2021',\n",
       "       '11/3/2021', '12/3/2021', '13/03/2021', '14/03/2021', '15/03/2021',\n",
       "       '16/03/2021', '17/03/2021', '18/03/2021', '19/03/2021',\n",
       "       '21/03/2021', '22/03/2021', '23/03/2021', '24/03/2021',\n",
       "       '25/03/2021', '26/03/2021', '27/03/2021', '28/03/2021',\n",
       "       '29/03/2021', '30/03/2021', '31/03/2021', '1/4/2021', '2/4/2021',\n",
       "       '4/4/2021', '5/4/2021', '6/4/2021', '7/4/2021', '8/4/2021',\n",
       "       '9/4/2021', '11/4/2021', '12/4/2021', '13/04/2021', '14/04/2021',\n",
       "       '15/04/2021', '16/04/2021', '17/04/2021', '18/04/2021',\n",
       "       '19/04/2021', '20/04/2021', '21/04/2021', '22/04/2021',\n",
       "       '23/04/2021', '24/04/2021', '25/04/2021', '26/04/2021',\n",
       "       '27/04/2021', '28/04/2021', '29/04/2021', '30/04/2021', '1/5/2021',\n",
       "       '2/5/2021', '3/5/2021', '4/5/2021', '5/5/2021', '6/5/2021',\n",
       "       '7/5/2021', '8/5/2021', '10/5/2021', '11/5/2021', '12/5/2021',\n",
       "       '13/05/2021', '14/05/2021', '17/05/2021', '18/05/2021',\n",
       "       '19/05/2021', '20/05/2021', '21/05/2021', '23/05/2021',\n",
       "       '24/05/2021', '25/05/2021', '26/05/2021', '27/05/2021',\n",
       "       '28/05/2021', '29/05/2021', '30/05/2021', '31/05/2021', '1/6/2021',\n",
       "       '2/6/2021', '3/6/2021', '4/6/2021', '5/6/2021', '6/6/2021',\n",
       "       '7/6/2021', '8/6/2021', '9/6/2021', '10/6/2021', '11/6/2021',\n",
       "       '14/06/2021', '15/06/2021', '16/06/2021', '17/06/2021',\n",
       "       '18/06/2021', '19/06/2021', '20/06/2021', '21/06/2021',\n",
       "       '22/06/2021', '23/06/2021', '24/06/2021', '25/06/2021',\n",
       "       '27/06/2021', '28/06/2021', '29/06/2021', '30/06/2021'],\n",
       "      dtype=object)"
      ]
     },
     "execution_count": 5,
     "metadata": {},
     "output_type": "execute_result"
    }
   ],
   "source": [
    "#Confirm no string in series\n",
    "data['Standard Date'].unique()"
   ]
  },
  {
   "cell_type": "code",
   "execution_count": 6,
   "metadata": {},
   "outputs": [
    {
     "data": {
      "text/plain": [
       "Standard Date                          datetime64[ns]\n",
       "Year                                            int64\n",
       "Month                                           int64\n",
       "Country                                        object\n",
       "Industry                                       object\n",
       "Company                                        object\n",
       "Dashboard Name                                 object\n",
       "Dashboard Page Views                            int64\n",
       "Dashboard Requests                              int64\n",
       "Dashboard View Render Time millisec             int64\n",
       "dtype: object"
      ]
     },
     "execution_count": 6,
     "metadata": {},
     "output_type": "execute_result"
    }
   ],
   "source": [
    "#Change Standard Date to datetime dtype\n",
    "data['Standard Date'] = pd.to_datetime(data['Standard Date'])\n",
    "data.dtypes"
   ]
  },
  {
   "cell_type": "code",
   "execution_count": 7,
   "metadata": {},
   "outputs": [
    {
     "name": "stdout",
     "output_type": "stream",
     "text": [
      "<class 'pandas.core.frame.DataFrame'>\n",
      "RangeIndex: 2310 entries, 0 to 2309\n",
      "Data columns (total 10 columns):\n",
      " #   Column                               Non-Null Count  Dtype         \n",
      "---  ------                               --------------  -----         \n",
      " 0   Standard Date                        2310 non-null   datetime64[ns]\n",
      " 1   Year                                 2310 non-null   int64         \n",
      " 2   Month                                2310 non-null   int64         \n",
      " 3   Country                              2310 non-null   object        \n",
      " 4   Industry                             2310 non-null   object        \n",
      " 5   Company                              2310 non-null   object        \n",
      " 6   Dashboard Name                       2310 non-null   object        \n",
      " 7   Dashboard Page Views                 2310 non-null   int64         \n",
      " 8   Dashboard Requests                   2310 non-null   int64         \n",
      " 9   Dashboard View Render Time millisec  2310 non-null   int64         \n",
      "dtypes: datetime64[ns](1), int64(5), object(4)\n",
      "memory usage: 180.6+ KB\n"
     ]
    }
   ],
   "source": [
    "#Get info of database\n",
    "data.info()"
   ]
  },
  {
   "cell_type": "code",
   "execution_count": 8,
   "metadata": {},
   "outputs": [
    {
     "data": {
      "text/plain": [
       "Standard Date                          0\n",
       "Year                                   0\n",
       "Month                                  0\n",
       "Country                                0\n",
       "Industry                               0\n",
       "Company                                0\n",
       "Dashboard Name                         0\n",
       "Dashboard Page Views                   0\n",
       "Dashboard Requests                     0\n",
       "Dashboard View Render Time millisec    0\n",
       "dtype: int64"
      ]
     },
     "execution_count": 8,
     "metadata": {},
     "output_type": "execute_result"
    }
   ],
   "source": [
    "#Check for missing values\n",
    "data.isnull().sum()"
   ]
  },
  {
   "cell_type": "code",
   "execution_count": 9,
   "metadata": {},
   "outputs": [
    {
     "name": "stdout",
     "output_type": "stream",
     "text": [
      "Index(['Standard Date', 'Year', 'Month', 'Country', 'Industry', 'Company',\n",
      "       'Dashboard Name', 'Dashboard Page Views', 'Dashboard Requests',\n",
      "       'Dashboard View Render Time millisec'],\n",
      "      dtype='object')\n"
     ]
    },
    {
     "data": {
      "text/plain": [
       "Index(['date', 'year', 'month', 'country', 'industry', 'company', 'dashname',\n",
       "       'views', 'requests', 'rendertime'],\n",
       "      dtype='object')"
      ]
     },
     "execution_count": 9,
     "metadata": {},
     "output_type": "execute_result"
    }
   ],
   "source": [
    "#Change column names for ease\n",
    "columns = data.columns\n",
    "print(columns)\n",
    "new_columns = pd.Series(columns).str.lower()\n",
    "new_columns[0] = 'date'\n",
    "new_columns[6] = 'dashname'\n",
    "new_columns[7] = 'views'\n",
    "new_columns[8] = 'requests'\n",
    "new_columns[9] = 'rendertime'\n",
    "data.columns = new_columns\n",
    "data.columns"
   ]
  },
  {
   "cell_type": "code",
   "execution_count": 10,
   "metadata": {},
   "outputs": [
    {
     "data": {
      "text/plain": [
       "(2310, 10)"
      ]
     },
     "execution_count": 10,
     "metadata": {},
     "output_type": "execute_result"
    }
   ],
   "source": [
    "#check on shape\n",
    "data.shape"
   ]
  },
  {
   "cell_type": "code",
   "execution_count": 11,
   "metadata": {},
   "outputs": [
    {
     "data": {
      "text/html": [
       "<div>\n",
       "<style scoped>\n",
       "    .dataframe tbody tr th:only-of-type {\n",
       "        vertical-align: middle;\n",
       "    }\n",
       "\n",
       "    .dataframe tbody tr th {\n",
       "        vertical-align: top;\n",
       "    }\n",
       "\n",
       "    .dataframe thead th {\n",
       "        text-align: right;\n",
       "    }\n",
       "</style>\n",
       "<table border=\"1\" class=\"dataframe\">\n",
       "  <thead>\n",
       "    <tr style=\"text-align: right;\">\n",
       "      <th></th>\n",
       "      <th>date</th>\n",
       "      <th>year</th>\n",
       "      <th>month</th>\n",
       "      <th>country</th>\n",
       "      <th>industry</th>\n",
       "      <th>company</th>\n",
       "      <th>dashname</th>\n",
       "      <th>views</th>\n",
       "      <th>requests</th>\n",
       "      <th>rendertime</th>\n",
       "    </tr>\n",
       "  </thead>\n",
       "  <tbody>\n",
       "    <tr>\n",
       "      <th>0</th>\n",
       "      <td>2021-01-03</td>\n",
       "      <td>2021</td>\n",
       "      <td>3</td>\n",
       "      <td>Australia</td>\n",
       "      <td>Consulting</td>\n",
       "      <td>KPMG</td>\n",
       "      <td>Project Analysis</td>\n",
       "      <td>3</td>\n",
       "      <td>4</td>\n",
       "      <td>30.234</td>\n",
       "    </tr>\n",
       "    <tr>\n",
       "      <th>1</th>\n",
       "      <td>2021-01-03</td>\n",
       "      <td>2021</td>\n",
       "      <td>3</td>\n",
       "      <td>Australia</td>\n",
       "      <td>Other</td>\n",
       "      <td>APA Group</td>\n",
       "      <td>Wind Technical Analysis</td>\n",
       "      <td>1</td>\n",
       "      <td>1</td>\n",
       "      <td>5.322</td>\n",
       "    </tr>\n",
       "    <tr>\n",
       "      <th>2</th>\n",
       "      <td>2021-01-03</td>\n",
       "      <td>2021</td>\n",
       "      <td>3</td>\n",
       "      <td>Australia</td>\n",
       "      <td>Other</td>\n",
       "      <td>Octopus Investments</td>\n",
       "      <td>Country Analysis</td>\n",
       "      <td>5</td>\n",
       "      <td>4</td>\n",
       "      <td>13.380</td>\n",
       "    </tr>\n",
       "    <tr>\n",
       "      <th>3</th>\n",
       "      <td>2021-01-03</td>\n",
       "      <td>2021</td>\n",
       "      <td>3</td>\n",
       "      <td>Australia</td>\n",
       "      <td>Other</td>\n",
       "      <td>SunPower</td>\n",
       "      <td>Country Analysis</td>\n",
       "      <td>3</td>\n",
       "      <td>2</td>\n",
       "      <td>9.694</td>\n",
       "    </tr>\n",
       "    <tr>\n",
       "      <th>4</th>\n",
       "      <td>2021-01-03</td>\n",
       "      <td>2021</td>\n",
       "      <td>3</td>\n",
       "      <td>Australia</td>\n",
       "      <td>Other</td>\n",
       "      <td>SunPower</td>\n",
       "      <td>Solar PV Technical Analysis</td>\n",
       "      <td>0</td>\n",
       "      <td>1</td>\n",
       "      <td>4.361</td>\n",
       "    </tr>\n",
       "  </tbody>\n",
       "</table>\n",
       "</div>"
      ],
      "text/plain": [
       "        date  year  month    country    industry              company  \\\n",
       "0 2021-01-03  2021      3  Australia  Consulting                 KPMG   \n",
       "1 2021-01-03  2021      3  Australia       Other            APA Group   \n",
       "2 2021-01-03  2021      3  Australia       Other  Octopus Investments   \n",
       "3 2021-01-03  2021      3  Australia       Other             SunPower   \n",
       "4 2021-01-03  2021      3  Australia       Other             SunPower   \n",
       "\n",
       "                      dashname  views  requests  rendertime  \n",
       "0             Project Analysis      3         4      30.234  \n",
       "1      Wind Technical Analysis      1         1       5.322  \n",
       "2             Country Analysis      5         4      13.380  \n",
       "3             Country Analysis      3         2       9.694  \n",
       "4  Solar PV Technical Analysis      0         1       4.361  "
      ]
     },
     "execution_count": 11,
     "metadata": {},
     "output_type": "execute_result"
    }
   ],
   "source": [
    "#Change render time from milliseconds to seconds\n",
    "data.rendertime = data.rendertime / 1000\n",
    "data.head()"
   ]
  },
  {
   "cell_type": "code",
   "execution_count": 15,
   "metadata": {},
   "outputs": [],
   "source": [
    "datapath = '../data'\n",
    "if not os.path.exists(datapath):\n",
    "    os.mkdir(datapath)"
   ]
  },
  {
   "cell_type": "code",
   "execution_count": 17,
   "metadata": {},
   "outputs": [],
   "source": [
    "datapath_dashboards = os.path.join(datapath, 'Dashboard Views_Cleaned.csv')\n",
    "if not os.path.exists(datapath_dashboards):\n",
    "    data.to_csv(datapath_dashboards, index=False)"
   ]
  },
  {
   "cell_type": "code",
   "execution_count": null,
   "metadata": {},
   "outputs": [],
   "source": []
  }
 ],
 "metadata": {
  "kernelspec": {
   "display_name": "Python 3",
   "language": "python",
   "name": "python3"
  },
  "language_info": {
   "codemirror_mode": {
    "name": "ipython",
    "version": 3
   },
   "file_extension": ".py",
   "mimetype": "text/x-python",
   "name": "python",
   "nbconvert_exporter": "python",
   "pygments_lexer": "ipython3",
   "version": "3.8.3"
  }
 },
 "nbformat": 4,
 "nbformat_minor": 4
}
